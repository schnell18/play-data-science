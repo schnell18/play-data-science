{
 "cells": [
  {
   "cell_type": "markdown",
   "metadata": {},
   "source": [
    "# 5 Data Cleanse\n",
    "\n",
    "Data cleanse and preprocess are essential tasks for quanlity data analysis. Pandas and Python are convenient tools to ease these labor-intensive tasks.\n",
    "\n",
    "Common data cleanse and preprocess tasks include:\n",
    "\n",
    "- eliminate whitespaces\n",
    "- handle missing data\n",
    "- handle duplicate data\n",
    "- handle proper case of text data(English)\n",
    "- optimize data type to save runtime memory and boost query performance"
   ]
  },
  {
   "cell_type": "code",
   "execution_count": null,
   "metadata": {},
   "outputs": [],
   "source": [
    "import pandas as pd"
   ]
  },
  {
   "cell_type": "code",
   "execution_count": null,
   "metadata": {},
   "outputs": [],
   "source": [
    "inspections = pd.read_csv(\"chicago-food-inspections.csv\")\n",
    "inspections"
   ]
  },
  {
   "cell_type": "markdown",
   "metadata": {},
   "source": [
    "## 5.1 Eliminate whitespaces"
   ]
  },
  {
   "cell_type": "code",
   "execution_count": null,
   "metadata": {},
   "outputs": [],
   "source": [
    "for column in inspections.columns:\n",
    "    inspections[column] = inspections[column].str.strip()"
   ]
  },
  {
   "cell_type": "markdown",
   "metadata": {},
   "source": [
    "## 5.2 Capitalize first letter"
   ]
  },
  {
   "cell_type": "code",
   "execution_count": null,
   "metadata": {},
   "outputs": [],
   "source": [
    "inspections[\"Name\"] = inspections[\"Name\"].str.title()"
   ]
  },
  {
   "cell_type": "markdown",
   "metadata": {
    "tags": []
   },
   "source": [
    "## 5.3 Optimize memory usage\n",
    "\n",
    "By choosing appropriate data types for coloum. You can save memory and make query run fast.\n",
    "General rules are:\n",
    "\n",
    "- use `datetime` instead of `object` for date columns\n",
    "- use `int` instead of `float` if possible\n",
    "- use `bool` instead of `object` for boolean columns\n",
    "- use `category` to replace data type of column which has limited distinct values\n",
    "\n",
    "### 5.3.1 identify optimization opportunities"
   ]
  },
  {
   "cell_type": "code",
   "execution_count": null,
   "metadata": {},
   "outputs": [],
   "source": [
    "inspections.nunique()"
   ]
  },
  {
   "cell_type": "markdown",
   "metadata": {},
   "source": [
    "### 5.3.2 check DataFrame before optimization"
   ]
  },
  {
   "cell_type": "code",
   "execution_count": null,
   "metadata": {},
   "outputs": [],
   "source": [
    "inspections.info()"
   ]
  },
  {
   "cell_type": "markdown",
   "metadata": {},
   "source": [
    "### 5.3.3 change `Risk` to category"
   ]
  },
  {
   "cell_type": "code",
   "execution_count": null,
   "metadata": {},
   "outputs": [],
   "source": [
    "inspections[\"Risk\"] = inspections[\"Risk\"].astype(\"category\")\n",
    "inspections.info()"
   ]
  },
  {
   "cell_type": "code",
   "execution_count": null,
   "metadata": {},
   "outputs": [],
   "source": [
    "employees = pd.read_csv(\"employees.csv\", parse_dates=[\"Start Date\"])\n",
    "employees"
   ]
  },
  {
   "cell_type": "markdown",
   "metadata": {
    "tags": []
   },
   "source": [
    "## 5.4 Deal with missing data\n",
    "\n",
    "Pandas represents missing data as `NaN` for number and string, `NaT` for datetime.\n",
    "To cleanse missing data, we can either drop them using `dropna()` or replace them with constant value with `fillna()`.\n",
    "\n",
    "You can drop rows with missing data in specific columns by setting the `subset` parameter of `dropna()` method.\n",
    "\n",
    "### 5.4.1 Remove employees without `First Name`"
   ]
  },
  {
   "cell_type": "code",
   "execution_count": null,
   "metadata": {},
   "outputs": [],
   "source": [
    "employees.dropna(subset=[\"First Name\"])"
   ]
  },
  {
   "cell_type": "markdown",
   "metadata": {
    "tags": []
   },
   "source": [
    "## 5.4 Deal with duplicate data\n",
    "\n",
    "You can drop duplicated rows by specifying a combination of columns by setting the `subset` parameter of `drop_duplicates()` method.\n"
   ]
  },
  {
   "cell_type": "markdown",
   "metadata": {},
   "source": [
    "## 5.4.1 Remove duplicated male employees named `Douglas`"
   ]
  },
  {
   "cell_type": "code",
   "execution_count": null,
   "metadata": {},
   "outputs": [],
   "source": [
    "employees.drop_duplicates(subset=[\"First Name\", \"Gender\"], keep='first')"
   ]
  },
  {
   "cell_type": "code",
   "execution_count": null,
   "metadata": {},
   "outputs": [],
   "source": [
    "inspections.dropna(subset=[\"Name\"])\n",
    "inspections.info()"
   ]
  }
 ],
 "metadata": {
  "kernelspec": {
   "display_name": "Python 3 (ipykernel)",
   "language": "python",
   "name": "python3"
  },
  "language_info": {
   "codemirror_mode": {
    "name": "ipython",
    "version": 3
   },
   "file_extension": ".py",
   "mimetype": "text/x-python",
   "name": "python",
   "nbconvert_exporter": "python",
   "pygments_lexer": "ipython3",
   "version": "3.9.7"
  }
 },
 "nbformat": 4,
 "nbformat_minor": 4
}
