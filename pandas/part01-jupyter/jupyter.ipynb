{
 "cells": [
  {
   "cell_type": "code",
   "execution_count": 1,
   "metadata": {},
   "outputs": [
    {
     "data": {
      "text/html": [
       "<style>table {align:left;display:block} </style>"
      ],
      "text/plain": [
       "<IPython.core.display.HTML object>"
      ]
     },
     "execution_count": 1,
     "metadata": {},
     "output_type": "execute_result"
    }
   ],
   "source": [
    "from IPython.core.display import HTML\n",
    "table_css = 'table {align:left;display:block} '\n",
    "HTML('<style>{}</style>'.format(table_css))"
   ]
  },
  {
   "cell_type": "markdown",
   "metadata": {
    "tags": []
   },
   "source": [
    "# 1 Jupyter notebook orientation"
   ]
  },
  {
   "cell_type": "markdown",
   "metadata": {},
   "source": [
    "## 1.1 What is jupyter notebook?\n",
    "\n",
    "An web-based interactive and exploratory programming environment for data science.\n",
    "It has been developed and maintained by the Project Jupyter under the liberal open source license BSD since 2014.\n",
    "It is based on ipython."
   ]
  },
  {
   "cell_type": "markdown",
   "metadata": {},
   "source": [
    "## 1.2 Concepts\n",
    "\n",
    "### 1.2.1 Variants:\n",
    "\n",
    "- JupyterLab: IDE-like environment with file management, preview, debug etc\n",
    "- Classic Jupyter Notebook\n",
    "\n",
    "### 1.2.2 Notebook\n",
    "\n",
    "Notebooks are documents that combine live runnable code with narrative text (Markdown),\n",
    "equations (LaTeX), images, interactive visualizations and other rich output.\n",
    "\n",
    "### 1.2.3 Cell \n",
    "\n",
    "Cell is a container to organize a small piece of code or document.\n",
    "\n",
    "- Code\n",
    "- Markdown\n",
    "- Raw\n",
    "\n",
    "### 1.2.4 Kernel\n",
    "\n",
    "Kernels are separate processes started by the server that run your code\n",
    "in different programming languages and environments"
   ]
  },
  {
   "cell_type": "markdown",
   "metadata": {},
   "source": [
    "## 1.3 jupyter lab\n",
    "\n",
    "jupyter lab is a web-based IDE-like environment for data science. It provides user-friendly REPL environments so that user can get immediate feedback.\n",
    "With jupyter lab, you can:\n",
    "\n",
    "- explore a small chunk of code by using cell\n",
    "- document code using Markdown or write equation in LaTeX\n",
    "- debug code\n",
    "- preview markdown\n",
    "- plot data in various types of diagram\n",
    "- preview .csv files\n",
    "- manage files and directories\n",
    "- run terminal in browser\n",
    "- code completion\n",
    "- contextual help"
   ]
  },
  {
   "cell_type": "markdown",
   "metadata": {},
   "source": [
    "### 1.3.1 keyboard shortcuts\n",
    "\n",
    "Although you can use mouse click to trigger all jupyter operation, knowing common keyboard shortcuts is still valueable.\n",
    "\n",
    "| seq |     key      |                description                                        |\n",
    "| --- | ------------ | ----------------------------------------------------------------- |\n",
    "| 01  |  Ctrl+Enter  | executes current code/markdown cell                               |\n",
    "| 02  |  b           | append a code cell below current cell                             |\n",
    "| 03  |  a           | preappend a code cell above current cell                          |\n",
    "| 04  |  x           | delete current cell                                               |\n",
    "| 05  |  m           | change current cell type to markdown                              |\n",
    "| 06  |  Tab         | trigger code completion.                                          |\n",
    "| 07  |  Cmd+i       | trigger contextual help in another vertically split tab           |\n"
   ]
  }
 ],
 "metadata": {
  "kernelspec": {
   "display_name": "Python 3 (ipykernel)",
   "language": "python",
   "name": "python3"
  },
  "language_info": {
   "codemirror_mode": {
    "name": "ipython",
    "version": 3
   },
   "file_extension": ".py",
   "mimetype": "text/x-python",
   "name": "python",
   "nbconvert_exporter": "python",
   "pygments_lexer": "ipython3",
   "version": "3.9.7"
  }
 },
 "nbformat": 4,
 "nbformat_minor": 4
}
