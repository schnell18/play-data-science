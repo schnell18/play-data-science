{
 "cells": [
  {
   "cell_type": "code",
   "execution_count": 1,
   "metadata": {},
   "outputs": [
    {
     "data": {
      "text/html": [
       "<style>table {align:left;display:block} </style>"
      ],
      "text/plain": [
       "<IPython.core.display.HTML object>"
      ]
     },
     "execution_count": 1,
     "metadata": {},
     "output_type": "execute_result"
    }
   ],
   "source": [
    "from IPython.core.display import HTML\n",
    "table_css = 'table {align:left;display:block} '\n",
    "HTML('<style>{}</style>'.format(table_css))"
   ]
  },
  {
   "cell_type": "markdown",
   "metadata": {
    "jp-MarkdownHeadingCollapsed": true,
    "tags": []
   },
   "source": [
    "# 3 Work with DataFrame\n",
    "\n",
    "This section explores essential functions of pandas.\n",
    "\n",
    "## 3.1 common attributes/metheds of DataFrame\n",
    "\n",
    "| seq |     name     |                description                                        |\n",
    "| --- | ------------ | ----------------------------------------------------------------- |\n",
    "| 01  |  dtypes      | returns data type of each columns                                 |\n",
    "| 02  |  index       | returns sequence numbers or labels of rows                        |\n",
    "| 03  |  columns     | returns a list of column names                                    |\n",
    "| 04  |  ndim        | returns dimesions of DataFrame                                    |\n",
    "| 05  |  shape       | returns number of rows and columns                                |\n",
    "| 06  |  size        | total number of values(including NaN) in the data sets            |\n",
    "| 07  |  count()     | a series of numbers representing non-NaN values of each column    |\n",
    "| 08  |  head()      | return first few rows, default 5                                  |\n",
    "| 09  |  tail()      | return latest few rows, default 5                                 |\n",
    "| 10  |  sample()    | return a randow list of rows, default 1                           |\n",
    "| 11  |  nunique()   | returns a Series object with counts of unique values per column   |\n",
    "| 12  |  max()       | returns a Series with the maximum value from each column          |\n",
    "| 13  |  min()       | returns a Series with the minimum value from each column          |\n",
    "| 14  |  nlargest()  | like top n                                                        |\n",
    "| 15  |  nsmallest() | like bottom n                                                     |\n",
    "| 16  |  sum()       | returns a Series with the sum of value from each column           |\n",
    "| 17  |  mean()      | returns a Series with the mean of value from each column          |\n",
    "| 18  |  median()    | returns a Series with the median of value from each column        |\n",
    "| 19  |  std()       | returns a Series with the standard deviation                      |\n",
    "| 20  |  info()      | returns DataFrame meta info such as memory consumption            |\n"
   ]
  },
  {
   "cell_type": "markdown",
   "metadata": {
    "tags": []
   },
   "source": [
    "## 3.2 Import the NBA dataset"
   ]
  },
  {
   "cell_type": "code",
   "execution_count": 2,
   "metadata": {},
   "outputs": [],
   "source": [
    "import pandas as pd"
   ]
  },
  {
   "cell_type": "markdown",
   "metadata": {},
   "source": [
    "### 3.2.1 plain import"
   ]
  },
  {
   "cell_type": "code",
   "execution_count": null,
   "metadata": {},
   "outputs": [],
   "source": [
    "nba1 = pd.read_csv(\"nba.csv\")\n",
    "nba1.info()"
   ]
  },
  {
   "cell_type": "markdown",
   "metadata": {},
   "source": [
    "### 3.2.2 parse date columns"
   ]
  },
  {
   "cell_type": "code",
   "execution_count": null,
   "metadata": {},
   "outputs": [],
   "source": [
    "nba2 = pd.read_csv(\"nba.csv\", parse_dates=['Birthday'])"
   ]
  },
  {
   "cell_type": "markdown",
   "metadata": {},
   "source": [
    "### 3.2.3 Top 10 high-pay players"
   ]
  },
  {
   "cell_type": "code",
   "execution_count": null,
   "metadata": {},
   "outputs": [],
   "source": [
    "nba2.nlargest(10, columns=\"Salary\")"
   ]
  },
  {
   "cell_type": "markdown",
   "metadata": {},
   "source": [
    "### 3.2.4 Top 5 oldest players"
   ]
  },
  {
   "cell_type": "code",
   "execution_count": null,
   "metadata": {},
   "outputs": [],
   "source": [
    "nba2.nsmallest(5, columns=\"Birthday\")"
   ]
  },
  {
   "cell_type": "markdown",
   "metadata": {},
   "source": [
    "## 3.3 Sort\n",
    "\n",
    "We can use the `sort_values()` method to sort rows in a DataFrame. Like SQL we can specify mulitple columns to sort and the order of each column. \n",
    "\n",
    "### 3.3.1 Sort by player income descendingly"
   ]
  },
  {
   "cell_type": "code",
   "execution_count": null,
   "metadata": {},
   "outputs": [],
   "source": [
    "nba2.sort_values(by=\"Salary\", ascending=False)"
   ]
  },
  {
   "cell_type": "markdown",
   "metadata": {},
   "source": [
    "### 3.3.2 Sort by player ages ascendingly\n"
   ]
  },
  {
   "cell_type": "code",
   "execution_count": null,
   "metadata": {},
   "outputs": [],
   "source": [
    "nba2.sort_values(by=\"Birthday\", ascending=False)"
   ]
  },
  {
   "cell_type": "markdown",
   "metadata": {},
   "source": [
    "### 3.3.3 Sort by team and income"
   ]
  },
  {
   "cell_type": "code",
   "execution_count": null,
   "metadata": {},
   "outputs": [],
   "source": [
    "nba2.sort_values(by=[\"Team\", \"Salary\"], ascending=[True, False])"
   ]
  },
  {
   "cell_type": "markdown",
   "metadata": {},
   "source": [
    "### 3.3.4 Sort columns\n",
    "\n",
    "We can also sort columns by using `sort_index()` and specifying the `axis` parameter. For example, to columns in alphabetical order"
   ]
  },
  {
   "cell_type": "code",
   "execution_count": null,
   "metadata": {},
   "outputs": [],
   "source": [
    "nba2.sort_index(axis=\"columns\", ascending=False)"
   ]
  },
  {
   "cell_type": "markdown",
   "metadata": {},
   "source": [
    "## 3.5 Change index\n",
    "\n",
    "Besides numeric index, we can also use string or date as index. We change index for existing DataFrame object by calling the `set_index()` method. Or we can specficy `index_col` to set the index when we construct a DataFrame by importing from file."
   ]
  },
  {
   "cell_type": "code",
   "execution_count": null,
   "metadata": {},
   "outputs": [],
   "source": [
    "nba3 = nba2.set_index(keys=\"Name\")"
   ]
  },
  {
   "cell_type": "markdown",
   "metadata": {},
   "source": [
    "## 3.6 Select columns\n",
    "Select columns is similar to projection in SQL. With Pandas we select single or multiple columns.\n",
    "\n",
    "### 3.6.1 Select one column"
   ]
  },
  {
   "cell_type": "code",
   "execution_count": null,
   "metadata": {},
   "outputs": [],
   "source": [
    "nba3.Salary"
   ]
  },
  {
   "cell_type": "markdown",
   "metadata": {},
   "source": [
    "### 3.6.2 Select multiple columns"
   ]
  },
  {
   "cell_type": "code",
   "execution_count": null,
   "metadata": {},
   "outputs": [],
   "source": [
    "nba3[[\"Team\",\"Birthday\", \"Salary\"]]"
   ]
  },
  {
   "cell_type": "markdown",
   "metadata": {},
   "source": [
    "### 3.6.3 Select based on data type"
   ]
  },
  {
   "cell_type": "code",
   "execution_count": null,
   "metadata": {},
   "outputs": [],
   "source": [
    "nba3.select_dtypes(include=[\"object\", \"datetime\"])"
   ]
  },
  {
   "cell_type": "markdown",
   "metadata": {},
   "source": [
    "## 3.7 Select rows\n",
    "\n",
    "There are multiple ways to select a specific row or a collection of rows.\n",
    "\n"
   ]
  },
  {
   "cell_type": "markdown",
   "metadata": {},
   "source": [
    "### 3.7.1 Using index label\n",
    "\n",
    "To extract a specific row, we use the following accessors:\n",
    "\n",
    "- `loc`\n",
    "- `iloc`\n",
    "- `at`\n",
    "- `iat`\n",
    "The first two are for extracting a range of rows. The last two extract just one row and is more performant.\n",
    "The i variant accept only numberic index.\n",
    "\n",
    "Let's start with `loc`."
   ]
  },
  {
   "cell_type": "code",
   "execution_count": null,
   "metadata": {},
   "outputs": [],
   "source": [
    "nba3.loc[\"LeBron James\"]"
   ]
  },
  {
   "cell_type": "markdown",
   "metadata": {},
   "source": [
    "We can specify multiples labels as follows:"
   ]
  },
  {
   "cell_type": "code",
   "execution_count": null,
   "metadata": {},
   "outputs": [],
   "source": [
    "nba3.loc[[\"Chris Chiozza\",\"Admiral Schofield\"]]"
   ]
  },
  {
   "cell_type": "markdown",
   "metadata": {},
   "source": [
    "We can also specify a range of labels using the colon syntax. Note the upper boundry is included."
   ]
  },
  {
   "cell_type": "code",
   "execution_count": null,
   "metadata": {},
   "outputs": [],
   "source": [
    "nba3.sort_index().loc[\"Admiral Schofield\":\"Chris Chiozza\"]"
   ]
  },
  {
   "cell_type": "markdown",
   "metadata": {},
   "source": [
    "By default, `loc` retuns all columns. You can pick columns you need by specifying the secode parameter to the `loc` accessor as follows:"
   ]
  },
  {
   "cell_type": "code",
   "execution_count": null,
   "metadata": {},
   "outputs": [],
   "source": [
    "nba3.sort_index().loc[\"Admiral Schofield\":\"Chris Chiozza\", ['Team', 'Salary']]"
   ]
  },
  {
   "cell_type": "markdown",
   "metadata": {},
   "source": [
    "### 3.7.2 Row accessors compared\n",
    "\n",
    "Let's compare the speed of accessing one row using the `loc` and `at` variants."
   ]
  },
  {
   "cell_type": "code",
   "execution_count": 96,
   "metadata": {},
   "outputs": [
    {
     "name": "stdout",
     "output_type": "stream",
     "text": [
      "3.43 µs ± 9.4 ns per loop (mean ± std. dev. of 7 runs, 100000 loops each)\n"
     ]
    }
   ],
   "source": [
    "%%timeit\n",
    "nba3.loc[\"LeBron James\", \"Team\"]"
   ]
  },
  {
   "cell_type": "code",
   "execution_count": 95,
   "metadata": {},
   "outputs": [
    {
     "name": "stdout",
     "output_type": "stream",
     "text": [
      "1.7 µs ± 7.2 ns per loop (mean ± std. dev. of 7 runs, 1000000 loops each)\n"
     ]
    }
   ],
   "source": [
    "%%timeit\n",
    "nba3.at[\"LeBron James\", \"Team\"]"
   ]
  }
 ],
 "metadata": {
  "kernelspec": {
   "display_name": "Python 3 (ipykernel)",
   "language": "python",
   "name": "python3"
  },
  "language_info": {
   "codemirror_mode": {
    "name": "ipython",
    "version": 3
   },
   "file_extension": ".py",
   "mimetype": "text/x-python",
   "name": "python",
   "nbconvert_exporter": "python",
   "pygments_lexer": "ipython3",
   "version": "3.9.7"
  }
 },
 "nbformat": 4,
 "nbformat_minor": 4
}
