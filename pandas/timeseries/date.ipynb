{
 "cells": [
  {
   "cell_type": "code",
   "execution_count": 1,
   "id": "3372aa42-e4d0-464b-8219-228296244c8a",
   "metadata": {
    "execution": {
     "iopub.execute_input": "2023-04-22T12:47:15.182505Z",
     "iopub.status.busy": "2023-04-22T12:47:15.181957Z",
     "iopub.status.idle": "2023-04-22T12:47:15.455986Z",
     "shell.execute_reply": "2023-04-22T12:47:15.455510Z",
     "shell.execute_reply.started": "2023-04-22T12:47:15.182457Z"
    },
    "tags": []
   },
   "outputs": [],
   "source": [
    "import pandas as pd\n",
    "import numpy as np"
   ]
  },
  {
   "cell_type": "markdown",
   "id": "3f835e43-3958-4df9-9f15-970ea0cf1112",
   "metadata": {},
   "source": [
    "## Native Python Date"
   ]
  },
  {
   "cell_type": "code",
   "execution_count": 2,
   "id": "c5f87c2c-23cc-4f02-bf1c-a80d84372fc0",
   "metadata": {
    "execution": {
     "iopub.execute_input": "2023-04-22T12:48:34.897212Z",
     "iopub.status.busy": "2023-04-22T12:48:34.896854Z",
     "iopub.status.idle": "2023-04-22T12:48:34.906013Z",
     "shell.execute_reply": "2023-04-22T12:48:34.904980Z",
     "shell.execute_reply.started": "2023-04-22T12:48:34.897186Z"
    },
    "tags": []
   },
   "outputs": [
    {
     "data": {
      "text/plain": [
       "datetime.datetime(2023, 4, 22, 0, 0)"
      ]
     },
     "execution_count": 2,
     "metadata": {},
     "output_type": "execute_result"
    }
   ],
   "source": [
    "from datetime import datetime\n",
    "datetime(year=2023, month=4, day=22)"
   ]
  },
  {
   "cell_type": "code",
   "execution_count": 4,
   "id": "1e99d081-ec6a-4b84-a85e-8335a639907f",
   "metadata": {
    "execution": {
     "iopub.execute_input": "2023-04-22T12:49:57.121903Z",
     "iopub.status.busy": "2023-04-22T12:49:57.121736Z",
     "iopub.status.idle": "2023-04-22T12:49:57.125624Z",
     "shell.execute_reply": "2023-04-22T12:49:57.125333Z",
     "shell.execute_reply.started": "2023-04-22T12:49:57.121890Z"
    },
    "tags": []
   },
   "outputs": [
    {
     "data": {
      "text/plain": [
       "'Saturday'"
      ]
     },
     "execution_count": 4,
     "metadata": {},
     "output_type": "execute_result"
    }
   ],
   "source": [
    "from dateutil import parser\n",
    "date = parser.parse('2023-4-22')\n",
    "date.strftime('%A')"
   ]
  },
  {
   "cell_type": "markdown",
   "id": "827b45c8-fc61-45e6-bf5c-92f8f65777f6",
   "metadata": {},
   "source": [
    "## numpy datetime64"
   ]
  },
  {
   "cell_type": "code",
   "execution_count": 9,
   "id": "3a702697-cd80-4ef1-82d1-cbebe6f3d2ec",
   "metadata": {
    "execution": {
     "iopub.execute_input": "2023-04-22T12:55:39.262351Z",
     "iopub.status.busy": "2023-04-22T12:55:39.261995Z",
     "iopub.status.idle": "2023-04-22T12:55:39.269226Z",
     "shell.execute_reply": "2023-04-22T12:55:39.267996Z",
     "shell.execute_reply.started": "2023-04-22T12:55:39.262324Z"
    },
    "tags": []
   },
   "outputs": [
    {
     "data": {
      "text/plain": [
       "numpy.datetime64('2023-04-22')"
      ]
     },
     "execution_count": 9,
     "metadata": {},
     "output_type": "execute_result"
    }
   ],
   "source": [
    "np.datetime64('2023-04-22')"
   ]
  },
  {
   "cell_type": "code",
   "execution_count": 10,
   "id": "a35b1379-fdb9-4598-b244-552d2ae9494b",
   "metadata": {
    "execution": {
     "iopub.execute_input": "2023-04-22T12:56:07.044497Z",
     "iopub.status.busy": "2023-04-22T12:56:07.044105Z",
     "iopub.status.idle": "2023-04-22T12:56:07.050876Z",
     "shell.execute_reply": "2023-04-22T12:56:07.050219Z",
     "shell.execute_reply.started": "2023-04-22T12:56:07.044464Z"
    },
    "tags": []
   },
   "outputs": [
    {
     "data": {
      "text/plain": [
       "numpy.datetime64('2023-04-22T20:00')"
      ]
     },
     "execution_count": 10,
     "metadata": {},
     "output_type": "execute_result"
    }
   ],
   "source": [
    "np.datetime64('2023-04-22 20:00')"
   ]
  },
  {
   "cell_type": "code",
   "execution_count": 14,
   "id": "741f19ae-f8e0-47fa-9f21-6ce5a726f82e",
   "metadata": {
    "execution": {
     "iopub.execute_input": "2023-04-22T12:57:00.738920Z",
     "iopub.status.busy": "2023-04-22T12:57:00.738414Z",
     "iopub.status.idle": "2023-04-22T12:57:00.745140Z",
     "shell.execute_reply": "2023-04-22T12:57:00.744312Z",
     "shell.execute_reply.started": "2023-04-22T12:57:00.738879Z"
    },
    "tags": []
   },
   "outputs": [
    {
     "data": {
      "text/plain": [
       "numpy.datetime64('2023-04-22T20:00:23.430000000')"
      ]
     },
     "execution_count": 14,
     "metadata": {},
     "output_type": "execute_result"
    }
   ],
   "source": [
    "np.datetime64('2023-04-22 20:00:23.43', 'ns')"
   ]
  },
  {
   "cell_type": "code",
   "execution_count": 6,
   "id": "980f726c-b3cc-4b64-8361-921111872fd4",
   "metadata": {
    "execution": {
     "iopub.execute_input": "2023-04-22T12:53:52.612709Z",
     "iopub.status.busy": "2023-04-22T12:53:52.612540Z",
     "iopub.status.idle": "2023-04-22T12:53:52.618433Z",
     "shell.execute_reply": "2023-04-22T12:53:52.617422Z",
     "shell.execute_reply.started": "2023-04-22T12:53:52.612697Z"
    },
    "tags": []
   },
   "outputs": [
    {
     "data": {
      "text/plain": [
       "array('2023-04-22', dtype='datetime64[D]')"
      ]
     },
     "execution_count": 6,
     "metadata": {},
     "output_type": "execute_result"
    }
   ],
   "source": [
    "date = np.array('2023-04-22', dtype=np.datetime64)\n",
    "date"
   ]
  },
  {
   "cell_type": "code",
   "execution_count": 7,
   "id": "195a67c4-5ad2-421d-b658-26d59db64c1b",
   "metadata": {
    "execution": {
     "iopub.execute_input": "2023-04-22T12:54:33.389544Z",
     "iopub.status.busy": "2023-04-22T12:54:33.389212Z",
     "iopub.status.idle": "2023-04-22T12:54:33.396812Z",
     "shell.execute_reply": "2023-04-22T12:54:33.395736Z",
     "shell.execute_reply.started": "2023-04-22T12:54:33.389518Z"
    },
    "tags": []
   },
   "outputs": [
    {
     "data": {
      "text/plain": [
       "array(['2023-04-22', '2023-04-23', '2023-04-24', '2023-04-25',\n",
       "       '2023-04-26', '2023-04-27', '2023-04-28', '2023-04-29',\n",
       "       '2023-04-30', '2023-05-01', '2023-05-02', '2023-05-03'],\n",
       "      dtype='datetime64[D]')"
      ]
     },
     "execution_count": 7,
     "metadata": {},
     "output_type": "execute_result"
    }
   ],
   "source": [
    "date + np.arange(12)"
   ]
  },
  {
   "cell_type": "markdown",
   "id": "5158996c-1c2d-48ca-af02-c0529e7ceb28",
   "metadata": {},
   "source": [
    "## Pandas Date"
   ]
  },
  {
   "cell_type": "code",
   "execution_count": 17,
   "id": "e7410d56-ab7b-4183-954d-70fd3ab6017c",
   "metadata": {
    "execution": {
     "iopub.execute_input": "2023-04-22T12:58:22.190222Z",
     "iopub.status.busy": "2023-04-22T12:58:22.189903Z",
     "iopub.status.idle": "2023-04-22T12:58:22.198694Z",
     "shell.execute_reply": "2023-04-22T12:58:22.197367Z",
     "shell.execute_reply.started": "2023-04-22T12:58:22.190196Z"
    },
    "tags": []
   },
   "outputs": [
    {
     "data": {
      "text/plain": [
       "Timestamp('2023-04-22 00:00:00')"
      ]
     },
     "execution_count": 17,
     "metadata": {},
     "output_type": "execute_result"
    }
   ],
   "source": [
    "date = pd.to_datetime('2023-04-22')\n",
    "date"
   ]
  },
  {
   "cell_type": "code",
   "execution_count": 18,
   "id": "1ab92b5e-e83b-4f16-814d-b503bbcf5735",
   "metadata": {
    "execution": {
     "iopub.execute_input": "2023-04-22T12:58:48.193004Z",
     "iopub.status.busy": "2023-04-22T12:58:48.192624Z",
     "iopub.status.idle": "2023-04-22T12:58:48.197277Z",
     "shell.execute_reply": "2023-04-22T12:58:48.196521Z",
     "shell.execute_reply.started": "2023-04-22T12:58:48.192986Z"
    },
    "tags": []
   },
   "outputs": [
    {
     "data": {
      "text/plain": [
       "'Saturday'"
      ]
     },
     "execution_count": 18,
     "metadata": {},
     "output_type": "execute_result"
    }
   ],
   "source": [
    "date.strftime('%A')"
   ]
  },
  {
   "cell_type": "code",
   "execution_count": 25,
   "id": "e12061f6-15be-4471-a311-bda81d86299c",
   "metadata": {
    "execution": {
     "iopub.execute_input": "2023-04-22T13:00:52.101349Z",
     "iopub.status.busy": "2023-04-22T13:00:52.101189Z",
     "iopub.status.idle": "2023-04-22T13:00:52.107388Z",
     "shell.execute_reply": "2023-04-22T13:00:52.106327Z",
     "shell.execute_reply.started": "2023-04-22T13:00:52.101337Z"
    },
    "tags": []
   },
   "outputs": [
    {
     "data": {
      "text/plain": [
       "DatetimeIndex(['2023-04-22', '2023-04-23', '2023-04-24', '2023-04-25',\n",
       "               '2023-04-26', '2023-04-27', '2023-04-28', '2023-04-29',\n",
       "               '2023-04-30', '2023-05-01',\n",
       "               ...\n",
       "               '2023-08-10', '2023-08-11', '2023-08-12', '2023-08-13',\n",
       "               '2023-08-14', '2023-08-15', '2023-08-16', '2023-08-17',\n",
       "               '2023-08-18', '2023-08-19'],\n",
       "              dtype='datetime64[ns]', length=120, freq=None)"
      ]
     },
     "execution_count": 25,
     "metadata": {},
     "output_type": "execute_result"
    }
   ],
   "source": [
    "date + pd.to_timedelta(np.arange(120), 'd')"
   ]
  },
  {
   "cell_type": "code",
   "execution_count": 27,
   "id": "47dc945d-f455-4e42-b570-8f8737ed6b86",
   "metadata": {
    "execution": {
     "iopub.execute_input": "2023-04-22T13:04:43.330892Z",
     "iopub.status.busy": "2023-04-22T13:04:43.330549Z",
     "iopub.status.idle": "2023-04-22T13:04:43.347694Z",
     "shell.execute_reply": "2023-04-22T13:04:43.347020Z",
     "shell.execute_reply.started": "2023-04-22T13:04:43.330865Z"
    },
    "tags": []
   },
   "outputs": [
    {
     "data": {
      "text/plain": [
       "2014-07-04    0\n",
       "2014-08-04    1\n",
       "2015-07-04    2\n",
       "2015-08-04    3\n",
       "dtype: int64"
      ]
     },
     "execution_count": 27,
     "metadata": {},
     "output_type": "execute_result"
    }
   ],
   "source": [
    "index = pd.DatetimeIndex(['2014-07-04', '2014-08-04', '2015-07-04', '2015-08-04'])\n",
    "data = pd.Series([0, 1, 2, 3], index=index)\n",
    "data\n"
   ]
  },
  {
   "cell_type": "code",
   "execution_count": 29,
   "id": "d182f6ef-0897-44be-963e-d4a9b368ec4c",
   "metadata": {
    "execution": {
     "iopub.execute_input": "2023-04-22T13:06:07.878524Z",
     "iopub.status.busy": "2023-04-22T13:06:07.878165Z",
     "iopub.status.idle": "2023-04-22T13:06:07.898937Z",
     "shell.execute_reply": "2023-04-22T13:06:07.897954Z",
     "shell.execute_reply.started": "2023-04-22T13:06:07.878492Z"
    },
    "tags": []
   },
   "outputs": [
    {
     "data": {
      "text/plain": [
       "2014-07-04    0\n",
       "2014-08-04    1\n",
       "2015-07-04    2\n",
       "dtype: int64"
      ]
     },
     "execution_count": 29,
     "metadata": {},
     "output_type": "execute_result"
    }
   ],
   "source": [
    "data['2014-07-04':'2015-07-04']\n",
    "\n"
   ]
  },
  {
   "cell_type": "code",
   "execution_count": 28,
   "id": "1519e083-d40e-4f0c-9b7d-1d3da8a920ca",
   "metadata": {
    "execution": {
     "iopub.execute_input": "2023-04-22T13:06:01.048247Z",
     "iopub.status.busy": "2023-04-22T13:06:01.047936Z",
     "iopub.status.idle": "2023-04-22T13:06:01.070806Z",
     "shell.execute_reply": "2023-04-22T13:06:01.069815Z",
     "shell.execute_reply.started": "2023-04-22T13:06:01.048222Z"
    },
    "tags": []
   },
   "outputs": [
    {
     "data": {
      "text/plain": [
       "2015-07-04    2\n",
       "2015-08-04    3\n",
       "dtype: int64"
      ]
     },
     "execution_count": 28,
     "metadata": {},
     "output_type": "execute_result"
    }
   ],
   "source": [
    "\n",
    "data['2015']\n"
   ]
  }
 ],
 "metadata": {
  "kernelspec": {
   "display_name": "Python 3 (ipykernel)",
   "language": "python",
   "name": "python3"
  },
  "language_info": {
   "codemirror_mode": {
    "name": "ipython",
    "version": 3
   },
   "file_extension": ".py",
   "mimetype": "text/x-python",
   "name": "python",
   "nbconvert_exporter": "python",
   "pygments_lexer": "ipython3",
   "version": "3.10.10"
  }
 },
 "nbformat": 4,
 "nbformat_minor": 5
}
