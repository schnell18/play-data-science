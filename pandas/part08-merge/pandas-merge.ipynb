{
 "cells": [
  {
   "cell_type": "code",
   "execution_count": null,
   "metadata": {},
   "outputs": [],
   "source": [
    "import pandas as pd"
   ]
  },
  {
   "cell_type": "markdown",
   "metadata": {},
   "source": [
    "# 8 Merge\n",
    "\n",
    "You can combine data in Pandas with ease. You can do inner join, outer join and left join etc.\n",
    "\n",
    "## 8.1 The meetup dataset\n",
    "\n",
    "We use the meetup dataset to explains how concatenation and merge works. The meetup dataset consists of:\n",
    "\n",
    "- group1 and group2 data\n",
    "- categories\n",
    "- cities\n",
    "\n",
    "### 8.1.1 Load groups"
   ]
  },
  {
   "cell_type": "code",
   "execution_count": null,
   "metadata": {},
   "outputs": [],
   "source": [
    "groups1 = pd.read_csv(\"groups1.csv\")\n",
    "groups1\n",
    "groups2 = pd.read_csv(\"groups2.csv\")\n",
    "groups2"
   ]
  },
  {
   "cell_type": "markdown",
   "metadata": {},
   "source": [
    "### 8.1.2 Load categories"
   ]
  },
  {
   "cell_type": "code",
   "execution_count": null,
   "metadata": {},
   "outputs": [],
   "source": [
    "categories = pd.read_csv(\"categories.csv\")\n",
    "categories"
   ]
  },
  {
   "cell_type": "markdown",
   "metadata": {},
   "source": [
    "### 8.1.3 Load cities"
   ]
  },
  {
   "cell_type": "code",
   "execution_count": null,
   "metadata": {},
   "outputs": [],
   "source": [
    "cities = pd.read_csv(\"cities.csv\", dtype={\"zip\": \"string\"})\n",
    "cities"
   ]
  },
  {
   "cell_type": "markdown",
   "metadata": {},
   "source": [
    "## 8.2 Concatenate groups\n",
    "\n",
    "You can concat groups1 and groups2 by using the `pd.concat()` method."
   ]
  },
  {
   "cell_type": "markdown",
   "metadata": {},
   "source": [
    "### 8.2.1 keep index from orginal DataFrame"
   ]
  },
  {
   "cell_type": "code",
   "execution_count": null,
   "metadata": {},
   "outputs": [],
   "source": [
    "groups = pd.concat(objs=[groups1, groups2])"
   ]
  },
  {
   "cell_type": "markdown",
   "metadata": {},
   "source": [
    "### 8.2.2 drop original index and create new one"
   ]
  },
  {
   "cell_type": "code",
   "execution_count": null,
   "metadata": {},
   "outputs": [],
   "source": [
    "groups = pd.concat(objs=[groups1, groups2], ignore_index=True)\n",
    "groups"
   ]
  },
  {
   "cell_type": "markdown",
   "metadata": {},
   "source": [
    "### 8.2.3 create multiindex"
   ]
  },
  {
   "cell_type": "code",
   "execution_count": null,
   "metadata": {},
   "outputs": [],
   "source": [
    "groups = pd.concat(objs=[groups1, groups2], keys=[\"G1\", \"G2\"])"
   ]
  },
  {
   "cell_type": "markdown",
   "metadata": {},
   "source": [
    "## 8.3 Left join\n",
    "\n",
    "A left join is particularly useful when one data set is the focal\n",
    "point of the analysis. We pull in the second data set to provide supplemental information related to the primary data set.\n",
    "\n",
    "<img src=\"images/left-join.png\" alt=\"Left Join\" width=\"40%\"/>\n",
    "\n",
    "Let's supplment the group dataset with categories names by left joining the `categories` dataset:"
   ]
  },
  {
   "cell_type": "code",
   "execution_count": null,
   "metadata": {},
   "outputs": [],
   "source": [
    "groups.merge(categories, how=\"left\", on=\"category_id\").drop(columns=[\"category_id\"])"
   ]
  },
  {
   "cell_type": "markdown",
   "metadata": {},
   "source": [
    "## 8.4 Inner join\n",
    "\n",
    "An inner join selects values that exist in both two DataFrames\n",
    "\n",
    "<img src=\"images/inner-join.png\" alt=\"Inner Join\" width=\"40%\"/>\n",
    "\n",
    "Let's list groups with only valid categoies by inner joining the `categories` dataset:"
   ]
  },
  {
   "cell_type": "code",
   "execution_count": null,
   "metadata": {},
   "outputs": [],
   "source": [
    "groups.merge(categories, how = \"inner\", on = \"category_id\")"
   ]
  },
  {
   "cell_type": "markdown",
   "metadata": {},
   "source": [
    "## 8.5 Outer join\n",
    "\n",
    "An outer join combines all records across two data sets. \n",
    "\n",
    "<img src=\"images/outer-join.png\" alt=\"Outer Join\" width=\"40%\"/>\n",
    "\n",
    "Let's list groups with cities by outer joining the `city` dataset:"
   ]
  },
  {
   "cell_type": "code",
   "execution_count": null,
   "metadata": {},
   "outputs": [],
   "source": [
    "groups.merge(cities, how = \"outer\", left_on = \"city_id\", right_on = \"id\")"
   ]
  },
  {
   "cell_type": "markdown",
   "metadata": {},
   "source": [
    "If you wish where the row comes from in the merged dataset, you may pass the `indicator` parameter to the `merge()` method:"
   ]
  },
  {
   "cell_type": "code",
   "execution_count": null,
   "metadata": {},
   "outputs": [],
   "source": [
    "m1 = groups.merge(cities, how = \"outer\", left_on = \"city_id\", right_on = \"id\", indicator=True)\n",
    "m1[m1[\"_merge\"] == \"right_only\"]"
   ]
  },
  {
   "cell_type": "markdown",
   "metadata": {},
   "source": [
    "## 8.6 Join with index\n",
    "\n",
    "We can also use index as columns to join as long as it makes sense. \n",
    "\n",
    "\n",
    "Let's change the `cities` index to its id column:"
   ]
  },
  {
   "cell_type": "code",
   "execution_count": 24,
   "metadata": {},
   "outputs": [],
   "source": [
    "cities2 = cities.set_index('id')"
   ]
  },
  {
   "cell_type": "markdown",
   "metadata": {},
   "source": [
    "### 8.6.1 Merge on index\n",
    "\n",
    "You the `right_index`, `left_index` parameter of `merge()` to use index on the other side."
   ]
  },
  {
   "cell_type": "code",
   "execution_count": null,
   "metadata": {},
   "outputs": [],
   "source": [
    "# groups.merge(cities2, how=\"left\", left_on=\"city_id\", right_index=True)\n",
    "groups.merge(cities2, how=\"left\", left_on=\"city_id\", right_index=True)"
   ]
  }
 ],
 "metadata": {
  "kernelspec": {
   "display_name": "Python 3 (ipykernel)",
   "language": "python",
   "name": "python3"
  },
  "language_info": {
   "codemirror_mode": {
    "name": "ipython",
    "version": 3
   },
   "file_extension": ".py",
   "mimetype": "text/x-python",
   "name": "python",
   "nbconvert_exporter": "python",
   "pygments_lexer": "ipython3",
   "version": "3.9.7"
  }
 },
 "nbformat": 4,
 "nbformat_minor": 4
}
