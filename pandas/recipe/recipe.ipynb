{
 "cells": [
  {
   "cell_type": "code",
   "execution_count": 2,
   "id": "90b863b5-16ca-4139-99a6-613ba8a9258e",
   "metadata": {
    "execution": {
     "iopub.execute_input": "2023-04-22T10:58:11.615289Z",
     "iopub.status.busy": "2023-04-22T10:58:11.615117Z",
     "iopub.status.idle": "2023-04-22T10:58:11.618384Z",
     "shell.execute_reply": "2023-04-22T10:58:11.617721Z",
     "shell.execute_reply.started": "2023-04-22T10:58:11.615276Z"
    },
    "tags": []
   },
   "outputs": [],
   "source": [
    "import pandas as pd\n",
    "import numpy as np"
   ]
  },
  {
   "cell_type": "code",
   "execution_count": 3,
   "id": "167a5794-b7a7-4980-b6d4-57e9ddc7a720",
   "metadata": {
    "execution": {
     "iopub.execute_input": "2023-04-22T10:59:15.244246Z",
     "iopub.status.busy": "2023-04-22T10:59:15.244072Z",
     "iopub.status.idle": "2023-04-22T10:59:15.512904Z",
     "shell.execute_reply": "2023-04-22T10:59:15.512071Z",
     "shell.execute_reply.started": "2023-04-22T10:59:15.244233Z"
    },
    "tags": []
   },
   "outputs": [
    {
     "name": "stdout",
     "output_type": "stream",
     "text": [
      "ValueError: Trailing data\n"
     ]
    }
   ],
   "source": [
    "try:\n",
    "    recipes =pd.read_json('recipeitems-latest.json')\n",
    "except ValueError as e:\n",
    "    print(\"ValueError:\", e)"
   ]
  },
  {
   "cell_type": "code",
   "execution_count": 7,
   "id": "ae2f8f67-46bd-4715-9a24-06f627719163",
   "metadata": {
    "execution": {
     "iopub.execute_input": "2023-04-22T11:02:48.073026Z",
     "iopub.status.busy": "2023-04-22T11:02:48.072844Z",
     "iopub.status.idle": "2023-04-22T11:02:50.784013Z",
     "shell.execute_reply": "2023-04-22T11:02:50.783265Z",
     "shell.execute_reply.started": "2023-04-22T11:02:48.073014Z"
    },
    "tags": []
   },
   "outputs": [],
   "source": [
    "with open('recipeitems-latest.json') as f:\n",
    "    data = (line.strip() for line in f)\n",
    "    data_json = \"[{0}]\".format(','.join(data))\n",
    "df = pd.read_json(data_json)"
   ]
  },
  {
   "cell_type": "code",
   "execution_count": 10,
   "id": "29f9b5c0-21d2-471b-a330-f67ff0bfa39d",
   "metadata": {
    "execution": {
     "iopub.execute_input": "2023-04-22T11:04:28.365851Z",
     "iopub.status.busy": "2023-04-22T11:04:28.365673Z",
     "iopub.status.idle": "2023-04-22T11:04:28.421229Z",
     "shell.execute_reply": "2023-04-22T11:04:28.420688Z",
     "shell.execute_reply.started": "2023-04-22T11:04:28.365838Z"
    },
    "tags": []
   },
   "outputs": [
    {
     "data": {
      "text/plain": [
       "count    173278.000000\n",
       "mean        244.617926\n",
       "std         146.705285\n",
       "min           0.000000\n",
       "25%         147.000000\n",
       "50%         221.000000\n",
       "75%         314.000000\n",
       "max        9067.000000\n",
       "Name: ingredients, dtype: float64"
      ]
     },
     "execution_count": 10,
     "metadata": {},
     "output_type": "execute_result"
    }
   ],
   "source": [
    "df.ingredients.str.len().describe()"
   ]
  },
  {
   "cell_type": "code",
   "execution_count": 11,
   "id": "6663d91f-833b-49da-a161-251e36832d51",
   "metadata": {
    "execution": {
     "iopub.execute_input": "2023-04-22T11:09:39.297319Z",
     "iopub.status.busy": "2023-04-22T11:09:39.297150Z",
     "iopub.status.idle": "2023-04-22T11:09:39.342133Z",
     "shell.execute_reply": "2023-04-22T11:09:39.341551Z",
     "shell.execute_reply.started": "2023-04-22T11:09:39.297307Z"
    },
    "tags": []
   },
   "outputs": [
    {
     "data": {
      "text/plain": [
       "'Carrot Pineapple Spice &amp; Brownie Layer Cake with Whipped Cream &amp; Cream Cheese Frosting and Marzipan Carrots'"
      ]
     },
     "execution_count": 11,
     "metadata": {},
     "output_type": "execute_result"
    }
   ],
   "source": [
    "df.name[np.argmax(df.ingredients.str.len())]"
   ]
  },
  {
   "cell_type": "code",
   "execution_count": 13,
   "id": "5b8b8c19-ba3e-4574-bc91-a52b80a3776a",
   "metadata": {
    "execution": {
     "iopub.execute_input": "2023-04-22T11:15:46.178415Z",
     "iopub.status.busy": "2023-04-22T11:15:46.178249Z",
     "iopub.status.idle": "2023-04-22T11:15:46.300293Z",
     "shell.execute_reply": "2023-04-22T11:15:46.299751Z",
     "shell.execute_reply.started": "2023-04-22T11:15:46.178402Z"
    },
    "tags": []
   },
   "outputs": [
    {
     "data": {
      "text/plain": [
       "3524"
      ]
     },
     "execution_count": 13,
     "metadata": {},
     "output_type": "execute_result"
    }
   ],
   "source": [
    "df.description.str.contains('[Bb]reakfast').sum()"
   ]
  },
  {
   "cell_type": "code",
   "execution_count": 15,
   "id": "3c0f8fd2-18e5-4555-931b-b2a9ea4180db",
   "metadata": {
    "execution": {
     "iopub.execute_input": "2023-04-22T11:17:04.151147Z",
     "iopub.status.busy": "2023-04-22T11:17:04.150761Z",
     "iopub.status.idle": "2023-04-22T11:17:04.353162Z",
     "shell.execute_reply": "2023-04-22T11:17:04.352576Z",
     "shell.execute_reply.started": "2023-04-22T11:17:04.151115Z"
    },
    "tags": []
   },
   "outputs": [
    {
     "data": {
      "text/plain": [
       "10526"
      ]
     },
     "execution_count": 15,
     "metadata": {},
     "output_type": "execute_result"
    }
   ],
   "source": [
    "df.ingredients.str.contains('[Cc]innamon').sum()"
   ]
  },
  {
   "cell_type": "code",
   "execution_count": null,
   "id": "d6e6fa0f-10b0-4980-97e5-8ba84aaaac68",
   "metadata": {
    "tags": []
   },
   "outputs": [],
   "source": [
    "spice_list = ['salt', 'pepper', 'oregano', 'sage', 'parsley', 'rosemary', 'tarragon', 'thyme', 'paprika', 'cumin']\n",
    "import re\n",
    "spice_df = pd.DataFrame(\n",
    "    dict((spice, df.ingredients.str.contains(spice, re.IGNORECASE)) for spice in spice_list))\n",
    "spice_df"
   ]
  },
  {
   "cell_type": "code",
   "execution_count": 19,
   "id": "a2373ced-df79-41c9-a572-10f44bd95692",
   "metadata": {
    "execution": {
     "iopub.execute_input": "2023-04-22T11:26:32.904103Z",
     "iopub.status.busy": "2023-04-22T11:26:32.903826Z",
     "iopub.status.idle": "2023-04-22T11:26:32.911184Z",
     "shell.execute_reply": "2023-04-22T11:26:32.910731Z",
     "shell.execute_reply.started": "2023-04-22T11:26:32.904081Z"
    },
    "tags": []
   },
   "outputs": [
    {
     "data": {
      "text/plain": [
       "2069      All cremat with a Little Gem, dandelion and wa...\n",
       "74964                         Lobster with Thermidor butter\n",
       "93768      Burton's Southern Fried Chicken with White Gravy\n",
       "113926                     Mijo's Slow Cooker Shredded Beef\n",
       "137686                     Asparagus Soup with Poached Eggs\n",
       "140530                                 Fried Oyster Po’boys\n",
       "158475                Lamb shank tagine with herb tabbouleh\n",
       "158486                 Southern fried chicken in buttermilk\n",
       "163175            Fried Chicken Sliders with Pickles + Slaw\n",
       "165243                        Bar Tartine Cauliflower Salad\n",
       "Name: name, dtype: object"
      ]
     },
     "execution_count": 19,
     "metadata": {},
     "output_type": "execute_result"
    }
   ],
   "source": [
    "selection = spice_df.query('parsley & paprika & tarragon')\n",
    "selection.index\n",
    "df.name[selection.index]"
   ]
  }
 ],
 "metadata": {
  "kernelspec": {
   "display_name": "Python 3 (ipykernel)",
   "language": "python",
   "name": "python3"
  },
  "language_info": {
   "codemirror_mode": {
    "name": "ipython",
    "version": 3
   },
   "file_extension": ".py",
   "mimetype": "text/x-python",
   "name": "python",
   "nbconvert_exporter": "python",
   "pygments_lexer": "ipython3",
   "version": "3.10.10"
  }
 },
 "nbformat": 4,
 "nbformat_minor": 5
}
