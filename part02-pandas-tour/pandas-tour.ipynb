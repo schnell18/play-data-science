{
 "cells": [
  {
   "cell_type": "markdown",
   "metadata": {},
   "source": [
    "# 2 Introducing pandas\n",
    "\n",
    "[Pandas][1] is a widely-adopted Python data analysis library. It has almost all features regarding data manipulation, aggregation and transformation as seen in Excel and SQL. Yet it provides much more flexible programming interface to facilitate processing bigger scale of data and automating repeated data analysis tasks. It is also well-integrated with Jupyter notebook so that you can use Pandas to process and explore data in an interactive and progressive way.\n",
    "\n",
    "[1]: https://pandas.pydata.org/"
   ]
  },
  {
   "cell_type": "markdown",
   "metadata": {
    "tags": []
   },
   "source": [
    "## 2.2 A Tour of Pandas\n",
    "\n",
    "Let's get familar with pandas by exploring a Hollywood movies dataset."
   ]
  },
  {
   "cell_type": "markdown",
   "metadata": {},
   "source": [
    "### 2.2.1 import the pandas library"
   ]
  },
  {
   "cell_type": "code",
   "execution_count": null,
   "metadata": {},
   "outputs": [],
   "source": [
    "import pandas as pd"
   ]
  },
  {
   "cell_type": "markdown",
   "metadata": {},
   "source": [
    "### 2.2.2 Create DataFrame by load .csv file"
   ]
  },
  {
   "cell_type": "code",
   "execution_count": null,
   "metadata": {
    "scrolled": true
   },
   "outputs": [],
   "source": [
    "movies1 = pd.read_csv(\"movies.csv\")\n",
    "movies1"
   ]
  },
  {
   "cell_type": "markdown",
   "metadata": {},
   "source": [
    "### 2.2.3 Create DataFrame by load .csv file, specify index columns"
   ]
  },
  {
   "cell_type": "code",
   "execution_count": null,
   "metadata": {
    "tags": []
   },
   "outputs": [],
   "source": [
    "movies2 = pd.read_csv(\"movies.csv\", index_col = \"Title\")"
   ]
  },
  {
   "cell_type": "code",
   "execution_count": null,
   "metadata": {},
   "outputs": [],
   "source": [
    "movies2"
   ]
  },
  {
   "cell_type": "markdown",
   "metadata": {},
   "source": [
    "## 2.3 Concepts\n",
    "\n",
    "### 2.3.1 Index\n",
    "\n",
    "Number or string to uniquely identify each row. Usually sequential number.\n",
    "\n",
    "### 2.3.2 Series\n",
    "\n",
    "A one-dimensional labeled array for homogeneous data. Access by either label or positional sequence starting from 0.\n",
    "\n",
    "### 2.3.3 DataFrame\n",
    "\n",
    "A two-dimensional table of data with rows and columns. The DataFrame is the workhorse of the pandas library and the data structure you’ll  be working with most on a daily basis. A DataFrame can be redas being a collection of Series objects with a\n",
    "common index.\n"
   ]
  }
 ],
 "metadata": {
  "kernelspec": {
   "display_name": "Python 3 (ipykernel)",
   "language": "python",
   "name": "python3"
  },
  "language_info": {
   "codemirror_mode": {
    "name": "ipython",
    "version": 3
   },
   "file_extension": ".py",
   "mimetype": "text/x-python",
   "name": "python",
   "nbconvert_exporter": "python",
   "pygments_lexer": "ipython3",
   "version": "3.9.7"
  }
 },
 "nbformat": 4,
 "nbformat_minor": 4
}
