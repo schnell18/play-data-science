{
 "cells": [
  {
   "cell_type": "code",
   "execution_count": 4,
   "id": "6411d9c2-976a-4b13-bf7a-bba23477068e",
   "metadata": {
    "scrolled": true
   },
   "outputs": [],
   "source": [
    "from github import Github\n",
    "import pandas as pd\n",
    "import numpy as np\n",
    "import json\n",
    "import requests\n",
    "import os\n",
    "import configparser\n",
    "from datetime import date, timedelta"
   ]
  },
  {
   "cell_type": "code",
   "execution_count": 1,
   "id": "ce82dec7-2b28-4301-90bd-2e88bd95c52d",
   "metadata": {},
   "outputs": [],
   "source": [
    "%load_ext jupyter_ai"
   ]
  },
  {
   "cell_type": "code",
   "execution_count": null,
   "id": "f85375a2-bc46-4c87-bf04-15b0b75fc6bd",
   "metadata": {},
   "outputs": [],
   "source": [
    "%ai list"
   ]
  },
  {
   "cell_type": "code",
   "execution_count": 14,
   "id": "6a1eb6d2-867f-405c-b5d3-e2fd39bc76e6",
   "metadata": {},
   "outputs": [
    {
     "data": {
      "text/html": [
       "AI generated code inserted below &#11015;&#65039;"
      ],
      "text/plain": [
       "<IPython.core.display.HTML object>"
      ]
     },
     "execution_count": 14,
     "metadata": {
      "text/html": {
       "jupyter_ai": {
        "model_id": "gpt-3.5-turbo",
        "provider_id": "openai-chat"
       }
      }
     },
     "output_type": "execute_result"
    }
   ],
   "source": [
    "%%ai chatgpt -f code\n",
    "A function that computes the lowest common multiples of two integers, and a\n",
    "function that runs 5 test cases of the lowest common multiple funciton\n"
   ]
  },
  {
   "cell_type": "code",
   "execution_count": null,
   "id": "a53c9a57-567d-477a-ba78-61deef245e42",
   "metadata": {},
   "outputs": [],
   "source": []
  },
  {
   "cell_type": "code",
   "execution_count": 15,
   "id": "f4540598-9002-4c81-bb01-e33128ffe056",
   "metadata": {},
   "outputs": [
    {
     "name": "stdout",
     "output_type": "stream",
     "text": [
      "Test case 1: lcm(3, 5) = 15\n",
      "Test case 2: lcm(10, 15) = 30\n",
      "Test case 3: lcm(12, 18) = 36\n",
      "Test case 4: lcm(25, 10) = 50\n",
      "Test case 5: lcm(8, 24) = 24\n"
     ]
    }
   ],
   "source": [
    "def lcm(num1, num2):\n",
    "    if num1 == 0 or num2 == 0:\n",
    "        return 0\n",
    "    else:\n",
    "        max_num = max(num1, num2)\n",
    "        while True:\n",
    "            if max_num % num1 == 0 and max_num % num2 == 0:\n",
    "                return max_num\n",
    "            max_num += 1\n",
    "\n",
    "\n",
    "def run_test_cases():\n",
    "    test_cases = [(3, 5), (10, 15), (12, 18), (25, 10), (8, 24)]\n",
    "    for i, (num1, num2) in enumerate(test_cases):\n",
    "        result = lcm(num1, num2)\n",
    "        print(f\"Test case {i + 1}: lcm({num1}, {num2}) = {result}\")\n",
    "\n",
    "run_test_cases()"
   ]
  },
  {
   "cell_type": "code",
   "execution_count": 17,
   "id": "713c9cc6-d409-41e8-8356-e11a1842103f",
   "metadata": {},
   "outputs": [
    {
     "data": {
      "text/html": [
       "AI generated code inserted below &#11015;&#65039;"
      ],
      "text/plain": [
       "<IPython.core.display.HTML object>"
      ]
     },
     "execution_count": 17,
     "metadata": {
      "text/html": {
       "jupyter_ai": {
        "model_id": "gpt-3.5-turbo",
        "provider_id": "openai-chat"
       }
      }
     },
     "output_type": "execute_result"
    }
   ],
   "source": [
    "%%ai chatgpt -f code\n",
    "A function that computes the greatest common factor of two integers, and a\n",
    "function that runs 10 test cases of this function\n"
   ]
  },
  {
   "cell_type": "code",
   "execution_count": null,
   "id": "41c7e578-e547-4209-9c4f-fdf0c98d2d37",
   "metadata": {},
   "outputs": [],
   "source": [
    "def gcf(num1, num2):\n",
    "    factors1 = set()\n",
    "    factors2 = set()\n",
    "    for i in range(1, num1 + 1):\n",
    "        if num1 % i == 0:\n",
    "            factors1.add(i)\n",
    "    for i in range(1, num2 + 1):\n",
    "        if num2 % i == 0:\n",
    "            factors2.add(i)\n",
    "    common_factors = factors1.intersection(factors2)\n",
    "    return max(common_factors)\n",
    "\n",
    "\n",
    "def run_test_cases():\n",
    "    test_cases = [(12, 16), (24, 36), (18, 24), (40, 60), (21, 28), (8, 12), (30, 42), (9, 27), (15, 25), (35, 49)]\n",
    "    for i, (num1, num2) in enumerate(test_cases):\n",
    "        result = gcf(num1, num2)\n",
    "        print(f\"Test case {i + 1}: gcf({num1}, {num2}) = {result}\")\n",
    "\n",
    "run_test_cases()"
   ]
  },
  {
   "cell_type": "code",
   "execution_count": null,
   "id": "d3b0f39c-be47-4c2a-a22b-066523690f75",
   "metadata": {},
   "outputs": [],
   "source": [
    "def gcd(num1, num2):\n",
    "    while num2 != 0:\n",
    "        temp = num2\n",
    "        num2 = num1 % num2\n",
    "        num1 = temp\n",
    "    return num1\n",
    "\n",
    "\n",
    "def run_test_cases():\n",
    "    test_cases = [(12, 16), (24, 36), (18, 24), (40, 60), (21, 28), (8, 12), (30, 42), (9, 27), (15, 25), (35, 49)]\n",
    "    for i, (num1, num2) in enumerate(test_cases):\n",
    "        result = gcd(num1, num2)\n",
    "        print(f\"Test case {i + 1}: gcd({num1}, {num2}) = {result}\")\n",
    "\n",
    "run_test_cases()"
   ]
  },
  {
   "cell_type": "code",
   "execution_count": 19,
   "id": "70e108ea-987b-4a62-88f7-9737e40f043c",
   "metadata": {
    "scrolled": true
   },
   "outputs": [
    {
     "data": {
      "text/latex": [
       "$\\displaystyle ```\n",
       "\\[\n",
       "\\frac{{\\partial u}}{{\\partial t}} = \\alpha \\left(\\frac{{\\partial^2 u}}{{\\partial x^2}} + \\frac{{\\partial^2 u}}{{\\partial y^2}}\\right)\n",
       "\\]\n",
       "```$"
      ],
      "text/plain": [
       "<IPython.core.display.Math object>"
      ]
     },
     "execution_count": 19,
     "metadata": {
      "text/latex": {
       "jupyter_ai": {
        "model_id": "gpt-3.5-turbo",
        "provider_id": "openai-chat"
       }
      }
     },
     "output_type": "execute_result"
    }
   ],
   "source": [
    "%%ai chatgpt -f math\n",
    "Generate the 2D heat equation in LaTeX \n"
   ]
  },
  {
   "cell_type": "code",
   "execution_count": 13,
   "id": "e74fd0ae-6230-4535-873d-678e0d964cd4",
   "metadata": {},
   "outputs": [],
   "source": [
    "def load_api_key():\n",
    "    parser = configparser.ConfigParser()\n",
    "    parser.read('credential.ini')\n",
    "    section = parser['openai']\n",
    "    return section['api_key']\n",
    "    \n",
    "os.environ['OPENAI_API_KEY'] = load_api_key()"
   ]
  },
  {
   "cell_type": "code",
   "execution_count": 20,
   "id": "237aa32b-2a6f-40c0-8a1f-02741070524c",
   "metadata": {},
   "outputs": [
    {
     "data": {
      "text/markdown": [
       "The given code is a Python function that loads an API key from a configuration file and sets it as an environment variable. Here's an explanation of the code:\n",
       "\n",
       "1. The function `load_api_key()` is defined. This function is responsible for reading the API key from a configuration file and returning it as a string.\n",
       "\n",
       "2. Inside the function, an instance of `ConfigParser` class from the `configparser` module is created. This class is used to read configuration files, such as `.ini` files.\n",
       "\n",
       "3. The `parser.read('credential.ini')` line reads the contents of the file named `credential.ini`. This file is expected to be in the current directory and contains the API key under the section `[openai]`.\n",
       "\n",
       "4. The next line, `section = parser['openai']`, retrieves the contents of the `[openai]` section from the parsed configuration file.\n",
       "\n",
       "5. Finally, `section['api_key']` returns the value of the `api_key` key from the `[openai]` section of the configuration file. This value represents the API key for the OpenAI service.\n",
       "\n",
       "6. Outside the function, the API key is set as an environment variable using `os.environ['OPENAI_API_KEY'] = load_api_key()`. This allows other parts of the code to access the API key through the `OPENAI_API_KEY` environment variable.\n",
       "\n",
       "Overall, this code reads the API key from a configuration file and sets it as an environment variable for future use. This approach provides a way to store sensitive information, like API keys, outside of the code itself."
      ],
      "text/plain": [
       "<IPython.core.display.Markdown object>"
      ]
     },
     "execution_count": 20,
     "metadata": {
      "text/markdown": {
       "jupyter_ai": {
        "model_id": "gpt-3.5-turbo",
        "provider_id": "openai-chat"
       }
      }
     },
     "output_type": "execute_result"
    }
   ],
   "source": [
    "%%ai chatgpt\n",
    "Explain the code below:\n",
    "--\n",
    "{In[13]}\n"
   ]
  }
 ],
 "metadata": {
  "kernelspec": {
   "display_name": "Python 3 (ipykernel)",
   "language": "python",
   "name": "python3"
  },
  "language_info": {
   "codemirror_mode": {
    "name": "ipython",
    "version": 3
   },
   "file_extension": ".py",
   "mimetype": "text/x-python",
   "name": "python",
   "nbconvert_exporter": "python",
   "pygments_lexer": "ipython3",
   "version": "3.11.4"
  }
 },
 "nbformat": 4,
 "nbformat_minor": 5
}
