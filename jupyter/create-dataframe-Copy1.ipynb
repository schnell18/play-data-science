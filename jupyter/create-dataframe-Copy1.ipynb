{
 "cells": [
  {
   "cell_type": "code",
   "execution_count": 3,
   "id": "ae5b85ce-74bb-4837-a3ef-e5468f86653f",
   "metadata": {},
   "outputs": [],
   "source": [
    "import pandas as pd\n",
    "import numpy as np"
   ]
  },
  {
   "cell_type": "code",
   "execution_count": 4,
   "id": "03e8118e-3bf3-44e4-84cd-914cb29729c6",
   "metadata": {},
   "outputs": [
    {
     "data": {
      "text/html": [
       "<div>\n",
       "<style scoped>\n",
       "    .dataframe tbody tr th:only-of-type {\n",
       "        vertical-align: middle;\n",
       "    }\n",
       "\n",
       "    .dataframe tbody tr th {\n",
       "        vertical-align: top;\n",
       "    }\n",
       "\n",
       "    .dataframe thead th {\n",
       "        text-align: right;\n",
       "    }\n",
       "</style>\n",
       "<table border=\"1\" class=\"dataframe\">\n",
       "  <thead>\n",
       "    <tr style=\"text-align: right;\">\n",
       "      <th></th>\n",
       "      <th>zero</th>\n",
       "      <th>one</th>\n",
       "    </tr>\n",
       "  </thead>\n",
       "  <tbody>\n",
       "    <tr>\n",
       "      <th>row1</th>\n",
       "      <td>1</td>\n",
       "      <td>3</td>\n",
       "    </tr>\n",
       "    <tr>\n",
       "      <th>row2</th>\n",
       "      <td>2</td>\n",
       "      <td>4</td>\n",
       "    </tr>\n",
       "    <tr>\n",
       "      <th>row3</th>\n",
       "      <td>5</td>\n",
       "      <td>6</td>\n",
       "    </tr>\n",
       "  </tbody>\n",
       "</table>\n",
       "</div>"
      ],
      "text/plain": [
       "      zero  one\n",
       "row1     1    3\n",
       "row2     2    4\n",
       "row3     5    6"
      ]
     },
     "execution_count": 4,
     "metadata": {},
     "output_type": "execute_result"
    }
   ],
   "source": [
    "data = np.array([[1,3], [2,4], [5,6]])\n",
    "df = pd.DataFrame(data, index=['row1', 'row2', 'row3'], columns=['zero', 'one'])\n",
    "df"
   ]
  },
  {
   "cell_type": "markdown",
   "id": "4642557c-50a3-44d9-8df3-62b54fea12ee",
   "metadata": {},
   "source": [
    "# Create DataFrame w/ dictionary"
   ]
  },
  {
   "cell_type": "code",
   "execution_count": 7,
   "id": "d1613b93-34e7-4137-a8ac-dc113a046c3e",
   "metadata": {},
   "outputs": [],
   "source": [
    "# create arrays\n",
    "states = ['California', 'Texas', 'Florida', 'New York']\n",
    "population = [39613494, 29730311, 21944577, 19299981]"
   ]
  },
  {
   "cell_type": "code",
   "execution_count": 8,
   "id": "2fe926f0-3a9d-47dc-8a01-f9ae09624329",
   "metadata": {},
   "outputs": [],
   "source": [
    "# store lists within a dictionary\n",
    "dict1 = {'States': states, 'Population': population}"
   ]
  },
  {
   "cell_type": "code",
   "execution_count": 9,
   "id": "f07c3e17-b1df-447f-ac29-2f1838df741b",
   "metadata": {},
   "outputs": [],
   "source": [
    "# Create dataframe\n",
    "df = pd.DataFrame(dict1)"
   ]
  },
  {
   "cell_type": "code",
   "execution_count": 5,
   "id": "b089574d-c6c3-426a-baa3-8c90566acf26",
   "metadata": {},
   "outputs": [
    {
     "data": {
      "text/html": [
       "<div>\n",
       "<style scoped>\n",
       "    .dataframe tbody tr th:only-of-type {\n",
       "        vertical-align: middle;\n",
       "    }\n",
       "\n",
       "    .dataframe tbody tr th {\n",
       "        vertical-align: top;\n",
       "    }\n",
       "\n",
       "    .dataframe thead th {\n",
       "        text-align: right;\n",
       "    }\n",
       "</style>\n",
       "<table border=\"1\" class=\"dataframe\">\n",
       "  <thead>\n",
       "    <tr style=\"text-align: right;\">\n",
       "      <th></th>\n",
       "      <th>zero</th>\n",
       "      <th>one</th>\n",
       "    </tr>\n",
       "  </thead>\n",
       "  <tbody>\n",
       "    <tr>\n",
       "      <th>row1</th>\n",
       "      <td>1</td>\n",
       "      <td>3</td>\n",
       "    </tr>\n",
       "    <tr>\n",
       "      <th>row2</th>\n",
       "      <td>2</td>\n",
       "      <td>4</td>\n",
       "    </tr>\n",
       "    <tr>\n",
       "      <th>row3</th>\n",
       "      <td>5</td>\n",
       "      <td>6</td>\n",
       "    </tr>\n",
       "  </tbody>\n",
       "</table>\n",
       "</div>"
      ],
      "text/plain": [
       "      zero  one\n",
       "row1     1    3\n",
       "row2     2    4\n",
       "row3     5    6"
      ]
     },
     "execution_count": 5,
     "metadata": {},
     "output_type": "execute_result"
    }
   ],
   "source": [
    "# Display dataframe\n",
    "df"
   ]
  },
  {
   "cell_type": "markdown",
   "id": "12e1962b-2327-41a6-8c8e-79847ce03878",
   "metadata": {},
   "source": [
    "# Create DataFrame from CSV file"
   ]
  },
  {
   "cell_type": "code",
   "execution_count": 6,
   "id": "9e60b391-3fd8-474f-9345-8db712cd79f7",
   "metadata": {},
   "outputs": [],
   "source": [
    "# read from csv file\n",
    "cpi = pd.read_csv('cpi-clean.csv')"
   ]
  },
  {
   "cell_type": "code",
   "execution_count": null,
   "id": "f02a05eb-7394-470b-b1e3-bedacc0edd60",
   "metadata": {},
   "outputs": [],
   "source": [
    "# display first 5 rows\n",
    "cpi.head(5)"
   ]
  },
  {
   "cell_type": "code",
   "execution_count": null,
   "id": "faab4f92-b50d-4e0b-b3fa-9c99680b79d3",
   "metadata": {},
   "outputs": [],
   "source": [
    "# display last 5 rows\n",
    "cpi.tail(10)"
   ]
  },
  {
   "cell_type": "code",
   "execution_count": 21,
   "id": "e8e3792f-c4b1-407e-a155-a1a1812c49ba",
   "metadata": {},
   "outputs": [
    {
     "data": {
      "text/plain": [
       "(37, 3)"
      ]
     },
     "execution_count": 21,
     "metadata": {},
     "output_type": "execute_result"
    }
   ],
   "source": [
    "cpi.shape"
   ]
  },
  {
   "cell_type": "code",
   "execution_count": 23,
   "id": "d54f3a0d-3167-446f-950b-ad50ce221dcd",
   "metadata": {},
   "outputs": [],
   "source": [
    "# display n rows\n",
    "pd.set_option('display.max_rows', 1000)"
   ]
  },
  {
   "cell_type": "code",
   "execution_count": null,
   "id": "93a0f3ef-f898-4367-9edd-0ddb1fab1c74",
   "metadata": {},
   "outputs": [],
   "source": [
    "cpi"
   ]
  },
  {
   "cell_type": "markdown",
   "id": "07f67e0d-65b1-4e6d-9f73-fb3bd85cba77",
   "metadata": {},
   "source": [
    "# Attributes"
   ]
  },
  {
   "cell_type": "code",
   "execution_count": null,
   "id": "41c9f500-8e31-4872-aa87-016a054f7cc5",
   "metadata": {},
   "outputs": [],
   "source": [
    "# access shape attribute\n",
    "cpi.shape"
   ]
  },
  {
   "cell_type": "code",
   "execution_count": null,
   "id": "10ad9249-9536-40ed-b380-eb5b2f17cd1c",
   "metadata": {},
   "outputs": [],
   "source": [
    "# access index attribute\n",
    "cpi.index"
   ]
  },
  {
   "cell_type": "code",
   "execution_count": null,
   "id": "501e80d7-4908-458b-a19b-0fdda3956ac1",
   "metadata": {},
   "outputs": [],
   "source": [
    "# access columns attribute\n",
    "cpi.columns"
   ]
  },
  {
   "cell_type": "code",
   "execution_count": null,
   "id": "d3be924e-a657-4a6b-b997-674db41b8f7d",
   "metadata": {},
   "outputs": [],
   "source": [
    "# data types of each column\n",
    "cpi.dtypes"
   ]
  },
  {
   "cell_type": "markdown",
   "id": "97f4b634-ba5a-4d0e-91ab-58b05302bb20",
   "metadata": {},
   "source": [
    "# Methods"
   ]
  },
  {
   "cell_type": "code",
   "execution_count": null,
   "id": "e799b361-43f4-4311-b4f1-f4e49573ce0b",
   "metadata": {},
   "outputs": [],
   "source": [
    "# show information of dataframe\n",
    "cpi.info()"
   ]
  },
  {
   "cell_type": "code",
   "execution_count": null,
   "id": "bf2f181e-0c1c-4223-b8bf-ad6d6f1b3b71",
   "metadata": {},
   "outputs": [],
   "source": [
    "# describe basic statistics\n",
    "cpi.describe()"
   ]
  },
  {
   "cell_type": "markdown",
   "id": "2e21f6b1-badc-4192-97f3-1501eec09f9e",
   "metadata": {},
   "source": [
    "# Functions"
   ]
  },
  {
   "cell_type": "code",
   "execution_count": null,
   "id": "fbc9a9d2-7337-4735-accb-9b404c68f13c",
   "metadata": {},
   "outputs": [],
   "source": [
    "# obtain length of dataframe\n",
    "len(cpi)"
   ]
  },
  {
   "cell_type": "code",
   "execution_count": null,
   "id": "2f6bc28d-b521-4afd-a74b-d2158e35d423",
   "metadata": {},
   "outputs": [],
   "source": [
    "# obtain the highest index of dataframe\n",
    "max(cpi.index)"
   ]
  },
  {
   "cell_type": "code",
   "execution_count": 36,
   "id": "4412ea0a-83a1-450b-b704-3c614af17c51",
   "metadata": {},
   "outputs": [
    {
     "data": {
      "text/plain": [
       "pandas.core.frame.DataFrame"
      ]
     },
     "execution_count": 36,
     "metadata": {},
     "output_type": "execute_result"
    }
   ],
   "source": [
    "# obtain the data type\n",
    "type(cpi)"
   ]
  },
  {
   "cell_type": "code",
   "execution_count": null,
   "id": "2fbee089-35f8-4e56-ae1b-ed79be0a68ce",
   "metadata": {},
   "outputs": [],
   "source": [
    "# round the values of dataset\n",
    "round(cpi, 1)"
   ]
  },
  {
   "cell_type": "markdown",
   "id": "26bb6529-6a40-4087-a792-e5b0aaf505bd",
   "metadata": {},
   "source": [
    "# select one column\n",
    "\n",
    "## syntax I"
   ]
  },
  {
   "cell_type": "code",
   "execution_count": null,
   "id": "9c08c012-38dd-4f6c-9c9b-94da5047caaf",
   "metadata": {},
   "outputs": [],
   "source": [
    "# select a column with []\n",
    "cpi['CPI']"
   ]
  },
  {
   "cell_type": "code",
   "execution_count": 42,
   "id": "3181de85-b7b9-41af-b9f8-a8fe777b545b",
   "metadata": {},
   "outputs": [
    {
     "data": {
      "text/plain": [
       "pandas.core.series.Series"
      ]
     },
     "execution_count": 42,
     "metadata": {},
     "output_type": "execute_result"
    }
   ],
   "source": [
    "# check out data type of column\n",
    "type(cpi['Date'])"
   ]
  },
  {
   "cell_type": "markdown",
   "id": "2112e141-da64-47c9-baf8-8ef58a5b4d85",
   "metadata": {},
   "source": [
    "## syntax II"
   ]
  },
  {
   "cell_type": "code",
   "execution_count": null,
   "id": "8723d93e-2d8a-4413-a7a7-17291233ff4c",
   "metadata": {},
   "outputs": [],
   "source": [
    "# select a column with .\n",
    "cpi.CPI"
   ]
  },
  {
   "cell_type": "markdown",
   "id": "16798b40-633b-4fba-98a9-8542b64b7400",
   "metadata": {},
   "source": [
    "# select multiple columns"
   ]
  },
  {
   "cell_type": "code",
   "execution_count": null,
   "id": "6d095e13-c160-4bd6-9899-8772c93dc43d",
   "metadata": {},
   "outputs": [],
   "source": [
    "# select two column\n",
    "cpi[['Date', 'CPI']]"
   ]
  },
  {
   "cell_type": "markdown",
   "id": "22c358a7-d762-421e-880f-74078d9554a8",
   "metadata": {},
   "source": [
    "# Add a new column\n",
    "## Add a new column w/ scalar value"
   ]
  },
  {
   "cell_type": "code",
   "execution_count": null,
   "id": "40c81d6b-bd79-4bee-8ed6-f74d211f4f79",
   "metadata": {},
   "outputs": [],
   "source": [
    "# add a new column to dataframe\n",
    "cpi['dumb'] = 'dumber'"
   ]
  },
  {
   "cell_type": "markdown",
   "id": "33ef48ff-4e8f-4cfc-86d9-0e5d22002405",
   "metadata": {},
   "source": [
    "## Add a new column w/ array"
   ]
  },
  {
   "cell_type": "code",
   "execution_count": 20,
   "id": "00390a17-a6c6-4f15-b92c-7e7d728fef6a",
   "metadata": {},
   "outputs": [],
   "source": [
    "# create an array of 100 elements\n",
    "score = np.random.uniform(0, 100+1, size=37)\n"
   ]
  },
  {
   "cell_type": "code",
   "execution_count": 21,
   "id": "49857b95-bee5-4ed1-8500-6572dfa9b2f9",
   "metadata": {},
   "outputs": [
    {
     "data": {
      "text/html": [
       "<div>\n",
       "<style scoped>\n",
       "    .dataframe tbody tr th:only-of-type {\n",
       "        vertical-align: middle;\n",
       "    }\n",
       "\n",
       "    .dataframe tbody tr th {\n",
       "        vertical-align: top;\n",
       "    }\n",
       "\n",
       "    .dataframe thead th {\n",
       "        text-align: right;\n",
       "    }\n",
       "</style>\n",
       "<table border=\"1\" class=\"dataframe\">\n",
       "  <thead>\n",
       "    <tr style=\"text-align: right;\">\n",
       "      <th></th>\n",
       "      <th>Unnamed: 0</th>\n",
       "      <th>Date</th>\n",
       "      <th>CPI</th>\n",
       "      <th>dumb</th>\n",
       "      <th>Score</th>\n",
       "    </tr>\n",
       "  </thead>\n",
       "  <tbody>\n",
       "    <tr>\n",
       "      <th>0</th>\n",
       "      <td>2</td>\n",
       "      <td>2013Q1</td>\n",
       "      <td>232.773</td>\n",
       "      <td>dumber</td>\n",
       "      <td>83.316503</td>\n",
       "    </tr>\n",
       "    <tr>\n",
       "      <th>1</th>\n",
       "      <td>5</td>\n",
       "      <td>2013Q2</td>\n",
       "      <td>233.504</td>\n",
       "      <td>dumber</td>\n",
       "      <td>7.801471</td>\n",
       "    </tr>\n",
       "    <tr>\n",
       "      <th>2</th>\n",
       "      <td>8</td>\n",
       "      <td>2013Q3</td>\n",
       "      <td>234.149</td>\n",
       "      <td>dumber</td>\n",
       "      <td>98.540955</td>\n",
       "    </tr>\n",
       "    <tr>\n",
       "      <th>3</th>\n",
       "      <td>11</td>\n",
       "      <td>2013Q4</td>\n",
       "      <td>233.049</td>\n",
       "      <td>dumber</td>\n",
       "      <td>61.221927</td>\n",
       "    </tr>\n",
       "    <tr>\n",
       "      <th>4</th>\n",
       "      <td>14</td>\n",
       "      <td>2014Q1</td>\n",
       "      <td>236.293</td>\n",
       "      <td>dumber</td>\n",
       "      <td>96.651977</td>\n",
       "    </tr>\n",
       "    <tr>\n",
       "      <th>5</th>\n",
       "      <td>17</td>\n",
       "      <td>2014Q2</td>\n",
       "      <td>238.343</td>\n",
       "      <td>dumber</td>\n",
       "      <td>20.910715</td>\n",
       "    </tr>\n",
       "    <tr>\n",
       "      <th>6</th>\n",
       "      <td>20</td>\n",
       "      <td>2014Q3</td>\n",
       "      <td>238.031</td>\n",
       "      <td>dumber</td>\n",
       "      <td>4.064845</td>\n",
       "    </tr>\n",
       "    <tr>\n",
       "      <th>7</th>\n",
       "      <td>23</td>\n",
       "      <td>2014Q4</td>\n",
       "      <td>234.812</td>\n",
       "      <td>dumber</td>\n",
       "      <td>62.083805</td>\n",
       "    </tr>\n",
       "    <tr>\n",
       "      <th>8</th>\n",
       "      <td>26</td>\n",
       "      <td>2015Q1</td>\n",
       "      <td>236.119</td>\n",
       "      <td>dumber</td>\n",
       "      <td>100.937019</td>\n",
       "    </tr>\n",
       "    <tr>\n",
       "      <th>9</th>\n",
       "      <td>29</td>\n",
       "      <td>2015Q2</td>\n",
       "      <td>238.638</td>\n",
       "      <td>dumber</td>\n",
       "      <td>13.940153</td>\n",
       "    </tr>\n",
       "    <tr>\n",
       "      <th>10</th>\n",
       "      <td>32</td>\n",
       "      <td>2015Q3</td>\n",
       "      <td>237.945</td>\n",
       "      <td>dumber</td>\n",
       "      <td>66.558385</td>\n",
       "    </tr>\n",
       "    <tr>\n",
       "      <th>11</th>\n",
       "      <td>35</td>\n",
       "      <td>2015Q4</td>\n",
       "      <td>236.525</td>\n",
       "      <td>dumber</td>\n",
       "      <td>98.642814</td>\n",
       "    </tr>\n",
       "    <tr>\n",
       "      <th>12</th>\n",
       "      <td>38</td>\n",
       "      <td>2016Q1</td>\n",
       "      <td>238.132</td>\n",
       "      <td>dumber</td>\n",
       "      <td>31.318986</td>\n",
       "    </tr>\n",
       "    <tr>\n",
       "      <th>13</th>\n",
       "      <td>41</td>\n",
       "      <td>2016Q2</td>\n",
       "      <td>241.018</td>\n",
       "      <td>dumber</td>\n",
       "      <td>93.327068</td>\n",
       "    </tr>\n",
       "    <tr>\n",
       "      <th>14</th>\n",
       "      <td>44</td>\n",
       "      <td>2016Q3</td>\n",
       "      <td>241.428</td>\n",
       "      <td>dumber</td>\n",
       "      <td>34.692665</td>\n",
       "    </tr>\n",
       "    <tr>\n",
       "      <th>15</th>\n",
       "      <td>47</td>\n",
       "      <td>2016Q4</td>\n",
       "      <td>241.432</td>\n",
       "      <td>dumber</td>\n",
       "      <td>99.982175</td>\n",
       "    </tr>\n",
       "    <tr>\n",
       "      <th>16</th>\n",
       "      <td>50</td>\n",
       "      <td>2017Q1</td>\n",
       "      <td>243.801</td>\n",
       "      <td>dumber</td>\n",
       "      <td>43.289821</td>\n",
       "    </tr>\n",
       "    <tr>\n",
       "      <th>17</th>\n",
       "      <td>53</td>\n",
       "      <td>2017Q2</td>\n",
       "      <td>244.955</td>\n",
       "      <td>dumber</td>\n",
       "      <td>3.797823</td>\n",
       "    </tr>\n",
       "    <tr>\n",
       "      <th>18</th>\n",
       "      <td>56</td>\n",
       "      <td>2017Q3</td>\n",
       "      <td>246.819</td>\n",
       "      <td>dumber</td>\n",
       "      <td>80.182330</td>\n",
       "    </tr>\n",
       "    <tr>\n",
       "      <th>19</th>\n",
       "      <td>59</td>\n",
       "      <td>2017Q4</td>\n",
       "      <td>246.524</td>\n",
       "      <td>dumber</td>\n",
       "      <td>15.587674</td>\n",
       "    </tr>\n",
       "    <tr>\n",
       "      <th>20</th>\n",
       "      <td>62</td>\n",
       "      <td>2018Q1</td>\n",
       "      <td>249.554</td>\n",
       "      <td>dumber</td>\n",
       "      <td>0.756972</td>\n",
       "    </tr>\n",
       "    <tr>\n",
       "      <th>21</th>\n",
       "      <td>65</td>\n",
       "      <td>2018Q2</td>\n",
       "      <td>251.989</td>\n",
       "      <td>dumber</td>\n",
       "      <td>17.595318</td>\n",
       "    </tr>\n",
       "    <tr>\n",
       "      <th>22</th>\n",
       "      <td>68</td>\n",
       "      <td>2018Q3</td>\n",
       "      <td>252.439</td>\n",
       "      <td>dumber</td>\n",
       "      <td>32.311304</td>\n",
       "    </tr>\n",
       "    <tr>\n",
       "      <th>23</th>\n",
       "      <td>71</td>\n",
       "      <td>2018Q4</td>\n",
       "      <td>251.233</td>\n",
       "      <td>dumber</td>\n",
       "      <td>50.021235</td>\n",
       "    </tr>\n",
       "    <tr>\n",
       "      <th>24</th>\n",
       "      <td>74</td>\n",
       "      <td>2019Q1</td>\n",
       "      <td>254.202</td>\n",
       "      <td>dumber</td>\n",
       "      <td>2.730422</td>\n",
       "    </tr>\n",
       "    <tr>\n",
       "      <th>25</th>\n",
       "      <td>77</td>\n",
       "      <td>2019Q2</td>\n",
       "      <td>256.143</td>\n",
       "      <td>dumber</td>\n",
       "      <td>38.994906</td>\n",
       "    </tr>\n",
       "    <tr>\n",
       "      <th>26</th>\n",
       "      <td>80</td>\n",
       "      <td>2019Q3</td>\n",
       "      <td>256.759</td>\n",
       "      <td>dumber</td>\n",
       "      <td>70.221984</td>\n",
       "    </tr>\n",
       "    <tr>\n",
       "      <th>27</th>\n",
       "      <td>83</td>\n",
       "      <td>2019Q4</td>\n",
       "      <td>256.974</td>\n",
       "      <td>dumber</td>\n",
       "      <td>48.001222</td>\n",
       "    </tr>\n",
       "    <tr>\n",
       "      <th>28</th>\n",
       "      <td>86</td>\n",
       "      <td>2020Q1</td>\n",
       "      <td>258.115</td>\n",
       "      <td>dumber</td>\n",
       "      <td>87.324481</td>\n",
       "    </tr>\n",
       "    <tr>\n",
       "      <th>29</th>\n",
       "      <td>89</td>\n",
       "      <td>2020Q2</td>\n",
       "      <td>257.797</td>\n",
       "      <td>dumber</td>\n",
       "      <td>60.201294</td>\n",
       "    </tr>\n",
       "    <tr>\n",
       "      <th>30</th>\n",
       "      <td>92</td>\n",
       "      <td>2020Q3</td>\n",
       "      <td>260.280</td>\n",
       "      <td>dumber</td>\n",
       "      <td>78.279222</td>\n",
       "    </tr>\n",
       "    <tr>\n",
       "      <th>31</th>\n",
       "      <td>95</td>\n",
       "      <td>2020Q4</td>\n",
       "      <td>260.474</td>\n",
       "      <td>dumber</td>\n",
       "      <td>47.399581</td>\n",
       "    </tr>\n",
       "    <tr>\n",
       "      <th>32</th>\n",
       "      <td>98</td>\n",
       "      <td>2021Q1</td>\n",
       "      <td>264.877</td>\n",
       "      <td>dumber</td>\n",
       "      <td>68.611905</td>\n",
       "    </tr>\n",
       "    <tr>\n",
       "      <th>33</th>\n",
       "      <td>101</td>\n",
       "      <td>2021Q2</td>\n",
       "      <td>271.696</td>\n",
       "      <td>dumber</td>\n",
       "      <td>27.443788</td>\n",
       "    </tr>\n",
       "    <tr>\n",
       "      <th>34</th>\n",
       "      <td>104</td>\n",
       "      <td>2021Q3</td>\n",
       "      <td>274.310</td>\n",
       "      <td>dumber</td>\n",
       "      <td>10.801165</td>\n",
       "    </tr>\n",
       "    <tr>\n",
       "      <th>35</th>\n",
       "      <td>107</td>\n",
       "      <td>2021Q4</td>\n",
       "      <td>278.802</td>\n",
       "      <td>dumber</td>\n",
       "      <td>2.882226</td>\n",
       "    </tr>\n",
       "    <tr>\n",
       "      <th>36</th>\n",
       "      <td>110</td>\n",
       "      <td>2022Q1</td>\n",
       "      <td>287.504</td>\n",
       "      <td>dumber</td>\n",
       "      <td>30.417879</td>\n",
       "    </tr>\n",
       "  </tbody>\n",
       "</table>\n",
       "</div>"
      ],
      "text/plain": [
       "    Unnamed: 0    Date      CPI    dumb       Score\n",
       "0            2  2013Q1  232.773  dumber   83.316503\n",
       "1            5  2013Q2  233.504  dumber    7.801471\n",
       "2            8  2013Q3  234.149  dumber   98.540955\n",
       "3           11  2013Q4  233.049  dumber   61.221927\n",
       "4           14  2014Q1  236.293  dumber   96.651977\n",
       "5           17  2014Q2  238.343  dumber   20.910715\n",
       "6           20  2014Q3  238.031  dumber    4.064845\n",
       "7           23  2014Q4  234.812  dumber   62.083805\n",
       "8           26  2015Q1  236.119  dumber  100.937019\n",
       "9           29  2015Q2  238.638  dumber   13.940153\n",
       "10          32  2015Q3  237.945  dumber   66.558385\n",
       "11          35  2015Q4  236.525  dumber   98.642814\n",
       "12          38  2016Q1  238.132  dumber   31.318986\n",
       "13          41  2016Q2  241.018  dumber   93.327068\n",
       "14          44  2016Q3  241.428  dumber   34.692665\n",
       "15          47  2016Q4  241.432  dumber   99.982175\n",
       "16          50  2017Q1  243.801  dumber   43.289821\n",
       "17          53  2017Q2  244.955  dumber    3.797823\n",
       "18          56  2017Q3  246.819  dumber   80.182330\n",
       "19          59  2017Q4  246.524  dumber   15.587674\n",
       "20          62  2018Q1  249.554  dumber    0.756972\n",
       "21          65  2018Q2  251.989  dumber   17.595318\n",
       "22          68  2018Q3  252.439  dumber   32.311304\n",
       "23          71  2018Q4  251.233  dumber   50.021235\n",
       "24          74  2019Q1  254.202  dumber    2.730422\n",
       "25          77  2019Q2  256.143  dumber   38.994906\n",
       "26          80  2019Q3  256.759  dumber   70.221984\n",
       "27          83  2019Q4  256.974  dumber   48.001222\n",
       "28          86  2020Q1  258.115  dumber   87.324481\n",
       "29          89  2020Q2  257.797  dumber   60.201294\n",
       "30          92  2020Q3  260.280  dumber   78.279222\n",
       "31          95  2020Q4  260.474  dumber   47.399581\n",
       "32          98  2021Q1  264.877  dumber   68.611905\n",
       "33         101  2021Q2  271.696  dumber   27.443788\n",
       "34         104  2021Q3  274.310  dumber   10.801165\n",
       "35         107  2021Q4  278.802  dumber    2.882226\n",
       "36         110  2022Q1  287.504  dumber   30.417879"
      ]
     },
     "execution_count": 21,
     "metadata": {},
     "output_type": "execute_result"
    }
   ],
   "source": [
    "# add a new column to dataframe\n",
    "cpi['Score'] = score\n",
    "cpi"
   ]
  }
 ],
 "metadata": {
  "kernelspec": {
   "display_name": "Python 3 (ipykernel)",
   "language": "python",
   "name": "python3"
  },
  "language_info": {
   "codemirror_mode": {
    "name": "ipython",
    "version": 3
   },
   "file_extension": ".py",
   "mimetype": "text/x-python",
   "name": "python",
   "nbconvert_exporter": "python",
   "pygments_lexer": "ipython3",
   "version": "3.9.7"
  }
 },
 "nbformat": 4,
 "nbformat_minor": 5
}
