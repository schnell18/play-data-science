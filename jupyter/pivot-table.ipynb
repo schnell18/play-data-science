{
 "cells": [
  {
   "cell_type": "code",
   "execution_count": 1,
   "id": "ce23119d-eda3-46ef-82cb-485eaec9643f",
   "metadata": {},
   "outputs": [],
   "source": [
    "import pandas as pd"
   ]
  },
  {
   "cell_type": "markdown",
   "id": "23ed9d54-e736-4256-ac85-38ad56a183f9",
   "metadata": {},
   "source": [
    "# pivot()"
   ]
  },
  {
   "cell_type": "code",
   "execution_count": null,
   "id": "c2a02384-8d4d-4d72-82cf-517dd3b20190",
   "metadata": {},
   "outputs": [],
   "source": [
    "# read and show dataset\n",
    "gdp = pd.read_csv('gdp.csv')\n",
    "gdp"
   ]
  },
  {
   "cell_type": "code",
   "execution_count": null,
   "id": "ebbd8391-9f18-414b-8330-cada8fb0fd42",
   "metadata": {},
   "outputs": [],
   "source": [
    "# reshape the dataframe with .pivot\n",
    "gdp.pivot(index=\"year\", columns=\"country\", values=\"gdppc\")"
   ]
  }
 ],
 "metadata": {
  "kernelspec": {
   "display_name": "Python 3 (ipykernel)",
   "language": "python",
   "name": "python3"
  },
  "language_info": {
   "codemirror_mode": {
    "name": "ipython",
    "version": 3
   },
   "file_extension": ".py",
   "mimetype": "text/x-python",
   "name": "python",
   "nbconvert_exporter": "python",
   "pygments_lexer": "ipython3",
   "version": "3.9.7"
  }
 },
 "nbformat": 4,
 "nbformat_minor": 5
}
