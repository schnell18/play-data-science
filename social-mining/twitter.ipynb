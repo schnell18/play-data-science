{
 "cells": [
  {
   "cell_type": "code",
   "execution_count": null,
   "id": "d2f6782d-f622-4a33-a77b-0f53e5c041d6",
   "metadata": {},
   "outputs": [],
   "source": [
    "import twitter\n",
    "import numpy as np\n",
    "import pandas as pd\n",
    "import configparser\n",
    "import json"
   ]
  },
  {
   "cell_type": "markdown",
   "id": "4c7c7637-96b6-48c4-858a-9177bc95be33",
   "metadata": {},
   "source": [
    "## Login using OAuth 1.0a"
   ]
  },
  {
   "cell_type": "code",
   "execution_count": null,
   "id": "6ab39373-ea8e-446a-be8f-390249a32086",
   "metadata": {},
   "outputs": [],
   "source": [
    "def oauth_login():\n",
    "    parser = configparser.ConfigParser()\n",
    "    parser.read('credential.ini')\n",
    "    section = parser['twitter']\n",
    "    consumer_key = section['consumer_key']\n",
    "    consumer_secret = section['consumer_secret']\n",
    "    access_token = section['access_token']\n",
    "    access_token_secret = section['access_token_secret']\n",
    "\n",
    "    api = twitter.Twitter(\n",
    "        auth=twitter.OAuth(access_token, access_token_secret, consumer_key, consumer_secret)\n",
    "    )\n",
    "    # auth = twitter.oauth.OAuth(\n",
    "    #     oauth_token,\n",
    "    #     oauth_token_secret,\n",
    "    #     consumer_key,\n",
    "    #     consumer_secret\n",
    "    # )\n",
    "    # twitter_api = twitter.Twitter(auth=auth)\n",
    "    return api\n",
    "\n",
    "def twitter_trends(twitter_api, woe_id):\n",
    "    # Prefix ID with the underscore for query string parameterization.\n",
    "    # Without the underscore, the twitter package appends the ID value\n",
    "    # to the URL itself as a special-case keyword argument.\n",
    "    return twitter_api.search.tweets(q=\"#pycon\")\n",
    "\n",
    "\n",
    "\n"
   ]
  },
  {
   "cell_type": "code",
   "execution_count": null,
   "id": "0fd18738-3ef6-4cce-9ad9-c571041f684b",
   "metadata": {},
   "outputs": [],
   "source": [
    "twitter_api = oauth_login()\n",
    "\n",
    "# See https://dev.twitter.com/docs/api/1.1/get/trends/place and\n",
    "# http://developer.yahoo.com/geo/geoplanet/ for details on\n",
    "# Yahoo! Where On Earth ID\n",
    "WORLD_WOE_ID = 1\n",
    "world_trends = twitter_trends(twitter_api, WORLD_WOE_ID)\n",
    "print(json.dumps(world_trends, indent=1))\n",
    "\n",
    "US_WOE_ID = 23424977\n",
    "us_trends = twitter_trends(twitter_api, US_WOE_ID)\n",
    "print(json.dumps(us_trends, indent=1))\n"
   ]
  }
 ],
 "metadata": {
  "kernelspec": {
   "display_name": "Python 3 (ipykernel)",
   "language": "python",
   "name": "python3"
  },
  "language_info": {
   "codemirror_mode": {
    "name": "ipython",
    "version": 3
   },
   "file_extension": ".py",
   "mimetype": "text/x-python",
   "name": "python",
   "nbconvert_exporter": "python",
   "pygments_lexer": "ipython3",
   "version": "3.11.4"
  }
 },
 "nbformat": 4,
 "nbformat_minor": 5
}
