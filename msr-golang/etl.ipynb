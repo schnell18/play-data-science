{
 "cells": [
  {
   "cell_type": "code",
   "execution_count": 1,
   "id": "6411d9c2-976a-4b13-bf7a-bba23477068e",
   "metadata": {
    "scrolled": true
   },
   "outputs": [],
   "source": [
    "import pandas as pd\n",
    "import numpy as np\n",
    "import requests"
   ]
  },
  {
   "cell_type": "markdown",
   "id": "107e6ccc-8a85-4e14-9886-8faa2a1bae17",
   "metadata": {},
   "source": [
    "## Prepare repo list for further processing"
   ]
  },
  {
   "cell_type": "code",
   "execution_count": 2,
   "id": "f0caf73f-ace9-4a2d-9fe7-0cd0b03f2dab",
   "metadata": {},
   "outputs": [],
   "source": [
    "df = pd.read_excel(\"go-repos/golang-repo-10-combined.xlsx\")\n",
    "\n",
    "# remove less useful fields, serve as main record\n",
    "df.to_csv(\n",
    "    \"main.csv\",\n",
    "    index=False,\n",
    "    columns=[\n",
    "        \"id\", \"full_name\", \"topics\", \"default_branch\",\n",
    "        \"homepage\", \"description\", \"fork\", \"language\",\n",
    "        \"license\", \"pushed_at\", \"created_at\",\n",
    "        \"updated_at\", \"size\", \"forks_count\", \"stargazers_count\",\n",
    "        \"watchers_count\", \"open_issues_count\", \"has_discussions\",\n",
    "        \"has_downloads\", \"has_issues\", \"has_pages\", \"has_projects\",\n",
    "        \"has_wiki\", \"is_template\", \"web_commit_signoff_required\",\n",
    "    ]\n",
    ")\n",
    "\n",
    "# slim version for collecting go.mod files on cloud\n",
    "df.to_csv(\n",
    "    \"slim.csv\",\n",
    "    columns=[\n",
    "        'id', 'full_name', 'stargazers_count',\n",
    "        'forks_count', 'created_at'\n",
    "    ]\n",
    ")"
   ]
  },
  {
   "cell_type": "code",
   "execution_count": 3,
   "id": "37a72e42-601e-4389-90d6-241fb7aa61ef",
   "metadata": {},
   "outputs": [],
   "source": [
    "df_main = pd.read_csv(\n",
    "    \"main.csv\",\n",
    "    parse_dates=[ \"pushed_at\", \"created_at\", \"updated_at\" ]\n",
    ")"
   ]
  },
  {
   "cell_type": "code",
   "execution_count": null,
   "id": "a1f6868c-d3e7-4dd4-9183-0ecfcb9673b1",
   "metadata": {},
   "outputs": [],
   "source": []
  },
  {
   "cell_type": "code",
   "execution_count": null,
   "id": "8c58ae17-f494-40d8-aec5-e51f10bf1086",
   "metadata": {},
   "outputs": [],
   "source": [
    "df_top20 = df_top.head(20)\n",
    "df_top20.rename(columns={\"full_name\": \"repository\", \"forks_count\": \"forks\", \"stargazers_count\": \"stars\", \"watchers_count\": \"watchers\", \"open_issues_count\": \"issues\"}, inplace=True)\n",
    "df_top20\n",
    "df_top20.to_latex(\"__tab1.tex\", index=False)"
   ]
  },
  {
   "cell_type": "code",
   "execution_count": null,
   "id": "e156f404-c447-4c9b-a9db-ffaa24004f6e",
   "metadata": {},
   "outputs": [],
   "source": [
    "stats = df_main.describe(percentiles=[0.25, 0.5, 0.75, 0.95, 0.99])\n",
    "stats = stats.astype('int32').drop(columns=[\"id\"])\n",
    "stats.rename(columns={\"forks_count\": \"forks\", \"stargazers_count\": \"stars\", \"watchers_count\": \"watchers\", \"open_issues_count\": \"issues\"}, inplace=True)\n",
    "stats.to_latex(\"__tab1.tex\", index=False)"
   ]
  },
  {
   "cell_type": "code",
   "execution_count": null,
   "id": "c1131259-6bee-466f-8c56-f251684968e1",
   "metadata": {},
   "outputs": [],
   "source": [
    "stats"
   ]
  },
  {
   "cell_type": "markdown",
   "id": "5c327b2b-6b8c-4fc5-9eaf-67603b107d38",
   "metadata": {},
   "source": [
    "## Collect go.mod files(run on cloud) "
   ]
  },
  {
   "cell_type": "markdown",
   "id": "01dd397c-079e-4de8-845f-8601bde5406d",
   "metadata": {},
   "source": [
    "## Download go.mod files and extract to mod-info dir"
   ]
  },
  {
   "cell_type": "code",
   "execution_count": null,
   "id": "2c7dd6ee-89d8-43c9-a1a1-978894f5deea",
   "metadata": {},
   "outputs": [],
   "source": [
    "!scp data-science-station:/home/ubuntu/projects/big-data-task/play-data-science/msr-golang/mod-info.tgz ."
   ]
  },
  {
   "cell_type": "code",
   "execution_count": null,
   "id": "57a26542-e6c8-4f68-980e-7741a8b4a652",
   "metadata": {},
   "outputs": [],
   "source": [
    "!rm -fr tmp1\n",
    "!mkdir -p tmp1\n",
    "!tar -xzf mod-info.tgz -C tmp1"
   ]
  },
  {
   "cell_type": "markdown",
   "id": "94d309ea-6c55-4b7a-9bfd-e2f8041da5e1",
   "metadata": {},
   "source": [
    "## Parse go.mod files to get module reference count"
   ]
  },
  {
   "cell_type": "code",
   "execution_count": 10,
   "id": "dfa0b23a-e3fa-4aac-b1a7-a44ef60bdf1e",
   "metadata": {},
   "outputs": [
    {
     "name": "stdout",
     "output_type": "stream",
     "text": [
      "CPU times: user 2min 27s, sys: 3.6 s, total: 2min 31s\n",
      "Wall time: 2min 32s\n"
     ]
    }
   ],
   "source": [
    "%%time\n",
    "# call the script `parse-module-deps.py`\n",
    "from parser import parse_deps_from_parquet\n",
    "\n",
    "parse_deps_from_parquet(parquet_file=\"gomod.parquet\", deps_file=\"dependencies-parquet.csv\", trace=True)"
   ]
  },
  {
   "cell_type": "markdown",
   "id": "d6af4f7e-889d-40f7-ab42-2ead21e44dd4",
   "metadata": {},
   "source": [
    "## Generate module refs (group by dep_module)"
   ]
  },
  {
   "cell_type": "code",
   "execution_count": null,
   "id": "a0233e42-ca4d-4092-a840-0ca048d688e2",
   "metadata": {},
   "outputs": [],
   "source": [
    "df_deps = pd.read_csv('dependencies-parquet.csv')\n",
    "df_mod_refs = df_deps.groupby(\"dep_module\").agg(\n",
    "    refs=pd.NamedAgg(column=\"full_name\", aggfunc=\"count\"),\n",
    ").sort_values(\"refs\", ascending=False).reset_index()\n",
    "df_vers = df_deps.groupby([\"dep_module\", \"dep_version\"]).agg(refs=pd.NamedAgg(column=\"full_name\", aggfunc=\"count\"))\n",
    "df_vers.reset_index(level=1, inplace=True)\n",
    "df_vers.reset_index(level=0, inplace=True)\n",
    "# get most referenced version\n",
    "df_mod_refs = df_vers.sort_values(\"refs\").drop_duplicates([\"dep_module\"], keep=\"last\")\n",
    "df_mod_refs.rename(columns={'dep_module': 'module', 'dep_version': 'freq_ver'}, inplace=True)"
   ]
  },
  {
   "cell_type": "code",
   "execution_count": null,
   "id": "9ed9e468-9025-40fe-9850-1ed6626940c0",
   "metadata": {},
   "outputs": [],
   "source": [
    "df_name_conv = df_mod_refs.query(\"module.str.startswith('github.com') == False\")\n",
    "df_name_conv.to_csv(\"name-conv-module-refs.csv\", index=False)"
   ]
  },
  {
   "cell_type": "markdown",
   "id": "c315fd17-da08-436c-bae9-1a332013e4ef",
   "metadata": {},
   "source": [
    "## Associate non-github named modules with their github name"
   ]
  },
  {
   "cell_type": "code",
   "execution_count": null,
   "id": "27753538-7825-4476-8857-16b3b4967610",
   "metadata": {},
   "outputs": [],
   "source": [
    "%%time\n",
    "# call the script `convert-names.py`\n",
    "from datagrab.repo import convert_names\n",
    "\n",
    "convert_names(\"name-conv-module-refs.csv\", progress_file=\"name-conv-progress.csv\", trace=False)\n"
   ]
  },
  {
   "cell_type": "markdown",
   "id": "529983f3-6f16-406d-b134-7316a375b904",
   "metadata": {},
   "source": [
    "## Join the main record with module ref count"
   ]
  },
  {
   "cell_type": "code",
   "execution_count": null,
   "id": "b79afc14-eb1b-4c57-8a01-a2ef6978ca61",
   "metadata": {},
   "outputs": [],
   "source": [
    "def copy_github_column(row):\n",
    "    if row['github_name'] != row['github_name'] or row['github_name'] == '-':\n",
    "        return row['module']\n",
    "    else:\n",
    "        return row['github_name']\n",
    "        \n",
    "def strip_github_prefix(row):\n",
    "    return row[\"github_name\"][len(\"github.com/\"):]\n",
    "\n",
    "    \n",
    "# merge main record with module ref count\n",
    "df_name_mapping = pd.read_csv(\"name-conv-progress.csv\", parse_dates=['last_updated'])\n",
    "df_progress = pd.read_csv(\"mod-info.oci/progress.csv\", parse_dates=[\"last_updated\"])\n",
    "\n",
    "#df_1 = df_mod_refs.merge(df_name_mapping, how=\"left\", on=\"module\", right_index=False)\n",
    "df_1 = df_mod_refs.merge(df_name_mapping, how=\"left\", on=\"module\").drop(columns=['last_updated'])\n",
    "df_1['github_name'] = df_1.apply(copy_github_column, axis=1)\n",
    "# merge references to same library using different names\n",
    "df_2 = df_1.groupby([\"github_name\", \"freq_ver\"]).agg(\n",
    "    refs=pd.NamedAgg(column=\"refs\", aggfunc=\"sum\"),\n",
    ").sort_values(\"refs\", ascending=False)\n",
    "df_2.reset_index(level=1, inplace=True)\n",
    "df_2.reset_index(level=0, inplace=True)\n",
    "df_gh = df_1.query(\"github_name.str.startswith('github.com')\")\n",
    "df_gh['full_name'] = df_gh.apply(strip_github_prefix, axis=1)\n",
    "df_gh = df_gh.merge(df_progress, how=\"left\", on=\"full_name\").drop(columns=['last_updated', 'fail_reason'])\n",
    "df_gh.rename(columns={'module': 'alt'}, inplace=True)\n",
    "#df_gh = df_gh.merge(df_name_mapping, how=\"left\", on=\"github_name\").drop(columns=['last_updated', 'fail_reason'])\n",
    "\n",
    "df_final = df_main.merge(df_gh, how=\"left\", on=\"full_name\").drop(columns=[\"github_name\"])\n",
    "df_final.sort_values(\"refs\", ascending=False, inplace=True)\n",
    "df_final = df_final[[\"full_name\", \"alt\", \"latest_version\", \"freq_ver\", \"refs\", \"stargazers_count\", \"created_at\" ]]\n",
    "df_final['created_at'] = df_final['created_at'].dt.year\n",
    "#df_final.astype({\"refs\": \"int32\"})\n",
    "df_final.rename(\n",
    "    columns={\n",
    "        'full_name':'Repository',\n",
    "        'stargazers_count':'Stars',\n",
    "        'refs':'Refs',\n",
    "        'created_at':'Since',\n",
    "        'freq_ver':'Most Used Version',\n",
    "        'latest_version': 'Latest Version',\n",
    "        'alt':'Import Name',\n",
    "    },\n",
    "    inplace=True\n",
    ")"
   ]
  },
  {
   "cell_type": "markdown",
   "id": "9cd8e47c-be09-480b-a26f-d2ed61e6709b",
   "metadata": {},
   "source": [
    "## Generate dependency graph"
   ]
  },
  {
   "cell_type": "code",
   "execution_count": 4,
   "id": "e41a7680-fa4b-4b15-953d-b3f731c19534",
   "metadata": {},
   "outputs": [],
   "source": [
    "df_deps_grh = pd.read_csv('dependencies-parquet2.csv')\n"
   ]
  },
  {
   "cell_type": "code",
   "execution_count": 6,
   "id": "4637c24d-a5e8-487e-a96d-d5585e4c7474",
   "metadata": {},
   "outputs": [],
   "source": [
    "df_mod_refs = df_deps_grh.groupby([\"dep_module\", \"full_name\"]).agg(\n",
    "    refs=pd.NamedAgg(column=\"dep_module\", aggfunc=\"count\"),\n",
    ").sort_values(\"refs\", ascending=False).reset_index()\n"
   ]
  },
  {
   "cell_type": "code",
   "execution_count": 7,
   "id": "40c0793a-6d84-42bd-b225-1ec832ca3944",
   "metadata": {},
   "outputs": [
    {
     "name": "stderr",
     "output_type": "stream",
     "text": [
      "/var/folders/xn/t_nj5y1n4lv75t_v154rv5_h0000gn/T/ipykernel_36040/3186376150.py:2: SettingWithCopyWarning: \n",
      "A value is trying to be set on a copy of a slice from a DataFrame.\n",
      "Try using .loc[row_indexer,col_indexer] = value instead\n",
      "\n",
      "See the caveats in the documentation: https://pandas.pydata.org/pandas-docs/stable/user_guide/indexing.html#returning-a-view-versus-a-copy\n",
      "  df_mod_refs1['dep_mod'] = df_mod_refs1.apply(lambda r: r['dep_module'].replace('github.com/', ''), axis=1)\n"
     ]
    }
   ],
   "source": [
    "df_mod_refs1 = df_mod_refs.query(\"refs > 17\")\n",
    "df_mod_refs1['dep_mod'] = df_mod_refs1.apply(lambda r: r['dep_module'].replace('github.com/', ''), axis=1)\n",
    "df_mod_refs1.to_csv(\"go-deps.csv\", columns=['full_name', 'dep_mod'], index=False)"
   ]
  },
  {
   "cell_type": "code",
   "execution_count": 9,
   "id": "d96cf739-3a4e-4c27-997f-7cf819fc665e",
   "metadata": {},
   "outputs": [
    {
     "data": {
      "text/html": [
       "<div>\n",
       "<style scoped>\n",
       "    .dataframe tbody tr th:only-of-type {\n",
       "        vertical-align: middle;\n",
       "    }\n",
       "\n",
       "    .dataframe tbody tr th {\n",
       "        vertical-align: top;\n",
       "    }\n",
       "\n",
       "    .dataframe thead th {\n",
       "        text-align: right;\n",
       "    }\n",
       "</style>\n",
       "<table border=\"1\" class=\"dataframe\">\n",
       "  <thead>\n",
       "    <tr style=\"text-align: right;\">\n",
       "      <th>dep_mod</th>\n",
       "      <th>0chain/errors</th>\n",
       "      <th>0chain/gosdk</th>\n",
       "      <th>0xAX/notificator</th>\n",
       "      <th>0xERR0R/blocky</th>\n",
       "      <th>0xPolygon/go-ibft</th>\n",
       "      <th>0xPolygon/polygon-edge</th>\n",
       "      <th>0xPolygonHermez/zkevm-node</th>\n",
       "      <th>0xrawsec/golang-evtx</th>\n",
       "      <th>0xrawsec/golang-utils</th>\n",
       "      <th>0xsequence/ethkit</th>\n",
       "      <th>...</th>\n",
       "      <th>zs5460/art</th>\n",
       "      <th>zsais/go-gin-prometheus</th>\n",
       "      <th>zscaler/zscaler-sdk-go</th>\n",
       "      <th>zserge/lorca</th>\n",
       "      <th>ztrue/shutdown</th>\n",
       "      <th>ztrue/tracerr</th>\n",
       "      <th>zu1k/nali</th>\n",
       "      <th>zyedidia/generic</th>\n",
       "      <th>zyedidia/gopher-luar</th>\n",
       "      <th>zyedidia/poller</th>\n",
       "    </tr>\n",
       "    <tr>\n",
       "      <th>full_name</th>\n",
       "      <th></th>\n",
       "      <th></th>\n",
       "      <th></th>\n",
       "      <th></th>\n",
       "      <th></th>\n",
       "      <th></th>\n",
       "      <th></th>\n",
       "      <th></th>\n",
       "      <th></th>\n",
       "      <th></th>\n",
       "      <th></th>\n",
       "      <th></th>\n",
       "      <th></th>\n",
       "      <th></th>\n",
       "      <th></th>\n",
       "      <th></th>\n",
       "      <th></th>\n",
       "      <th></th>\n",
       "      <th></th>\n",
       "      <th></th>\n",
       "      <th></th>\n",
       "    </tr>\n",
       "  </thead>\n",
       "  <tbody>\n",
       "    <tr>\n",
       "      <th>0chain/blobber</th>\n",
       "      <td>20.0</td>\n",
       "      <td>20.0</td>\n",
       "      <td>0.0</td>\n",
       "      <td>0.0</td>\n",
       "      <td>0.0</td>\n",
       "      <td>0.0</td>\n",
       "      <td>0.0</td>\n",
       "      <td>0.0</td>\n",
       "      <td>0.0</td>\n",
       "      <td>0.0</td>\n",
       "      <td>...</td>\n",
       "      <td>0.0</td>\n",
       "      <td>0.0</td>\n",
       "      <td>0.0</td>\n",
       "      <td>0.0</td>\n",
       "      <td>0.0</td>\n",
       "      <td>0.0</td>\n",
       "      <td>0.0</td>\n",
       "      <td>0.0</td>\n",
       "      <td>0.0</td>\n",
       "      <td>0.0</td>\n",
       "    </tr>\n",
       "    <tr>\n",
       "      <th>0chain/gosdk</th>\n",
       "      <td>70.0</td>\n",
       "      <td>0.0</td>\n",
       "      <td>0.0</td>\n",
       "      <td>0.0</td>\n",
       "      <td>0.0</td>\n",
       "      <td>0.0</td>\n",
       "      <td>0.0</td>\n",
       "      <td>0.0</td>\n",
       "      <td>0.0</td>\n",
       "      <td>0.0</td>\n",
       "      <td>...</td>\n",
       "      <td>0.0</td>\n",
       "      <td>0.0</td>\n",
       "      <td>0.0</td>\n",
       "      <td>0.0</td>\n",
       "      <td>0.0</td>\n",
       "      <td>0.0</td>\n",
       "      <td>0.0</td>\n",
       "      <td>0.0</td>\n",
       "      <td>0.0</td>\n",
       "      <td>0.0</td>\n",
       "    </tr>\n",
       "    <tr>\n",
       "      <th>0chain/zboxcli</th>\n",
       "      <td>26.0</td>\n",
       "      <td>33.0</td>\n",
       "      <td>0.0</td>\n",
       "      <td>0.0</td>\n",
       "      <td>0.0</td>\n",
       "      <td>0.0</td>\n",
       "      <td>0.0</td>\n",
       "      <td>0.0</td>\n",
       "      <td>0.0</td>\n",
       "      <td>0.0</td>\n",
       "      <td>...</td>\n",
       "      <td>0.0</td>\n",
       "      <td>0.0</td>\n",
       "      <td>0.0</td>\n",
       "      <td>0.0</td>\n",
       "      <td>0.0</td>\n",
       "      <td>0.0</td>\n",
       "      <td>0.0</td>\n",
       "      <td>0.0</td>\n",
       "      <td>0.0</td>\n",
       "      <td>0.0</td>\n",
       "    </tr>\n",
       "    <tr>\n",
       "      <th>0chain/zwalletcli</th>\n",
       "      <td>0.0</td>\n",
       "      <td>22.0</td>\n",
       "      <td>0.0</td>\n",
       "      <td>0.0</td>\n",
       "      <td>0.0</td>\n",
       "      <td>0.0</td>\n",
       "      <td>0.0</td>\n",
       "      <td>0.0</td>\n",
       "      <td>0.0</td>\n",
       "      <td>0.0</td>\n",
       "      <td>...</td>\n",
       "      <td>0.0</td>\n",
       "      <td>0.0</td>\n",
       "      <td>0.0</td>\n",
       "      <td>0.0</td>\n",
       "      <td>0.0</td>\n",
       "      <td>0.0</td>\n",
       "      <td>0.0</td>\n",
       "      <td>0.0</td>\n",
       "      <td>0.0</td>\n",
       "      <td>0.0</td>\n",
       "    </tr>\n",
       "    <tr>\n",
       "      <th>0x2mev/mev-bsc</th>\n",
       "      <td>0.0</td>\n",
       "      <td>0.0</td>\n",
       "      <td>0.0</td>\n",
       "      <td>0.0</td>\n",
       "      <td>0.0</td>\n",
       "      <td>0.0</td>\n",
       "      <td>0.0</td>\n",
       "      <td>0.0</td>\n",
       "      <td>0.0</td>\n",
       "      <td>0.0</td>\n",
       "      <td>...</td>\n",
       "      <td>0.0</td>\n",
       "      <td>0.0</td>\n",
       "      <td>0.0</td>\n",
       "      <td>0.0</td>\n",
       "      <td>0.0</td>\n",
       "      <td>0.0</td>\n",
       "      <td>0.0</td>\n",
       "      <td>0.0</td>\n",
       "      <td>0.0</td>\n",
       "      <td>0.0</td>\n",
       "    </tr>\n",
       "    <tr>\n",
       "      <th>...</th>\n",
       "      <td>...</td>\n",
       "      <td>...</td>\n",
       "      <td>...</td>\n",
       "      <td>...</td>\n",
       "      <td>...</td>\n",
       "      <td>...</td>\n",
       "      <td>...</td>\n",
       "      <td>...</td>\n",
       "      <td>...</td>\n",
       "      <td>...</td>\n",
       "      <td>...</td>\n",
       "      <td>...</td>\n",
       "      <td>...</td>\n",
       "      <td>...</td>\n",
       "      <td>...</td>\n",
       "      <td>...</td>\n",
       "      <td>...</td>\n",
       "      <td>...</td>\n",
       "      <td>...</td>\n",
       "      <td>...</td>\n",
       "      <td>...</td>\n",
       "    </tr>\n",
       "    <tr>\n",
       "      <th>zvchain/zvchain</th>\n",
       "      <td>0.0</td>\n",
       "      <td>0.0</td>\n",
       "      <td>0.0</td>\n",
       "      <td>0.0</td>\n",
       "      <td>0.0</td>\n",
       "      <td>0.0</td>\n",
       "      <td>0.0</td>\n",
       "      <td>0.0</td>\n",
       "      <td>0.0</td>\n",
       "      <td>0.0</td>\n",
       "      <td>...</td>\n",
       "      <td>0.0</td>\n",
       "      <td>0.0</td>\n",
       "      <td>0.0</td>\n",
       "      <td>0.0</td>\n",
       "      <td>0.0</td>\n",
       "      <td>0.0</td>\n",
       "      <td>0.0</td>\n",
       "      <td>0.0</td>\n",
       "      <td>0.0</td>\n",
       "      <td>0.0</td>\n",
       "    </tr>\n",
       "    <tr>\n",
       "      <th>zyedidia/knit</th>\n",
       "      <td>0.0</td>\n",
       "      <td>0.0</td>\n",
       "      <td>0.0</td>\n",
       "      <td>0.0</td>\n",
       "      <td>0.0</td>\n",
       "      <td>0.0</td>\n",
       "      <td>0.0</td>\n",
       "      <td>0.0</td>\n",
       "      <td>0.0</td>\n",
       "      <td>0.0</td>\n",
       "      <td>...</td>\n",
       "      <td>0.0</td>\n",
       "      <td>0.0</td>\n",
       "      <td>0.0</td>\n",
       "      <td>0.0</td>\n",
       "      <td>0.0</td>\n",
       "      <td>0.0</td>\n",
       "      <td>0.0</td>\n",
       "      <td>0.0</td>\n",
       "      <td>18.0</td>\n",
       "      <td>0.0</td>\n",
       "    </tr>\n",
       "    <tr>\n",
       "      <th>zyedidia/tcell</th>\n",
       "      <td>0.0</td>\n",
       "      <td>0.0</td>\n",
       "      <td>0.0</td>\n",
       "      <td>0.0</td>\n",
       "      <td>0.0</td>\n",
       "      <td>0.0</td>\n",
       "      <td>0.0</td>\n",
       "      <td>0.0</td>\n",
       "      <td>0.0</td>\n",
       "      <td>0.0</td>\n",
       "      <td>...</td>\n",
       "      <td>0.0</td>\n",
       "      <td>0.0</td>\n",
       "      <td>0.0</td>\n",
       "      <td>0.0</td>\n",
       "      <td>0.0</td>\n",
       "      <td>0.0</td>\n",
       "      <td>0.0</td>\n",
       "      <td>0.0</td>\n",
       "      <td>0.0</td>\n",
       "      <td>23.0</td>\n",
       "    </tr>\n",
       "    <tr>\n",
       "      <th>zzsnn/proxypool</th>\n",
       "      <td>0.0</td>\n",
       "      <td>0.0</td>\n",
       "      <td>0.0</td>\n",
       "      <td>0.0</td>\n",
       "      <td>0.0</td>\n",
       "      <td>0.0</td>\n",
       "      <td>0.0</td>\n",
       "      <td>0.0</td>\n",
       "      <td>0.0</td>\n",
       "      <td>0.0</td>\n",
       "      <td>...</td>\n",
       "      <td>0.0</td>\n",
       "      <td>0.0</td>\n",
       "      <td>0.0</td>\n",
       "      <td>0.0</td>\n",
       "      <td>0.0</td>\n",
       "      <td>0.0</td>\n",
       "      <td>0.0</td>\n",
       "      <td>0.0</td>\n",
       "      <td>0.0</td>\n",
       "      <td>0.0</td>\n",
       "    </tr>\n",
       "    <tr>\n",
       "      <th>zzwx/fresh</th>\n",
       "      <td>0.0</td>\n",
       "      <td>0.0</td>\n",
       "      <td>0.0</td>\n",
       "      <td>0.0</td>\n",
       "      <td>0.0</td>\n",
       "      <td>0.0</td>\n",
       "      <td>0.0</td>\n",
       "      <td>0.0</td>\n",
       "      <td>0.0</td>\n",
       "      <td>0.0</td>\n",
       "      <td>...</td>\n",
       "      <td>0.0</td>\n",
       "      <td>0.0</td>\n",
       "      <td>0.0</td>\n",
       "      <td>0.0</td>\n",
       "      <td>0.0</td>\n",
       "      <td>0.0</td>\n",
       "      <td>0.0</td>\n",
       "      <td>0.0</td>\n",
       "      <td>0.0</td>\n",
       "      <td>0.0</td>\n",
       "    </tr>\n",
       "  </tbody>\n",
       "</table>\n",
       "<p>6183 rows × 14233 columns</p>\n",
       "</div>"
      ],
      "text/plain": [
       "dep_mod            0chain/errors  0chain/gosdk  0xAX/notificator   \n",
       "full_name                                                          \n",
       "0chain/blobber              20.0          20.0               0.0  \\\n",
       "0chain/gosdk                70.0           0.0               0.0   \n",
       "0chain/zboxcli              26.0          33.0               0.0   \n",
       "0chain/zwalletcli            0.0          22.0               0.0   \n",
       "0x2mev/mev-bsc               0.0           0.0               0.0   \n",
       "...                          ...           ...               ...   \n",
       "zvchain/zvchain              0.0           0.0               0.0   \n",
       "zyedidia/knit                0.0           0.0               0.0   \n",
       "zyedidia/tcell               0.0           0.0               0.0   \n",
       "zzsnn/proxypool              0.0           0.0               0.0   \n",
       "zzwx/fresh                   0.0           0.0               0.0   \n",
       "\n",
       "dep_mod            0xERR0R/blocky  0xPolygon/go-ibft  0xPolygon/polygon-edge   \n",
       "full_name                                                                      \n",
       "0chain/blobber                0.0                0.0                     0.0  \\\n",
       "0chain/gosdk                  0.0                0.0                     0.0   \n",
       "0chain/zboxcli                0.0                0.0                     0.0   \n",
       "0chain/zwalletcli             0.0                0.0                     0.0   \n",
       "0x2mev/mev-bsc                0.0                0.0                     0.0   \n",
       "...                           ...                ...                     ...   \n",
       "zvchain/zvchain               0.0                0.0                     0.0   \n",
       "zyedidia/knit                 0.0                0.0                     0.0   \n",
       "zyedidia/tcell                0.0                0.0                     0.0   \n",
       "zzsnn/proxypool               0.0                0.0                     0.0   \n",
       "zzwx/fresh                    0.0                0.0                     0.0   \n",
       "\n",
       "dep_mod            0xPolygonHermez/zkevm-node  0xrawsec/golang-evtx   \n",
       "full_name                                                             \n",
       "0chain/blobber                            0.0                   0.0  \\\n",
       "0chain/gosdk                              0.0                   0.0   \n",
       "0chain/zboxcli                            0.0                   0.0   \n",
       "0chain/zwalletcli                         0.0                   0.0   \n",
       "0x2mev/mev-bsc                            0.0                   0.0   \n",
       "...                                       ...                   ...   \n",
       "zvchain/zvchain                           0.0                   0.0   \n",
       "zyedidia/knit                             0.0                   0.0   \n",
       "zyedidia/tcell                            0.0                   0.0   \n",
       "zzsnn/proxypool                           0.0                   0.0   \n",
       "zzwx/fresh                                0.0                   0.0   \n",
       "\n",
       "dep_mod            0xrawsec/golang-utils  0xsequence/ethkit  ...  zs5460/art   \n",
       "full_name                                                    ...               \n",
       "0chain/blobber                       0.0                0.0  ...         0.0  \\\n",
       "0chain/gosdk                         0.0                0.0  ...         0.0   \n",
       "0chain/zboxcli                       0.0                0.0  ...         0.0   \n",
       "0chain/zwalletcli                    0.0                0.0  ...         0.0   \n",
       "0x2mev/mev-bsc                       0.0                0.0  ...         0.0   \n",
       "...                                  ...                ...  ...         ...   \n",
       "zvchain/zvchain                      0.0                0.0  ...         0.0   \n",
       "zyedidia/knit                        0.0                0.0  ...         0.0   \n",
       "zyedidia/tcell                       0.0                0.0  ...         0.0   \n",
       "zzsnn/proxypool                      0.0                0.0  ...         0.0   \n",
       "zzwx/fresh                           0.0                0.0  ...         0.0   \n",
       "\n",
       "dep_mod            zsais/go-gin-prometheus  zscaler/zscaler-sdk-go   \n",
       "full_name                                                            \n",
       "0chain/blobber                         0.0                     0.0  \\\n",
       "0chain/gosdk                           0.0                     0.0   \n",
       "0chain/zboxcli                         0.0                     0.0   \n",
       "0chain/zwalletcli                      0.0                     0.0   \n",
       "0x2mev/mev-bsc                         0.0                     0.0   \n",
       "...                                    ...                     ...   \n",
       "zvchain/zvchain                        0.0                     0.0   \n",
       "zyedidia/knit                          0.0                     0.0   \n",
       "zyedidia/tcell                         0.0                     0.0   \n",
       "zzsnn/proxypool                        0.0                     0.0   \n",
       "zzwx/fresh                             0.0                     0.0   \n",
       "\n",
       "dep_mod            zserge/lorca  ztrue/shutdown  ztrue/tracerr  zu1k/nali   \n",
       "full_name                                                                   \n",
       "0chain/blobber              0.0             0.0            0.0        0.0  \\\n",
       "0chain/gosdk                0.0             0.0            0.0        0.0   \n",
       "0chain/zboxcli              0.0             0.0            0.0        0.0   \n",
       "0chain/zwalletcli           0.0             0.0            0.0        0.0   \n",
       "0x2mev/mev-bsc              0.0             0.0            0.0        0.0   \n",
       "...                         ...             ...            ...        ...   \n",
       "zvchain/zvchain             0.0             0.0            0.0        0.0   \n",
       "zyedidia/knit               0.0             0.0            0.0        0.0   \n",
       "zyedidia/tcell              0.0             0.0            0.0        0.0   \n",
       "zzsnn/proxypool             0.0             0.0            0.0        0.0   \n",
       "zzwx/fresh                  0.0             0.0            0.0        0.0   \n",
       "\n",
       "dep_mod            zyedidia/generic  zyedidia/gopher-luar  zyedidia/poller  \n",
       "full_name                                                                   \n",
       "0chain/blobber                  0.0                   0.0              0.0  \n",
       "0chain/gosdk                    0.0                   0.0              0.0  \n",
       "0chain/zboxcli                  0.0                   0.0              0.0  \n",
       "0chain/zwalletcli               0.0                   0.0              0.0  \n",
       "0x2mev/mev-bsc                  0.0                   0.0              0.0  \n",
       "...                             ...                   ...              ...  \n",
       "zvchain/zvchain                 0.0                   0.0              0.0  \n",
       "zyedidia/knit                   0.0                  18.0              0.0  \n",
       "zyedidia/tcell                  0.0                   0.0             23.0  \n",
       "zzsnn/proxypool                 0.0                   0.0              0.0  \n",
       "zzwx/fresh                      0.0                   0.0              0.0  \n",
       "\n",
       "[6183 rows x 14233 columns]"
      ]
     },
     "execution_count": 9,
     "metadata": {},
     "output_type": "execute_result"
    }
   ],
   "source": [
    "df_pivot = df_mod_refs1.pivot_table(columns=\"dep_mod\", index=\"full_name\", values=\"refs\").fillna(0)\n",
    "#df_pivot.fillna(0).to_csv(\"go-deps-matrix.csv\")\n",
    "df_pivot"
   ]
  },
  {
   "cell_type": "markdown",
   "id": "5e90ad0c-3e44-42c3-9001-143de0c874ce",
   "metadata": {},
   "source": [
    "### Extract top 20 libraries for reporting"
   ]
  },
  {
   "cell_type": "code",
   "execution_count": null,
   "id": "35dc07e7-e326-494f-aae7-54c4628bdfce",
   "metadata": {},
   "outputs": [],
   "source": [
    "df_latex = df_final.head(20).astype({\"Refs\": \"int32\"})\n",
    "df_latex"
   ]
  },
  {
   "cell_type": "code",
   "execution_count": null,
   "id": "0a5eb730-d2d7-467c-9a3b-e3d972fa3f4a",
   "metadata": {},
   "outputs": [],
   "source": [
    "df_latex.to_latex(\"__libs.tex\", index=False)"
   ]
  },
  {
   "cell_type": "markdown",
   "id": "cd7ed530-d85a-422f-ae6e-d8fd6e62ed47",
   "metadata": {},
   "source": [
    "## Identify vulnerabilities"
   ]
  },
  {
   "cell_type": "markdown",
   "id": "94687151-de46-41be-aada-f9664ea80744",
   "metadata": {},
   "source": [
    "### Load golang vulnerability dataset"
   ]
  },
  {
   "cell_type": "code",
   "execution_count": null,
   "id": "58f32296-f206-4b33-b66c-e08c493c0826",
   "metadata": {},
   "outputs": [],
   "source": [
    "df_vuln = pd.read_csv(\"govuls.csv\", parse_dates=[\"published\", \"last_updated\"])\n",
    "df_vuln = df_vuln[[\"module\", \"fix_version\", \"vul_id\", \"alias\", \"published\"]]"
   ]
  },
  {
   "cell_type": "code",
   "execution_count": null,
   "id": "8d14a0a9-8097-4b49-9e39-1e941a0b515a",
   "metadata": {},
   "outputs": [],
   "source": [
    "df_vuln.query(\"alias=='CVE-2021-3121'\")"
   ]
  },
  {
   "cell_type": "markdown",
   "id": "96421d3a-675b-4ad7-9860-24056851f5fb",
   "metadata": {},
   "source": [
    "### Load top 2000 libraries"
   ]
  },
  {
   "cell_type": "code",
   "execution_count": null,
   "id": "5a1a420d-27d2-4b6c-b8cf-5714b749de74",
   "metadata": {},
   "outputs": [],
   "source": [
    "df_top2000_lib = df_gh.sort_values(\"refs\", ascending=False).head(2000).drop(columns=[\"freq_ver\"])"
   ]
  },
  {
   "cell_type": "code",
   "execution_count": null,
   "id": "cc2e9107-d402-4e29-ac37-354fd40c6ba3",
   "metadata": {},
   "outputs": [],
   "source": [
    "df_top2000_lib.query(\"latest_version == latest_version\")"
   ]
  },
  {
   "cell_type": "markdown",
   "id": "358d0aff-8c90-4911-bba8-5202471ed16d",
   "metadata": {},
   "source": [
    "### Load top 2000 libraries latest version's dependencies"
   ]
  },
  {
   "cell_type": "code",
   "execution_count": null,
   "id": "ac1073ce-1d67-45eb-979c-2e9174f2916a",
   "metadata": {},
   "outputs": [],
   "source": [
    "df_deps.head()"
   ]
  },
  {
   "cell_type": "code",
   "execution_count": null,
   "id": "70bb854f-bae9-46c1-b21f-ead0c7030f53",
   "metadata": {},
   "outputs": [],
   "source": [
    "df_top2000_lib_deps = df_top2000_lib.merge(df_deps, how=\"inner\", left_on=[\"full_name\", \"latest_version\"], right_on=[\"full_name\", \"version\"]).drop(columns=[\"public_name\"]) "
   ]
  },
  {
   "cell_type": "code",
   "execution_count": null,
   "id": "7ebb236b-5873-4bdc-97f7-957a27628cdf",
   "metadata": {},
   "outputs": [],
   "source": [
    "df_top2000_lib_deps.head(30)"
   ]
  },
  {
   "cell_type": "markdown",
   "id": "cfda4c0c-6d0c-415a-a974-779fd514f512",
   "metadata": {},
   "source": [
    "### Match vul dataset by name"
   ]
  },
  {
   "cell_type": "code",
   "execution_count": null,
   "id": "78a1844d-78ec-42cc-9ffe-812505bac181",
   "metadata": {},
   "outputs": [],
   "source": [
    "import semver\n",
    "def to_semver(v):\n",
    "    try:\n",
    "        return semver.version.Version.parse(v[1:] if v.startswith(\"v\") else v)\n",
    "    except AttributeError as e:\n",
    "        return None\n",
    "df_sec_iss = df_top2000_lib_deps.merge(df_vuln, how=\"inner\", left_on=\"dep_module\", right_on=\"module\")\n",
    "df_sec_iss[\"fix_version\"] = df_sec_iss.apply(lambda r: to_semver(r['fix_version']) , axis=1)\n",
    "df_sec_iss[\"dep_version\"] = df_sec_iss.apply(lambda r: to_semver(r['dep_version']) , axis=1)\n",
    "df_sec_iss = df_sec_iss.query(\"dep_version < fix_version\").drop(columns=[\"github_name\", \"module\"])"
   ]
  },
  {
   "cell_type": "code",
   "execution_count": null,
   "id": "6bc0b633-c0d5-443d-880c-2b0cf00e2a2b",
   "metadata": {},
   "outputs": [],
   "source": [
    "# df_sec_iss.drop(columns=[\"dep_version\", \"module\", \"fix_version\"], inplace=True)\n",
    "df_sec_iss = df_sec_iss.sort_values(\"refs\", ascending=False)"
   ]
  },
  {
   "cell_type": "code",
   "execution_count": null,
   "id": "f43e469d-d2b0-48bf-b87a-926a535c5e1b",
   "metadata": {},
   "outputs": [],
   "source": []
  },
  {
   "cell_type": "code",
   "execution_count": null,
   "id": "58c5b7a7-092b-40f0-ae80-504486bf4917",
   "metadata": {},
   "outputs": [],
   "source": [
    "df_po = df_sec_iss.groupby([\"alt\", \"version\"]).agg({\"refs\": \"max\", \"alias\": lambda col: \",\".join(col)})\n",
    "df_po = df_po.reset_index(level=1)\n",
    "df_po = df_po.reset_index(level=0)\n"
   ]
  },
  {
   "cell_type": "code",
   "execution_count": null,
   "id": "2a6e8dd5-3710-460b-939c-37692f79a911",
   "metadata": {},
   "outputs": [],
   "source": [
    "df_po = df_po.sort_values([\"refs\"], ascending=False).drop(columns=['refs'])\n",
    "#df_po = df_po.sort_values([\"refs\"], ascending=False)\n",
    "df_po.rename(\n",
    "    columns={\n",
    "        'alias':'Vul IDs',\n",
    "        'version': 'Version',\n",
    "        'alt':'Library Name',\n",
    "    },\n",
    "    inplace=True\n",
    ")\n"
   ]
  },
  {
   "cell_type": "code",
   "execution_count": null,
   "id": "834074d8-f3d3-4438-bc0e-4743e8c72c26",
   "metadata": {},
   "outputs": [],
   "source": [
    "df_po.head(20).to_latex(\"__vul.tex\", index=False)"
   ]
  },
  {
   "cell_type": "code",
   "execution_count": null,
   "id": "2f851620-c23a-4670-9453-0d63c172b578",
   "metadata": {},
   "outputs": [],
   "source": [
    "df_sec_iss.to_csv(\"potential-sec-issue.csv\")"
   ]
  },
  {
   "cell_type": "markdown",
   "id": "0ad05fd3-0dcf-4f7f-a67c-b3ecf4b7579b",
   "metadata": {},
   "source": [
    "## ****************************** DEBUG CELLS ****************************** "
   ]
  },
  {
   "cell_type": "code",
   "execution_count": 202,
   "id": "294a1d8e-f34a-46de-a9c0-be43b2a92ec1",
   "metadata": {},
   "outputs": [],
   "source": [
    "df_awesome = pd.read_csv(\"main.csv\", parse_dates=['created_at', 'updated_at', 'pushed_at'])\n",
    "df_awesome_cat = pd.read_csv(\"go-awesome-categories.csv\")\n",
    "df_awesome = df_awesome.merge(df_awesome_cat, how=\"inner\", on=\"full_name\")\n",
    "df_awesome.to_csv(\n",
    "    \"go-awesome-repos.csv\",\n",
    "    index=False,\n",
    "    columns=[\n",
    "        'id', 'full_name', 'stargazers_count',\n",
    "        'forks_count', 'created_at'\n",
    "    ]\n",
    ")"
   ]
  },
  {
   "cell_type": "code",
   "execution_count": null,
   "id": "f55de9de-0a1b-4ecf-afa5-7d1154aae2d9",
   "metadata": {},
   "outputs": [],
   "source": [
    "cost_dfs = []\n",
    "for date_range in date_ranges:\n",
    "    df = pd.read_excel(\"round2/%s-repo-%d-%s-%s.xlsx\" % (lang, stars, date_range[0], date_range[1]))\n",
    "    cost_dfs.append(df)\n",
    "combined = pd.concat(cost_dfs)\n",
    "combined.to_csv('round2/combined.csv')\n"
   ]
  },
  {
   "cell_type": "code",
   "execution_count": null,
   "id": "5911e406-2d4a-4b8a-b77a-6c9888149eff",
   "metadata": {},
   "outputs": [],
   "source": [
    "df_latest_ver = pd.read_csv(\"latest_ver.csv\")"
   ]
  },
  {
   "cell_type": "code",
   "execution_count": null,
   "id": "6ff3fa19-0cb9-433d-a8c0-e035fb302e7d",
   "metadata": {},
   "outputs": [],
   "source": [
    "df_latest_ver"
   ]
  },
  {
   "cell_type": "code",
   "execution_count": null,
   "id": "301b9baf-1ede-4b4d-a91c-67ac8f99ab4c",
   "metadata": {},
   "outputs": [],
   "source": [
    "df_latex = df_latex.merge(df_latest_ver, how=\"inner\", on=\"Repository\")\n",
    "df_latex"
   ]
  },
  {
   "cell_type": "code",
   "execution_count": null,
   "id": "9e930125-5ea9-4aca-b927-b46eba920cbb",
   "metadata": {},
   "outputs": [],
   "source": [
    "df_latex = df_latex[[\"Repository\", \"Import Name\", \"Latest Version\", \"Most Used Version\", \"Total Refs\", \"Stars\", \"Since\"]]\n",
    "df_latex.to_latex(\"__libs.tex\")"
   ]
  },
  {
   "cell_type": "markdown",
   "id": "58f82d52-d5b0-4206-84c2-4b111db0c28b",
   "metadata": {},
   "source": [
    "### check go.mod file size"
   ]
  },
  {
   "cell_type": "code",
   "execution_count": null,
   "id": "ce803dc1-3fec-45e4-b194-512a3a6fea80",
   "metadata": {},
   "outputs": [],
   "source": [
    "df_mod_size = pd.read_csv(\"gomod-size.csv\")"
   ]
  },
  {
   "cell_type": "code",
   "execution_count": null,
   "id": "dda50406-cfae-47f8-81ec-56eb13b8a38f",
   "metadata": {},
   "outputs": [],
   "source": [
    "df_mod_size.describe()"
   ]
  },
  {
   "cell_type": "code",
   "execution_count": null,
   "id": "46472626-fe79-4253-b608-f6fa6d6569a5",
   "metadata": {},
   "outputs": [],
   "source": [
    "df_parquet = pd.read_parquet(\"gomod.parquet\")\n"
   ]
  },
  {
   "cell_type": "code",
   "execution_count": null,
   "id": "595a015e-9dc7-46d4-a178-e486858a29f8",
   "metadata": {},
   "outputs": [],
   "source": [
    "df_parquet.head()"
   ]
  },
  {
   "cell_type": "markdown",
   "id": "352c73c9-56c4-48f0-872b-06a01f7c794e",
   "metadata": {},
   "source": [
    "### process commit data"
   ]
  },
  {
   "cell_type": "code",
   "execution_count": 9,
   "id": "34185583-c6a3-4b64-8b05-5e9657554f74",
   "metadata": {},
   "outputs": [],
   "source": [
    "# fix full_name to reverse repo/owner\n",
    "def reverse_full_name(r):\n",
    "    repo, owner = r['full_name'].split('/', 1)\n",
    "    return f\"{owner}/{repo}\"\n",
    "df_commit = pd.read_csv(\"commit-info/commits.csv\", parse_dates=[\"author_date\"])\n",
    "\n",
    "df_commit['full_name'] = df_commit.apply(lambda r: reverse_full_name(r), axis=1)\n",
    "df_commit.to_csv('commits-go-awesome.csv', index=False)"
   ]
  },
  {
   "cell_type": "code",
   "execution_count": 8,
   "id": "ba92bb38-e4a5-4766-97a6-0653c1c60f97",
   "metadata": {},
   "outputs": [
    {
     "data": {
      "text/plain": [
       "full_name              object\n",
       "branch                 object\n",
       "sha                    object\n",
       "author_name            object\n",
       "author_date    datetime64[ns]\n",
       "verified                int64\n",
       "dtype: object"
      ]
     },
     "execution_count": 8,
     "metadata": {},
     "output_type": "execute_result"
    }
   ],
   "source": [
    "df_commit.dtypes"
   ]
  },
  {
   "cell_type": "code",
   "execution_count": 2,
   "id": "371bb94b-cfc7-49a5-b9be-df88b6ca60c6",
   "metadata": {},
   "outputs": [],
   "source": [
    "df_commit = pd.read_csv('commits-go-awesome.csv', parse_dates=[\"author_date\"])"
   ]
  },
  {
   "cell_type": "code",
   "execution_count": null,
   "id": "20f3f4e2-2a44-4dd7-a114-780092ad2443",
   "metadata": {},
   "outputs": [],
   "source": [
    "\n",
    "from github import Github\n",
    "from datagrab.github.common import load_access_token\n",
    "from datagrab.github.common import load_repo_info\n",
    "from datetime import datetime\n",
    "\n",
    "client = Github(load_access_token(), per_page=100) \n",
    "repo = load_repo_info(client, \"huggingface/transformers\")\n",
    "cmts = []\n",
    "#for cmt in repo.get_issues_comments(since=datetime(2023, 9, 1, 0, 0, 0)):\n",
    "for cmt in repo.get_issues_comments(sort='updated', direction='desc'):\n",
    "    obj = vars(cmt).get('_rawData', {})\n",
    "    cmts.append(obj)\n",
    "cmts    "
   ]
  }
 ],
 "metadata": {
  "kernelspec": {
   "display_name": "Python 3 (ipykernel)",
   "language": "python",
   "name": "python3"
  },
  "language_info": {
   "codemirror_mode": {
    "name": "ipython",
    "version": 3
   },
   "file_extension": ".py",
   "mimetype": "text/x-python",
   "name": "python",
   "nbconvert_exporter": "python",
   "pygments_lexer": "ipython3",
   "version": "3.11.4"
  }
 },
 "nbformat": 4,
 "nbformat_minor": 5
}
