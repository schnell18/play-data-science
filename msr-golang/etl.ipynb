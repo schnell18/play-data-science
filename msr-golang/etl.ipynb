{
 "cells": [
  {
   "cell_type": "code",
   "execution_count": null,
   "id": "6411d9c2-976a-4b13-bf7a-bba23477068e",
   "metadata": {
    "scrolled": true
   },
   "outputs": [],
   "source": [
    "import pandas as pd\n",
    "import numpy as np\n",
    "import requests"
   ]
  },
  {
   "cell_type": "markdown",
   "id": "107e6ccc-8a85-4e14-9886-8faa2a1bae17",
   "metadata": {},
   "source": [
    "## Prepare repo list for further processing"
   ]
  },
  {
   "cell_type": "code",
   "execution_count": null,
   "id": "f0caf73f-ace9-4a2d-9fe7-0cd0b03f2dab",
   "metadata": {},
   "outputs": [],
   "source": [
    "df = pd.read_excel(\"repo-candidates/combined.xlsx\")\n",
    "\n",
    "# remove less useful fields, serve as main record\n",
    "df.to_csv(\n",
    "    \"repo-candidates/main.csv\",\n",
    "    index=False,\n",
    "    columns=[\n",
    "        \"id\", \"full_name\", \"topics\", \"default_branch\",\n",
    "        \"homepage\", \"description\", \"fork\", \"language\",\n",
    "        \"license\", \"pushed_at\", \"created_at\",\n",
    "        \"updated_at\", \"size\", \"forks_count\", \"stargazers_count\",\n",
    "        \"watchers_count\", \"open_issues_count\", \"has_discussions\",\n",
    "        \"has_downloads\", \"has_issues\", \"has_pages\", \"has_projects\",\n",
    "        \"has_wiki\", \"is_template\", \"web_commit_signoff_required\",\n",
    "    ]\n",
    ")\n",
    "\n",
    "# slim version for collecting go.mod files on cloud\n",
    "df.to_csv(\n",
    "    \"repo-candidates/slim.csv\",\n",
    "    columns=[\n",
    "        'id', 'full_name', 'stargazers_count',\n",
    "        'forks_count', 'created_at'\n",
    "    ]\n",
    ")"
   ]
  },
  {
   "cell_type": "code",
   "execution_count": null,
   "id": "37a72e42-601e-4389-90d6-241fb7aa61ef",
   "metadata": {},
   "outputs": [],
   "source": [
    "df_main = pd.read_csv(\n",
    "    \"repo-candidates/main.csv\",\n",
    "    parse_dates=[ \"pushed_at\", \"created_at\", \"updated_at\" ]\n",
    ")"
   ]
  },
  {
   "cell_type": "code",
   "execution_count": 133,
   "id": "a1f6868c-d3e7-4dd4-9183-0ecfcb9673b1",
   "metadata": {},
   "outputs": [],
   "source": [
    "df_top = df_main[[\"full_name\", \"forks_count\", \"stargazers_count\", \"watchers_count\", \"open_issues_count\", \"created_at\"]].sort_values(\"stargazers_count\", ascending=False)\n",
    "df_top['since'] = df_top['created_at'].dt.year\n",
    "df_top['month'] = df_top['created_at'].dt.month\n",
    "df_top = df_top.drop(columns=[\"created_at\"])"
   ]
  },
  {
   "cell_type": "code",
   "execution_count": null,
   "id": "0043c227-1abc-4bc8-a04b-bb85972fa8ae",
   "metadata": {},
   "outputs": [],
   "source": [
    "df_monthly = df_top.groupby([\"since\", \"month\"]).agg(new_projects=pd.NamedAgg(column=\"full_name\", aggfunc=\"count\"))\n",
    "#df_vis1 = df_monthly.unstack(level=1).fillna(0).astype(\"int32\")\n",
    "#df_vis1.reset_index(level=0, inplace=True)\n",
    "df_monthly.reset_index(level=1, inplace=True)\n",
    "df_monthly.reset_index(level=0, inplace=True)\n",
    "df_vis1 = df_monthly\n",
    "df_vis1\n",
    "# df_vis1.plot(x='since', kind='bar', stacked=True, title='New projects by month since 2008')"
   ]
  },
  {
   "cell_type": "code",
   "execution_count": null,
   "id": "91081cbc-1380-4544-b271-663dc72b315c",
   "metadata": {},
   "outputs": [],
   "source": []
  },
  {
   "cell_type": "code",
   "execution_count": 168,
   "id": "30e92d68-ce4b-448b-b652-4cf7a8c1ab30",
   "metadata": {},
   "outputs": [
    {
     "data": {
      "text/html": [
       "<div>\n",
       "<style scoped>\n",
       "    .dataframe tbody tr th:only-of-type {\n",
       "        vertical-align: middle;\n",
       "    }\n",
       "\n",
       "    .dataframe tbody tr th {\n",
       "        vertical-align: top;\n",
       "    }\n",
       "\n",
       "    .dataframe thead th {\n",
       "        text-align: right;\n",
       "    }\n",
       "</style>\n",
       "<table border=\"1\" class=\"dataframe\">\n",
       "  <thead>\n",
       "    <tr style=\"text-align: right;\">\n",
       "      <th></th>\n",
       "      <th>since</th>\n",
       "      <th>month</th>\n",
       "      <th>new_projects</th>\n",
       "    </tr>\n",
       "  </thead>\n",
       "  <tbody>\n",
       "    <tr>\n",
       "      <th>0</th>\n",
       "      <td>2008</td>\n",
       "      <td>5</td>\n",
       "      <td>1</td>\n",
       "    </tr>\n",
       "    <tr>\n",
       "      <th>1</th>\n",
       "      <td>2008</td>\n",
       "      <td>9</td>\n",
       "      <td>1</td>\n",
       "    </tr>\n",
       "    <tr>\n",
       "      <th>2</th>\n",
       "      <td>2008</td>\n",
       "      <td>10</td>\n",
       "      <td>1</td>\n",
       "    </tr>\n",
       "    <tr>\n",
       "      <th>3</th>\n",
       "      <td>2009</td>\n",
       "      <td>2</td>\n",
       "      <td>1</td>\n",
       "    </tr>\n",
       "    <tr>\n",
       "      <th>4</th>\n",
       "      <td>2009</td>\n",
       "      <td>7</td>\n",
       "      <td>1</td>\n",
       "    </tr>\n",
       "    <tr>\n",
       "      <th>...</th>\n",
       "      <td>...</td>\n",
       "      <td>...</td>\n",
       "      <td>...</td>\n",
       "    </tr>\n",
       "    <tr>\n",
       "      <th>166</th>\n",
       "      <td>2023</td>\n",
       "      <td>4</td>\n",
       "      <td>353</td>\n",
       "    </tr>\n",
       "    <tr>\n",
       "      <th>167</th>\n",
       "      <td>2023</td>\n",
       "      <td>5</td>\n",
       "      <td>288</td>\n",
       "    </tr>\n",
       "    <tr>\n",
       "      <th>168</th>\n",
       "      <td>2023</td>\n",
       "      <td>6</td>\n",
       "      <td>230</td>\n",
       "    </tr>\n",
       "    <tr>\n",
       "      <th>169</th>\n",
       "      <td>2023</td>\n",
       "      <td>7</td>\n",
       "      <td>175</td>\n",
       "    </tr>\n",
       "    <tr>\n",
       "      <th>170</th>\n",
       "      <td>2023</td>\n",
       "      <td>8</td>\n",
       "      <td>55</td>\n",
       "    </tr>\n",
       "  </tbody>\n",
       "</table>\n",
       "<p>171 rows × 3 columns</p>\n",
       "</div>"
      ],
      "text/plain": [
       "     since  month  new_projects\n",
       "0     2008      5             1\n",
       "1     2008      9             1\n",
       "2     2008     10             1\n",
       "3     2009      2             1\n",
       "4     2009      7             1\n",
       "..     ...    ...           ...\n",
       "166   2023      4           353\n",
       "167   2023      5           288\n",
       "168   2023      6           230\n",
       "169   2023      7           175\n",
       "170   2023      8            55\n",
       "\n",
       "[171 rows x 3 columns]"
      ]
     },
     "execution_count": 168,
     "metadata": {},
     "output_type": "execute_result"
    }
   ],
   "source": [
    "df_vis1"
   ]
  },
  {
   "cell_type": "code",
   "execution_count": 195,
   "id": "12094552-a92e-4e23-9535-dc4c792c3a38",
   "metadata": {},
   "outputs": [
    {
     "data": {
      "application/vnd.plotly.v1+json": {
       "config": {
        "plotlyServerURL": "https://plot.ly"
       },
       "data": [
        {
         "alignmentgroup": "True",
         "cliponaxis": false,
         "hovertemplate": "Year=%{x}<br>#New Projects=%{text}<br>Month=%{marker.color}<extra></extra>",
         "legendgroup": "",
         "marker": {
          "color": [
           5,
           9,
           10,
           2,
           7,
           11,
           12,
           1,
           2,
           3,
           4,
           5,
           6,
           7,
           8,
           9,
           10,
           11,
           12,
           1,
           2,
           3,
           4,
           5,
           6,
           7,
           8,
           9,
           10,
           11,
           12,
           1,
           2,
           3,
           4,
           5,
           6,
           7,
           8,
           9,
           10,
           11,
           12,
           1,
           2,
           3,
           4,
           5,
           6,
           7,
           8,
           9,
           10,
           11,
           12,
           1,
           2,
           3,
           4,
           5,
           6,
           7,
           8,
           9,
           10,
           11,
           12,
           1,
           2,
           3,
           4,
           5,
           6,
           7,
           8,
           9,
           10,
           11,
           12,
           1,
           2,
           3,
           4,
           5,
           6,
           7,
           8,
           9,
           10,
           11,
           12,
           1,
           2,
           3,
           4,
           5,
           6,
           7,
           8,
           9,
           10,
           11,
           12,
           1,
           2,
           3,
           4,
           5,
           6,
           7,
           8,
           9,
           10,
           11,
           12,
           1,
           2,
           3,
           4,
           5,
           6,
           7,
           8,
           9,
           10,
           11,
           12,
           1,
           2,
           3,
           4,
           5,
           6,
           7,
           8,
           9,
           10,
           11,
           12,
           1,
           2,
           3,
           4,
           5,
           6,
           7,
           8,
           9,
           10,
           11,
           12,
           1,
           2,
           3,
           4,
           5,
           6,
           7,
           8,
           9,
           10,
           11,
           12,
           1,
           2,
           3,
           4,
           5,
           6,
           7,
           8
          ],
          "coloraxis": "coloraxis",
          "pattern": {
           "shape": ""
          }
         },
         "name": "",
         "offsetgroup": "",
         "orientation": "v",
         "showlegend": false,
         "text": [
          1,
          1,
          1,
          1,
          1,
          32,
          22,
          16,
          8,
          10,
          6,
          11,
          11,
          10,
          15,
          5,
          12,
          18,
          17,
          20,
          17,
          17,
          25,
          31,
          34,
          26,
          27,
          19,
          30,
          36,
          41,
          44,
          42,
          53,
          80,
          76,
          77,
          87,
          97,
          110,
          107,
          100,
          95,
          104,
          148,
          133,
          151,
          159,
          160,
          203,
          208,
          212,
          207,
          229,
          257,
          251,
          260,
          258,
          307,
          317,
          327,
          373,
          356,
          346,
          376,
          367,
          409,
          439,
          376,
          464,
          387,
          441,
          425,
          426,
          456,
          482,
          496,
          469,
          483,
          580,
          486,
          527,
          481,
          534,
          448,
          490,
          499,
          514,
          531,
          558,
          551,
          572,
          600,
          603,
          585,
          641,
          670,
          563,
          639,
          606,
          672,
          655,
          584,
          738,
          698,
          793,
          764,
          679,
          654,
          704,
          787,
          698,
          731,
          763,
          633,
          726,
          660,
          773,
          745,
          720,
          685,
          734,
          714,
          663,
          666,
          669,
          627,
          731,
          636,
          835,
          891,
          865,
          760,
          760,
          710,
          667,
          684,
          640,
          646,
          692,
          651,
          687,
          633,
          608,
          569,
          593,
          587,
          579,
          560,
          570,
          621,
          604,
          493,
          577,
          578,
          537,
          537,
          483,
          452,
          450,
          409,
          363,
          367,
          396,
          371,
          466,
          353,
          288,
          230,
          175,
          55
         ],
         "textangle": 30,
         "textfont": {
          "size": 12
         },
         "textposition": "auto",
         "type": "bar",
         "x": [
          2008,
          2008,
          2008,
          2009,
          2009,
          2009,
          2009,
          2010,
          2010,
          2010,
          2010,
          2010,
          2010,
          2010,
          2010,
          2010,
          2010,
          2010,
          2010,
          2011,
          2011,
          2011,
          2011,
          2011,
          2011,
          2011,
          2011,
          2011,
          2011,
          2011,
          2011,
          2012,
          2012,
          2012,
          2012,
          2012,
          2012,
          2012,
          2012,
          2012,
          2012,
          2012,
          2012,
          2013,
          2013,
          2013,
          2013,
          2013,
          2013,
          2013,
          2013,
          2013,
          2013,
          2013,
          2013,
          2014,
          2014,
          2014,
          2014,
          2014,
          2014,
          2014,
          2014,
          2014,
          2014,
          2014,
          2014,
          2015,
          2015,
          2015,
          2015,
          2015,
          2015,
          2015,
          2015,
          2015,
          2015,
          2015,
          2015,
          2016,
          2016,
          2016,
          2016,
          2016,
          2016,
          2016,
          2016,
          2016,
          2016,
          2016,
          2016,
          2017,
          2017,
          2017,
          2017,
          2017,
          2017,
          2017,
          2017,
          2017,
          2017,
          2017,
          2017,
          2018,
          2018,
          2018,
          2018,
          2018,
          2018,
          2018,
          2018,
          2018,
          2018,
          2018,
          2018,
          2019,
          2019,
          2019,
          2019,
          2019,
          2019,
          2019,
          2019,
          2019,
          2019,
          2019,
          2019,
          2020,
          2020,
          2020,
          2020,
          2020,
          2020,
          2020,
          2020,
          2020,
          2020,
          2020,
          2020,
          2021,
          2021,
          2021,
          2021,
          2021,
          2021,
          2021,
          2021,
          2021,
          2021,
          2021,
          2021,
          2022,
          2022,
          2022,
          2022,
          2022,
          2022,
          2022,
          2022,
          2022,
          2022,
          2022,
          2022,
          2023,
          2023,
          2023,
          2023,
          2023,
          2023,
          2023,
          2023
         ],
         "xaxis": "x",
         "y": [
          1,
          1,
          1,
          1,
          1,
          32,
          22,
          16,
          8,
          10,
          6,
          11,
          11,
          10,
          15,
          5,
          12,
          18,
          17,
          20,
          17,
          17,
          25,
          31,
          34,
          26,
          27,
          19,
          30,
          36,
          41,
          44,
          42,
          53,
          80,
          76,
          77,
          87,
          97,
          110,
          107,
          100,
          95,
          104,
          148,
          133,
          151,
          159,
          160,
          203,
          208,
          212,
          207,
          229,
          257,
          251,
          260,
          258,
          307,
          317,
          327,
          373,
          356,
          346,
          376,
          367,
          409,
          439,
          376,
          464,
          387,
          441,
          425,
          426,
          456,
          482,
          496,
          469,
          483,
          580,
          486,
          527,
          481,
          534,
          448,
          490,
          499,
          514,
          531,
          558,
          551,
          572,
          600,
          603,
          585,
          641,
          670,
          563,
          639,
          606,
          672,
          655,
          584,
          738,
          698,
          793,
          764,
          679,
          654,
          704,
          787,
          698,
          731,
          763,
          633,
          726,
          660,
          773,
          745,
          720,
          685,
          734,
          714,
          663,
          666,
          669,
          627,
          731,
          636,
          835,
          891,
          865,
          760,
          760,
          710,
          667,
          684,
          640,
          646,
          692,
          651,
          687,
          633,
          608,
          569,
          593,
          587,
          579,
          560,
          570,
          621,
          604,
          493,
          577,
          578,
          537,
          537,
          483,
          452,
          450,
          409,
          363,
          367,
          396,
          371,
          466,
          353,
          288,
          230,
          175,
          55
         ],
         "yaxis": "y"
        }
       ],
       "layout": {
        "autosize": true,
        "barmode": "stack",
        "coloraxis": {
         "colorbar": {
          "title": {
           "text": "Month"
          }
         },
         "colorscale": [
          [
           0,
           "rgb(124, 29, 111)"
          ],
          [
           0.16666666666666666,
           "rgb(185, 37, 122)"
          ],
          [
           0.3333333333333333,
           "rgb(220, 57, 119)"
          ],
          [
           0.5,
           "rgb(227, 79, 111)"
          ],
          [
           0.6666666666666666,
           "rgb(240, 116, 110)"
          ],
          [
           0.8333333333333334,
           "rgb(250, 164, 118)"
          ],
          [
           1,
           "rgb(252, 222, 156)"
          ]
         ]
        },
        "legend": {
         "tracegroupgap": 0
        },
        "margin": {
         "t": 60
        },
        "template": {
         "data": {
          "bar": [
           {
            "error_x": {
             "color": "#2a3f5f"
            },
            "error_y": {
             "color": "#2a3f5f"
            },
            "marker": {
             "line": {
              "color": "#E5ECF6",
              "width": 0.5
             },
             "pattern": {
              "fillmode": "overlay",
              "size": 10,
              "solidity": 0.2
             }
            },
            "type": "bar"
           }
          ],
          "barpolar": [
           {
            "marker": {
             "line": {
              "color": "#E5ECF6",
              "width": 0.5
             },
             "pattern": {
              "fillmode": "overlay",
              "size": 10,
              "solidity": 0.2
             }
            },
            "type": "barpolar"
           }
          ],
          "carpet": [
           {
            "aaxis": {
             "endlinecolor": "#2a3f5f",
             "gridcolor": "white",
             "linecolor": "white",
             "minorgridcolor": "white",
             "startlinecolor": "#2a3f5f"
            },
            "baxis": {
             "endlinecolor": "#2a3f5f",
             "gridcolor": "white",
             "linecolor": "white",
             "minorgridcolor": "white",
             "startlinecolor": "#2a3f5f"
            },
            "type": "carpet"
           }
          ],
          "choropleth": [
           {
            "colorbar": {
             "outlinewidth": 0,
             "ticks": ""
            },
            "type": "choropleth"
           }
          ],
          "contour": [
           {
            "colorbar": {
             "outlinewidth": 0,
             "ticks": ""
            },
            "colorscale": [
             [
              0,
              "#0d0887"
             ],
             [
              0.1111111111111111,
              "#46039f"
             ],
             [
              0.2222222222222222,
              "#7201a8"
             ],
             [
              0.3333333333333333,
              "#9c179e"
             ],
             [
              0.4444444444444444,
              "#bd3786"
             ],
             [
              0.5555555555555556,
              "#d8576b"
             ],
             [
              0.6666666666666666,
              "#ed7953"
             ],
             [
              0.7777777777777778,
              "#fb9f3a"
             ],
             [
              0.8888888888888888,
              "#fdca26"
             ],
             [
              1,
              "#f0f921"
             ]
            ],
            "type": "contour"
           }
          ],
          "contourcarpet": [
           {
            "colorbar": {
             "outlinewidth": 0,
             "ticks": ""
            },
            "type": "contourcarpet"
           }
          ],
          "heatmap": [
           {
            "colorbar": {
             "outlinewidth": 0,
             "ticks": ""
            },
            "colorscale": [
             [
              0,
              "#0d0887"
             ],
             [
              0.1111111111111111,
              "#46039f"
             ],
             [
              0.2222222222222222,
              "#7201a8"
             ],
             [
              0.3333333333333333,
              "#9c179e"
             ],
             [
              0.4444444444444444,
              "#bd3786"
             ],
             [
              0.5555555555555556,
              "#d8576b"
             ],
             [
              0.6666666666666666,
              "#ed7953"
             ],
             [
              0.7777777777777778,
              "#fb9f3a"
             ],
             [
              0.8888888888888888,
              "#fdca26"
             ],
             [
              1,
              "#f0f921"
             ]
            ],
            "type": "heatmap"
           }
          ],
          "heatmapgl": [
           {
            "colorbar": {
             "outlinewidth": 0,
             "ticks": ""
            },
            "colorscale": [
             [
              0,
              "#0d0887"
             ],
             [
              0.1111111111111111,
              "#46039f"
             ],
             [
              0.2222222222222222,
              "#7201a8"
             ],
             [
              0.3333333333333333,
              "#9c179e"
             ],
             [
              0.4444444444444444,
              "#bd3786"
             ],
             [
              0.5555555555555556,
              "#d8576b"
             ],
             [
              0.6666666666666666,
              "#ed7953"
             ],
             [
              0.7777777777777778,
              "#fb9f3a"
             ],
             [
              0.8888888888888888,
              "#fdca26"
             ],
             [
              1,
              "#f0f921"
             ]
            ],
            "type": "heatmapgl"
           }
          ],
          "histogram": [
           {
            "marker": {
             "pattern": {
              "fillmode": "overlay",
              "size": 10,
              "solidity": 0.2
             }
            },
            "type": "histogram"
           }
          ],
          "histogram2d": [
           {
            "colorbar": {
             "outlinewidth": 0,
             "ticks": ""
            },
            "colorscale": [
             [
              0,
              "#0d0887"
             ],
             [
              0.1111111111111111,
              "#46039f"
             ],
             [
              0.2222222222222222,
              "#7201a8"
             ],
             [
              0.3333333333333333,
              "#9c179e"
             ],
             [
              0.4444444444444444,
              "#bd3786"
             ],
             [
              0.5555555555555556,
              "#d8576b"
             ],
             [
              0.6666666666666666,
              "#ed7953"
             ],
             [
              0.7777777777777778,
              "#fb9f3a"
             ],
             [
              0.8888888888888888,
              "#fdca26"
             ],
             [
              1,
              "#f0f921"
             ]
            ],
            "type": "histogram2d"
           }
          ],
          "histogram2dcontour": [
           {
            "colorbar": {
             "outlinewidth": 0,
             "ticks": ""
            },
            "colorscale": [
             [
              0,
              "#0d0887"
             ],
             [
              0.1111111111111111,
              "#46039f"
             ],
             [
              0.2222222222222222,
              "#7201a8"
             ],
             [
              0.3333333333333333,
              "#9c179e"
             ],
             [
              0.4444444444444444,
              "#bd3786"
             ],
             [
              0.5555555555555556,
              "#d8576b"
             ],
             [
              0.6666666666666666,
              "#ed7953"
             ],
             [
              0.7777777777777778,
              "#fb9f3a"
             ],
             [
              0.8888888888888888,
              "#fdca26"
             ],
             [
              1,
              "#f0f921"
             ]
            ],
            "type": "histogram2dcontour"
           }
          ],
          "mesh3d": [
           {
            "colorbar": {
             "outlinewidth": 0,
             "ticks": ""
            },
            "type": "mesh3d"
           }
          ],
          "parcoords": [
           {
            "line": {
             "colorbar": {
              "outlinewidth": 0,
              "ticks": ""
             }
            },
            "type": "parcoords"
           }
          ],
          "pie": [
           {
            "automargin": true,
            "type": "pie"
           }
          ],
          "scatter": [
           {
            "fillpattern": {
             "fillmode": "overlay",
             "size": 10,
             "solidity": 0.2
            },
            "type": "scatter"
           }
          ],
          "scatter3d": [
           {
            "line": {
             "colorbar": {
              "outlinewidth": 0,
              "ticks": ""
             }
            },
            "marker": {
             "colorbar": {
              "outlinewidth": 0,
              "ticks": ""
             }
            },
            "type": "scatter3d"
           }
          ],
          "scattercarpet": [
           {
            "marker": {
             "colorbar": {
              "outlinewidth": 0,
              "ticks": ""
             }
            },
            "type": "scattercarpet"
           }
          ],
          "scattergeo": [
           {
            "marker": {
             "colorbar": {
              "outlinewidth": 0,
              "ticks": ""
             }
            },
            "type": "scattergeo"
           }
          ],
          "scattergl": [
           {
            "marker": {
             "colorbar": {
              "outlinewidth": 0,
              "ticks": ""
             }
            },
            "type": "scattergl"
           }
          ],
          "scattermapbox": [
           {
            "marker": {
             "colorbar": {
              "outlinewidth": 0,
              "ticks": ""
             }
            },
            "type": "scattermapbox"
           }
          ],
          "scatterpolar": [
           {
            "marker": {
             "colorbar": {
              "outlinewidth": 0,
              "ticks": ""
             }
            },
            "type": "scatterpolar"
           }
          ],
          "scatterpolargl": [
           {
            "marker": {
             "colorbar": {
              "outlinewidth": 0,
              "ticks": ""
             }
            },
            "type": "scatterpolargl"
           }
          ],
          "scatterternary": [
           {
            "marker": {
             "colorbar": {
              "outlinewidth": 0,
              "ticks": ""
             }
            },
            "type": "scatterternary"
           }
          ],
          "surface": [
           {
            "colorbar": {
             "outlinewidth": 0,
             "ticks": ""
            },
            "colorscale": [
             [
              0,
              "#0d0887"
             ],
             [
              0.1111111111111111,
              "#46039f"
             ],
             [
              0.2222222222222222,
              "#7201a8"
             ],
             [
              0.3333333333333333,
              "#9c179e"
             ],
             [
              0.4444444444444444,
              "#bd3786"
             ],
             [
              0.5555555555555556,
              "#d8576b"
             ],
             [
              0.6666666666666666,
              "#ed7953"
             ],
             [
              0.7777777777777778,
              "#fb9f3a"
             ],
             [
              0.8888888888888888,
              "#fdca26"
             ],
             [
              1,
              "#f0f921"
             ]
            ],
            "type": "surface"
           }
          ],
          "table": [
           {
            "cells": {
             "fill": {
              "color": "#EBF0F8"
             },
             "line": {
              "color": "white"
             }
            },
            "header": {
             "fill": {
              "color": "#C8D4E3"
             },
             "line": {
              "color": "white"
             }
            },
            "type": "table"
           }
          ]
         },
         "layout": {
          "annotationdefaults": {
           "arrowcolor": "#2a3f5f",
           "arrowhead": 0,
           "arrowwidth": 1
          },
          "autotypenumbers": "strict",
          "coloraxis": {
           "colorbar": {
            "outlinewidth": 0,
            "ticks": ""
           }
          },
          "colorscale": {
           "diverging": [
            [
             0,
             "#8e0152"
            ],
            [
             0.1,
             "#c51b7d"
            ],
            [
             0.2,
             "#de77ae"
            ],
            [
             0.3,
             "#f1b6da"
            ],
            [
             0.4,
             "#fde0ef"
            ],
            [
             0.5,
             "#f7f7f7"
            ],
            [
             0.6,
             "#e6f5d0"
            ],
            [
             0.7,
             "#b8e186"
            ],
            [
             0.8,
             "#7fbc41"
            ],
            [
             0.9,
             "#4d9221"
            ],
            [
             1,
             "#276419"
            ]
           ],
           "sequential": [
            [
             0,
             "#0d0887"
            ],
            [
             0.1111111111111111,
             "#46039f"
            ],
            [
             0.2222222222222222,
             "#7201a8"
            ],
            [
             0.3333333333333333,
             "#9c179e"
            ],
            [
             0.4444444444444444,
             "#bd3786"
            ],
            [
             0.5555555555555556,
             "#d8576b"
            ],
            [
             0.6666666666666666,
             "#ed7953"
            ],
            [
             0.7777777777777778,
             "#fb9f3a"
            ],
            [
             0.8888888888888888,
             "#fdca26"
            ],
            [
             1,
             "#f0f921"
            ]
           ],
           "sequentialminus": [
            [
             0,
             "#0d0887"
            ],
            [
             0.1111111111111111,
             "#46039f"
            ],
            [
             0.2222222222222222,
             "#7201a8"
            ],
            [
             0.3333333333333333,
             "#9c179e"
            ],
            [
             0.4444444444444444,
             "#bd3786"
            ],
            [
             0.5555555555555556,
             "#d8576b"
            ],
            [
             0.6666666666666666,
             "#ed7953"
            ],
            [
             0.7777777777777778,
             "#fb9f3a"
            ],
            [
             0.8888888888888888,
             "#fdca26"
            ],
            [
             1,
             "#f0f921"
            ]
           ]
          },
          "colorway": [
           "#636efa",
           "#EF553B",
           "#00cc96",
           "#ab63fa",
           "#FFA15A",
           "#19d3f3",
           "#FF6692",
           "#B6E880",
           "#FF97FF",
           "#FECB52"
          ],
          "font": {
           "color": "#2a3f5f"
          },
          "geo": {
           "bgcolor": "white",
           "lakecolor": "white",
           "landcolor": "#E5ECF6",
           "showlakes": true,
           "showland": true,
           "subunitcolor": "white"
          },
          "hoverlabel": {
           "align": "left"
          },
          "hovermode": "closest",
          "mapbox": {
           "style": "light"
          },
          "paper_bgcolor": "white",
          "plot_bgcolor": "#E5ECF6",
          "polar": {
           "angularaxis": {
            "gridcolor": "white",
            "linecolor": "white",
            "ticks": ""
           },
           "bgcolor": "#E5ECF6",
           "radialaxis": {
            "gridcolor": "white",
            "linecolor": "white",
            "ticks": ""
           }
          },
          "scene": {
           "xaxis": {
            "backgroundcolor": "#E5ECF6",
            "gridcolor": "white",
            "gridwidth": 2,
            "linecolor": "white",
            "showbackground": true,
            "ticks": "",
            "zerolinecolor": "white"
           },
           "yaxis": {
            "backgroundcolor": "#E5ECF6",
            "gridcolor": "white",
            "gridwidth": 2,
            "linecolor": "white",
            "showbackground": true,
            "ticks": "",
            "zerolinecolor": "white"
           },
           "zaxis": {
            "backgroundcolor": "#E5ECF6",
            "gridcolor": "white",
            "gridwidth": 2,
            "linecolor": "white",
            "showbackground": true,
            "ticks": "",
            "zerolinecolor": "white"
           }
          },
          "shapedefaults": {
           "line": {
            "color": "#2a3f5f"
           }
          },
          "ternary": {
           "aaxis": {
            "gridcolor": "white",
            "linecolor": "white",
            "ticks": ""
           },
           "baxis": {
            "gridcolor": "white",
            "linecolor": "white",
            "ticks": ""
           },
           "bgcolor": "#E5ECF6",
           "caxis": {
            "gridcolor": "white",
            "linecolor": "white",
            "ticks": ""
           }
          },
          "title": {
           "x": 0.05
          },
          "xaxis": {
           "automargin": true,
           "gridcolor": "white",
           "linecolor": "white",
           "ticks": "",
           "title": {
            "standoff": 15
           },
           "zerolinecolor": "white",
           "zerolinewidth": 2
          },
          "yaxis": {
           "automargin": true,
           "gridcolor": "white",
           "linecolor": "white",
           "ticks": "",
           "title": {
            "standoff": 15
           },
           "zerolinecolor": "white",
           "zerolinewidth": 2
          }
         }
        },
        "xaxis": {
         "anchor": "y",
         "autorange": true,
         "domain": [
          0,
          1
         ],
         "dtick": 1,
         "range": [
          2007.5,
          2023.5
         ],
         "tickangle": -45,
         "title": {
          "text": "Year"
         },
         "type": "linear"
        },
        "yaxis": {
         "anchor": "x",
         "autorange": true,
         "domain": [
          0,
          1
         ],
         "range": [
          0,
          9289.473684210527
         ],
         "title": {
          "text": "#New Projects"
         },
         "type": "linear"
        }
       }
      },
      "image/png": "[encoded data removed]",
      "text/html": [
       "<div>                            <div id=\"852838cb-70cd-41e1-b8dd-5d2088e00ed6\" class=\"plotly-graph-div\" style=\"height:1000px; width:100%;\"></div>            <script type=\"text/javascript\">                require([\"plotly\"], function(Plotly) {                    window.PLOTLYENV=window.PLOTLYENV || {};                                    if (document.getElementById(\"852838cb-70cd-41e1-b8dd-5d2088e00ed6\")) {                    Plotly.newPlot(                        \"852838cb-70cd-41e1-b8dd-5d2088e00ed6\",                        [{\"alignmentgroup\":\"True\",\"hovertemplate\":\"Year=%{x}\\u003cbr\\u003e#New Projects=%{text}\\u003cbr\\u003eMonth=%{marker.color}\\u003cextra\\u003e\\u003c\\u002fextra\\u003e\",\"legendgroup\":\"\",\"marker\":{\"color\":[5,9,10,2,7,11,12,1,2,3,4,5,6,7,8,9,10,11,12,1,2,3,4,5,6,7,8,9,10,11,12,1,2,3,4,5,6,7,8,9,10,11,12,1,2,3,4,5,6,7,8,9,10,11,12,1,2,3,4,5,6,7,8,9,10,11,12,1,2,3,4,5,6,7,8,9,10,11,12,1,2,3,4,5,6,7,8,9,10,11,12,1,2,3,4,5,6,7,8,9,10,11,12,1,2,3,4,5,6,7,8,9,10,11,12,1,2,3,4,5,6,7,8,9,10,11,12,1,2,3,4,5,6,7,8,9,10,11,12,1,2,3,4,5,6,7,8,9,10,11,12,1,2,3,4,5,6,7,8,9,10,11,12,1,2,3,4,5,6,7,8],\"coloraxis\":\"coloraxis\",\"pattern\":{\"shape\":\"\"}},\"name\":\"\",\"offsetgroup\":\"\",\"orientation\":\"v\",\"showlegend\":false,\"text\":[1.0,1.0,1.0,1.0,1.0,32.0,22.0,16.0,8.0,10.0,6.0,11.0,11.0,10.0,15.0,5.0,12.0,18.0,17.0,20.0,17.0,17.0,25.0,31.0,34.0,26.0,27.0,19.0,30.0,36.0,41.0,44.0,42.0,53.0,80.0,76.0,77.0,87.0,97.0,110.0,107.0,100.0,95.0,104.0,148.0,133.0,151.0,159.0,160.0,203.0,208.0,212.0,207.0,229.0,257.0,251.0,260.0,258.0,307.0,317.0,327.0,373.0,356.0,346.0,376.0,367.0,409.0,439.0,376.0,464.0,387.0,441.0,425.0,426.0,456.0,482.0,496.0,469.0,483.0,580.0,486.0,527.0,481.0,534.0,448.0,490.0,499.0,514.0,531.0,558.0,551.0,572.0,600.0,603.0,585.0,641.0,670.0,563.0,639.0,606.0,672.0,655.0,584.0,738.0,698.0,793.0,764.0,679.0,654.0,704.0,787.0,698.0,731.0,763.0,633.0,726.0,660.0,773.0,745.0,720.0,685.0,734.0,714.0,663.0,666.0,669.0,627.0,731.0,636.0,835.0,891.0,865.0,760.0,760.0,710.0,667.0,684.0,640.0,646.0,692.0,651.0,687.0,633.0,608.0,569.0,593.0,587.0,579.0,560.0,570.0,621.0,604.0,493.0,577.0,578.0,537.0,537.0,483.0,452.0,450.0,409.0,363.0,367.0,396.0,371.0,466.0,353.0,288.0,230.0,175.0,55.0],\"textposition\":\"auto\",\"x\":[2008,2008,2008,2009,2009,2009,2009,2010,2010,2010,2010,2010,2010,2010,2010,2010,2010,2010,2010,2011,2011,2011,2011,2011,2011,2011,2011,2011,2011,2011,2011,2012,2012,2012,2012,2012,2012,2012,2012,2012,2012,2012,2012,2013,2013,2013,2013,2013,2013,2013,2013,2013,2013,2013,2013,2014,2014,2014,2014,2014,2014,2014,2014,2014,2014,2014,2014,2015,2015,2015,2015,2015,2015,2015,2015,2015,2015,2015,2015,2016,2016,2016,2016,2016,2016,2016,2016,2016,2016,2016,2016,2017,2017,2017,2017,2017,2017,2017,2017,2017,2017,2017,2017,2018,2018,2018,2018,2018,2018,2018,2018,2018,2018,2018,2018,2019,2019,2019,2019,2019,2019,2019,2019,2019,2019,2019,2019,2020,2020,2020,2020,2020,2020,2020,2020,2020,2020,2020,2020,2021,2021,2021,2021,2021,2021,2021,2021,2021,2021,2021,2021,2022,2022,2022,2022,2022,2022,2022,2022,2022,2022,2022,2022,2023,2023,2023,2023,2023,2023,2023,2023],\"xaxis\":\"x\",\"y\":[1,1,1,1,1,32,22,16,8,10,6,11,11,10,15,5,12,18,17,20,17,17,25,31,34,26,27,19,30,36,41,44,42,53,80,76,77,87,97,110,107,100,95,104,148,133,151,159,160,203,208,212,207,229,257,251,260,258,307,317,327,373,356,346,376,367,409,439,376,464,387,441,425,426,456,482,496,469,483,580,486,527,481,534,448,490,499,514,531,558,551,572,600,603,585,641,670,563,639,606,672,655,584,738,698,793,764,679,654,704,787,698,731,763,633,726,660,773,745,720,685,734,714,663,666,669,627,731,636,835,891,865,760,760,710,667,684,640,646,692,651,687,633,608,569,593,587,579,560,570,621,604,493,577,578,537,537,483,452,450,409,363,367,396,371,466,353,288,230,175,55],\"yaxis\":\"y\",\"type\":\"bar\",\"textfont\":{\"size\":12},\"cliponaxis\":false,\"textangle\":30}],                        {\"template\":{\"data\":{\"histogram2dcontour\":[{\"type\":\"histogram2dcontour\",\"colorbar\":{\"outlinewidth\":0,\"ticks\":\"\"},\"colorscale\":[[0.0,\"#0d0887\"],[0.1111111111111111,\"#46039f\"],[0.2222222222222222,\"#7201a8\"],[0.3333333333333333,\"#9c179e\"],[0.4444444444444444,\"#bd3786\"],[0.5555555555555556,\"#d8576b\"],[0.6666666666666666,\"#ed7953\"],[0.7777777777777778,\"#fb9f3a\"],[0.8888888888888888,\"#fdca26\"],[1.0,\"#f0f921\"]]}],\"choropleth\":[{\"type\":\"choropleth\",\"colorbar\":{\"outlinewidth\":0,\"ticks\":\"\"}}],\"histogram2d\":[{\"type\":\"histogram2d\",\"colorbar\":{\"outlinewidth\":0,\"ticks\":\"\"},\"colorscale\":[[0.0,\"#0d0887\"],[0.1111111111111111,\"#46039f\"],[0.2222222222222222,\"#7201a8\"],[0.3333333333333333,\"#9c179e\"],[0.4444444444444444,\"#bd3786\"],[0.5555555555555556,\"#d8576b\"],[0.6666666666666666,\"#ed7953\"],[0.7777777777777778,\"#fb9f3a\"],[0.8888888888888888,\"#fdca26\"],[1.0,\"#f0f921\"]]}],\"heatmap\":[{\"type\":\"heatmap\",\"colorbar\":{\"outlinewidth\":0,\"ticks\":\"\"},\"colorscale\":[[0.0,\"#0d0887\"],[0.1111111111111111,\"#46039f\"],[0.2222222222222222,\"#7201a8\"],[0.3333333333333333,\"#9c179e\"],[0.4444444444444444,\"#bd3786\"],[0.5555555555555556,\"#d8576b\"],[0.6666666666666666,\"#ed7953\"],[0.7777777777777778,\"#fb9f3a\"],[0.8888888888888888,\"#fdca26\"],[1.0,\"#f0f921\"]]}],\"heatmapgl\":[{\"type\":\"heatmapgl\",\"colorbar\":{\"outlinewidth\":0,\"ticks\":\"\"},\"colorscale\":[[0.0,\"#0d0887\"],[0.1111111111111111,\"#46039f\"],[0.2222222222222222,\"#7201a8\"],[0.3333333333333333,\"#9c179e\"],[0.4444444444444444,\"#bd3786\"],[0.5555555555555556,\"#d8576b\"],[0.6666666666666666,\"#ed7953\"],[0.7777777777777778,\"#fb9f3a\"],[0.8888888888888888,\"#fdca26\"],[1.0,\"#f0f921\"]]}],\"contourcarpet\":[{\"type\":\"contourcarpet\",\"colorbar\":{\"outlinewidth\":0,\"ticks\":\"\"}}],\"contour\":[{\"type\":\"contour\",\"colorbar\":{\"outlinewidth\":0,\"ticks\":\"\"},\"colorscale\":[[0.0,\"#0d0887\"],[0.1111111111111111,\"#46039f\"],[0.2222222222222222,\"#7201a8\"],[0.3333333333333333,\"#9c179e\"],[0.4444444444444444,\"#bd3786\"],[0.5555555555555556,\"#d8576b\"],[0.6666666666666666,\"#ed7953\"],[0.7777777777777778,\"#fb9f3a\"],[0.8888888888888888,\"#fdca26\"],[1.0,\"#f0f921\"]]}],\"surface\":[{\"type\":\"surface\",\"colorbar\":{\"outlinewidth\":0,\"ticks\":\"\"},\"colorscale\":[[0.0,\"#0d0887\"],[0.1111111111111111,\"#46039f\"],[0.2222222222222222,\"#7201a8\"],[0.3333333333333333,\"#9c179e\"],[0.4444444444444444,\"#bd3786\"],[0.5555555555555556,\"#d8576b\"],[0.6666666666666666,\"#ed7953\"],[0.7777777777777778,\"#fb9f3a\"],[0.8888888888888888,\"#fdca26\"],[1.0,\"#f0f921\"]]}],\"mesh3d\":[{\"type\":\"mesh3d\",\"colorbar\":{\"outlinewidth\":0,\"ticks\":\"\"}}],\"scatter\":[{\"fillpattern\":{\"fillmode\":\"overlay\",\"size\":10,\"solidity\":0.2},\"type\":\"scatter\"}],\"parcoords\":[{\"type\":\"parcoords\",\"line\":{\"colorbar\":{\"outlinewidth\":0,\"ticks\":\"\"}}}],\"scatterpolargl\":[{\"type\":\"scatterpolargl\",\"marker\":{\"colorbar\":{\"outlinewidth\":0,\"ticks\":\"\"}}}],\"bar\":[{\"error_x\":{\"color\":\"#2a3f5f\"},\"error_y\":{\"color\":\"#2a3f5f\"},\"marker\":{\"line\":{\"color\":\"#E5ECF6\",\"width\":0.5},\"pattern\":{\"fillmode\":\"overlay\",\"size\":10,\"solidity\":0.2}},\"type\":\"bar\"}],\"scattergeo\":[{\"type\":\"scattergeo\",\"marker\":{\"colorbar\":{\"outlinewidth\":0,\"ticks\":\"\"}}}],\"scatterpolar\":[{\"type\":\"scatterpolar\",\"marker\":{\"colorbar\":{\"outlinewidth\":0,\"ticks\":\"\"}}}],\"histogram\":[{\"marker\":{\"pattern\":{\"fillmode\":\"overlay\",\"size\":10,\"solidity\":0.2}},\"type\":\"histogram\"}],\"scattergl\":[{\"type\":\"scattergl\",\"marker\":{\"colorbar\":{\"outlinewidth\":0,\"ticks\":\"\"}}}],\"scatter3d\":[{\"type\":\"scatter3d\",\"line\":{\"colorbar\":{\"outlinewidth\":0,\"ticks\":\"\"}},\"marker\":{\"colorbar\":{\"outlinewidth\":0,\"ticks\":\"\"}}}],\"scattermapbox\":[{\"type\":\"scattermapbox\",\"marker\":{\"colorbar\":{\"outlinewidth\":0,\"ticks\":\"\"}}}],\"scatterternary\":[{\"type\":\"scatterternary\",\"marker\":{\"colorbar\":{\"outlinewidth\":0,\"ticks\":\"\"}}}],\"scattercarpet\":[{\"type\":\"scattercarpet\",\"marker\":{\"colorbar\":{\"outlinewidth\":0,\"ticks\":\"\"}}}],\"carpet\":[{\"aaxis\":{\"endlinecolor\":\"#2a3f5f\",\"gridcolor\":\"white\",\"linecolor\":\"white\",\"minorgridcolor\":\"white\",\"startlinecolor\":\"#2a3f5f\"},\"baxis\":{\"endlinecolor\":\"#2a3f5f\",\"gridcolor\":\"white\",\"linecolor\":\"white\",\"minorgridcolor\":\"white\",\"startlinecolor\":\"#2a3f5f\"},\"type\":\"carpet\"}],\"table\":[{\"cells\":{\"fill\":{\"color\":\"#EBF0F8\"},\"line\":{\"color\":\"white\"}},\"header\":{\"fill\":{\"color\":\"#C8D4E3\"},\"line\":{\"color\":\"white\"}},\"type\":\"table\"}],\"barpolar\":[{\"marker\":{\"line\":{\"color\":\"#E5ECF6\",\"width\":0.5},\"pattern\":{\"fillmode\":\"overlay\",\"size\":10,\"solidity\":0.2}},\"type\":\"barpolar\"}],\"pie\":[{\"automargin\":true,\"type\":\"pie\"}]},\"layout\":{\"autotypenumbers\":\"strict\",\"colorway\":[\"#636efa\",\"#EF553B\",\"#00cc96\",\"#ab63fa\",\"#FFA15A\",\"#19d3f3\",\"#FF6692\",\"#B6E880\",\"#FF97FF\",\"#FECB52\"],\"font\":{\"color\":\"#2a3f5f\"},\"hovermode\":\"closest\",\"hoverlabel\":{\"align\":\"left\"},\"paper_bgcolor\":\"white\",\"plot_bgcolor\":\"#E5ECF6\",\"polar\":{\"bgcolor\":\"#E5ECF6\",\"angularaxis\":{\"gridcolor\":\"white\",\"linecolor\":\"white\",\"ticks\":\"\"},\"radialaxis\":{\"gridcolor\":\"white\",\"linecolor\":\"white\",\"ticks\":\"\"}},\"ternary\":{\"bgcolor\":\"#E5ECF6\",\"aaxis\":{\"gridcolor\":\"white\",\"linecolor\":\"white\",\"ticks\":\"\"},\"baxis\":{\"gridcolor\":\"white\",\"linecolor\":\"white\",\"ticks\":\"\"},\"caxis\":{\"gridcolor\":\"white\",\"linecolor\":\"white\",\"ticks\":\"\"}},\"coloraxis\":{\"colorbar\":{\"outlinewidth\":0,\"ticks\":\"\"}},\"colorscale\":{\"sequential\":[[0.0,\"#0d0887\"],[0.1111111111111111,\"#46039f\"],[0.2222222222222222,\"#7201a8\"],[0.3333333333333333,\"#9c179e\"],[0.4444444444444444,\"#bd3786\"],[0.5555555555555556,\"#d8576b\"],[0.6666666666666666,\"#ed7953\"],[0.7777777777777778,\"#fb9f3a\"],[0.8888888888888888,\"#fdca26\"],[1.0,\"#f0f921\"]],\"sequentialminus\":[[0.0,\"#0d0887\"],[0.1111111111111111,\"#46039f\"],[0.2222222222222222,\"#7201a8\"],[0.3333333333333333,\"#9c179e\"],[0.4444444444444444,\"#bd3786\"],[0.5555555555555556,\"#d8576b\"],[0.6666666666666666,\"#ed7953\"],[0.7777777777777778,\"#fb9f3a\"],[0.8888888888888888,\"#fdca26\"],[1.0,\"#f0f921\"]],\"diverging\":[[0,\"#8e0152\"],[0.1,\"#c51b7d\"],[0.2,\"#de77ae\"],[0.3,\"#f1b6da\"],[0.4,\"#fde0ef\"],[0.5,\"#f7f7f7\"],[0.6,\"#e6f5d0\"],[0.7,\"#b8e186\"],[0.8,\"#7fbc41\"],[0.9,\"#4d9221\"],[1,\"#276419\"]]},\"xaxis\":{\"gridcolor\":\"white\",\"linecolor\":\"white\",\"ticks\":\"\",\"title\":{\"standoff\":15},\"zerolinecolor\":\"white\",\"automargin\":true,\"zerolinewidth\":2},\"yaxis\":{\"gridcolor\":\"white\",\"linecolor\":\"white\",\"ticks\":\"\",\"title\":{\"standoff\":15},\"zerolinecolor\":\"white\",\"automargin\":true,\"zerolinewidth\":2},\"scene\":{\"xaxis\":{\"backgroundcolor\":\"#E5ECF6\",\"gridcolor\":\"white\",\"linecolor\":\"white\",\"showbackground\":true,\"ticks\":\"\",\"zerolinecolor\":\"white\",\"gridwidth\":2},\"yaxis\":{\"backgroundcolor\":\"#E5ECF6\",\"gridcolor\":\"white\",\"linecolor\":\"white\",\"showbackground\":true,\"ticks\":\"\",\"zerolinecolor\":\"white\",\"gridwidth\":2},\"zaxis\":{\"backgroundcolor\":\"#E5ECF6\",\"gridcolor\":\"white\",\"linecolor\":\"white\",\"showbackground\":true,\"ticks\":\"\",\"zerolinecolor\":\"white\",\"gridwidth\":2}},\"shapedefaults\":{\"line\":{\"color\":\"#2a3f5f\"}},\"annotationdefaults\":{\"arrowcolor\":\"#2a3f5f\",\"arrowhead\":0,\"arrowwidth\":1},\"geo\":{\"bgcolor\":\"white\",\"landcolor\":\"#E5ECF6\",\"subunitcolor\":\"white\",\"showland\":true,\"showlakes\":true,\"lakecolor\":\"white\"},\"title\":{\"x\":0.05},\"mapbox\":{\"style\":\"light\"}}},\"xaxis\":{\"anchor\":\"y\",\"domain\":[0.0,1.0],\"title\":{\"text\":\"Year\"},\"dtick\":1,\"tickangle\":-45},\"yaxis\":{\"anchor\":\"x\",\"domain\":[0.0,1.0],\"title\":{\"text\":\"#New Projects\"}},\"coloraxis\":{\"colorbar\":{\"title\":{\"text\":\"Month\"}},\"colorscale\":[[0.0,\"rgb(124, 29, 111)\"],[0.16666666666666666,\"rgb(185, 37, 122)\"],[0.3333333333333333,\"rgb(220, 57, 119)\"],[0.5,\"rgb(227, 79, 111)\"],[0.6666666666666666,\"rgb(240, 116, 110)\"],[0.8333333333333334,\"rgb(250, 164, 118)\"],[1.0,\"rgb(252, 222, 156)\"]]},\"legend\":{\"tracegroupgap\":0},\"margin\":{\"t\":60},\"barmode\":\"stack\",\"height\":1000},                        {\"responsive\": true}                    ).then(function(){\n",
       "                            \n",
       "var gd = document.getElementById('852838cb-70cd-41e1-b8dd-5d2088e00ed6');\n",
       "var x = new MutationObserver(function (mutations, observer) {{\n",
       "        var display = window.getComputedStyle(gd).display;\n",
       "        if (!display || display === 'none') {{\n",
       "            console.log([gd, 'removed!']);\n",
       "            Plotly.purge(gd);\n",
       "            observer.disconnect();\n",
       "        }}\n",
       "}});\n",
       "\n",
       "// Listen for the removal of the full notebook cells\n",
       "var notebookContainer = gd.closest('#notebook-container');\n",
       "if (notebookContainer) {{\n",
       "    x.observe(notebookContainer, {childList: true});\n",
       "}}\n",
       "\n",
       "// Listen for the clearing of the current output cell\n",
       "var outputEl = gd.closest('.output');\n",
       "if (outputEl) {{\n",
       "    x.observe(outputEl, {childList: true});\n",
       "}}\n",
       "\n",
       "                        })                };                });            </script>        </div>"
      ]
     },
     "metadata": {},
     "output_type": "display_data"
    }
   ],
   "source": [
    "import plotly.express as px\n",
    "fig = px.bar(df_vis1, x=\"since\", y=\"new_projects\",\n",
    "             color_continuous_scale=px.colors.sequential.Sunsetdark_r,\n",
    "             color='month', barmode='stack', text=\"new_projects\",\n",
    "             labels={\n",
    "                 \"since\": \"Year\",\n",
    "                 \"new_projects\": \"#New Projects\",\n",
    "                 \"month\": \"Month\",\n",
    "             },\n",
    "             height=1000)\n",
    "fig.update_traces(textfont_size=12, textangle=30, cliponaxis=False)\n",
    "fig.update_layout(xaxis={\"dtick\":1, \"tickangle\":-45})\n",
    "\n",
    "\n",
    "fig.show()"
   ]
  },
  {
   "cell_type": "code",
   "execution_count": null,
   "id": "8c58ae17-f494-40d8-aec5-e51f10bf1086",
   "metadata": {},
   "outputs": [],
   "source": [
    "df_top20 = df_top.head(20)\n",
    "df_top20.rename(columns={\"full_name\": \"repository\", \"forks_count\": \"forks\", \"stargazers_count\": \"stars\", \"watchers_count\": \"watchers\", \"open_issues_count\": \"issues\"}, inplace=True)\n",
    "df_top20\n",
    "df_top20.to_latex(\"__tab1.tex\", index=False)"
   ]
  },
  {
   "cell_type": "code",
   "execution_count": 118,
   "id": "e156f404-c447-4c9b-a9db-ffaa24004f6e",
   "metadata": {},
   "outputs": [],
   "source": [
    "stats = df_main.describe(percentiles=[0.25, 0.5, 0.75, 0.95, 0.99])\n",
    "stats = stats.astype('int32').drop(columns=[\"id\"])\n",
    "stats.rename(columns={\"forks_count\": \"forks\", \"stargazers_count\": \"stars\", \"watchers_count\": \"watchers\", \"open_issues_count\": \"issues\"}, inplace=True)\n",
    "stats.to_latex(\"__tab1.tex\", index=False)"
   ]
  },
  {
   "cell_type": "code",
   "execution_count": 119,
   "id": "c1131259-6bee-466f-8c56-f251684968e1",
   "metadata": {},
   "outputs": [
    {
     "data": {
      "text/html": [
       "<div>\n",
       "<style scoped>\n",
       "    .dataframe tbody tr th:only-of-type {\n",
       "        vertical-align: middle;\n",
       "    }\n",
       "\n",
       "    .dataframe tbody tr th {\n",
       "        vertical-align: top;\n",
       "    }\n",
       "\n",
       "    .dataframe thead th {\n",
       "        text-align: right;\n",
       "    }\n",
       "</style>\n",
       "<table border=\"1\" class=\"dataframe\">\n",
       "  <thead>\n",
       "    <tr style=\"text-align: right;\">\n",
       "      <th></th>\n",
       "      <th>size</th>\n",
       "      <th>forks</th>\n",
       "      <th>stars</th>\n",
       "      <th>watchers</th>\n",
       "      <th>issues</th>\n",
       "    </tr>\n",
       "  </thead>\n",
       "  <tbody>\n",
       "    <tr>\n",
       "      <th>count</th>\n",
       "      <td>67923</td>\n",
       "      <td>67923</td>\n",
       "      <td>67923</td>\n",
       "      <td>67923</td>\n",
       "      <td>67923</td>\n",
       "    </tr>\n",
       "    <tr>\n",
       "      <th>mean</th>\n",
       "      <td>11216</td>\n",
       "      <td>42</td>\n",
       "      <td>258</td>\n",
       "      <td>258</td>\n",
       "      <td>9</td>\n",
       "    </tr>\n",
       "    <tr>\n",
       "      <th>std</th>\n",
       "      <td>98398</td>\n",
       "      <td>317</td>\n",
       "      <td>1667</td>\n",
       "      <td>1667</td>\n",
       "      <td>76</td>\n",
       "    </tr>\n",
       "    <tr>\n",
       "      <th>min</th>\n",
       "      <td>0</td>\n",
       "      <td>0</td>\n",
       "      <td>10</td>\n",
       "      <td>10</td>\n",
       "      <td>0</td>\n",
       "    </tr>\n",
       "    <tr>\n",
       "      <th>25%</th>\n",
       "      <td>62</td>\n",
       "      <td>3</td>\n",
       "      <td>15</td>\n",
       "      <td>15</td>\n",
       "      <td>0</td>\n",
       "    </tr>\n",
       "    <tr>\n",
       "      <th>50%</th>\n",
       "      <td>321</td>\n",
       "      <td>7</td>\n",
       "      <td>29</td>\n",
       "      <td>29</td>\n",
       "      <td>1</td>\n",
       "    </tr>\n",
       "    <tr>\n",
       "      <th>75%</th>\n",
       "      <td>3644</td>\n",
       "      <td>20</td>\n",
       "      <td>85</td>\n",
       "      <td>85</td>\n",
       "      <td>5</td>\n",
       "    </tr>\n",
       "    <tr>\n",
       "      <th>95%</th>\n",
       "      <td>42106</td>\n",
       "      <td>128</td>\n",
       "      <td>762</td>\n",
       "      <td>762</td>\n",
       "      <td>34</td>\n",
       "    </tr>\n",
       "    <tr>\n",
       "      <th>99%</th>\n",
       "      <td>170481</td>\n",
       "      <td>585</td>\n",
       "      <td>4567</td>\n",
       "      <td>4567</td>\n",
       "      <td>136</td>\n",
       "    </tr>\n",
       "    <tr>\n",
       "      <th>max</th>\n",
       "      <td>14983449</td>\n",
       "      <td>38999</td>\n",
       "      <td>113739</td>\n",
       "      <td>113739</td>\n",
       "      <td>8643</td>\n",
       "    </tr>\n",
       "  </tbody>\n",
       "</table>\n",
       "</div>"
      ],
      "text/plain": [
       "           size  forks   stars  watchers  issues\n",
       "count     67923  67923   67923     67923   67923\n",
       "mean      11216     42     258       258       9\n",
       "std       98398    317    1667      1667      76\n",
       "min           0      0      10        10       0\n",
       "25%          62      3      15        15       0\n",
       "50%         321      7      29        29       1\n",
       "75%        3644     20      85        85       5\n",
       "95%       42106    128     762       762      34\n",
       "99%      170481    585    4567      4567     136\n",
       "max    14983449  38999  113739    113739    8643"
      ]
     },
     "execution_count": 119,
     "metadata": {},
     "output_type": "execute_result"
    }
   ],
   "source": [
    "stats"
   ]
  },
  {
   "cell_type": "markdown",
   "id": "5c327b2b-6b8c-4fc5-9eaf-67603b107d38",
   "metadata": {},
   "source": [
    "## Collect go.mod files(run on cloud) "
   ]
  },
  {
   "cell_type": "markdown",
   "id": "01dd397c-079e-4de8-845f-8601bde5406d",
   "metadata": {},
   "source": [
    "## Download go.mod files and extract to mod-info dir"
   ]
  },
  {
   "cell_type": "code",
   "execution_count": null,
   "id": "2c7dd6ee-89d8-43c9-a1a1-978894f5deea",
   "metadata": {},
   "outputs": [],
   "source": [
    "!scp data-science-station:/home/ubuntu/projects/big-data-task/play-data-science/msr-golang/mod-info.tgz ."
   ]
  },
  {
   "cell_type": "code",
   "execution_count": null,
   "id": "57a26542-e6c8-4f68-980e-7741a8b4a652",
   "metadata": {},
   "outputs": [],
   "source": [
    "!rm -fr tmp1\n",
    "!mkdir -p tmp1\n",
    "!tar -xzf mod-info.tgz -C tmp1"
   ]
  },
  {
   "cell_type": "markdown",
   "id": "94d309ea-6c55-4b7a-9bfd-e2f8041da5e1",
   "metadata": {},
   "source": [
    "## Parse go.mod files to get module reference count"
   ]
  },
  {
   "cell_type": "code",
   "execution_count": null,
   "id": "dfa0b23a-e3fa-4aac-b1a7-a44ef60bdf1e",
   "metadata": {},
   "outputs": [],
   "source": [
    "%%time\n",
    "# call the script `parse-module-deps.py`\n",
    "from parser import parse_deps\n",
    "\n",
    "parse_deps(base_dir=\"mod-info.oci\", deps_file=\"dependencies.csv\", trace=False)"
   ]
  },
  {
   "cell_type": "markdown",
   "id": "d6af4f7e-889d-40f7-ab42-2ead21e44dd4",
   "metadata": {},
   "source": [
    "## Generate module refs (group by dep_module)"
   ]
  },
  {
   "cell_type": "code",
   "execution_count": 77,
   "id": "a0233e42-ca4d-4092-a840-0ca048d688e2",
   "metadata": {},
   "outputs": [],
   "source": [
    "df_deps = pd.read_csv('mod-info.oci/dependencies.csv')\n",
    "df_mod_refs = df_deps.groupby(\"dep_module\").agg(\n",
    "    refs=pd.NamedAgg(column=\"full_name\", aggfunc=\"count\"),\n",
    ").sort_values(\"refs\", ascending=False).reset_index()\n",
    "df_vers = df_deps.groupby([\"dep_module\", \"dep_version\"]).agg(refs=pd.NamedAgg(column=\"full_name\", aggfunc=\"count\"))\n",
    "df_vers.reset_index(level=1, inplace=True)\n",
    "df_vers.reset_index(level=0, inplace=True)\n",
    "# get most referenced version\n",
    "df_mod_refs = df_vers.sort_values(\"refs\").drop_duplicates([\"dep_module\"], keep=\"last\")\n",
    "df_mod_refs.rename(columns={'dep_module': 'module', 'dep_version': 'freq_ver'}, inplace=True)"
   ]
  },
  {
   "cell_type": "code",
   "execution_count": 78,
   "id": "9ed9e468-9025-40fe-9850-1ed6626940c0",
   "metadata": {},
   "outputs": [],
   "source": [
    "df_name_conv = df_mod_refs.query(\"module.str.startswith('github.com') == False\")\n",
    "df_name_conv.to_csv(\"name-conv-module-refs.csv\", index=False)"
   ]
  },
  {
   "cell_type": "markdown",
   "id": "c315fd17-da08-436c-bae9-1a332013e4ef",
   "metadata": {},
   "source": [
    "## Associate non-github named modules with their github name"
   ]
  },
  {
   "cell_type": "code",
   "execution_count": null,
   "id": "27753538-7825-4476-8857-16b3b4967610",
   "metadata": {},
   "outputs": [],
   "source": [
    "%%time\n",
    "# call the script `convert-names.py`\n",
    "from datagrab.repo import convert_names\n",
    "\n",
    "convert_names(\"name-conv-module-refs.csv\", progress_file=\"name-conv-progress.csv\", trace=False)\n"
   ]
  },
  {
   "cell_type": "markdown",
   "id": "529983f3-6f16-406d-b134-7316a375b904",
   "metadata": {},
   "source": [
    "## Join the main record with module ref count"
   ]
  },
  {
   "cell_type": "code",
   "execution_count": 82,
   "id": "b79afc14-eb1b-4c57-8a01-a2ef6978ca61",
   "metadata": {},
   "outputs": [
    {
     "name": "stderr",
     "output_type": "stream",
     "text": [
      "/var/folders/xn/t_nj5y1n4lv75t_v154rv5_h0000gn/T/ipykernel_15768/1050367872.py:25: SettingWithCopyWarning: \n",
      "A value is trying to be set on a copy of a slice from a DataFrame.\n",
      "Try using .loc[row_indexer,col_indexer] = value instead\n",
      "\n",
      "See the caveats in the documentation: https://pandas.pydata.org/pandas-docs/stable/user_guide/indexing.html#returning-a-view-versus-a-copy\n",
      "  df_gh['full_name'] = df_gh.apply(strip_github_prefix, axis=1)\n"
     ]
    }
   ],
   "source": [
    "def copy_github_column(row):\n",
    "    if row['github_name'] != row['github_name'] or row['github_name'] == '-':\n",
    "        return row['module']\n",
    "    else:\n",
    "        return row['github_name']\n",
    "        \n",
    "def strip_github_prefix(row):\n",
    "    return row[\"github_name\"][len(\"github.com/\"):]\n",
    "\n",
    "    \n",
    "# merge main record with module ref count\n",
    "df_name_mapping = pd.read_csv(\"name-conv-progress.csv\", parse_dates=['last_updated'])\n",
    "df_progress = pd.read_csv(\"mod-info.oci/progress.csv\", parse_dates=[\"last_updated\"])\n",
    "\n",
    "#df_1 = df_mod_refs.merge(df_name_mapping, how=\"left\", on=\"module\", right_index=False)\n",
    "df_1 = df_mod_refs.merge(df_name_mapping, how=\"left\", on=\"module\").drop(columns=['last_updated'])\n",
    "df_1['github_name'] = df_1.apply(copy_github_column, axis=1)\n",
    "# merge references to same library using different names\n",
    "df_2 = df_1.groupby([\"github_name\", \"freq_ver\"]).agg(\n",
    "    refs=pd.NamedAgg(column=\"refs\", aggfunc=\"sum\"),\n",
    ").sort_values(\"refs\", ascending=False)\n",
    "df_2.reset_index(level=1, inplace=True)\n",
    "df_2.reset_index(level=0, inplace=True)\n",
    "df_gh = df_1.query(\"github_name.str.startswith('github.com')\")\n",
    "df_gh['full_name'] = df_gh.apply(strip_github_prefix, axis=1)\n",
    "df_gh = df_gh.merge(df_progress, how=\"left\", on=\"full_name\").drop(columns=['last_updated', 'fail_reason'])\n",
    "df_gh.rename(columns={'module': 'alt'}, inplace=True)\n",
    "#df_gh = df_gh.merge(df_name_mapping, how=\"left\", on=\"github_name\").drop(columns=['last_updated', 'fail_reason'])\n",
    "\n",
    "df_final = df_main.merge(df_gh, how=\"left\", on=\"full_name\").drop(columns=[\"github_name\"])\n",
    "df_final.sort_values(\"refs\", ascending=False, inplace=True)\n",
    "df_final = df_final[[\"full_name\", \"alt\", \"latest_version\", \"freq_ver\", \"refs\", \"stargazers_count\", \"created_at\" ]]\n",
    "df_final['created_at'] = df_final['created_at'].dt.year\n",
    "#df_final.astype({\"refs\": \"int32\"})\n",
    "df_final.rename(\n",
    "    columns={\n",
    "        'full_name':'Repository',\n",
    "        'stargazers_count':'Stars',\n",
    "        'refs':'Refs',\n",
    "        'created_at':'Since',\n",
    "        'freq_ver':'Most Used Version',\n",
    "        'latest_version': 'Latest Version',\n",
    "        'alt':'Import Name',\n",
    "    },\n",
    "    inplace=True\n",
    ")"
   ]
  },
  {
   "cell_type": "code",
   "execution_count": 26,
   "id": "4637c24d-a5e8-487e-a96d-d5585e4c7474",
   "metadata": {},
   "outputs": [],
   "source": []
  },
  {
   "cell_type": "markdown",
   "id": "5e90ad0c-3e44-42c3-9001-143de0c874ce",
   "metadata": {},
   "source": [
    "### Extra top 20 libraries for reporting"
   ]
  },
  {
   "cell_type": "code",
   "execution_count": 83,
   "id": "35dc07e7-e326-494f-aae7-54c4628bdfce",
   "metadata": {},
   "outputs": [
    {
     "data": {
      "text/html": [
       "<div>\n",
       "<style scoped>\n",
       "    .dataframe tbody tr th:only-of-type {\n",
       "        vertical-align: middle;\n",
       "    }\n",
       "\n",
       "    .dataframe tbody tr th {\n",
       "        vertical-align: top;\n",
       "    }\n",
       "\n",
       "    .dataframe thead th {\n",
       "        text-align: right;\n",
       "    }\n",
       "</style>\n",
       "<table border=\"1\" class=\"dataframe\">\n",
       "  <thead>\n",
       "    <tr style=\"text-align: right;\">\n",
       "      <th></th>\n",
       "      <th>Repository</th>\n",
       "      <th>Import Name</th>\n",
       "      <th>Latest Version</th>\n",
       "      <th>Most Used Version</th>\n",
       "      <th>Refs</th>\n",
       "      <th>Stars</th>\n",
       "      <th>Since</th>\n",
       "    </tr>\n",
       "  </thead>\n",
       "  <tbody>\n",
       "    <tr>\n",
       "      <th>64831</th>\n",
       "      <td>pkg/errors</td>\n",
       "      <td>github.com/pkg/errors</td>\n",
       "      <td>v0.9.1</td>\n",
       "      <td>v0.9.1</td>\n",
       "      <td>117518</td>\n",
       "      <td>8067</td>\n",
       "      <td>2015</td>\n",
       "    </tr>\n",
       "    <tr>\n",
       "      <th>67190</th>\n",
       "      <td>spf13/pflag</td>\n",
       "      <td>github.com/spf13/pflag</td>\n",
       "      <td>v1.0.5</td>\n",
       "      <td>v1.0.5</td>\n",
       "      <td>76404</td>\n",
       "      <td>2158</td>\n",
       "      <td>2013</td>\n",
       "    </tr>\n",
       "    <tr>\n",
       "      <th>65697</th>\n",
       "      <td>stretchr/testify</td>\n",
       "      <td>github.com/stretchr/testify</td>\n",
       "      <td>v1.8.4</td>\n",
       "      <td>v1.7.0</td>\n",
       "      <td>70935</td>\n",
       "      <td>20391</td>\n",
       "      <td>2012</td>\n",
       "    </tr>\n",
       "    <tr>\n",
       "      <th>55914</th>\n",
       "      <td>go-yaml/yaml</td>\n",
       "      <td>gopkg.in/yaml.v2</td>\n",
       "      <td>v3.0.1</td>\n",
       "      <td>v2.4.0</td>\n",
       "      <td>57734</td>\n",
       "      <td>6413</td>\n",
       "      <td>2014</td>\n",
       "    </tr>\n",
       "    <tr>\n",
       "      <th>42257</th>\n",
       "      <td>google/uuid</td>\n",
       "      <td>github.com/google/uuid</td>\n",
       "      <td>v1.3.1</td>\n",
       "      <td>v1.3.0</td>\n",
       "      <td>51492</td>\n",
       "      <td>4509</td>\n",
       "      <td>2016</td>\n",
       "    </tr>\n",
       "    <tr>\n",
       "      <th>59107</th>\n",
       "      <td>ghodss/yaml</td>\n",
       "      <td>github.com/ghodss/yaml</td>\n",
       "      <td>v1.0.0</td>\n",
       "      <td>v1.0.0</td>\n",
       "      <td>32871</td>\n",
       "      <td>1001</td>\n",
       "      <td>2014</td>\n",
       "    </tr>\n",
       "    <tr>\n",
       "      <th>65942</th>\n",
       "      <td>davecgh/go-spew</td>\n",
       "      <td>github.com/davecgh/go-spew</td>\n",
       "      <td>v1.1.1</td>\n",
       "      <td>v1.1.1</td>\n",
       "      <td>32671</td>\n",
       "      <td>5683</td>\n",
       "      <td>2013</td>\n",
       "    </tr>\n",
       "    <tr>\n",
       "      <th>67508</th>\n",
       "      <td>sirupsen/logrus</td>\n",
       "      <td>github.com/sirupsen/logrus</td>\n",
       "      <td>v1.9.3</td>\n",
       "      <td>v1.8.1</td>\n",
       "      <td>31952</td>\n",
       "      <td>23118</td>\n",
       "      <td>2013</td>\n",
       "    </tr>\n",
       "    <tr>\n",
       "      <th>65626</th>\n",
       "      <td>gorilla/mux</td>\n",
       "      <td>github.com/gorilla/mux</td>\n",
       "      <td>v1.8.0</td>\n",
       "      <td>v1.8.0</td>\n",
       "      <td>31801</td>\n",
       "      <td>19002</td>\n",
       "      <td>2012</td>\n",
       "    </tr>\n",
       "    <tr>\n",
       "      <th>57827</th>\n",
       "      <td>mitchellh/go-homedir</td>\n",
       "      <td>github.com/mitchellh/go-homedir</td>\n",
       "      <td>v1.1.0</td>\n",
       "      <td>v1.1.0</td>\n",
       "      <td>30688</td>\n",
       "      <td>1330</td>\n",
       "      <td>2014</td>\n",
       "    </tr>\n",
       "    <tr>\n",
       "      <th>58906</th>\n",
       "      <td>golang/protobuf</td>\n",
       "      <td>github.com/golang/protobuf</td>\n",
       "      <td>v1.5.3</td>\n",
       "      <td>v1.5.2</td>\n",
       "      <td>29396</td>\n",
       "      <td>9207</td>\n",
       "      <td>2014</td>\n",
       "    </tr>\n",
       "    <tr>\n",
       "      <th>55913</th>\n",
       "      <td>go-yaml/yaml</td>\n",
       "      <td>gopkg.in/yaml.v3</td>\n",
       "      <td>v3.0.1</td>\n",
       "      <td>v3.0.1</td>\n",
       "      <td>27104</td>\n",
       "      <td>6413</td>\n",
       "      <td>2014</td>\n",
       "    </tr>\n",
       "    <tr>\n",
       "      <th>61825</th>\n",
       "      <td>golang/mock</td>\n",
       "      <td>github.com/golang/mock</td>\n",
       "      <td>v1.7.0-rc.1</td>\n",
       "      <td>v1.6.0</td>\n",
       "      <td>24785</td>\n",
       "      <td>9060</td>\n",
       "      <td>2015</td>\n",
       "    </tr>\n",
       "    <tr>\n",
       "      <th>57279</th>\n",
       "      <td>blang/semver</td>\n",
       "      <td>github.com/blang/semver</td>\n",
       "      <td>v4.0.0</td>\n",
       "      <td>v3.5.1+incompatible</td>\n",
       "      <td>22824</td>\n",
       "      <td>971</td>\n",
       "      <td>2014</td>\n",
       "    </tr>\n",
       "    <tr>\n",
       "      <th>67510</th>\n",
       "      <td>gorilla/websocket</td>\n",
       "      <td>github.com/gorilla/websocket</td>\n",
       "      <td>v1.5.0</td>\n",
       "      <td>v1.4.2</td>\n",
       "      <td>22669</td>\n",
       "      <td>19655</td>\n",
       "      <td>2013</td>\n",
       "    </tr>\n",
       "    <tr>\n",
       "      <th>31743</th>\n",
       "      <td>kubernetes-sigs/yaml</td>\n",
       "      <td>sigs.k8s.io/yaml</td>\n",
       "      <td>v1.3.0</td>\n",
       "      <td>v1.2.0</td>\n",
       "      <td>19190</td>\n",
       "      <td>192</td>\n",
       "      <td>2018</td>\n",
       "    </tr>\n",
       "    <tr>\n",
       "      <th>59088</th>\n",
       "      <td>gogo/protobuf</td>\n",
       "      <td>github.com/gogo/protobuf</td>\n",
       "      <td>v1.3.2</td>\n",
       "      <td>v1.3.2</td>\n",
       "      <td>17967</td>\n",
       "      <td>5580</td>\n",
       "      <td>2014</td>\n",
       "    </tr>\n",
       "    <tr>\n",
       "      <th>64969</th>\n",
       "      <td>dustin/go-humanize</td>\n",
       "      <td>github.com/dustin/go-humanize</td>\n",
       "      <td>v1.0.1</td>\n",
       "      <td>v1.0.0</td>\n",
       "      <td>17499</td>\n",
       "      <td>3714</td>\n",
       "      <td>2012</td>\n",
       "    </tr>\n",
       "    <tr>\n",
       "      <th>55632</th>\n",
       "      <td>olekukonko/tablewriter</td>\n",
       "      <td>github.com/olekukonko/tablewriter</td>\n",
       "      <td>v0.0.5</td>\n",
       "      <td>v0.0.5</td>\n",
       "      <td>17293</td>\n",
       "      <td>3927</td>\n",
       "      <td>2014</td>\n",
       "    </tr>\n",
       "    <tr>\n",
       "      <th>55778</th>\n",
       "      <td>fatih/color</td>\n",
       "      <td>github.com/fatih/color</td>\n",
       "      <td>v1.15.0</td>\n",
       "      <td>v1.13.0</td>\n",
       "      <td>16780</td>\n",
       "      <td>6478</td>\n",
       "      <td>2014</td>\n",
       "    </tr>\n",
       "  </tbody>\n",
       "</table>\n",
       "</div>"
      ],
      "text/plain": [
       "                   Repository                        Import Name  \\\n",
       "64831              pkg/errors              github.com/pkg/errors   \n",
       "67190             spf13/pflag             github.com/spf13/pflag   \n",
       "65697        stretchr/testify        github.com/stretchr/testify   \n",
       "55914            go-yaml/yaml                   gopkg.in/yaml.v2   \n",
       "42257             google/uuid             github.com/google/uuid   \n",
       "59107             ghodss/yaml             github.com/ghodss/yaml   \n",
       "65942         davecgh/go-spew         github.com/davecgh/go-spew   \n",
       "67508         sirupsen/logrus         github.com/sirupsen/logrus   \n",
       "65626             gorilla/mux             github.com/gorilla/mux   \n",
       "57827    mitchellh/go-homedir    github.com/mitchellh/go-homedir   \n",
       "58906         golang/protobuf         github.com/golang/protobuf   \n",
       "55913            go-yaml/yaml                   gopkg.in/yaml.v3   \n",
       "61825             golang/mock             github.com/golang/mock   \n",
       "57279            blang/semver            github.com/blang/semver   \n",
       "67510       gorilla/websocket       github.com/gorilla/websocket   \n",
       "31743    kubernetes-sigs/yaml                   sigs.k8s.io/yaml   \n",
       "59088           gogo/protobuf           github.com/gogo/protobuf   \n",
       "64969      dustin/go-humanize      github.com/dustin/go-humanize   \n",
       "55632  olekukonko/tablewriter  github.com/olekukonko/tablewriter   \n",
       "55778             fatih/color             github.com/fatih/color   \n",
       "\n",
       "      Latest Version    Most Used Version    Refs  Stars  Since  \n",
       "64831         v0.9.1               v0.9.1  117518   8067   2015  \n",
       "67190         v1.0.5               v1.0.5   76404   2158   2013  \n",
       "65697         v1.8.4               v1.7.0   70935  20391   2012  \n",
       "55914         v3.0.1               v2.4.0   57734   6413   2014  \n",
       "42257         v1.3.1               v1.3.0   51492   4509   2016  \n",
       "59107         v1.0.0               v1.0.0   32871   1001   2014  \n",
       "65942         v1.1.1               v1.1.1   32671   5683   2013  \n",
       "67508         v1.9.3               v1.8.1   31952  23118   2013  \n",
       "65626         v1.8.0               v1.8.0   31801  19002   2012  \n",
       "57827         v1.1.0               v1.1.0   30688   1330   2014  \n",
       "58906         v1.5.3               v1.5.2   29396   9207   2014  \n",
       "55913         v3.0.1               v3.0.1   27104   6413   2014  \n",
       "61825    v1.7.0-rc.1               v1.6.0   24785   9060   2015  \n",
       "57279         v4.0.0  v3.5.1+incompatible   22824    971   2014  \n",
       "67510         v1.5.0               v1.4.2   22669  19655   2013  \n",
       "31743         v1.3.0               v1.2.0   19190    192   2018  \n",
       "59088         v1.3.2               v1.3.2   17967   5580   2014  \n",
       "64969         v1.0.1               v1.0.0   17499   3714   2012  \n",
       "55632         v0.0.5               v0.0.5   17293   3927   2014  \n",
       "55778        v1.15.0              v1.13.0   16780   6478   2014  "
      ]
     },
     "execution_count": 83,
     "metadata": {},
     "output_type": "execute_result"
    }
   ],
   "source": [
    "df_latex = df_final.head(20).astype({\"Refs\": \"int32\"})\n",
    "df_latex"
   ]
  },
  {
   "cell_type": "code",
   "execution_count": 100,
   "id": "0a5eb730-d2d7-467c-9a3b-e3d972fa3f4a",
   "metadata": {},
   "outputs": [],
   "source": [
    "df_latex.to_latex(\"__libs.tex\", index=False)"
   ]
  },
  {
   "cell_type": "markdown",
   "id": "cd7ed530-d85a-422f-ae6e-d8fd6e62ed47",
   "metadata": {},
   "source": [
    "## Identify vulnerabilities"
   ]
  },
  {
   "cell_type": "markdown",
   "id": "94687151-de46-41be-aada-f9664ea80744",
   "metadata": {},
   "source": [
    "### Load golang vulnerability dataset"
   ]
  },
  {
   "cell_type": "code",
   "execution_count": 38,
   "id": "58f32296-f206-4b33-b66c-e08c493c0826",
   "metadata": {},
   "outputs": [],
   "source": [
    "df_vuln = pd.read_csv(\"govuls.csv\", parse_dates=[\"published\", \"last_updated\"])\n",
    "df_vuln = df_vuln[[\"module\", \"fix_version\", \"vul_id\", \"alias\", \"published\"]]"
   ]
  },
  {
   "cell_type": "code",
   "execution_count": 71,
   "id": "8d14a0a9-8097-4b49-9e39-1e941a0b515a",
   "metadata": {},
   "outputs": [
    {
     "data": {
      "text/html": [
       "<div>\n",
       "<style scoped>\n",
       "    .dataframe tbody tr th:only-of-type {\n",
       "        vertical-align: middle;\n",
       "    }\n",
       "\n",
       "    .dataframe tbody tr th {\n",
       "        vertical-align: top;\n",
       "    }\n",
       "\n",
       "    .dataframe thead th {\n",
       "        text-align: right;\n",
       "    }\n",
       "</style>\n",
       "<table border=\"1\" class=\"dataframe\">\n",
       "  <thead>\n",
       "    <tr style=\"text-align: right;\">\n",
       "      <th></th>\n",
       "      <th>module</th>\n",
       "      <th>fix_version</th>\n",
       "      <th>vul_id</th>\n",
       "      <th>alias</th>\n",
       "      <th>published</th>\n",
       "    </tr>\n",
       "  </thead>\n",
       "  <tbody>\n",
       "    <tr>\n",
       "      <th>361</th>\n",
       "      <td>github.com/gogo/protobuf</td>\n",
       "      <td>1.3.2</td>\n",
       "      <td>GO-2021-0053</td>\n",
       "      <td>CVE-2021-3121</td>\n",
       "      <td>2021-04-14 20:04:52+00:00</td>\n",
       "    </tr>\n",
       "  </tbody>\n",
       "</table>\n",
       "</div>"
      ],
      "text/plain": [
       "                       module fix_version        vul_id          alias  \\\n",
       "361  github.com/gogo/protobuf       1.3.2  GO-2021-0053  CVE-2021-3121   \n",
       "\n",
       "                    published  \n",
       "361 2021-04-14 20:04:52+00:00  "
      ]
     },
     "execution_count": 71,
     "metadata": {},
     "output_type": "execute_result"
    }
   ],
   "source": [
    "df_vuln.query(\"alias=='CVE-2021-3121'\")"
   ]
  },
  {
   "cell_type": "markdown",
   "id": "96421d3a-675b-4ad7-9860-24056851f5fb",
   "metadata": {},
   "source": [
    "### Load top 2000 libraries"
   ]
  },
  {
   "cell_type": "code",
   "execution_count": 84,
   "id": "5a1a420d-27d2-4b6c-b8cf-5714b749de74",
   "metadata": {},
   "outputs": [],
   "source": [
    "df_top2000_lib = df_gh.sort_values(\"refs\", ascending=False).head(2000).drop(columns=[\"freq_ver\"])"
   ]
  },
  {
   "cell_type": "code",
   "execution_count": 86,
   "id": "cc2e9107-d402-4e29-ac37-354fd40c6ba3",
   "metadata": {},
   "outputs": [
    {
     "data": {
      "text/html": [
       "<div>\n",
       "<style scoped>\n",
       "    .dataframe tbody tr th:only-of-type {\n",
       "        vertical-align: middle;\n",
       "    }\n",
       "\n",
       "    .dataframe tbody tr th {\n",
       "        vertical-align: top;\n",
       "    }\n",
       "\n",
       "    .dataframe thead th {\n",
       "        text-align: right;\n",
       "    }\n",
       "</style>\n",
       "<table border=\"1\" class=\"dataframe\">\n",
       "  <thead>\n",
       "    <tr style=\"text-align: right;\">\n",
       "      <th></th>\n",
       "      <th>alt</th>\n",
       "      <th>refs</th>\n",
       "      <th>github_name</th>\n",
       "      <th>full_name</th>\n",
       "      <th>use_module</th>\n",
       "      <th>latest_version</th>\n",
       "    </tr>\n",
       "  </thead>\n",
       "  <tbody>\n",
       "    <tr>\n",
       "      <th>34319</th>\n",
       "      <td>github.com/pkg/errors</td>\n",
       "      <td>117518</td>\n",
       "      <td>github.com/pkg/errors</td>\n",
       "      <td>pkg/errors</td>\n",
       "      <td>0.0</td>\n",
       "      <td>v0.9.1</td>\n",
       "    </tr>\n",
       "    <tr>\n",
       "      <th>34318</th>\n",
       "      <td>github.com/spf13/pflag</td>\n",
       "      <td>76404</td>\n",
       "      <td>github.com/spf13/pflag</td>\n",
       "      <td>spf13/pflag</td>\n",
       "      <td>1.0</td>\n",
       "      <td>v1.0.5</td>\n",
       "    </tr>\n",
       "    <tr>\n",
       "      <th>34317</th>\n",
       "      <td>github.com/stretchr/testify</td>\n",
       "      <td>70935</td>\n",
       "      <td>github.com/stretchr/testify</td>\n",
       "      <td>stretchr/testify</td>\n",
       "      <td>1.0</td>\n",
       "      <td>v1.8.4</td>\n",
       "    </tr>\n",
       "    <tr>\n",
       "      <th>34316</th>\n",
       "      <td>gopkg.in/yaml.v2</td>\n",
       "      <td>57734</td>\n",
       "      <td>github.com/go-yaml/yaml</td>\n",
       "      <td>go-yaml/yaml</td>\n",
       "      <td>1.0</td>\n",
       "      <td>v3.0.1</td>\n",
       "    </tr>\n",
       "    <tr>\n",
       "      <th>34315</th>\n",
       "      <td>github.com/google/uuid</td>\n",
       "      <td>51492</td>\n",
       "      <td>github.com/google/uuid</td>\n",
       "      <td>google/uuid</td>\n",
       "      <td>1.0</td>\n",
       "      <td>v1.3.1</td>\n",
       "    </tr>\n",
       "    <tr>\n",
       "      <th>...</th>\n",
       "      <td>...</td>\n",
       "      <td>...</td>\n",
       "      <td>...</td>\n",
       "      <td>...</td>\n",
       "      <td>...</td>\n",
       "      <td>...</td>\n",
       "    </tr>\n",
       "    <tr>\n",
       "      <th>32325</th>\n",
       "      <td>github.com/shurcooL/sanitized_anchor_name</td>\n",
       "      <td>284</td>\n",
       "      <td>github.com/shurcooL/sanitized_anchor_name</td>\n",
       "      <td>shurcooL/sanitized_anchor_name</td>\n",
       "      <td>1.0</td>\n",
       "      <td>v1.0.0</td>\n",
       "    </tr>\n",
       "    <tr>\n",
       "      <th>32323</th>\n",
       "      <td>github.com/multiformats/go-multistream</td>\n",
       "      <td>283</td>\n",
       "      <td>github.com/multiformats/go-multistream</td>\n",
       "      <td>multiformats/go-multistream</td>\n",
       "      <td>1.0</td>\n",
       "      <td>v0.4.1</td>\n",
       "    </tr>\n",
       "    <tr>\n",
       "      <th>32321</th>\n",
       "      <td>github.com/fnproject/fdk-go</td>\n",
       "      <td>282</td>\n",
       "      <td>github.com/fnproject/fdk-go</td>\n",
       "      <td>fnproject/fdk-go</td>\n",
       "      <td>1.0</td>\n",
       "      <td>v0.0.35</td>\n",
       "    </tr>\n",
       "    <tr>\n",
       "      <th>32322</th>\n",
       "      <td>github.com/tencentyun/scf-go-lib</td>\n",
       "      <td>282</td>\n",
       "      <td>github.com/tencentyun/scf-go-lib</td>\n",
       "      <td>tencentyun/scf-go-lib</td>\n",
       "      <td>0.0</td>\n",
       "      <td>master</td>\n",
       "    </tr>\n",
       "    <tr>\n",
       "      <th>32320</th>\n",
       "      <td>github.com/golang-collections/go-datastructures</td>\n",
       "      <td>281</td>\n",
       "      <td>github.com/golang-collections/go-datastructures</td>\n",
       "      <td>golang-collections/go-datastructures</td>\n",
       "      <td>0.0</td>\n",
       "      <td>master</td>\n",
       "    </tr>\n",
       "  </tbody>\n",
       "</table>\n",
       "<p>1447 rows × 6 columns</p>\n",
       "</div>"
      ],
      "text/plain": [
       "                                                   alt    refs  \\\n",
       "34319                            github.com/pkg/errors  117518   \n",
       "34318                           github.com/spf13/pflag   76404   \n",
       "34317                      github.com/stretchr/testify   70935   \n",
       "34316                                 gopkg.in/yaml.v2   57734   \n",
       "34315                           github.com/google/uuid   51492   \n",
       "...                                                ...     ...   \n",
       "32325        github.com/shurcooL/sanitized_anchor_name     284   \n",
       "32323           github.com/multiformats/go-multistream     283   \n",
       "32321                      github.com/fnproject/fdk-go     282   \n",
       "32322                 github.com/tencentyun/scf-go-lib     282   \n",
       "32320  github.com/golang-collections/go-datastructures     281   \n",
       "\n",
       "                                           github_name  \\\n",
       "34319                            github.com/pkg/errors   \n",
       "34318                           github.com/spf13/pflag   \n",
       "34317                      github.com/stretchr/testify   \n",
       "34316                          github.com/go-yaml/yaml   \n",
       "34315                           github.com/google/uuid   \n",
       "...                                                ...   \n",
       "32325        github.com/shurcooL/sanitized_anchor_name   \n",
       "32323           github.com/multiformats/go-multistream   \n",
       "32321                      github.com/fnproject/fdk-go   \n",
       "32322                 github.com/tencentyun/scf-go-lib   \n",
       "32320  github.com/golang-collections/go-datastructures   \n",
       "\n",
       "                                  full_name  use_module latest_version  \n",
       "34319                            pkg/errors         0.0         v0.9.1  \n",
       "34318                           spf13/pflag         1.0         v1.0.5  \n",
       "34317                      stretchr/testify         1.0         v1.8.4  \n",
       "34316                          go-yaml/yaml         1.0         v3.0.1  \n",
       "34315                           google/uuid         1.0         v1.3.1  \n",
       "...                                     ...         ...            ...  \n",
       "32325        shurcooL/sanitized_anchor_name         1.0         v1.0.0  \n",
       "32323           multiformats/go-multistream         1.0         v0.4.1  \n",
       "32321                      fnproject/fdk-go         1.0        v0.0.35  \n",
       "32322                 tencentyun/scf-go-lib         0.0         master  \n",
       "32320  golang-collections/go-datastructures         0.0         master  \n",
       "\n",
       "[1447 rows x 6 columns]"
      ]
     },
     "execution_count": 86,
     "metadata": {},
     "output_type": "execute_result"
    }
   ],
   "source": [
    "df_top2000_lib.query(\"latest_version == latest_version\")"
   ]
  },
  {
   "cell_type": "markdown",
   "id": "358d0aff-8c90-4911-bba8-5202471ed16d",
   "metadata": {},
   "source": [
    "### Load top 2000 libraries latest version's dependencies"
   ]
  },
  {
   "cell_type": "code",
   "execution_count": 85,
   "id": "ac1073ce-1d67-45eb-979c-2e9174f2916a",
   "metadata": {},
   "outputs": [
    {
     "data": {
      "text/html": [
       "<div>\n",
       "<style scoped>\n",
       "    .dataframe tbody tr th:only-of-type {\n",
       "        vertical-align: middle;\n",
       "    }\n",
       "\n",
       "    .dataframe tbody tr th {\n",
       "        vertical-align: top;\n",
       "    }\n",
       "\n",
       "    .dataframe thead th {\n",
       "        text-align: right;\n",
       "    }\n",
       "</style>\n",
       "<table border=\"1\" class=\"dataframe\">\n",
       "  <thead>\n",
       "    <tr style=\"text-align: right;\">\n",
       "      <th></th>\n",
       "      <th>full_name</th>\n",
       "      <th>public_name</th>\n",
       "      <th>version</th>\n",
       "      <th>dep_module</th>\n",
       "      <th>dep_version</th>\n",
       "    </tr>\n",
       "  </thead>\n",
       "  <tbody>\n",
       "    <tr>\n",
       "      <th>0</th>\n",
       "      <td>payt0nc/fairplay-ksm</td>\n",
       "      <td>github.com/cooomma/fairplay-ksm</td>\n",
       "      <td>master</td>\n",
       "      <td>github.com/labstack/echo/v4</td>\n",
       "      <td>v4.1.11</td>\n",
       "    </tr>\n",
       "    <tr>\n",
       "      <th>1</th>\n",
       "      <td>payt0nc/fairplay-ksm</td>\n",
       "      <td>github.com/cooomma/fairplay-ksm</td>\n",
       "      <td>master</td>\n",
       "      <td>github.com/stretchr/testify</td>\n",
       "      <td>v1.4.0</td>\n",
       "    </tr>\n",
       "    <tr>\n",
       "      <th>2</th>\n",
       "      <td>markelog/eclectica</td>\n",
       "      <td>github.com/markelog/eclectica</td>\n",
       "      <td>v0.8.2</td>\n",
       "      <td>github.com/PuerkitoBio/goquery</td>\n",
       "      <td>v1.7.1</td>\n",
       "    </tr>\n",
       "    <tr>\n",
       "      <th>3</th>\n",
       "      <td>markelog/eclectica</td>\n",
       "      <td>github.com/markelog/eclectica</td>\n",
       "      <td>v0.8.2</td>\n",
       "      <td>github.com/andybalholm/cascadia</td>\n",
       "      <td>v1.2.0</td>\n",
       "    </tr>\n",
       "    <tr>\n",
       "      <th>4</th>\n",
       "      <td>markelog/eclectica</td>\n",
       "      <td>github.com/markelog/eclectica</td>\n",
       "      <td>v0.8.2</td>\n",
       "      <td>github.com/blang/semver</td>\n",
       "      <td>v3.5.1+incompatible</td>\n",
       "    </tr>\n",
       "  </tbody>\n",
       "</table>\n",
       "</div>"
      ],
      "text/plain": [
       "              full_name                      public_name version  \\\n",
       "0  payt0nc/fairplay-ksm  github.com/cooomma/fairplay-ksm  master   \n",
       "1  payt0nc/fairplay-ksm  github.com/cooomma/fairplay-ksm  master   \n",
       "2    markelog/eclectica    github.com/markelog/eclectica  v0.8.2   \n",
       "3    markelog/eclectica    github.com/markelog/eclectica  v0.8.2   \n",
       "4    markelog/eclectica    github.com/markelog/eclectica  v0.8.2   \n",
       "\n",
       "                        dep_module          dep_version  \n",
       "0      github.com/labstack/echo/v4              v4.1.11  \n",
       "1      github.com/stretchr/testify               v1.4.0  \n",
       "2   github.com/PuerkitoBio/goquery               v1.7.1  \n",
       "3  github.com/andybalholm/cascadia               v1.2.0  \n",
       "4          github.com/blang/semver  v3.5.1+incompatible  "
      ]
     },
     "execution_count": 85,
     "metadata": {},
     "output_type": "execute_result"
    }
   ],
   "source": [
    "df_deps.head()"
   ]
  },
  {
   "cell_type": "code",
   "execution_count": 87,
   "id": "70bb854f-bae9-46c1-b21f-ead0c7030f53",
   "metadata": {},
   "outputs": [],
   "source": [
    "df_top2000_lib_deps = df_top2000_lib.merge(df_deps, how=\"inner\", left_on=[\"full_name\", \"latest_version\"], right_on=[\"full_name\", \"version\"]).drop(columns=[\"public_name\"]) "
   ]
  },
  {
   "cell_type": "code",
   "execution_count": 88,
   "id": "7ebb236b-5873-4bdc-97f7-957a27628cdf",
   "metadata": {},
   "outputs": [
    {
     "data": {
      "text/html": [
       "<div>\n",
       "<style scoped>\n",
       "    .dataframe tbody tr th:only-of-type {\n",
       "        vertical-align: middle;\n",
       "    }\n",
       "\n",
       "    .dataframe tbody tr th {\n",
       "        vertical-align: top;\n",
       "    }\n",
       "\n",
       "    .dataframe thead th {\n",
       "        text-align: right;\n",
       "    }\n",
       "</style>\n",
       "<table border=\"1\" class=\"dataframe\">\n",
       "  <thead>\n",
       "    <tr style=\"text-align: right;\">\n",
       "      <th></th>\n",
       "      <th>alt</th>\n",
       "      <th>refs</th>\n",
       "      <th>github_name</th>\n",
       "      <th>full_name</th>\n",
       "      <th>use_module</th>\n",
       "      <th>latest_version</th>\n",
       "      <th>version</th>\n",
       "      <th>dep_module</th>\n",
       "      <th>dep_version</th>\n",
       "    </tr>\n",
       "  </thead>\n",
       "  <tbody>\n",
       "    <tr>\n",
       "      <th>0</th>\n",
       "      <td>github.com/stretchr/testify</td>\n",
       "      <td>70935</td>\n",
       "      <td>github.com/stretchr/testify</td>\n",
       "      <td>stretchr/testify</td>\n",
       "      <td>1.0</td>\n",
       "      <td>v1.8.4</td>\n",
       "      <td>v1.8.4</td>\n",
       "      <td>github.com/davecgh/go-spew</td>\n",
       "      <td>v1.1.1</td>\n",
       "    </tr>\n",
       "    <tr>\n",
       "      <th>1</th>\n",
       "      <td>github.com/stretchr/testify</td>\n",
       "      <td>70935</td>\n",
       "      <td>github.com/stretchr/testify</td>\n",
       "      <td>stretchr/testify</td>\n",
       "      <td>1.0</td>\n",
       "      <td>v1.8.4</td>\n",
       "      <td>v1.8.4</td>\n",
       "      <td>github.com/pmezard/go-difflib</td>\n",
       "      <td>v1.0.0</td>\n",
       "    </tr>\n",
       "    <tr>\n",
       "      <th>2</th>\n",
       "      <td>github.com/stretchr/testify</td>\n",
       "      <td>70935</td>\n",
       "      <td>github.com/stretchr/testify</td>\n",
       "      <td>stretchr/testify</td>\n",
       "      <td>1.0</td>\n",
       "      <td>v1.8.4</td>\n",
       "      <td>v1.8.4</td>\n",
       "      <td>github.com/stretchr/objx</td>\n",
       "      <td>v0.5.0</td>\n",
       "    </tr>\n",
       "    <tr>\n",
       "      <th>3</th>\n",
       "      <td>github.com/stretchr/testify</td>\n",
       "      <td>70935</td>\n",
       "      <td>github.com/stretchr/testify</td>\n",
       "      <td>stretchr/testify</td>\n",
       "      <td>1.0</td>\n",
       "      <td>v1.8.4</td>\n",
       "      <td>v1.8.4</td>\n",
       "      <td>gopkg.in/yaml.v3</td>\n",
       "      <td>v3.0.1</td>\n",
       "    </tr>\n",
       "    <tr>\n",
       "      <th>4</th>\n",
       "      <td>gopkg.in/yaml.v2</td>\n",
       "      <td>57734</td>\n",
       "      <td>github.com/go-yaml/yaml</td>\n",
       "      <td>go-yaml/yaml</td>\n",
       "      <td>1.0</td>\n",
       "      <td>v3.0.1</td>\n",
       "      <td>v3.0.1</td>\n",
       "      <td>gopkg.in/check.v1</td>\n",
       "      <td>v0.0.0-20161208181325-20d25e280405</td>\n",
       "    </tr>\n",
       "    <tr>\n",
       "      <th>5</th>\n",
       "      <td>gopkg.in/yaml.v3</td>\n",
       "      <td>27104</td>\n",
       "      <td>github.com/go-yaml/yaml</td>\n",
       "      <td>go-yaml/yaml</td>\n",
       "      <td>1.0</td>\n",
       "      <td>v3.0.1</td>\n",
       "      <td>v3.0.1</td>\n",
       "      <td>gopkg.in/check.v1</td>\n",
       "      <td>v0.0.0-20161208181325-20d25e280405</td>\n",
       "    </tr>\n",
       "    <tr>\n",
       "      <th>6</th>\n",
       "      <td>github.com/go-yaml/yaml</td>\n",
       "      <td>2470</td>\n",
       "      <td>github.com/go-yaml/yaml</td>\n",
       "      <td>go-yaml/yaml</td>\n",
       "      <td>1.0</td>\n",
       "      <td>v3.0.1</td>\n",
       "      <td>v3.0.1</td>\n",
       "      <td>gopkg.in/check.v1</td>\n",
       "      <td>v0.0.0-20161208181325-20d25e280405</td>\n",
       "    </tr>\n",
       "    <tr>\n",
       "      <th>7</th>\n",
       "      <td>gopkg.in/yaml.v1</td>\n",
       "      <td>761</td>\n",
       "      <td>github.com/go-yaml/yaml</td>\n",
       "      <td>go-yaml/yaml</td>\n",
       "      <td>1.0</td>\n",
       "      <td>v3.0.1</td>\n",
       "      <td>v3.0.1</td>\n",
       "      <td>gopkg.in/check.v1</td>\n",
       "      <td>v0.0.0-20161208181325-20d25e280405</td>\n",
       "    </tr>\n",
       "    <tr>\n",
       "      <th>8</th>\n",
       "      <td>github.com/sirupsen/logrus</td>\n",
       "      <td>31952</td>\n",
       "      <td>github.com/sirupsen/logrus</td>\n",
       "      <td>sirupsen/logrus</td>\n",
       "      <td>1.0</td>\n",
       "      <td>v1.9.3</td>\n",
       "      <td>v1.9.3</td>\n",
       "      <td>github.com/stretchr/testify</td>\n",
       "      <td>v1.7.0</td>\n",
       "    </tr>\n",
       "    <tr>\n",
       "      <th>9</th>\n",
       "      <td>github.com/sirupsen/logrus</td>\n",
       "      <td>31952</td>\n",
       "      <td>github.com/sirupsen/logrus</td>\n",
       "      <td>sirupsen/logrus</td>\n",
       "      <td>1.0</td>\n",
       "      <td>v1.9.3</td>\n",
       "      <td>v1.9.3</td>\n",
       "      <td>golang.org/x/sys</td>\n",
       "      <td>v0.0.0-20220715151400-c0bba94af5f8</td>\n",
       "    </tr>\n",
       "    <tr>\n",
       "      <th>10</th>\n",
       "      <td>github.com/golang/protobuf</td>\n",
       "      <td>29396</td>\n",
       "      <td>github.com/golang/protobuf</td>\n",
       "      <td>golang/protobuf</td>\n",
       "      <td>1.0</td>\n",
       "      <td>v1.5.3</td>\n",
       "      <td>v1.5.3</td>\n",
       "      <td>github.com/google/go-cmp</td>\n",
       "      <td>v0.5.5</td>\n",
       "    </tr>\n",
       "    <tr>\n",
       "      <th>11</th>\n",
       "      <td>github.com/golang/protobuf</td>\n",
       "      <td>29396</td>\n",
       "      <td>github.com/golang/protobuf</td>\n",
       "      <td>golang/protobuf</td>\n",
       "      <td>1.0</td>\n",
       "      <td>v1.5.3</td>\n",
       "      <td>v1.5.3</td>\n",
       "      <td>google.golang.org/protobuf</td>\n",
       "      <td>v1.26.0</td>\n",
       "    </tr>\n",
       "    <tr>\n",
       "      <th>12</th>\n",
       "      <td>github.com/golang/mock</td>\n",
       "      <td>24785</td>\n",
       "      <td>github.com/golang/mock</td>\n",
       "      <td>golang/mock</td>\n",
       "      <td>1.0</td>\n",
       "      <td>v1.7.0-rc.1</td>\n",
       "      <td>v1.7.0-rc.1</td>\n",
       "      <td>golang.org/x/mod</td>\n",
       "      <td>v0.5.1</td>\n",
       "    </tr>\n",
       "    <tr>\n",
       "      <th>13</th>\n",
       "      <td>github.com/golang/mock</td>\n",
       "      <td>24785</td>\n",
       "      <td>github.com/golang/mock</td>\n",
       "      <td>golang/mock</td>\n",
       "      <td>1.0</td>\n",
       "      <td>v1.7.0-rc.1</td>\n",
       "      <td>v1.7.0-rc.1</td>\n",
       "      <td>golang.org/x/tools</td>\n",
       "      <td>v0.1.8</td>\n",
       "    </tr>\n",
       "    <tr>\n",
       "      <th>14</th>\n",
       "      <td>sigs.k8s.io/yaml</td>\n",
       "      <td>19190</td>\n",
       "      <td>github.com/kubernetes-sigs/yaml</td>\n",
       "      <td>kubernetes-sigs/yaml</td>\n",
       "      <td>1.0</td>\n",
       "      <td>v1.3.0</td>\n",
       "      <td>v1.3.0</td>\n",
       "      <td>github.com/davecgh/go-spew</td>\n",
       "      <td>v1.1.1</td>\n",
       "    </tr>\n",
       "    <tr>\n",
       "      <th>15</th>\n",
       "      <td>sigs.k8s.io/yaml</td>\n",
       "      <td>19190</td>\n",
       "      <td>github.com/kubernetes-sigs/yaml</td>\n",
       "      <td>kubernetes-sigs/yaml</td>\n",
       "      <td>1.0</td>\n",
       "      <td>v1.3.0</td>\n",
       "      <td>v1.3.0</td>\n",
       "      <td>gopkg.in/yaml.v2</td>\n",
       "      <td>v2.4.0</td>\n",
       "    </tr>\n",
       "    <tr>\n",
       "      <th>16</th>\n",
       "      <td>github.com/olekukonko/tablewriter</td>\n",
       "      <td>17293</td>\n",
       "      <td>github.com/olekukonko/tablewriter</td>\n",
       "      <td>olekukonko/tablewriter</td>\n",
       "      <td>1.0</td>\n",
       "      <td>v0.0.5</td>\n",
       "      <td>v0.0.5</td>\n",
       "      <td>github.com/mattn/go-runewidth</td>\n",
       "      <td>v0.0.9</td>\n",
       "    </tr>\n",
       "    <tr>\n",
       "      <th>17</th>\n",
       "      <td>github.com/fatih/color</td>\n",
       "      <td>16780</td>\n",
       "      <td>github.com/fatih/color</td>\n",
       "      <td>fatih/color</td>\n",
       "      <td>1.0</td>\n",
       "      <td>v1.15.0</td>\n",
       "      <td>v1.15.0</td>\n",
       "      <td>github.com/mattn/go-colorable</td>\n",
       "      <td>v0.1.13</td>\n",
       "    </tr>\n",
       "    <tr>\n",
       "      <th>18</th>\n",
       "      <td>github.com/fatih/color</td>\n",
       "      <td>16780</td>\n",
       "      <td>github.com/fatih/color</td>\n",
       "      <td>fatih/color</td>\n",
       "      <td>1.0</td>\n",
       "      <td>v1.15.0</td>\n",
       "      <td>v1.15.0</td>\n",
       "      <td>github.com/mattn/go-isatty</td>\n",
       "      <td>v0.0.17</td>\n",
       "    </tr>\n",
       "    <tr>\n",
       "      <th>19</th>\n",
       "      <td>github.com/fatih/color</td>\n",
       "      <td>16780</td>\n",
       "      <td>github.com/fatih/color</td>\n",
       "      <td>fatih/color</td>\n",
       "      <td>1.0</td>\n",
       "      <td>v1.15.0</td>\n",
       "      <td>v1.15.0</td>\n",
       "      <td>golang.org/x/sys</td>\n",
       "      <td>v0.6.0</td>\n",
       "    </tr>\n",
       "    <tr>\n",
       "      <th>20</th>\n",
       "      <td>github.com/hashicorp/go-multierror</td>\n",
       "      <td>16765</td>\n",
       "      <td>github.com/hashicorp/go-multierror</td>\n",
       "      <td>hashicorp/go-multierror</td>\n",
       "      <td>1.0</td>\n",
       "      <td>v1.1.1</td>\n",
       "      <td>v1.1.1</td>\n",
       "      <td>github.com/hashicorp/errwrap</td>\n",
       "      <td>v1.0.0</td>\n",
       "    </tr>\n",
       "    <tr>\n",
       "      <th>21</th>\n",
       "      <td>github.com/spf13/cobra</td>\n",
       "      <td>16547</td>\n",
       "      <td>github.com/spf13/cobra</td>\n",
       "      <td>spf13/cobra</td>\n",
       "      <td>1.0</td>\n",
       "      <td>v1.7.0</td>\n",
       "      <td>v1.7.0</td>\n",
       "      <td>github.com/cpuguy83/go-md2man/v2</td>\n",
       "      <td>v2.0.2</td>\n",
       "    </tr>\n",
       "    <tr>\n",
       "      <th>22</th>\n",
       "      <td>github.com/spf13/cobra</td>\n",
       "      <td>16547</td>\n",
       "      <td>github.com/spf13/cobra</td>\n",
       "      <td>spf13/cobra</td>\n",
       "      <td>1.0</td>\n",
       "      <td>v1.7.0</td>\n",
       "      <td>v1.7.0</td>\n",
       "      <td>github.com/inconshreveable/mousetrap</td>\n",
       "      <td>v1.1.0</td>\n",
       "    </tr>\n",
       "    <tr>\n",
       "      <th>23</th>\n",
       "      <td>github.com/spf13/cobra</td>\n",
       "      <td>16547</td>\n",
       "      <td>github.com/spf13/cobra</td>\n",
       "      <td>spf13/cobra</td>\n",
       "      <td>1.0</td>\n",
       "      <td>v1.7.0</td>\n",
       "      <td>v1.7.0</td>\n",
       "      <td>github.com/spf13/pflag</td>\n",
       "      <td>v1.0.5</td>\n",
       "    </tr>\n",
       "    <tr>\n",
       "      <th>24</th>\n",
       "      <td>github.com/spf13/cobra</td>\n",
       "      <td>16547</td>\n",
       "      <td>github.com/spf13/cobra</td>\n",
       "      <td>spf13/cobra</td>\n",
       "      <td>1.0</td>\n",
       "      <td>v1.7.0</td>\n",
       "      <td>v1.7.0</td>\n",
       "      <td>gopkg.in/yaml.v3</td>\n",
       "      <td>v3.0.1</td>\n",
       "    </tr>\n",
       "    <tr>\n",
       "      <th>25</th>\n",
       "      <td>github.com/dgrijalva/jwt-go</td>\n",
       "      <td>16098</td>\n",
       "      <td>github.com/dgrijalva/jwt-go</td>\n",
       "      <td>dgrijalva/jwt-go</td>\n",
       "      <td>1.0</td>\n",
       "      <td>v4.0.0-preview1</td>\n",
       "      <td>v4.0.0-preview1</td>\n",
       "      <td>golang.org/x/xerrors</td>\n",
       "      <td>v0.0.0-20191204190536-9bdfabe68543</td>\n",
       "    </tr>\n",
       "    <tr>\n",
       "      <th>26</th>\n",
       "      <td>gopkg.in/dgrijalva/jwt-go.v3</td>\n",
       "      <td>286</td>\n",
       "      <td>github.com/dgrijalva/jwt-go</td>\n",
       "      <td>dgrijalva/jwt-go</td>\n",
       "      <td>1.0</td>\n",
       "      <td>v4.0.0-preview1</td>\n",
       "      <td>v4.0.0-preview1</td>\n",
       "      <td>golang.org/x/xerrors</td>\n",
       "      <td>v0.0.0-20191204190536-9bdfabe68543</td>\n",
       "    </tr>\n",
       "    <tr>\n",
       "      <th>27</th>\n",
       "      <td>k8s.io/klog</td>\n",
       "      <td>13237</td>\n",
       "      <td>github.com/kubernetes/klog</td>\n",
       "      <td>kubernetes/klog</td>\n",
       "      <td>1.0</td>\n",
       "      <td>v2.100.1</td>\n",
       "      <td>v2.100.1</td>\n",
       "      <td>github.com/go-logr/logr</td>\n",
       "      <td>v1.2.0</td>\n",
       "    </tr>\n",
       "    <tr>\n",
       "      <th>28</th>\n",
       "      <td>k8s.io/klog/v2</td>\n",
       "      <td>4240</td>\n",
       "      <td>github.com/kubernetes/klog</td>\n",
       "      <td>kubernetes/klog</td>\n",
       "      <td>1.0</td>\n",
       "      <td>v2.100.1</td>\n",
       "      <td>v2.100.1</td>\n",
       "      <td>github.com/go-logr/logr</td>\n",
       "      <td>v1.2.0</td>\n",
       "    </tr>\n",
       "    <tr>\n",
       "      <th>29</th>\n",
       "      <td>github.com/spf13/viper</td>\n",
       "      <td>12932</td>\n",
       "      <td>github.com/spf13/viper</td>\n",
       "      <td>spf13/viper</td>\n",
       "      <td>1.0</td>\n",
       "      <td>v1.16.0</td>\n",
       "      <td>v1.16.0</td>\n",
       "      <td>github.com/fsnotify/fsnotify</td>\n",
       "      <td>v1.6.0</td>\n",
       "    </tr>\n",
       "  </tbody>\n",
       "</table>\n",
       "</div>"
      ],
      "text/plain": [
       "                                   alt   refs  \\\n",
       "0          github.com/stretchr/testify  70935   \n",
       "1          github.com/stretchr/testify  70935   \n",
       "2          github.com/stretchr/testify  70935   \n",
       "3          github.com/stretchr/testify  70935   \n",
       "4                     gopkg.in/yaml.v2  57734   \n",
       "5                     gopkg.in/yaml.v3  27104   \n",
       "6              github.com/go-yaml/yaml   2470   \n",
       "7                     gopkg.in/yaml.v1    761   \n",
       "8           github.com/sirupsen/logrus  31952   \n",
       "9           github.com/sirupsen/logrus  31952   \n",
       "10          github.com/golang/protobuf  29396   \n",
       "11          github.com/golang/protobuf  29396   \n",
       "12              github.com/golang/mock  24785   \n",
       "13              github.com/golang/mock  24785   \n",
       "14                    sigs.k8s.io/yaml  19190   \n",
       "15                    sigs.k8s.io/yaml  19190   \n",
       "16   github.com/olekukonko/tablewriter  17293   \n",
       "17              github.com/fatih/color  16780   \n",
       "18              github.com/fatih/color  16780   \n",
       "19              github.com/fatih/color  16780   \n",
       "20  github.com/hashicorp/go-multierror  16765   \n",
       "21              github.com/spf13/cobra  16547   \n",
       "22              github.com/spf13/cobra  16547   \n",
       "23              github.com/spf13/cobra  16547   \n",
       "24              github.com/spf13/cobra  16547   \n",
       "25         github.com/dgrijalva/jwt-go  16098   \n",
       "26        gopkg.in/dgrijalva/jwt-go.v3    286   \n",
       "27                         k8s.io/klog  13237   \n",
       "28                      k8s.io/klog/v2   4240   \n",
       "29              github.com/spf13/viper  12932   \n",
       "\n",
       "                           github_name                full_name  use_module  \\\n",
       "0          github.com/stretchr/testify         stretchr/testify         1.0   \n",
       "1          github.com/stretchr/testify         stretchr/testify         1.0   \n",
       "2          github.com/stretchr/testify         stretchr/testify         1.0   \n",
       "3          github.com/stretchr/testify         stretchr/testify         1.0   \n",
       "4              github.com/go-yaml/yaml             go-yaml/yaml         1.0   \n",
       "5              github.com/go-yaml/yaml             go-yaml/yaml         1.0   \n",
       "6              github.com/go-yaml/yaml             go-yaml/yaml         1.0   \n",
       "7              github.com/go-yaml/yaml             go-yaml/yaml         1.0   \n",
       "8           github.com/sirupsen/logrus          sirupsen/logrus         1.0   \n",
       "9           github.com/sirupsen/logrus          sirupsen/logrus         1.0   \n",
       "10          github.com/golang/protobuf          golang/protobuf         1.0   \n",
       "11          github.com/golang/protobuf          golang/protobuf         1.0   \n",
       "12              github.com/golang/mock              golang/mock         1.0   \n",
       "13              github.com/golang/mock              golang/mock         1.0   \n",
       "14     github.com/kubernetes-sigs/yaml     kubernetes-sigs/yaml         1.0   \n",
       "15     github.com/kubernetes-sigs/yaml     kubernetes-sigs/yaml         1.0   \n",
       "16   github.com/olekukonko/tablewriter   olekukonko/tablewriter         1.0   \n",
       "17              github.com/fatih/color              fatih/color         1.0   \n",
       "18              github.com/fatih/color              fatih/color         1.0   \n",
       "19              github.com/fatih/color              fatih/color         1.0   \n",
       "20  github.com/hashicorp/go-multierror  hashicorp/go-multierror         1.0   \n",
       "21              github.com/spf13/cobra              spf13/cobra         1.0   \n",
       "22              github.com/spf13/cobra              spf13/cobra         1.0   \n",
       "23              github.com/spf13/cobra              spf13/cobra         1.0   \n",
       "24              github.com/spf13/cobra              spf13/cobra         1.0   \n",
       "25         github.com/dgrijalva/jwt-go         dgrijalva/jwt-go         1.0   \n",
       "26         github.com/dgrijalva/jwt-go         dgrijalva/jwt-go         1.0   \n",
       "27          github.com/kubernetes/klog          kubernetes/klog         1.0   \n",
       "28          github.com/kubernetes/klog          kubernetes/klog         1.0   \n",
       "29              github.com/spf13/viper              spf13/viper         1.0   \n",
       "\n",
       "     latest_version          version                            dep_module  \\\n",
       "0            v1.8.4           v1.8.4            github.com/davecgh/go-spew   \n",
       "1            v1.8.4           v1.8.4         github.com/pmezard/go-difflib   \n",
       "2            v1.8.4           v1.8.4              github.com/stretchr/objx   \n",
       "3            v1.8.4           v1.8.4                      gopkg.in/yaml.v3   \n",
       "4            v3.0.1           v3.0.1                     gopkg.in/check.v1   \n",
       "5            v3.0.1           v3.0.1                     gopkg.in/check.v1   \n",
       "6            v3.0.1           v3.0.1                     gopkg.in/check.v1   \n",
       "7            v3.0.1           v3.0.1                     gopkg.in/check.v1   \n",
       "8            v1.9.3           v1.9.3           github.com/stretchr/testify   \n",
       "9            v1.9.3           v1.9.3                      golang.org/x/sys   \n",
       "10           v1.5.3           v1.5.3              github.com/google/go-cmp   \n",
       "11           v1.5.3           v1.5.3            google.golang.org/protobuf   \n",
       "12      v1.7.0-rc.1      v1.7.0-rc.1                      golang.org/x/mod   \n",
       "13      v1.7.0-rc.1      v1.7.0-rc.1                    golang.org/x/tools   \n",
       "14           v1.3.0           v1.3.0            github.com/davecgh/go-spew   \n",
       "15           v1.3.0           v1.3.0                      gopkg.in/yaml.v2   \n",
       "16           v0.0.5           v0.0.5         github.com/mattn/go-runewidth   \n",
       "17          v1.15.0          v1.15.0         github.com/mattn/go-colorable   \n",
       "18          v1.15.0          v1.15.0            github.com/mattn/go-isatty   \n",
       "19          v1.15.0          v1.15.0                      golang.org/x/sys   \n",
       "20           v1.1.1           v1.1.1          github.com/hashicorp/errwrap   \n",
       "21           v1.7.0           v1.7.0      github.com/cpuguy83/go-md2man/v2   \n",
       "22           v1.7.0           v1.7.0  github.com/inconshreveable/mousetrap   \n",
       "23           v1.7.0           v1.7.0                github.com/spf13/pflag   \n",
       "24           v1.7.0           v1.7.0                      gopkg.in/yaml.v3   \n",
       "25  v4.0.0-preview1  v4.0.0-preview1                  golang.org/x/xerrors   \n",
       "26  v4.0.0-preview1  v4.0.0-preview1                  golang.org/x/xerrors   \n",
       "27         v2.100.1         v2.100.1               github.com/go-logr/logr   \n",
       "28         v2.100.1         v2.100.1               github.com/go-logr/logr   \n",
       "29          v1.16.0          v1.16.0          github.com/fsnotify/fsnotify   \n",
       "\n",
       "                           dep_version  \n",
       "0                               v1.1.1  \n",
       "1                               v1.0.0  \n",
       "2                               v0.5.0  \n",
       "3                               v3.0.1  \n",
       "4   v0.0.0-20161208181325-20d25e280405  \n",
       "5   v0.0.0-20161208181325-20d25e280405  \n",
       "6   v0.0.0-20161208181325-20d25e280405  \n",
       "7   v0.0.0-20161208181325-20d25e280405  \n",
       "8                               v1.7.0  \n",
       "9   v0.0.0-20220715151400-c0bba94af5f8  \n",
       "10                              v0.5.5  \n",
       "11                             v1.26.0  \n",
       "12                              v0.5.1  \n",
       "13                              v0.1.8  \n",
       "14                              v1.1.1  \n",
       "15                              v2.4.0  \n",
       "16                              v0.0.9  \n",
       "17                             v0.1.13  \n",
       "18                             v0.0.17  \n",
       "19                              v0.6.0  \n",
       "20                              v1.0.0  \n",
       "21                              v2.0.2  \n",
       "22                              v1.1.0  \n",
       "23                              v1.0.5  \n",
       "24                              v3.0.1  \n",
       "25  v0.0.0-20191204190536-9bdfabe68543  \n",
       "26  v0.0.0-20191204190536-9bdfabe68543  \n",
       "27                              v1.2.0  \n",
       "28                              v1.2.0  \n",
       "29                              v1.6.0  "
      ]
     },
     "execution_count": 88,
     "metadata": {},
     "output_type": "execute_result"
    }
   ],
   "source": [
    "df_top2000_lib_deps.head(30)"
   ]
  },
  {
   "cell_type": "markdown",
   "id": "cfda4c0c-6d0c-415a-a974-779fd514f512",
   "metadata": {},
   "source": [
    "### Match vul dataset by name"
   ]
  },
  {
   "cell_type": "code",
   "execution_count": 90,
   "id": "78a1844d-78ec-42cc-9ffe-812505bac181",
   "metadata": {},
   "outputs": [],
   "source": [
    "import semver\n",
    "def to_semver(v):\n",
    "    try:\n",
    "        return semver.version.Version.parse(v[1:] if v.startswith(\"v\") else v)\n",
    "    except AttributeError as e:\n",
    "        return None\n",
    "df_sec_iss = df_top2000_lib_deps.merge(df_vuln, how=\"inner\", left_on=\"dep_module\", right_on=\"module\")\n",
    "df_sec_iss[\"fix_version\"] = df_sec_iss.apply(lambda r: to_semver(r['fix_version']) , axis=1)\n",
    "df_sec_iss[\"dep_version\"] = df_sec_iss.apply(lambda r: to_semver(r['dep_version']) , axis=1)\n",
    "df_sec_iss = df_sec_iss.query(\"dep_version < fix_version\").drop(columns=[\"github_name\", \"module\"])"
   ]
  },
  {
   "cell_type": "code",
   "execution_count": 91,
   "id": "6bc0b633-c0d5-443d-880c-2b0cf00e2a2b",
   "metadata": {},
   "outputs": [],
   "source": [
    "# df_sec_iss.drop(columns=[\"dep_version\", \"module\", \"fix_version\"], inplace=True)\n",
    "df_sec_iss = df_sec_iss.sort_values(\"refs\", ascending=False)"
   ]
  },
  {
   "cell_type": "code",
   "execution_count": 68,
   "id": "f43e469d-d2b0-48bf-b87a-926a535c5e1b",
   "metadata": {},
   "outputs": [
    {
     "data": {
      "text/html": [
       "<div>\n",
       "<style scoped>\n",
       "    .dataframe tbody tr th:only-of-type {\n",
       "        vertical-align: middle;\n",
       "    }\n",
       "\n",
       "    .dataframe tbody tr th {\n",
       "        vertical-align: top;\n",
       "    }\n",
       "\n",
       "    .dataframe thead th {\n",
       "        text-align: right;\n",
       "    }\n",
       "</style>\n",
       "<table border=\"1\" class=\"dataframe\">\n",
       "  <thead>\n",
       "    <tr style=\"text-align: right;\">\n",
       "      <th></th>\n",
       "      <th>alt</th>\n",
       "      <th>refs</th>\n",
       "      <th>full_name</th>\n",
       "      <th>use_module</th>\n",
       "      <th>latest_version</th>\n",
       "      <th>version</th>\n",
       "      <th>dep_module</th>\n",
       "      <th>dep_version</th>\n",
       "      <th>fix_version</th>\n",
       "      <th>vul_id</th>\n",
       "      <th>alias</th>\n",
       "      <th>published</th>\n",
       "    </tr>\n",
       "  </thead>\n",
       "  <tbody>\n",
       "  </tbody>\n",
       "</table>\n",
       "</div>"
      ],
      "text/plain": [
       "Empty DataFrame\n",
       "Columns: [alt, refs, full_name, use_module, latest_version, version, dep_module, dep_version, fix_version, vul_id, alias, published]\n",
       "Index: []"
      ]
     },
     "execution_count": 68,
     "metadata": {},
     "output_type": "execute_result"
    }
   ],
   "source": []
  },
  {
   "cell_type": "code",
   "execution_count": 101,
   "id": "58c5b7a7-092b-40f0-ae80-504486bf4917",
   "metadata": {},
   "outputs": [],
   "source": [
    "df_po = df_sec_iss.groupby([\"alt\", \"version\"]).agg({\"refs\": \"max\", \"alias\": lambda col: \",\".join(col)})\n",
    "df_po = df_po.reset_index(level=1)\n",
    "df_po = df_po.reset_index(level=0)\n"
   ]
  },
  {
   "cell_type": "code",
   "execution_count": 102,
   "id": "2a6e8dd5-3710-460b-939c-37692f79a911",
   "metadata": {},
   "outputs": [],
   "source": [
    "df_po = df_po.sort_values([\"refs\"], ascending=False).drop(columns=['refs'])\n",
    "#df_po = df_po.sort_values([\"refs\"], ascending=False)\n",
    "df_po.rename(\n",
    "    columns={\n",
    "        'alias':'Vul IDs',\n",
    "        'version': 'Version',\n",
    "        'alt':'Library Name',\n",
    "    },\n",
    "    inplace=True\n",
    ")\n"
   ]
  },
  {
   "cell_type": "code",
   "execution_count": 103,
   "id": "834074d8-f3d3-4438-bc0e-4743e8c72c26",
   "metadata": {},
   "outputs": [],
   "source": [
    "df_po.head(20).to_latex(\"__vul.tex\", index=False)"
   ]
  },
  {
   "cell_type": "code",
   "execution_count": 53,
   "id": "2f851620-c23a-4670-9453-0d63c172b578",
   "metadata": {},
   "outputs": [],
   "source": [
    "df_sec_iss.to_csv(\"potential-sec-issue.csv\")"
   ]
  },
  {
   "cell_type": "markdown",
   "id": "0ad05fd3-0dcf-4f7f-a67c-b3ecf4b7579b",
   "metadata": {},
   "source": [
    "## ****************************** DEBUG CELLS ****************************** "
   ]
  },
  {
   "cell_type": "code",
   "execution_count": null,
   "id": "f55de9de-0a1b-4ecf-afa5-7d1154aae2d9",
   "metadata": {},
   "outputs": [],
   "source": [
    "cost_dfs = []\n",
    "for date_range in date_ranges:\n",
    "    df = pd.read_excel(\"round2/%s-repo-%d-%s-%s.xlsx\" % (lang, stars, date_range[0], date_range[1]))\n",
    "    cost_dfs.append(df)\n",
    "combined = pd.concat(cost_dfs)\n",
    "combined.to_csv('round2/combined.csv')\n"
   ]
  },
  {
   "cell_type": "code",
   "execution_count": null,
   "id": "5911e406-2d4a-4b8a-b77a-6c9888149eff",
   "metadata": {},
   "outputs": [],
   "source": [
    "df_latest_ver = pd.read_csv(\"latest_ver.csv\")"
   ]
  },
  {
   "cell_type": "code",
   "execution_count": null,
   "id": "6ff3fa19-0cb9-433d-a8c0-e035fb302e7d",
   "metadata": {},
   "outputs": [],
   "source": [
    "df_latest_ver"
   ]
  },
  {
   "cell_type": "code",
   "execution_count": null,
   "id": "301b9baf-1ede-4b4d-a91c-67ac8f99ab4c",
   "metadata": {},
   "outputs": [],
   "source": [
    "df_latex = df_latex.merge(df_latest_ver, how=\"inner\", on=\"Repository\")\n",
    "df_latex"
   ]
  },
  {
   "cell_type": "code",
   "execution_count": null,
   "id": "9e930125-5ea9-4aca-b927-b46eba920cbb",
   "metadata": {},
   "outputs": [],
   "source": [
    "df_latex = df_latex[[\"Repository\", \"Import Name\", \"Latest Version\", \"Most Used Version\", \"Total Refs\", \"Stars\", \"Since\"]]\n",
    "df_latex.to_latex(\"__libs.tex\")"
   ]
  },
  {
   "cell_type": "markdown",
   "id": "58f82d52-d5b0-4206-84c2-4b111db0c28b",
   "metadata": {},
   "source": [
    "### check go.mod file size"
   ]
  },
  {
   "cell_type": "code",
   "execution_count": 105,
   "id": "ce803dc1-3fec-45e4-b194-512a3a6fea80",
   "metadata": {},
   "outputs": [],
   "source": [
    "df_mod_size = pd.read_csv(\"gomod-size.csv\")"
   ]
  },
  {
   "cell_type": "code",
   "execution_count": 106,
   "id": "dda50406-cfae-47f8-81ec-56eb13b8a38f",
   "metadata": {},
   "outputs": [
    {
     "data": {
      "text/html": [
       "<div>\n",
       "<style scoped>\n",
       "    .dataframe tbody tr th:only-of-type {\n",
       "        vertical-align: middle;\n",
       "    }\n",
       "\n",
       "    .dataframe tbody tr th {\n",
       "        vertical-align: top;\n",
       "    }\n",
       "\n",
       "    .dataframe thead th {\n",
       "        text-align: right;\n",
       "    }\n",
       "</style>\n",
       "<table border=\"1\" class=\"dataframe\">\n",
       "  <thead>\n",
       "    <tr style=\"text-align: right;\">\n",
       "      <th></th>\n",
       "      <th>bytes</th>\n",
       "    </tr>\n",
       "  </thead>\n",
       "  <tbody>\n",
       "    <tr>\n",
       "      <th>count</th>\n",
       "      <td>536669.000000</td>\n",
       "    </tr>\n",
       "    <tr>\n",
       "      <th>mean</th>\n",
       "      <td>2678.539532</td>\n",
       "    </tr>\n",
       "    <tr>\n",
       "      <th>std</th>\n",
       "      <td>4487.060869</td>\n",
       "    </tr>\n",
       "    <tr>\n",
       "      <th>min</th>\n",
       "      <td>0.000000</td>\n",
       "    </tr>\n",
       "    <tr>\n",
       "      <th>25%</th>\n",
       "      <td>397.000000</td>\n",
       "    </tr>\n",
       "    <tr>\n",
       "      <th>50%</th>\n",
       "      <td>1077.000000</td>\n",
       "    </tr>\n",
       "    <tr>\n",
       "      <th>75%</th>\n",
       "      <td>3015.000000</td>\n",
       "    </tr>\n",
       "    <tr>\n",
       "      <th>max</th>\n",
       "      <td>74352.000000</td>\n",
       "    </tr>\n",
       "  </tbody>\n",
       "</table>\n",
       "</div>"
      ],
      "text/plain": [
       "               bytes\n",
       "count  536669.000000\n",
       "mean     2678.539532\n",
       "std      4487.060869\n",
       "min         0.000000\n",
       "25%       397.000000\n",
       "50%      1077.000000\n",
       "75%      3015.000000\n",
       "max     74352.000000"
      ]
     },
     "execution_count": 106,
     "metadata": {},
     "output_type": "execute_result"
    }
   ],
   "source": [
    "df_mod_size.describe()"
   ]
  },
  {
   "cell_type": "code",
   "execution_count": 107,
   "id": "46472626-fe79-4253-b608-f6fa6d6569a5",
   "metadata": {},
   "outputs": [],
   "source": [
    "df_parquet = pd.read_parquet(\"gomod.parquet\")\n"
   ]
  },
  {
   "cell_type": "code",
   "execution_count": 109,
   "id": "595a015e-9dc7-46d4-a178-e486858a29f8",
   "metadata": {},
   "outputs": [
    {
     "data": {
      "text/html": [
       "<div>\n",
       "<style scoped>\n",
       "    .dataframe tbody tr th:only-of-type {\n",
       "        vertical-align: middle;\n",
       "    }\n",
       "\n",
       "    .dataframe tbody tr th {\n",
       "        vertical-align: top;\n",
       "    }\n",
       "\n",
       "    .dataframe thead th {\n",
       "        text-align: right;\n",
       "    }\n",
       "</style>\n",
       "<table border=\"1\" class=\"dataframe\">\n",
       "  <thead>\n",
       "    <tr style=\"text-align: right;\">\n",
       "      <th></th>\n",
       "      <th>repo</th>\n",
       "      <th>version</th>\n",
       "      <th>sub_path</th>\n",
       "      <th>content</th>\n",
       "    </tr>\n",
       "  </thead>\n",
       "  <tbody>\n",
       "    <tr>\n",
       "      <th>0</th>\n",
       "      <td>payt0nc/fairplay-ksm</td>\n",
       "      <td>master</td>\n",
       "      <td></td>\n",
       "      <td>module github.com/cooomma/fairplay-ksm\\n\\ngo 1...</td>\n",
       "    </tr>\n",
       "    <tr>\n",
       "      <th>1</th>\n",
       "      <td>markelog/eclectica</td>\n",
       "      <td>v0.8.2</td>\n",
       "      <td></td>\n",
       "      <td>module github.com/markelog/eclectica\\n\\ngo 1.1...</td>\n",
       "    </tr>\n",
       "    <tr>\n",
       "      <th>2</th>\n",
       "      <td>markelog/eclectica</td>\n",
       "      <td>v0.8.5</td>\n",
       "      <td></td>\n",
       "      <td>module github.com/markelog/eclectica\\n\\ngo 1.1...</td>\n",
       "    </tr>\n",
       "    <tr>\n",
       "      <th>3</th>\n",
       "      <td>markelog/eclectica</td>\n",
       "      <td>v0.8.4</td>\n",
       "      <td></td>\n",
       "      <td>module github.com/markelog/eclectica\\n\\ngo 1.1...</td>\n",
       "    </tr>\n",
       "    <tr>\n",
       "      <th>4</th>\n",
       "      <td>markelog/eclectica</td>\n",
       "      <td>v0.8.3</td>\n",
       "      <td></td>\n",
       "      <td>module github.com/markelog/eclectica\\n\\ngo 1.1...</td>\n",
       "    </tr>\n",
       "  </tbody>\n",
       "</table>\n",
       "</div>"
      ],
      "text/plain": [
       "                   repo version sub_path  \\\n",
       "0  payt0nc/fairplay-ksm  master            \n",
       "1    markelog/eclectica  v0.8.2            \n",
       "2    markelog/eclectica  v0.8.5            \n",
       "3    markelog/eclectica  v0.8.4            \n",
       "4    markelog/eclectica  v0.8.3            \n",
       "\n",
       "                                             content  \n",
       "0  module github.com/cooomma/fairplay-ksm\\n\\ngo 1...  \n",
       "1  module github.com/markelog/eclectica\\n\\ngo 1.1...  \n",
       "2  module github.com/markelog/eclectica\\n\\ngo 1.1...  \n",
       "3  module github.com/markelog/eclectica\\n\\ngo 1.1...  \n",
       "4  module github.com/markelog/eclectica\\n\\ngo 1.1...  "
      ]
     },
     "execution_count": 109,
     "metadata": {},
     "output_type": "execute_result"
    }
   ],
   "source": [
    "df_parquet.head()"
   ]
  }
 ],
 "metadata": {
  "kernelspec": {
   "display_name": "Python 3 (ipykernel)",
   "language": "python",
   "name": "python3"
  },
  "language_info": {
   "codemirror_mode": {
    "name": "ipython",
    "version": 3
   },
   "file_extension": ".py",
   "mimetype": "text/x-python",
   "name": "python",
   "nbconvert_exporter": "python",
   "pygments_lexer": "ipython3",
   "version": "3.11.4"
  }
 },
 "nbformat": 4,
 "nbformat_minor": 5
}
