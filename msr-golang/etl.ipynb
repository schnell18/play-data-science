{
 "cells": [
  {
   "cell_type": "code",
   "execution_count": 4,
   "id": "6411d9c2-976a-4b13-bf7a-bba23477068e",
   "metadata": {
    "scrolled": true
   },
   "outputs": [],
   "source": [
    "import pandas as pd\n",
    "import numpy as np\n",
    "import requests"
   ]
  },
  {
   "cell_type": "markdown",
   "id": "107e6ccc-8a85-4e14-9886-8faa2a1bae17",
   "metadata": {},
   "source": [
    "## Prepare repo list for further processing"
   ]
  },
  {
   "cell_type": "code",
   "execution_count": 31,
   "id": "4582ac53-73ba-45f1-a102-08ac36d756b4",
   "metadata": {},
   "outputs": [],
   "source": [
    "df = pd.read_excel(\"repo-candidates/combined.xlsx\")\n",
    "\n",
    "# remove less useful fields, serve as main record\n",
    "df.to_csv(\n",
    "    \"repo-candidates/main.csv\",\n",
    "    index=False,\n",
    "    columns=[\n",
    "        \"id\", \"full_name\", \"topics\", \"default_branch\",\n",
    "        \"homepage\", \"description\", \"fork\", \"language\",\n",
    "        \"license\", \"pushed_at\", \"created_at\",\n",
    "        \"updated_at\", \"size\", \"forks_count\", \"stargazers_count\",\n",
    "        \"watchers_count\", \"open_issues_count\", \"has_discussions\",\n",
    "        \"has_downloads\", \"has_issues\", \"has_pages\", \"has_projects\",\n",
    "        \"has_wiki\", \"is_template\", \"web_commit_signoff_required\",\n",
    "    ]\n",
    ")\n",
    "\n",
    "# slim version for collecting go.mod files on cloud\n",
    "df.to_csv(\n",
    "    \"repo-candidates/slim.csv\",\n",
    "    columns=[\n",
    "        'id', 'full_name', 'stargazers_count',\n",
    "        'forks_count', 'created_at'\n",
    "    ]\n",
    ")\n",
    "\n",
    "df_main = pd.read_csv(\n",
    "    \"repo-candidates/main.csv\",\n",
    "    parse_dates=[ \"pushed_at\", \"created_at\", \"updated_at\" ]\n",
    ")"
   ]
  },
  {
   "cell_type": "markdown",
   "id": "5c327b2b-6b8c-4fc5-9eaf-67603b107d38",
   "metadata": {},
   "source": [
    "## Collect go.mod files(run on cloud) "
   ]
  },
  {
   "cell_type": "markdown",
   "id": "01dd397c-079e-4de8-845f-8601bde5406d",
   "metadata": {},
   "source": [
    "## Download go.mod files and extract to mod-info dir"
   ]
  },
  {
   "cell_type": "code",
   "execution_count": 105,
   "id": "2c7dd6ee-89d8-43c9-a1a1-978894f5deea",
   "metadata": {},
   "outputs": [
    {
     "name": "stdout",
     "output_type": "stream",
     "text": [
      "mod-info.tgz                                  100%   78MB   2.4MB/s   00:33    \n"
     ]
    }
   ],
   "source": [
    "!scp data-science-station:/home/ubuntu/projects/big-data-task/play-data-science/msr-golang/mod-info.tgz ."
   ]
  },
  {
   "cell_type": "code",
   "execution_count": null,
   "id": "57a26542-e6c8-4f68-980e-7741a8b4a652",
   "metadata": {},
   "outputs": [],
   "source": [
    "!rm -fr tmp1\n",
    "!mkdir -p tmp1\n",
    "!tar -xzf mod-info.tgz -C tmp1"
   ]
  },
  {
   "cell_type": "markdown",
   "id": "94d309ea-6c55-4b7a-9bfd-e2f8041da5e1",
   "metadata": {},
   "source": [
    "## Parse go.mod files to get module reference count"
   ]
  },
  {
   "cell_type": "code",
   "execution_count": null,
   "id": "dfa0b23a-e3fa-4aac-b1a7-a44ef60bdf1e",
   "metadata": {},
   "outputs": [],
   "source": [
    "%time\n",
    "# call the script `parse-module-deps.py`\n",
    "from parser import parse_deps\n",
    "\n",
    "parse_deps(base_dir=\"mod-info.oci\", deps_file=\"dependencies.csv\", trace=False)"
   ]
  },
  {
   "cell_type": "markdown",
   "id": "d6af4f7e-889d-40f7-ab42-2ead21e44dd4",
   "metadata": {},
   "source": [
    "## Generate module refs (group by dep_module)"
   ]
  },
  {
   "cell_type": "code",
   "execution_count": 5,
   "id": "a0233e42-ca4d-4092-a840-0ca048d688e2",
   "metadata": {},
   "outputs": [],
   "source": [
    "df_deps = pd.read_csv('mod-info.oci/dependencies.csv')\n",
    "df_mod_refs = df_deps.groupby(\"dep_module\").agg(\n",
    "    refs=pd.NamedAgg(column=\"full_name\", aggfunc=\"count\"),\n",
    ").sort_values(\"refs\", ascending=False).reset_index()"
   ]
  },
  {
   "cell_type": "code",
   "execution_count": 6,
   "id": "9ed9e468-9025-40fe-9850-1ed6626940c0",
   "metadata": {},
   "outputs": [],
   "source": [
    "df_mod_refs.rename(columns={'dep_module': 'module'}, inplace=True)\n",
    "df_name_conv = df_mod_refs.query(\"module.str.startswith('github.com') == False\")\n",
    "df_name_conv.to_csv(\"name-conv-module-refs.csv\", index=False)"
   ]
  },
  {
   "cell_type": "markdown",
   "id": "c315fd17-da08-436c-bae9-1a332013e4ef",
   "metadata": {},
   "source": [
    "## Associate non-github named modules with their github name"
   ]
  },
  {
   "cell_type": "code",
   "execution_count": null,
   "id": "27753538-7825-4476-8857-16b3b4967610",
   "metadata": {},
   "outputs": [],
   "source": [
    "%%time\n",
    "# call the script `convert-names.py`\n",
    "from datagrab.repo import convert_names\n",
    "\n",
    "convert_names(\"name-conv-module-refs.csv\", progress_file=\"name-conv-progress.csv\", trace=False)\n"
   ]
  },
  {
   "cell_type": "markdown",
   "id": "529983f3-6f16-406d-b134-7316a375b904",
   "metadata": {},
   "source": [
    "## Join the main record with module ref count"
   ]
  },
  {
   "cell_type": "code",
   "execution_count": 7,
   "id": "ac4524db-236c-4d98-b8cb-24e1681dd70b",
   "metadata": {},
   "outputs": [
    {
     "data": {
      "text/html": [
       "<div>\n",
       "<style scoped>\n",
       "    .dataframe tbody tr th:only-of-type {\n",
       "        vertical-align: middle;\n",
       "    }\n",
       "\n",
       "    .dataframe tbody tr th {\n",
       "        vertical-align: top;\n",
       "    }\n",
       "\n",
       "    .dataframe thead th {\n",
       "        text-align: right;\n",
       "    }\n",
       "</style>\n",
       "<table border=\"1\" class=\"dataframe\">\n",
       "  <thead>\n",
       "    <tr style=\"text-align: right;\">\n",
       "      <th></th>\n",
       "      <th>module</th>\n",
       "      <th>refs</th>\n",
       "    </tr>\n",
       "  </thead>\n",
       "  <tbody>\n",
       "    <tr>\n",
       "      <th>0</th>\n",
       "      <td>github.com/stretchr/testify</td>\n",
       "      <td>149893</td>\n",
       "    </tr>\n",
       "    <tr>\n",
       "      <th>1</th>\n",
       "      <td>github.com/spf13/cobra</td>\n",
       "      <td>102532</td>\n",
       "    </tr>\n",
       "    <tr>\n",
       "      <th>2</th>\n",
       "      <td>github.com/pkg/errors</td>\n",
       "      <td>87758</td>\n",
       "    </tr>\n",
       "    <tr>\n",
       "      <th>3</th>\n",
       "      <td>k8s.io/apimachinery</td>\n",
       "      <td>64483</td>\n",
       "    </tr>\n",
       "    <tr>\n",
       "      <th>4</th>\n",
       "      <td>golang.org/x/crypto</td>\n",
       "      <td>63981</td>\n",
       "    </tr>\n",
       "    <tr>\n",
       "      <th>...</th>\n",
       "      <td>...</td>\n",
       "      <td>...</td>\n",
       "    </tr>\n",
       "    <tr>\n",
       "      <th>25126</th>\n",
       "      <td>github.com/taskcluster/taskcluster-lib-urls</td>\n",
       "      <td>1</td>\n",
       "    </tr>\n",
       "    <tr>\n",
       "      <th>25127</th>\n",
       "      <td>github.com/grijul/otpgen</td>\n",
       "      <td>1</td>\n",
       "    </tr>\n",
       "    <tr>\n",
       "      <th>25128</th>\n",
       "      <td>github.com/tarndt/sema</td>\n",
       "      <td>1</td>\n",
       "    </tr>\n",
       "    <tr>\n",
       "      <th>25129</th>\n",
       "      <td>github.com/tarm/goserial</td>\n",
       "      <td>1</td>\n",
       "    </tr>\n",
       "    <tr>\n",
       "      <th>25130</th>\n",
       "      <td>0xacab.org/leap/obfsvpn</td>\n",
       "      <td>1</td>\n",
       "    </tr>\n",
       "  </tbody>\n",
       "</table>\n",
       "<p>25131 rows × 2 columns</p>\n",
       "</div>"
      ],
      "text/plain": [
       "                                            module    refs\n",
       "0                      github.com/stretchr/testify  149893\n",
       "1                           github.com/spf13/cobra  102532\n",
       "2                            github.com/pkg/errors   87758\n",
       "3                              k8s.io/apimachinery   64483\n",
       "4                              golang.org/x/crypto   63981\n",
       "...                                            ...     ...\n",
       "25126  github.com/taskcluster/taskcluster-lib-urls       1\n",
       "25127                     github.com/grijul/otpgen       1\n",
       "25128                       github.com/tarndt/sema       1\n",
       "25129                     github.com/tarm/goserial       1\n",
       "25130                      0xacab.org/leap/obfsvpn       1\n",
       "\n",
       "[25131 rows x 2 columns]"
      ]
     },
     "execution_count": 7,
     "metadata": {},
     "output_type": "execute_result"
    }
   ],
   "source": [
    "df_mod_refs"
   ]
  },
  {
   "cell_type": "code",
   "execution_count": 28,
   "id": "42bfa2d7-f680-41e5-9945-575930754725",
   "metadata": {},
   "outputs": [
    {
     "name": "stderr",
     "output_type": "stream",
     "text": [
      "/var/folders/xn/t_nj5y1n4lv75t_v154rv5_h0000gn/T/ipykernel_36385/4166671718.py:23: SettingWithCopyWarning: \n",
      "A value is trying to be set on a copy of a slice from a DataFrame.\n",
      "Try using .loc[row_indexer,col_indexer] = value instead\n",
      "\n",
      "See the caveats in the documentation: https://pandas.pydata.org/pandas-docs/stable/user_guide/indexing.html#returning-a-view-versus-a-copy\n",
      "  df_gh['full_name'] = df_gh.apply(strip_github_prefix, axis=1)\n"
     ]
    }
   ],
   "source": [
    "def copy_github_column(row):\n",
    "    if row['github_name'] != row['github_name'] or row['github_name'] == '-':\n",
    "        return row['module']\n",
    "    else:\n",
    "        return row['github_name']\n",
    "        \n",
    "def strip_github_prefix(row):\n",
    "    return row[\"github_name\"][len(\"github.com/\"):]\n",
    "\n",
    "    \n",
    "# merge main record with module ref count\n",
    "df_name_mapping = pd.read_csv(\"name-conv-progress.csv\", parse_dates=['last_updated'])\n",
    "#df_1 = df_mod_refs.merge(df_name_mapping, how=\"left\", on=\"module\", right_index=False)\n",
    "df_1 = df_mod_refs.merge(df_name_mapping, how=\"left\", on=\"module\").drop(columns=['last_updated'])\n",
    "df_1['github_name'] = df_1.apply(copy_github_column, axis=1)\n",
    "\n",
    "# merge references to same library using different names\n",
    "df_2 = df_1.groupby(\"github_name\").agg(\n",
    "    refs=pd.NamedAgg(column=\"refs\", aggfunc=\"sum\"),\n",
    ").sort_values(\"refs\", ascending=False).reset_index()\n",
    "#df_2 = df_1\n",
    "df_gh = df_2.query(\"github_name.str.startswith('github.com')\")\n",
    "df_gh['full_name'] = df_gh.apply(strip_github_prefix, axis=1)\n",
    "df_gh = df_gh.merge(df_name_mapping, how=\"left\", on=\"github_name\").drop(columns=['last_updated', 'fail_reason'])\n",
    "df_gh.rename(columns={'module': 'alt'}, inplace=True)\n",
    "df_gh['alt'] = df_gh['alt'].fillna(df_gh['github_name'])"
   ]
  },
  {
   "cell_type": "code",
   "execution_count": 15,
   "id": "06dc9cfb-2cf3-404c-b91c-28186d5aa1ee",
   "metadata": {},
   "outputs": [
    {
     "data": {
      "text/html": [
       "<div>\n",
       "<style scoped>\n",
       "    .dataframe tbody tr th:only-of-type {\n",
       "        vertical-align: middle;\n",
       "    }\n",
       "\n",
       "    .dataframe tbody tr th {\n",
       "        vertical-align: top;\n",
       "    }\n",
       "\n",
       "    .dataframe thead th {\n",
       "        text-align: right;\n",
       "    }\n",
       "</style>\n",
       "<table border=\"1\" class=\"dataframe\">\n",
       "  <thead>\n",
       "    <tr style=\"text-align: right;\">\n",
       "      <th></th>\n",
       "      <th></th>\n",
       "      <th>cnt</th>\n",
       "    </tr>\n",
       "    <tr>\n",
       "      <th>module</th>\n",
       "      <th>github_name</th>\n",
       "      <th></th>\n",
       "    </tr>\n",
       "  </thead>\n",
       "  <tbody>\n",
       "  </tbody>\n",
       "</table>\n",
       "</div>"
      ],
      "text/plain": [
       "Empty DataFrame\n",
       "Columns: [cnt]\n",
       "Index: []"
      ]
     },
     "execution_count": 15,
     "metadata": {},
     "output_type": "execute_result"
    }
   ],
   "source": [
    "df_name_mapping.groupby([\"module\", \"github_name\"]).agg(cnt=pd.NamedAgg(column=\"module\", aggfunc=\"count\")).query(\"cnt > 1\")"
   ]
  },
  {
   "cell_type": "code",
   "execution_count": 29,
   "id": "cb6d7d2b-8137-4193-adda-af3cc273f441",
   "metadata": {},
   "outputs": [
    {
     "data": {
      "text/html": [
       "<div>\n",
       "<style scoped>\n",
       "    .dataframe tbody tr th:only-of-type {\n",
       "        vertical-align: middle;\n",
       "    }\n",
       "\n",
       "    .dataframe tbody tr th {\n",
       "        vertical-align: top;\n",
       "    }\n",
       "\n",
       "    .dataframe thead th {\n",
       "        text-align: right;\n",
       "    }\n",
       "</style>\n",
       "<table border=\"1\" class=\"dataframe\">\n",
       "  <thead>\n",
       "    <tr style=\"text-align: right;\">\n",
       "      <th></th>\n",
       "      <th>github_name</th>\n",
       "      <th>refs</th>\n",
       "      <th>full_name</th>\n",
       "      <th>alt</th>\n",
       "    </tr>\n",
       "  </thead>\n",
       "  <tbody>\n",
       "    <tr>\n",
       "      <th>0</th>\n",
       "      <td>github.com/stretchr/testify</td>\n",
       "      <td>149916</td>\n",
       "      <td>stretchr/testify</td>\n",
       "      <td>gopkg.in/stretchr/testify.v1</td>\n",
       "    </tr>\n",
       "    <tr>\n",
       "      <th>1</th>\n",
       "      <td>github.com/spf13/cobra</td>\n",
       "      <td>102532</td>\n",
       "      <td>spf13/cobra</td>\n",
       "      <td>github.com/spf13/cobra</td>\n",
       "    </tr>\n",
       "    <tr>\n",
       "      <th>2</th>\n",
       "      <td>github.com/go-yaml/yaml</td>\n",
       "      <td>94880</td>\n",
       "      <td>go-yaml/yaml</td>\n",
       "      <td>gopkg.in/yaml.v2</td>\n",
       "    </tr>\n",
       "    <tr>\n",
       "      <th>3</th>\n",
       "      <td>github.com/go-yaml/yaml</td>\n",
       "      <td>94880</td>\n",
       "      <td>go-yaml/yaml</td>\n",
       "      <td>gopkg.in/yaml.v3</td>\n",
       "    </tr>\n",
       "    <tr>\n",
       "      <th>4</th>\n",
       "      <td>github.com/go-yaml/yaml</td>\n",
       "      <td>94880</td>\n",
       "      <td>go-yaml/yaml</td>\n",
       "      <td>gopkg.in/yaml.v1</td>\n",
       "    </tr>\n",
       "    <tr>\n",
       "      <th>...</th>\n",
       "      <td>...</td>\n",
       "      <td>...</td>\n",
       "      <td>...</td>\n",
       "      <td>...</td>\n",
       "    </tr>\n",
       "    <tr>\n",
       "      <th>24340</th>\n",
       "      <td>github.com/planetscale/pargzip</td>\n",
       "      <td>1</td>\n",
       "      <td>planetscale/pargzip</td>\n",
       "      <td>github.com/planetscale/pargzip</td>\n",
       "    </tr>\n",
       "    <tr>\n",
       "      <th>24341</th>\n",
       "      <td>github.com/globocom/glbgelf</td>\n",
       "      <td>1</td>\n",
       "      <td>globocom/glbgelf</td>\n",
       "      <td>github.com/globocom/glbgelf</td>\n",
       "    </tr>\n",
       "    <tr>\n",
       "      <th>24342</th>\n",
       "      <td>github.com/cyclegen/tdx-go</td>\n",
       "      <td>1</td>\n",
       "      <td>cyclegen/tdx-go</td>\n",
       "      <td>github.com/cyclegen/tdx-go</td>\n",
       "    </tr>\n",
       "    <tr>\n",
       "      <th>24343</th>\n",
       "      <td>github.com/globocom/gokong</td>\n",
       "      <td>1</td>\n",
       "      <td>globocom/gokong</td>\n",
       "      <td>github.com/globocom/gokong</td>\n",
       "    </tr>\n",
       "    <tr>\n",
       "      <th>24344</th>\n",
       "      <td>github.com/cybozu-go/sabakan/v2</td>\n",
       "      <td>1</td>\n",
       "      <td>cybozu-go/sabakan/v2</td>\n",
       "      <td>github.com/cybozu-go/sabakan/v2</td>\n",
       "    </tr>\n",
       "  </tbody>\n",
       "</table>\n",
       "<p>24345 rows × 4 columns</p>\n",
       "</div>"
      ],
      "text/plain": [
       "                           github_name    refs             full_name  \\\n",
       "0          github.com/stretchr/testify  149916      stretchr/testify   \n",
       "1               github.com/spf13/cobra  102532           spf13/cobra   \n",
       "2              github.com/go-yaml/yaml   94880          go-yaml/yaml   \n",
       "3              github.com/go-yaml/yaml   94880          go-yaml/yaml   \n",
       "4              github.com/go-yaml/yaml   94880          go-yaml/yaml   \n",
       "...                                ...     ...                   ...   \n",
       "24340   github.com/planetscale/pargzip       1   planetscale/pargzip   \n",
       "24341      github.com/globocom/glbgelf       1      globocom/glbgelf   \n",
       "24342       github.com/cyclegen/tdx-go       1       cyclegen/tdx-go   \n",
       "24343       github.com/globocom/gokong       1       globocom/gokong   \n",
       "24344  github.com/cybozu-go/sabakan/v2       1  cybozu-go/sabakan/v2   \n",
       "\n",
       "                                   alt  \n",
       "0         gopkg.in/stretchr/testify.v1  \n",
       "1               github.com/spf13/cobra  \n",
       "2                     gopkg.in/yaml.v2  \n",
       "3                     gopkg.in/yaml.v3  \n",
       "4                     gopkg.in/yaml.v1  \n",
       "...                                ...  \n",
       "24340   github.com/planetscale/pargzip  \n",
       "24341      github.com/globocom/glbgelf  \n",
       "24342       github.com/cyclegen/tdx-go  \n",
       "24343       github.com/globocom/gokong  \n",
       "24344  github.com/cybozu-go/sabakan/v2  \n",
       "\n",
       "[24345 rows x 4 columns]"
      ]
     },
     "execution_count": 29,
     "metadata": {},
     "output_type": "execute_result"
    }
   ],
   "source": [
    "df_gh"
   ]
  },
  {
   "cell_type": "code",
   "execution_count": 41,
   "id": "4637c24d-a5e8-487e-a96d-d5585e4c7474",
   "metadata": {},
   "outputs": [],
   "source": [
    "df_final = df_main.merge(df_gh, how=\"left\", on=\"full_name\").drop(columns=[\"github_name\"])\n",
    "df_final.sort_values(\"refs\", ascending=False, inplace=True)\n",
    "df_final = df_final[[\"full_name\", \"alt\", \"refs\", \"forks_count\", \"stargazers_count\", \"watchers_count\", \"created_at\" ]]\n",
    "df_final['created_at'] = df_final['created_at'].dt.year\n",
    "#df_final.astype({\"refs\": \"int32\"})\n",
    "df_final.rename(\n",
    "    columns={\n",
    "        'full_name':'repository',\n",
    "        'forks_count':'forks',\n",
    "        'stargazers_count':'stars',\n",
    "        'watchers_count':'watchers',\n",
    "        'created_at':'year',\n",
    "    },\n",
    "    inplace=True\n",
    ")"
   ]
  },
  {
   "cell_type": "code",
   "execution_count": 49,
   "id": "74946cbb-bf78-4fa6-8937-9d0c874f63f4",
   "metadata": {},
   "outputs": [],
   "source": [
    "df_final.head(50).astype({\"refs\": \"int32\"}).to_latex(\"__libs.tex\", index=False)"
   ]
  },
  {
   "cell_type": "markdown",
   "id": "cd7ed530-d85a-422f-ae6e-d8fd6e62ed47",
   "metadata": {},
   "source": [
    "## Join module vulnerability record"
   ]
  },
  {
   "cell_type": "markdown",
   "id": "0ad05fd3-0dcf-4f7f-a67c-b3ecf4b7579b",
   "metadata": {},
   "source": [
    "## ****************************** DEBUG CELLS ****************************** "
   ]
  },
  {
   "cell_type": "code",
   "execution_count": 94,
   "id": "f55de9de-0a1b-4ecf-afa5-7d1154aae2d9",
   "metadata": {},
   "outputs": [],
   "source": [
    "cost_dfs = []\n",
    "for date_range in date_ranges:\n",
    "    df = pd.read_excel(\"round2/%s-repo-%d-%s-%s.xlsx\" % (lang, stars, date_range[0], date_range[1]))\n",
    "    cost_dfs.append(df)\n",
    "combined = pd.concat(cost_dfs)\n",
    "combined.to_csv('round2/combined.csv')\n"
   ]
  },
  {
   "cell_type": "code",
   "execution_count": null,
   "id": "8cb0849f-c7f1-421b-92c2-860bd2894cbe",
   "metadata": {},
   "outputs": [],
   "source": []
  }
 ],
 "metadata": {
  "kernelspec": {
   "display_name": "Python 3 (ipykernel)",
   "language": "python",
   "name": "python3"
  },
  "language_info": {
   "codemirror_mode": {
    "name": "ipython",
    "version": 3
   },
   "file_extension": ".py",
   "mimetype": "text/x-python",
   "name": "python",
   "nbconvert_exporter": "python",
   "pygments_lexer": "ipython3",
   "version": "3.11.4"
  }
 },
 "nbformat": 4,
 "nbformat_minor": 5
}
