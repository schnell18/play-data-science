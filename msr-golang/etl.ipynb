{
 "cells": [
  {
   "cell_type": "code",
   "execution_count": 14,
   "id": "6411d9c2-976a-4b13-bf7a-bba23477068e",
   "metadata": {
    "scrolled": true
   },
   "outputs": [],
   "source": [
    "import pandas as pd\n",
    "import numpy as np\n",
    "import requests\n",
    "from html.parser import HTMLParser"
   ]
  },
  {
   "cell_type": "markdown",
   "id": "dd9aa822-74eb-42ce-a816-206e0e408065",
   "metadata": {},
   "source": [
    "### add `fork` column to repo with go.mod downloaded"
   ]
  },
  {
   "cell_type": "code",
   "execution_count": 3,
   "id": "f55de9de-0a1b-4ecf-afa5-7d1154aae2d9",
   "metadata": {},
   "outputs": [],
   "source": [
    "df1 = pd.read_excel(\"repo-candidates/combined.xlsx\")\n",
    "df1.to_csv(\"repo-candidates/slim.csv\", columns=['id', 'full_name', 'fork', 'stargazers_count', 'forks_count', 'created_at'])"
   ]
  },
  {
   "cell_type": "markdown",
   "id": "b7e1816e-e12d-4348-9f35-50cae1133bc9",
   "metadata": {},
   "source": [
    "## convert public name to github name"
   ]
  },
  {
   "cell_type": "code",
   "execution_count": 57,
   "id": "ec5c87c0-dfb5-438a-abaf-0ab7390220d6",
   "metadata": {},
   "outputs": [],
   "source": [
    "    \n",
    "    \n",
    "    \n",
    "def convert_name_debug(public_name):\n",
    "    request_url = f\"https://{public_name}\"\n",
    "    resp = requests.get(request_url)\n",
    "    return resp\n",
    "\n",
    "    \n",
    "def convert_name(public_name, parser):\n",
    "    request_url = f\"https://{public_name}\"\n",
    "    resp = requests.get(request_url)\n",
    "    parser.feed(resp.text)\n",
    "    return parser.github_name\n",
    "\n",
    "class GoImportMetaHTMLParser(HTMLParser):\n",
    "    def __init__(self):\n",
    "        HTMLParser.__init__(self)\n",
    "        self._github_name = \"\"\n",
    "       \n",
    "    @property\n",
    "    def github_name(self):\n",
    "        return self._github_name\n",
    "         \n",
    "    def handle_starttag(self, tag, attrs):\n",
    "        self._gith_name = \"\"\n",
    "        if tag == \"meta\":\n",
    "            imports_found = [attr for attr in attrs if attr[0] == \"name\" and attr[1] == \"go-import\"]\n",
    "            contents = [attr[1] for attr in attrs if attr[0] == \"content\"]\n",
    "            if imports_found and contents:\n",
    "                comps = contents[0].split(' ')\n",
    "                idx = comps[2].index(\"//\")\n",
    "                self._github_name = comps[2] if idx < 0 else comps[2][idx+2:]\n",
    "\n"
   ]
  },
  {
   "cell_type": "code",
   "execution_count": 59,
   "id": "9b70a43d-cb7f-49df-a330-4d30d3661855",
   "metadata": {},
   "outputs": [
    {
     "data": {
      "text/plain": [
       "'<!DOCTYPE html PUBLIC \"-//W3C//DTD XHTML 1.0 Strict//EN\" \"http://www.w3.org/TR/xhtml1/DTD/xhtml1-strict.dtd\"><html xmlns=\"http://www.w3.org/1999/xhtml\" lang=\"sr-latn\" xml:lang=\"sr-latn\"><head><meta http-equiv=\"Content-Type\" content=\"text/html; charset=UTF-8\" /><meta name=\"author\" content=\"Janoš Guljaš\" /><meta name=\"copyright\" content=\"Janoš Guljaš\" /><meta name=\"description\" content=\"Janoš Guljaš - Lični sajt - Rešenje u potrazi za problemom\" /><meta name=\"keywords\" content=\"Janos Guljas, free software, slobodan softver, photography, fotografija\" /><link rel=\"alternate\" href=\"/feed\" type=\"application/atom+xml\" title=\"Feed\" /><link rel=\"shortcut icon\" href=\"/media/img/site/favicon.ico\" type=\"image/x-icon\" /><title>Rešenje u potrazi za problemom - 404</title><link rel=\"stylesheet\" type=\"text/css\" media=\"screen\" href=\"/media/css/reset-min.css\" /><link rel=\"stylesheet\" type=\"text/css\" media=\"screen\" href=\"/media/css/base.css\" /><script type=\"text/javascript\" src=\"/media/js/jquery-1.7.2.min.js\"></script><script type=\"text/javascript\" src=\"/media/js/base.js\"></script><!--[if IE 6]><link rel=\"stylesheet\" type=\"text/css\" media=\"screen\" href=\"/media/css/ie6fixes.css\" /><script src=\"/media/js/DD_belatedPNG_0.0.8a-min.js\"></script><script src=\"/media/js/ie6.js\"></script><![endif]--><!--[if IE 7]><link rel=\"stylesheet\" type=\"text/css\" media=\"screen\" href=\"/media/css/ie7fixes.css\" /><![endif]--><!--[if IE 8]><link rel=\"stylesheet\" type=\"text/css\" media=\"screen\" href=\"/media/css/ie8fixes.css\" /><![endif]--><script type=\"text/javascript\"></script><script type=\"text/javascript\"> var _gaq = _gaq || []; _gaq.push([\\'_setAccount\\', \\'UA-23779407-1\\']); _gaq.push([\\'_trackPageview\\']); (function() { var ga = document.createElement(\\'script\\'); ga.type = \\'text/javascript\\'; ga.async = true; ga.src = (\\'https:\\' == document.location.protocol ? \\'https://ssl\\' : \\'http://www\\') + \\'.google-analytics.com/ga.js\\'; var s = document.getElementsByTagName(\\'script\\')[0]; s.parentNode.insertBefore(ga, s); })(); </script></head><body ><div id=\"tags\"><a href=\"/tag/citati\" class=\"nowrap\">Citati</a><span class=\"pointer\">10</span><br /><a href=\"/tag/debian\" class=\"nowrap\">Debian</a><span class=\"pointer\">9</span><br /><a href=\"/tag/fotografija\" class=\"nowrap\">Fotografija</a><span class=\"pointer\">7</span><br /><a href=\"/tag/gnu-linux\" class=\"nowrap\">GNU/Linux</a><span class=\"pointer\">12</span><br /><a href=\"/tag/git\" class=\"nowrap\">Git</a><span class=\"pointer\">1</span><br /><a href=\"/tag/portfolio\" class=\"nowrap\">Portfolio</a><span class=\"pointer\">1</span><br /><a href=\"/tag/ssh\" class=\"nowrap\">SSH</a><span class=\"pointer\">1</span><br /><a href=\"/tag/servisi\" class=\"nowrap\">Servisi</a><span class=\"pointer\">1</span><br /></div><div id=\"header\"><div><span class=\"float-left pointer\"><a href=\"/\" class=\"upper\">Rešenje u potrazi za problemom</a> - 404</span><a href=\"/feed\" class=\"float-right posts-feed\"><img src=\"/media/img/site/feed-icon-14x14.png\" alt=\"feed\" /></a><a href=\"/s/info\" class=\"float-right\">Janoš Guljaš</a></div></div><h1 id=\"h1\" class=\"top0\">404</h1><div id=\"container\"><!--[if lte IE 7]><table><tr><td class=\"wrapper\"><![endif]--><div id=\"content\" class=\"text\"><div id=\"middle\"><blockquote>\\nDruže, možda ste dobili pogrešan broj, ali ste dobili koga ste tražili...</blockquote></div></div><!--[if lte IE 7]></td></tr></table><![endif]--></div><div class=\"clear\"></div><div id=\"footer\"><!--[if lte IE 7]><table><tr><td class=\"wrapper\"><![endif]--><div class=\"float-left\"><img src=\"/media/img/site/radioactive.png\" alt=\"Radioactive\"/></div><div class=\"float-right\"><a href=\"/kontakt\">Kontakt</a><br /><a href=\"/s/autorska-prava\" class=\"nowrap\">Autorska prava © 2008-2023. Janoš Guljaš</a></div><!--[if lte IE 7]></td></tr></table><![endif]--></div></body></html>\\n'"
      ]
     },
     "execution_count": 59,
     "metadata": {},
     "output_type": "execute_result"
    }
   ],
   "source": [
    "resp = convert_name_debug(\"resenje.org/recovery/\")\n",
    "resp.text\n",
    "\n",
    "\n",
    "\n"
   ]
  },
  {
   "cell_type": "code",
   "execution_count": 60,
   "id": "3da5a1fe-da05-41a1-8b23-45632ea0c7fd",
   "metadata": {},
   "outputs": [
    {
     "data": {
      "text/plain": [
       "''"
      ]
     },
     "execution_count": 60,
     "metadata": {},
     "output_type": "execute_result"
    }
   ],
   "source": [
    "parser = GoImportMetaHTMLParser()\n",
    "parser.feed(resp.text)\n",
    "parser.github_name"
   ]
  }
 ],
 "metadata": {
  "kernelspec": {
   "display_name": "Python 3 (ipykernel)",
   "language": "python",
   "name": "python3"
  },
  "language_info": {
   "codemirror_mode": {
    "name": "ipython",
    "version": 3
   },
   "file_extension": ".py",
   "mimetype": "text/x-python",
   "name": "python",
   "nbconvert_exporter": "python",
   "pygments_lexer": "ipython3",
   "version": "3.11.4"
  }
 },
 "nbformat": 4,
 "nbformat_minor": 5
}
