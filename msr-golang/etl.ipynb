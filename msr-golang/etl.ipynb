{
 "cells": [
  {
   "cell_type": "code",
   "execution_count": 1,
   "id": "6411d9c2-976a-4b13-bf7a-bba23477068e",
   "metadata": {
    "scrolled": true
   },
   "outputs": [],
   "source": [
    "import pandas as pd\n",
    "import numpy as np\n",
    "import requests\n",
    "from html.parser import HTMLParser"
   ]
  },
  {
   "cell_type": "markdown",
   "id": "dd9aa822-74eb-42ce-a816-206e0e408065",
   "metadata": {},
   "source": [
    "### add `fork` column to repo with go.mod downloaded"
   ]
  },
  {
   "cell_type": "code",
   "execution_count": 3,
   "id": "f55de9de-0a1b-4ecf-afa5-7d1154aae2d9",
   "metadata": {},
   "outputs": [],
   "source": [
    "df1 = pd.read_excel(\"repo-candidates/combined.xlsx\")\n",
    "df1.to_csv(\"repo-candidates/slim.csv\", columns=['id', 'full_name', 'fork', 'stargazers_count', 'forks_count', 'created_at'])"
   ]
  },
  {
   "cell_type": "markdown",
   "id": "b7e1816e-e12d-4348-9f35-50cae1133bc9",
   "metadata": {},
   "source": [
    "## convert public name to github name"
   ]
  },
  {
   "cell_type": "code",
   "execution_count": 2,
   "id": "ec5c87c0-dfb5-438a-abaf-0ab7390220d6",
   "metadata": {},
   "outputs": [],
   "source": [
    "    \n",
    "    \n",
    "    \n",
    "def convert_name_debug(public_name):\n",
    "    request_url = f\"https://{public_name}?go-get=1\"\n",
    "    resp = requests.get(request_url)\n",
    "    return resp\n",
    "\n",
    "    \n",
    "def convert_name(public_name, parser):\n",
    "    request_url = f\"https://{public_name}\"\n",
    "    resp = requests.get(request_url)\n",
    "    parser.feed(resp.text)\n",
    "    return parser.github_name\n",
    "\n",
    "class GoImportMetaHTMLParser(HTMLParser):\n",
    "    def __init__(self):\n",
    "        HTMLParser.__init__(self)\n",
    "        self._github_name = \"\"\n",
    "       \n",
    "    @property\n",
    "    def github_name(self):\n",
    "        return self._github_name\n",
    "         \n",
    "    def handle_starttag(self, tag, attrs):\n",
    "        self._gith_name = \"\"\n",
    "        if tag == \"meta\":\n",
    "            imports_found = [attr for attr in attrs if attr[0] == \"name\" and attr[1] == \"go-import\"]\n",
    "            contents = [attr[1] for attr in attrs if attr[0] == \"content\"]\n",
    "            if imports_found and contents:\n",
    "                comps = contents[0].split(' ')\n",
    "                idx = comps[2].index(\"//\")\n",
    "                self._github_name = comps[2] if idx < 0 else comps[2][idx+2:]\n",
    "\n"
   ]
  },
  {
   "cell_type": "code",
   "execution_count": 5,
   "id": "9b70a43d-cb7f-49df-a330-4d30d3661855",
   "metadata": {},
   "outputs": [
    {
     "data": {
      "text/plain": [
       "'\\n<html>\\n<head>\\n<meta name=\"go-import\" content=\"gopkg.in/juju/names.v2 git https://gopkg.in/juju/names.v2\">\\n<meta name=\"go-source\" content=\"gopkg.in/juju/names.v2 _ https://github.com/juju/names/tree/v2{/dir} https://github.com/juju/names/blob/v2{/dir}/{file}#L{line}\">\\n</head>\\n<body>\\ngo get gopkg.in/juju/names.v2\\n</body>\\n</html>\\n'"
      ]
     },
     "execution_count": 5,
     "metadata": {},
     "output_type": "execute_result"
    }
   ],
   "source": [
    "resp = convert_name_debug(\"gopkg.in/juju/names.v2\")\n",
    "resp.text\n",
    "\n",
    "\n",
    "\n"
   ]
  },
  {
   "cell_type": "code",
   "execution_count": 6,
   "id": "3da5a1fe-da05-41a1-8b23-45632ea0c7fd",
   "metadata": {},
   "outputs": [
    {
     "data": {
      "text/plain": [
       "'gopkg.in/juju/names.v2'"
      ]
     },
     "execution_count": 6,
     "metadata": {},
     "output_type": "execute_result"
    }
   ],
   "source": [
    "parser = GoImportMetaHTMLParser()\n",
    "parser.feed(resp.text)\n",
    "parser.github_name"
   ]
  }
 ],
 "metadata": {
  "kernelspec": {
   "display_name": "Python 3 (ipykernel)",
   "language": "python",
   "name": "python3"
  },
  "language_info": {
   "codemirror_mode": {
    "name": "ipython",
    "version": 3
   },
   "file_extension": ".py",
   "mimetype": "text/x-python",
   "name": "python",
   "nbconvert_exporter": "python",
   "pygments_lexer": "ipython3",
   "version": "3.11.4"
  }
 },
 "nbformat": 4,
 "nbformat_minor": 5
}
