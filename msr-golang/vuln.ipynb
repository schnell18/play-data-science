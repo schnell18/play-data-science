{
 "cells": [
  {
   "cell_type": "code",
   "execution_count": 2,
   "id": "6411d9c2-976a-4b13-bf7a-bba23477068e",
   "metadata": {
    "scrolled": true
   },
   "outputs": [],
   "source": [
    "import pandas as pd\n",
    "import numpy as np\n",
    "import requests"
   ]
  },
  {
   "cell_type": "markdown",
   "id": "dd9aa822-74eb-42ce-a816-206e0e408065",
   "metadata": {},
   "source": [
    "## load golang vulneribility database"
   ]
  },
  {
   "cell_type": "code",
   "execution_count": 28,
   "id": "f55de9de-0a1b-4ecf-afa5-7d1154aae2d9",
   "metadata": {},
   "outputs": [],
   "source": [
    "def load_golang_vul_db():\n",
    "    vul_db_url = \"https://vuln.go.dev/index/modules.json\"\n",
    "    resp = requests.get(vul_db_url)\n",
    "    vul_dicts = []    \n",
    "    for m in resp.json():\n",
    "        for v in m[\"vulns\"]:\n",
    "            vul_info = _load_vul_info(v[\"id\"])\n",
    "            vul_dict = {\n",
    "                \"module\":  m[\"path\"],\n",
    "                \"vul_id\":  v[\"id\"],\n",
    "                \"last_updated\":  v[\"modified\"],\n",
    "                \"fix_version\":  v.get(\"fixed\", \"\"),\n",
    "                \"summary\":  vul_info[\"summary\"],\n",
    "                \"details\":  vul_info[\"details\"],\n",
    "                \"aliases\":  vul_info[\"aliases\"],\n",
    "                \"published\":  vul_info[\"published\"],\n",
    "            }\n",
    "            vul_dicts.append(vul_dict)\n",
    "    return pd.DataFrame(vul_dicts)    \n",
    "\n",
    "def _load_vul_info(id):\n",
    "    request_url = f\"https://vuln.go.dev/ID/{id}.json\"\n",
    "    resp = requests.get(request_url)\n",
    "    dikt = resp.json()\n",
    "    vul_info = {\n",
    "       \"summary\": dikt.get(\"summary\", \"\"), \n",
    "       \"details\": dikt.get(\"details\", \"\"), \n",
    "       \"published\": dikt.get(\"published\", \"\"), \n",
    "       \"aliases\": dikt.get(\"aliases\", []), \n",
    "    }\n",
    "    return vul_info\n"
   ]
  },
  {
   "cell_type": "code",
   "execution_count": null,
   "id": "40015cfa-cd77-488a-95d0-30e0cb3065c7",
   "metadata": {},
   "outputs": [],
   "source": [
    "%%time\n",
    "df = load_golang_vul_db()\n",
    "df"
   ]
  },
  {
   "cell_type": "code",
   "execution_count": 34,
   "id": "7763f18c-28ab-4e11-9056-dfe11773a737",
   "metadata": {},
   "outputs": [],
   "source": [
    "df['last_updated'] = pd.to_datetime(df['last_updated'])\n",
    "df['published'] = pd.to_datetime(df['published'])"
   ]
  },
  {
   "cell_type": "code",
   "execution_count": 51,
   "id": "c628a937-d850-4c46-a9bd-35f70478a26b",
   "metadata": {},
   "outputs": [],
   "source": [
    "df['alias'] = [x[0] if len(x) >= 1 else '' for x in df[\"aliases\"]]"
   ]
  },
  {
   "cell_type": "code",
   "execution_count": 57,
   "id": "20b18b3a-569c-4ccf-9d46-3a32a08c7b85",
   "metadata": {},
   "outputs": [],
   "source": [
    "df = df.sort_values(\"published\", ascending=False)\n",
    "df.to_csv('govuls.csv', index=False, columns=[\"module\", \"vul_id\", \"alias\", \"published\", \"last_updated\", \"fix_version\", \"summary\"])\n"
   ]
  }
 ],
 "metadata": {
  "kernelspec": {
   "display_name": "Python 3 (ipykernel)",
   "language": "python",
   "name": "python3"
  },
  "language_info": {
   "codemirror_mode": {
    "name": "ipython",
    "version": 3
   },
   "file_extension": ".py",
   "mimetype": "text/x-python",
   "name": "python",
   "nbconvert_exporter": "python",
   "pygments_lexer": "ipython3",
   "version": "3.11.4"
  }
 },
 "nbformat": 4,
 "nbformat_minor": 5
}
