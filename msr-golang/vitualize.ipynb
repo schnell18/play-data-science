{
 "cells": [
  {
   "cell_type": "markdown",
   "id": "a8ec7edc-732c-4090-9f34-0e3ab579fc45",
   "metadata": {},
   "source": [
    "## Preparation"
   ]
  },
  {
   "cell_type": "code",
   "execution_count": null,
   "id": "df82aad2-f6f9-46da-be8e-a2c731461ca9",
   "metadata": {
    "tags": []
   },
   "outputs": [],
   "source": [
    "import pandas as pd\n",
    "import numpy as np\n",
    "import plotly.express as px\n",
    "import re"
   ]
  },
  {
   "cell_type": "code",
   "execution_count": null,
   "id": "3db8f105-021b-42ca-8ecc-142da2934cf1",
   "metadata": {},
   "outputs": [],
   "source": [
    "!pip install plotly-express ipywidgets jupyter-dash"
   ]
  },
  {
   "cell_type": "markdown",
   "id": "7a3d7409-d6b1-43e7-9290-e46821b22260",
   "metadata": {},
   "source": [
    "## Topic analysis"
   ]
  },
  {
   "cell_type": "code",
   "execution_count": null,
   "id": "becb6cd4-4017-4327-8c89-d6f54ad8ef73",
   "metadata": {},
   "outputs": [],
   "source": [
    "def split_by_topics(row):\n",
    "    topics = row['topics']\n",
    "    row['topic'] = [m.group(1) for m in re.finditer(r\"'([-\\w]+)'\", topics)]\n",
    "    if len(row['topic']) == 0: row['topic'] = 'NOTOPIC'\n",
    "    return row\n",
    "\n",
    "def expand(file):\n",
    "    df = pd.read_csv(file, parse_dates=['created_at', 'updated_at', 'pushed_at'])\n",
    "    df = df.apply(lambda row: split_by_topics(row), axis=1)\n",
    "    df = df.explode(['topic'])\n",
    "    return df\n",
    "\n",
    "df = expand(\"repo-candidates/main.csv\")\n",
    "sum = df.groupby(\"topic\").agg(\n",
    "    repositories=pd.NamedAgg(column=\"id\", aggfunc=\"count\"),\n",
    "    stars=pd.NamedAgg(column=\"stargazers_count\", aggfunc=\"sum\"),\n",
    "    folks=pd.NamedAgg(column=\"forks_count\", aggfunc=\"sum\"),\n",
    "    watchers=pd.NamedAgg(column=\"watchers_count\", aggfunc=\"sum\"),\n",
    ").sort_values(\"repositories\", ascending=False)\n",
    "\n",
    "df['year'] = df['created_at'].dt.year\n",
    "sum2 = df.groupby([\"year\", \"topic\"]).agg(\n",
    "    topic_members=pd.NamedAgg(column=\"id\", aggfunc=\"count\"),\n",
    "    topic_stars=pd.NamedAgg(column=\"stargazers_count\", aggfunc=\"sum\"),\n",
    "    topic_forks=pd.NamedAgg(column=\"forks_count\", aggfunc=\"sum\"),\n",
    ")\n",
    "\n",
    "\n",
    "df_vis = sum2.query(\"topic_members > 15\")\n",
    "df_vis.reset_index(level=1, inplace=True)\n",
    "df_vis.reset_index(level=0, inplace=True)\n"
   ]
  },
  {
   "cell_type": "code",
   "execution_count": null,
   "id": "8fce712b-8124-408c-a72a-faa35d41c32a",
   "metadata": {},
   "outputs": [],
   "source": [
    "stats = sum.describe(percentiles=[0.25, 0.5, 0.75, 0.95, 0.99])\n",
    "stats = stats.astype('int32')"
   ]
  },
  {
   "cell_type": "code",
   "execution_count": null,
   "id": "f3caea1f-1d44-47ea-9c35-7fdcaf4d06d0",
   "metadata": {},
   "outputs": [],
   "source": [
    "stats.to_latex(\"__stats.tex\")"
   ]
  },
  {
   "cell_type": "code",
   "execution_count": null,
   "id": "61a89def-4235-4d55-84a9-b4aae041a615",
   "metadata": {},
   "outputs": [],
   "source": [
    "sum.query(\"repositories > 2\").head(20).to_latex(\"__top20.tex\")"
   ]
  },
  {
   "cell_type": "markdown",
   "id": "bb4dbf23-5949-4f99-8deb-71b29899781d",
   "metadata": {},
   "source": [
    "### Prepare dataframe for treemap and sunburst"
   ]
  },
  {
   "cell_type": "code",
   "execution_count": null,
   "id": "97cb52d8-6fb1-4317-ae8a-c499ff58ec86",
   "metadata": {},
   "outputs": [],
   "source": [
    "# remove NOTOPIC, go, golang as they overlap too much\n",
    "df_vis = df_vis.query(\"topic != 'NOTOPIC' and topic != 'go' and topic != 'golang'\")\n",
    "fig = px.treemap(\n",
    "    df_vis, path=[px.Constant(\"all\"), 'year', 'topic'],\n",
    "    values='topic_members',\n",
    "    #color_continuous_scale=px.colors.sequential.Sunset,\n",
    "    color_continuous_scale=px.colors.sequential.Sunsetdark,\n",
    "    color='topic_forks',\n",
    "    width=1200, height=820,\n",
    "    title=\"Github Golang Topic Distribution by Year\")\n",
    "fig.update_layout(margin = dict(t=20, l=25, r=25, b=25))\n",
    "fig.show()"
   ]
  },
  {
   "cell_type": "code",
   "execution_count": null,
   "id": "46d43272-227d-48b3-bb27-629b1b4cd911",
   "metadata": {
    "scrolled": true
   },
   "outputs": [],
   "source": [
    "df_vis2 = df_vis.query(\"topic_members > 59\")\n",
    "fig = px.sunburst(\n",
    "    df_vis2, path=[px.Constant(\"all\"), 'year', 'topic'],\n",
    "    values='topic_members',\n",
    "    #color_continuous_scale=px.colors.sequential.Sunset,\n",
    "    color_continuous_scale=px.colors.sequential.Sunsetdark,\n",
    "    color='topic_forks',\n",
    "    width=1200, height=820,\n",
    "    title=\"Github Golang Topic Distribution by Year\")\n",
    "fig.update_layout(margin = dict(t=20, l=25, r=25, b=25))\n",
    "fig.show()"
   ]
  }
 ],
 "metadata": {
  "kernelspec": {
   "display_name": "Python 3 (ipykernel)",
   "language": "python",
   "name": "python3"
  },
  "language_info": {
   "codemirror_mode": {
    "name": "ipython",
    "version": 3
   },
   "file_extension": ".py",
   "mimetype": "text/x-python",
   "name": "python",
   "nbconvert_exporter": "python",
   "pygments_lexer": "ipython3",
   "version": "3.11.4"
  }
 },
 "nbformat": 4,
 "nbformat_minor": 5
}
