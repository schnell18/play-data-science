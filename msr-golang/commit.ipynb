{
 "cells": [
  {
   "cell_type": "code",
   "execution_count": 1,
   "id": "d8e6816a-e100-4dfe-8b4d-63b455000ee3",
   "metadata": {},
   "outputs": [],
   "source": [
    "from datagrab.github import load_access_token\n",
    "from datagrab.github import load_repo_info\n",
    "from github import Github\n",
    "from datetime import date, datetime, timedelta\n",
    "import datagrab.github.commit as commit\n",
    "import json\n",
    "\n",
    "client = Github(load_access_token(), per_page=100) \n",
    "repo = load_repo_info(client, \"schnell18/play-golang\")\n",
    "ok, page = commit.load_partial_commits(repo, 'master', datetime(2023, 1, 1), datetime.now())"
   ]
  },
  {
   "cell_type": "code",
   "execution_count": null,
   "id": "8eb33d0b-cd8a-41e4-9fe2-d839c087ef5d",
   "metadata": {},
   "outputs": [],
   "source": [
    "print(page.totalCount)\n",
    "for c in page:\n",
    "    print(vars(c)[\"_rawData\"])"
   ]
  },
  {
   "cell_type": "code",
   "execution_count": null,
   "id": "2566504e-47ba-465b-b9f2-6038300950da",
   "metadata": {},
   "outputs": [],
   "source": [
    "\n",
    "created = repo.created_at\n",
    "start = datetime(created.year, created.month, created.day)\n",
    "end = datetime(created.year, created.month, created.day, 23, 59, 59)\n",
    "print(created)\n",
    "print(start)\n",
    "print(date.now())\n",
    "\n",
    "\n"
   ]
  },
  {
   "cell_type": "code",
   "execution_count": 21,
   "id": "b634278c-9d3f-486f-b844-c29e1e750afe",
   "metadata": {},
   "outputs": [
    {
     "name": "stdout",
     "output_type": "stream",
     "text": [
      "None\n"
     ]
    }
   ],
   "source": [
    "arg = None\n",
    "print(f\"{arg}\")"
   ]
  }
 ],
 "metadata": {
  "kernelspec": {
   "display_name": "Python 3 (ipykernel)",
   "language": "python",
   "name": "python3"
  },
  "language_info": {
   "codemirror_mode": {
    "name": "ipython",
    "version": 3
   },
   "file_extension": ".py",
   "mimetype": "text/x-python",
   "name": "python",
   "nbconvert_exporter": "python",
   "pygments_lexer": "ipython3",
   "version": "3.11.4"
  }
 },
 "nbformat": 4,
 "nbformat_minor": 5
}
