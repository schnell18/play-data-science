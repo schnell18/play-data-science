{
 "cells": [
  {
   "cell_type": "code",
   "execution_count": 51,
   "id": "aa57ef25-10bd-4de0-908e-2dd2d2475638",
   "metadata": {},
   "outputs": [],
   "source": [
    "import pandas as pd \n",
    "import requests\n",
    "from lxml import html\n",
    "import markdown"
   ]
  },
  {
   "cell_type": "code",
   "execution_count": null,
   "id": "d27e3202-ec95-4a30-a2a2-eb5462d12bd9",
   "metadata": {},
   "outputs": [],
   "source": [
    "!pip install markdown"
   ]
  },
  {
   "cell_type": "code",
   "execution_count": null,
   "id": "ca07ec96-ea8d-4f71-8794-401bda5f39ba",
   "metadata": {},
   "outputs": [],
   "source": [
    "url = 'https://github.com/avelino/awesome-go/tree/main'\n",
    "\n",
    "response = requests.get(url)\n",
    "tree = html.fromstring(response.content)"
   ]
  },
  {
   "cell_type": "code",
   "execution_count": null,
   "id": "12ae1e27-12ac-4617-9aed-dd7825392bfe",
   "metadata": {
    "scrolled": true
   },
   "outputs": [],
   "source": [
    "url = 'https://raw.githubusercontent.com/avelino/awesome-go/main/README.md'\n",
    "\n",
    "response = requests.get(url)\n",
    "html = markdown.markdown(response.content)\n",
    "\n",
    "print(html)"
   ]
  },
  {
   "cell_type": "code",
   "execution_count": null,
   "id": "6654217e-e45a-4c43-9964-6b9af0b97cd6",
   "metadata": {},
   "outputs": [],
   "source": [
    "print(html)"
   ]
  },
  {
   "cell_type": "code",
   "execution_count": 62,
   "id": "9e9b1137-c7ca-4e54-a6a4-bffb8c8bc0c7",
   "metadata": {},
   "outputs": [],
   "source": [
    "cats = tree.xpath('//p[@dir=\"auto\"]/preceding-sibling::h2')\n",
    "\n",
    "dikts = []\n",
    "for cat in cats:\n",
    "    cat_name = cat.xpath('./text()')[0]\n",
    "    lis = cat.xpath('./following-sibling::ul[1]/li')\n",
    "    for li in lis:\n",
    "        desc = li.xpath('./text()')\n",
    "        if type(desc) != 'list' and len(desc) != 1: continue\n",
    "        link = li.xpath('./a/@href')\n",
    "        if type(link) != 'list' and len(link) != 1: continue\n",
    "        dikts.append({\n",
    "            \"category\": cat_name,\n",
    "            \"full_name\": \"/\".join(link[0].rsplit('/', 2)[1:]),\n",
    "            \"link\": link[0],\n",
    "            \"description\": desc[0][3:],\n",
    "        })\n",
    "\n",
    "df = pd.DataFrame(dikts)"
   ]
  },
  {
   "cell_type": "code",
   "execution_count": 64,
   "id": "26908c12-b1ce-4524-b117-6c701652a576",
   "metadata": {},
   "outputs": [],
   "source": [
    "#df.query(\"link.str.contains('github.com') == False\")\n",
    "df = df.query(\"category != 'Websites' and category != 'Conferences' and category != 'E-Books'\")\n",
    "df.to_csv(\"go-awesome-categories.csv\", index=False)"
   ]
  },
  {
   "cell_type": "code",
   "execution_count": null,
   "id": "527d9e9e-87e9-4e1a-a448-3a88b8dc6b04",
   "metadata": {
    "scrolled": true
   },
   "outputs": [],
   "source": [
    "df.query(\"category == 'Audio and Music'\").groupby([\"name\"]).agg(counts=pd.NamedAgg(column=\"link\", aggfunc=\"count\"))"
   ]
  },
  {
   "cell_type": "code",
   "execution_count": 44,
   "id": "63312f21-70ef-465e-a0a9-2a729ad63e2d",
   "metadata": {},
   "outputs": [
    {
     "data": {
      "text/html": [
       "<div>\n",
       "<style scoped>\n",
       "    .dataframe tbody tr th:only-of-type {\n",
       "        vertical-align: middle;\n",
       "    }\n",
       "\n",
       "    .dataframe tbody tr th {\n",
       "        vertical-align: top;\n",
       "    }\n",
       "\n",
       "    .dataframe thead th {\n",
       "        text-align: right;\n",
       "    }\n",
       "</style>\n",
       "<table border=\"1\" class=\"dataframe\">\n",
       "  <thead>\n",
       "    <tr style=\"text-align: right;\">\n",
       "      <th></th>\n",
       "      <th>counts</th>\n",
       "    </tr>\n",
       "    <tr>\n",
       "      <th>category</th>\n",
       "      <th></th>\n",
       "    </tr>\n",
       "  </thead>\n",
       "  <tbody>\n",
       "    <tr>\n",
       "      <th>Audio and Music</th>\n",
       "      <td>2293</td>\n",
       "    </tr>\n",
       "    <tr>\n",
       "      <th>Authentication and OAuth</th>\n",
       "      <td>2284</td>\n",
       "    </tr>\n",
       "    <tr>\n",
       "      <th>Benchmarks</th>\n",
       "      <td>136</td>\n",
       "    </tr>\n",
       "    <tr>\n",
       "      <th>Blockchain</th>\n",
       "      <td>2255</td>\n",
       "    </tr>\n",
       "    <tr>\n",
       "      <th>Bot Building</th>\n",
       "      <td>2249</td>\n",
       "    </tr>\n",
       "    <tr>\n",
       "      <th>...</th>\n",
       "      <td>...</td>\n",
       "    </tr>\n",
       "    <tr>\n",
       "      <th>WebAssembly</th>\n",
       "      <td>371</td>\n",
       "    </tr>\n",
       "    <tr>\n",
       "      <th>Websites</th>\n",
       "      <td>82</td>\n",
       "    </tr>\n",
       "    <tr>\n",
       "      <th>Windows</th>\n",
       "      <td>365</td>\n",
       "    </tr>\n",
       "    <tr>\n",
       "      <th>XML</th>\n",
       "      <td>362</td>\n",
       "    </tr>\n",
       "    <tr>\n",
       "      <th>Zero Trust</th>\n",
       "      <td>356</td>\n",
       "    </tr>\n",
       "  </tbody>\n",
       "</table>\n",
       "<p>79 rows × 1 columns</p>\n",
       "</div>"
      ],
      "text/plain": [
       "                          counts\n",
       "category                        \n",
       "Audio and Music             2293\n",
       "Authentication and OAuth    2284\n",
       "Benchmarks                   136\n",
       "Blockchain                  2255\n",
       "Bot Building                2249\n",
       "...                          ...\n",
       "WebAssembly                  371\n",
       "Websites                      82\n",
       "Windows                      365\n",
       "XML                          362\n",
       "Zero Trust                   356\n",
       "\n",
       "[79 rows x 1 columns]"
      ]
     },
     "execution_count": 44,
     "metadata": {},
     "output_type": "execute_result"
    }
   ],
   "source": [
    "df.groupby([\"category\"]).agg(counts=pd.NamedAgg(column=\"name\", aggfunc=\"count\"))\n",
    "\n",
    "    "
   ]
  },
  {
   "cell_type": "code",
   "execution_count": null,
   "id": "bfc1e693-c9ec-49f6-af06-1fa8305275cb",
   "metadata": {},
   "outputs": [],
   "source": []
  }
 ],
 "metadata": {
  "kernelspec": {
   "display_name": "Python 3 (ipykernel)",
   "language": "python",
   "name": "python3"
  },
  "language_info": {
   "codemirror_mode": {
    "name": "ipython",
    "version": 3
   },
   "file_extension": ".py",
   "mimetype": "text/x-python",
   "name": "python",
   "nbconvert_exporter": "python",
   "pygments_lexer": "ipython3",
   "version": "3.11.4"
  }
 },
 "nbformat": 4,
 "nbformat_minor": 5
}
