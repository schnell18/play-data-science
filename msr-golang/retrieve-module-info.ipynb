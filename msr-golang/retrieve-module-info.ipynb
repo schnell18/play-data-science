{
 "cells": [
  {
   "cell_type": "code",
   "execution_count": 2,
   "id": "6411d9c2-976a-4b13-bf7a-bba23477068e",
   "metadata": {
    "scrolled": true
   },
   "outputs": [],
   "source": [
    "import pandas as pd\n",
    "import numpy as np\n"
   ]
  },
  {
   "cell_type": "code",
   "execution_count": 1,
   "id": "5475f8d3-6a74-445d-acbb-2094b67b3e74",
   "metadata": {},
   "outputs": [],
   "source": [
    "# import local functions\n",
    "from datagrab.gomod import load_mod_info\n",
    "from datagrab.gomod import persist_progress\n",
    "from datagrab.gomod import load_access_token\n",
    "from datagrab.gomod import grab_gomod\n"
   ]
  },
  {
   "cell_type": "markdown",
   "id": "48c1b16b-a4c8-47a5-aa22-566f7c053833",
   "metadata": {},
   "source": [
    "### walk thru the repositories to determine module info\n",
    "\n",
    "- create separate directory for each repo to store module config file\n",
    "- grab module config file of published version conformming to semver"
   ]
  },
  {
   "cell_type": "code",
   "execution_count": null,
   "id": "c7ed0b3a-51a8-4660-bf1e-38b4ee47a5b7",
   "metadata": {},
   "outputs": [],
   "source": [
    "%%time\n",
    "grab_gomod(\"slim.csv\", show_progress=True)"
   ]
  },
  {
   "cell_type": "code",
   "execution_count": null,
   "id": "83fbbad8-9af3-4a77-ae85-d341c24d652e",
   "metadata": {},
   "outputs": [],
   "source": []
  },
  {
   "cell_type": "markdown",
   "id": "dd9aa822-74eb-42ce-a816-206e0e408065",
   "metadata": {},
   "source": [
    "### combine all golang repositories with stars>=10, non-fork"
   ]
  },
  {
   "cell_type": "markdown",
   "id": "10dc9e74-4415-40ce-b022-d523bf748565",
   "metadata": {},
   "source": [
    "## DEBUGGING CELLS"
   ]
  },
  {
   "cell_type": "code",
   "execution_count": 3,
   "id": "46ed4973-3810-4ffa-894a-b7d123928bcb",
   "metadata": {},
   "outputs": [],
   "source": [
    "\n",
    "df = pd.read_excel(\"repo-candidates/combined.xlsx\")"
   ]
  },
  {
   "cell_type": "code",
   "execution_count": 9,
   "id": "3bae2bc5-0b3a-4b06-bb66-72a32abff104",
   "metadata": {},
   "outputs": [],
   "source": [
    "df.to_csv(\"repo-candidates/slim.csv\", columns=['id', 'full_name', 'stargazers_count', 'forks_count', 'created_at'])"
   ]
  },
  {
   "cell_type": "code",
   "execution_count": null,
   "id": "ad10c6f5-c115-41c6-9790-7659d03726a2",
   "metadata": {},
   "outputs": [],
   "source": [
    "%%time\n",
    "\n",
    "client = Github(load_access_token(), per_page=100) \n",
    "df2 = pd.read_csv(\"ghs-compare/slim.csv\")\n",
    "df2['useModule'] = df2.apply(lambda r: do_mod_check(client, r), axis=1)"
   ]
  },
  {
   "cell_type": "code",
   "execution_count": 112,
   "id": "978cf014-c709-4c24-8d81-fee5da062d36",
   "metadata": {},
   "outputs": [
    {
     "data": {
      "text/html": [
       "<div>\n",
       "<style scoped>\n",
       "    .dataframe tbody tr th:only-of-type {\n",
       "        vertical-align: middle;\n",
       "    }\n",
       "\n",
       "    .dataframe tbody tr th {\n",
       "        vertical-align: top;\n",
       "    }\n",
       "\n",
       "    .dataframe thead th {\n",
       "        text-align: right;\n",
       "    }\n",
       "</style>\n",
       "<table border=\"1\" class=\"dataframe\">\n",
       "  <thead>\n",
       "    <tr style=\"text-align: right;\">\n",
       "      <th></th>\n",
       "      <th>Unnamed: 0</th>\n",
       "      <th>id</th>\n",
       "      <th>full_name</th>\n",
       "      <th>stargazers_count</th>\n",
       "      <th>forks_count</th>\n",
       "      <th>created_at</th>\n",
       "    </tr>\n",
       "  </thead>\n",
       "  <tbody>\n",
       "    <tr>\n",
       "      <th>0</th>\n",
       "      <td>0</td>\n",
       "      <td>584556174</td>\n",
       "      <td>sourcegraph/conc</td>\n",
       "      <td>7158</td>\n",
       "      <td>251</td>\n",
       "      <td>2023-01-02T22:52:07Z</td>\n",
       "    </tr>\n",
       "    <tr>\n",
       "      <th>1</th>\n",
       "      <td>1</td>\n",
       "      <td>585235597</td>\n",
       "      <td>ServiceWeaver/weaver</td>\n",
       "      <td>3723</td>\n",
       "      <td>186</td>\n",
       "      <td>2023-01-04T16:54:28Z</td>\n",
       "    </tr>\n",
       "    <tr>\n",
       "      <th>2</th>\n",
       "      <td>2</td>\n",
       "      <td>586427117</td>\n",
       "      <td>amitshekhariitbhu/go-backend-clean-architecture</td>\n",
       "      <td>2795</td>\n",
       "      <td>278</td>\n",
       "      <td>2023-01-08T04:50:47Z</td>\n",
       "    </tr>\n",
       "    <tr>\n",
       "      <th>3</th>\n",
       "      <td>3</td>\n",
       "      <td>587350711</td>\n",
       "      <td>berachain/polaris</td>\n",
       "      <td>628</td>\n",
       "      <td>88</td>\n",
       "      <td>2023-01-10T14:51:27Z</td>\n",
       "    </tr>\n",
       "    <tr>\n",
       "      <th>4</th>\n",
       "      <td>4</td>\n",
       "      <td>587311303</td>\n",
       "      <td>Cyber-Buddy/APKHunt</td>\n",
       "      <td>594</td>\n",
       "      <td>54</td>\n",
       "      <td>2023-01-10T13:10:57Z</td>\n",
       "    </tr>\n",
       "    <tr>\n",
       "      <th>...</th>\n",
       "      <td>...</td>\n",
       "      <td>...</td>\n",
       "      <td>...</td>\n",
       "      <td>...</td>\n",
       "      <td>...</td>\n",
       "      <td>...</td>\n",
       "    </tr>\n",
       "    <tr>\n",
       "      <th>67918</th>\n",
       "      <td>67918</td>\n",
       "      <td>452946</td>\n",
       "      <td>espra/core</td>\n",
       "      <td>102</td>\n",
       "      <td>14</td>\n",
       "      <td>2009-12-30T02:40:26Z</td>\n",
       "    </tr>\n",
       "    <tr>\n",
       "      <th>67919</th>\n",
       "      <td>67919</td>\n",
       "      <td>453761</td>\n",
       "      <td>kklis/gomemcache</td>\n",
       "      <td>66</td>\n",
       "      <td>19</td>\n",
       "      <td>2009-12-30T20:25:49Z</td>\n",
       "    </tr>\n",
       "    <tr>\n",
       "      <th>67920</th>\n",
       "      <td>67920</td>\n",
       "      <td>446634</td>\n",
       "      <td>kevinwatt/ed2kcrawler</td>\n",
       "      <td>31</td>\n",
       "      <td>6</td>\n",
       "      <td>2009-12-23T03:31:04Z</td>\n",
       "    </tr>\n",
       "    <tr>\n",
       "      <th>67921</th>\n",
       "      <td>67921</td>\n",
       "      <td>449148</td>\n",
       "      <td>feyeleanor/GoFORTH</td>\n",
       "      <td>12</td>\n",
       "      <td>0</td>\n",
       "      <td>2009-12-25T22:16:06Z</td>\n",
       "    </tr>\n",
       "    <tr>\n",
       "      <th>67922</th>\n",
       "      <td>67922</td>\n",
       "      <td>450084</td>\n",
       "      <td>papamitra/go-dbus</td>\n",
       "      <td>10</td>\n",
       "      <td>22</td>\n",
       "      <td>2009-12-27T13:41:53Z</td>\n",
       "    </tr>\n",
       "  </tbody>\n",
       "</table>\n",
       "<p>67923 rows × 6 columns</p>\n",
       "</div>"
      ],
      "text/plain": [
       "       Unnamed: 0         id                                        full_name  \\\n",
       "0               0  584556174                                 sourcegraph/conc   \n",
       "1               1  585235597                             ServiceWeaver/weaver   \n",
       "2               2  586427117  amitshekhariitbhu/go-backend-clean-architecture   \n",
       "3               3  587350711                                berachain/polaris   \n",
       "4               4  587311303                              Cyber-Buddy/APKHunt   \n",
       "...           ...        ...                                              ...   \n",
       "67918       67918     452946                                       espra/core   \n",
       "67919       67919     453761                                 kklis/gomemcache   \n",
       "67920       67920     446634                            kevinwatt/ed2kcrawler   \n",
       "67921       67921     449148                               feyeleanor/GoFORTH   \n",
       "67922       67922     450084                                papamitra/go-dbus   \n",
       "\n",
       "       stargazers_count  forks_count            created_at  \n",
       "0                  7158          251  2023-01-02T22:52:07Z  \n",
       "1                  3723          186  2023-01-04T16:54:28Z  \n",
       "2                  2795          278  2023-01-08T04:50:47Z  \n",
       "3                   628           88  2023-01-10T14:51:27Z  \n",
       "4                   594           54  2023-01-10T13:10:57Z  \n",
       "...                 ...          ...                   ...  \n",
       "67918               102           14  2009-12-30T02:40:26Z  \n",
       "67919                66           19  2009-12-30T20:25:49Z  \n",
       "67920                31            6  2009-12-23T03:31:04Z  \n",
       "67921                12            0  2009-12-25T22:16:06Z  \n",
       "67922                10           22  2009-12-27T13:41:53Z  \n",
       "\n",
       "[67923 rows x 6 columns]"
      ]
     },
     "execution_count": 112,
     "metadata": {},
     "output_type": "execute_result"
    }
   ],
   "source": [
    "df2"
   ]
  },
  {
   "cell_type": "code",
   "execution_count": null,
   "id": "404c446c-9551-4f9d-9dd6-0f12a4db7545",
   "metadata": {},
   "outputs": [],
   "source": [
    "df2.query(\"useModule == False\").sort_values(\"stargazers_count\", ascending=False)"
   ]
  },
  {
   "cell_type": "code",
   "execution_count": 78,
   "id": "e8b8299b-cfb5-4712-8302-faf02b5ece58",
   "metadata": {},
   "outputs": [
    {
     "name": "stdout",
     "output_type": "stream",
     "text": [
      "ContentFile(path=\"pool/pool.go\")\n"
     ]
    }
   ],
   "source": [
    "\n",
    "repo = client.get_repo(\"sourcegraph/conc\")\n",
    "# determine latest version\n",
    "# content = repo.get_contents(\"go.mod\", ref=\"v0.3.0\")\n",
    "try:\n",
    "    # content = repo.get_contents(\"go.mod\")\n",
    "    content = repo.get_contents(\"pool/pool.go\", ref=\"v0.3.0\")\n",
    "    print(content)\n",
    "except UnknownObjectException as uoe:\n",
    "    print(\"not go.mod project\")\n"
   ]
  },
  {
   "cell_type": "code",
   "execution_count": 21,
   "id": "b50cfa61-8e1c-489e-a7cb-d1b857580322",
   "metadata": {},
   "outputs": [
    {
     "name": "stdout",
     "output_type": "stream",
     "text": [
      "['internal', 'iter', 'panics', 'pool', 'stream']\n"
     ]
    }
   ],
   "source": [
    "\n",
    "repo = client.get_repo(\"sourcegraph/conc\")\n",
    "try:\n",
    "    contents = repo.get_contents(\".\")\n",
    "    dirs = [c.name for c in contents if c.type == 'dir' and not c.name.startswith('.')]\n",
    "    print(dirs)\n",
    "except UnknownObjectException as uoe:\n",
    "    print(\"not go.mod project\")\n"
   ]
  },
  {
   "cell_type": "code",
   "execution_count": null,
   "id": "8254be9b-114d-42cf-9086-61c303fff3fa",
   "metadata": {},
   "outputs": [],
   "source": [
    "\n",
    "repo = client.get_repo(\"sourcegraph/conc\")\n",
    "# determine latest version\n",
    "# content = repo.get_contents(\"go.mod\", ref=\"v0.3.0\")\n",
    "try:\n",
    "    tags = repo.get_tags()\n",
    "    for tag in tags:\n",
    "        print(vars(tag))\n",
    "except Exception as e:\n",
    "    print(\"Opos\")\n"
   ]
  },
  {
   "cell_type": "code",
   "execution_count": 74,
   "id": "94f88438-ee7e-488a-9aab-928490bb2c12",
   "metadata": {},
   "outputs": [
    {
     "data": {
      "text/plain": [
       "['v1.2.1', 'v1.2.1-alpha.2', 'v1.2.1-alpha.1+build1', 'v0.2.1', 'v0.1.1']"
      ]
     },
     "execution_count": 74,
     "metadata": {},
     "output_type": "execute_result"
    }
   ],
   "source": [
    "# semver comparison\n",
    "def semver_sort(ver_list):\n",
    "    svers = [semver.version.Version.parse(v[1:] if v.startswith(\"v\") else v) for v in vers]\n",
    "    svers.sort(reverse=True)\n",
    "    return [f\"v{sv}\" for sv in svers]\n",
    "\n",
    "#!pip install semver\n",
    "import semver\n",
    "vers = [\n",
    "    \"v0.1.1\",\n",
    "    \"v0.2.1\",\n",
    "    \"v1.2.1\",\n",
    "    \"v1.2.1-alpha.1+build1\",\n",
    "    \"v1.2.1-alpha.2\",\n",
    "]\n",
    "\n",
    "semver_sort(vers)\n",
    "\n"
   ]
  },
  {
   "cell_type": "code",
   "execution_count": 2,
   "id": "5d83d064-6113-4571-ade5-863021cb7f93",
   "metadata": {},
   "outputs": [],
   "source": [
    "from pygobuildinfo import get_go_mod"
   ]
  },
  {
   "cell_type": "code",
   "execution_count": null,
   "id": "228b99f0-1fa0-47de-ba67-3ae6e46f15f3",
   "metadata": {
    "scrolled": true
   },
   "outputs": [],
   "source": [
    "obj = get_go_mod(\"mod-info/piraces/rsslay/v0.4.2/go.mod\")\n",
    "obj"
   ]
  }
 ],
 "metadata": {
  "kernelspec": {
   "display_name": "Python 3 (ipykernel)",
   "language": "python",
   "name": "python3"
  },
  "language_info": {
   "codemirror_mode": {
    "name": "ipython",
    "version": 3
   },
   "file_extension": ".py",
   "mimetype": "text/x-python",
   "name": "python",
   "nbconvert_exporter": "python",
   "pygments_lexer": "ipython3",
   "version": "3.11.4"
  }
 },
 "nbformat": 4,
 "nbformat_minor": 5
}
