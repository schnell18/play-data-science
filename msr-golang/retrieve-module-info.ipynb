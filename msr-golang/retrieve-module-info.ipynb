{
 "cells": [
  {
   "cell_type": "code",
   "execution_count": 9,
   "id": "6411d9c2-976a-4b13-bf7a-bba23477068e",
   "metadata": {
    "scrolled": true
   },
   "outputs": [],
   "source": [
    "from github import Github\n",
    "import pandas as pd\n",
    "import numpy as np\n",
    "import json\n",
    "import requests\n",
    "import configparser\n",
    "from datetime import date, timedelta\n",
    "from timeit import default_timer as timer\n",
    "from pathlib import Path"
   ]
  },
  {
   "cell_type": "code",
   "execution_count": 12,
   "id": "e74fd0ae-6230-4535-873d-678e0d964cd4",
   "metadata": {},
   "outputs": [],
   "source": [
    "def load_access_token():\n",
    "    parser = configparser.ConfigParser()\n",
    "    parser.read('credential.ini')\n",
    "    section = parser['github']\n",
    "    return section['access_token']\n",
    "\n",
    "\n",
    "def format_date(d):\n",
    "    return d.strftime(\"%Y-%m-%d\")\n",
    "\n"
   ]
  },
  {
   "cell_type": "markdown",
   "id": "48c1b16b-a4c8-47a5-aa22-566f7c053833",
   "metadata": {},
   "source": [
    "### walk thru the repositories to determine module info\n",
    "\n",
    "- create separate directory for each repo to store module config file\n",
    "- grab module config file of latest stable version"
   ]
  },
  {
   "cell_type": "code",
   "execution_count": null,
   "id": "c7ed0b3a-51a8-4660-bf1e-38b4ee47a5b7",
   "metadata": {},
   "outputs": [],
   "source": []
  },
  {
   "cell_type": "markdown",
   "id": "dd9aa822-74eb-42ce-a816-206e0e408065",
   "metadata": {},
   "source": [
    "### combine all golang repositories with stars>=10, non-fork"
   ]
  },
  {
   "cell_type": "markdown",
   "id": "10dc9e74-4415-40ce-b022-d523bf748565",
   "metadata": {},
   "source": [
    "## DEBUGGING CELLS"
   ]
  }
 ],
 "metadata": {
  "kernelspec": {
   "display_name": "Python 3 (ipykernel)",
   "language": "python",
   "name": "python3"
  },
  "language_info": {
   "codemirror_mode": {
    "name": "ipython",
    "version": 3
   },
   "file_extension": ".py",
   "mimetype": "text/x-python",
   "name": "python",
   "nbconvert_exporter": "python",
   "pygments_lexer": "ipython3",
   "version": "3.11.4"
  }
 },
 "nbformat": 4,
 "nbformat_minor": 5
}
