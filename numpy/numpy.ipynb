{
 "cells": [
  {
   "cell_type": "markdown",
   "id": "b820aa9d-7c95-4a86-9a52-fc4d5fcfc098",
   "metadata": {},
   "source": [
    "# Basics of NumPy"
   ]
  },
  {
   "cell_type": "code",
   "execution_count": 2,
   "id": "e3b65aa1-2eb6-4a31-bce8-41c96bb48f32",
   "metadata": {},
   "outputs": [],
   "source": [
    "import numpy as np\n",
    "import pandas as pd\n",
    "from scipy import special"
   ]
  },
  {
   "cell_type": "code",
   "execution_count": 3,
   "id": "77878d00-8812-4207-8699-9da7b13d7cfa",
   "metadata": {},
   "outputs": [],
   "source": [
    "np.random.seed(0)"
   ]
  },
  {
   "cell_type": "code",
   "execution_count": 4,
   "id": "c649ed60-3503-42dc-873f-934139d7e142",
   "metadata": {},
   "outputs": [],
   "source": [
    "x1 = np.random.randint(10, size=6)\n",
    "x2 = np.random.randint(10, size=(3, 4))\n",
    "x3 = np.random.randint(10, size=(3, 4, 5))"
   ]
  },
  {
   "cell_type": "code",
   "execution_count": 5,
   "id": "8f4d863b-b723-43d8-a65c-a99d481c0218",
   "metadata": {},
   "outputs": [
    {
     "data": {
      "text/plain": [
       "array([ 5, 11,  3,  3,  7,  9])"
      ]
     },
     "execution_count": 5,
     "metadata": {},
     "output_type": "execute_result"
    }
   ],
   "source": [
    "x11 = x1.copy()\n",
    "x11[1] = 11\n",
    "x11"
   ]
  },
  {
   "cell_type": "code",
   "execution_count": 8,
   "id": "8861a21a-ca12-43c6-bc98-3fb637724dab",
   "metadata": {},
   "outputs": [
    {
     "data": {
      "text/plain": [
       "array([5, 0, 3, 3, 7, 9])"
      ]
     },
     "execution_count": 8,
     "metadata": {},
     "output_type": "execute_result"
    }
   ],
   "source": [
    "x1"
   ]
  },
  {
   "cell_type": "markdown",
   "id": "a3a66a7f-23ea-4412-a1e9-f9cd5753d501",
   "metadata": {},
   "source": [
    "## Reshaping of Arrays"
   ]
  },
  {
   "cell_type": "code",
   "execution_count": 18,
   "id": "577b842f-2b51-4685-b6b5-00ae039045bc",
   "metadata": {},
   "outputs": [
    {
     "data": {
      "text/plain": [
       "array([[1, 2, 3]])"
      ]
     },
     "execution_count": 18,
     "metadata": {},
     "output_type": "execute_result"
    }
   ],
   "source": [
    "grid = np.arange(1, 10).reshape((3,3))\n",
    "x = np.arange(1, 4)\n",
    "x.reshape((1,3))\n",
    "x[np.newaxis, :]\n"
   ]
  },
  {
   "cell_type": "markdown",
   "id": "b3d82b65-4dbf-4bb2-ae08-0532316b5a27",
   "metadata": {},
   "source": [
    "## Concatenation and Splitting"
   ]
  },
  {
   "cell_type": "code",
   "execution_count": 19,
   "id": "6ae5a004-a6e6-4ef2-b89e-851d36095cbc",
   "metadata": {},
   "outputs": [
    {
     "data": {
      "text/plain": [
       "array([1, 2, 3, 3, 2, 1])"
      ]
     },
     "execution_count": 19,
     "metadata": {},
     "output_type": "execute_result"
    }
   ],
   "source": [
    "x = np.array([1, 2, 3])\n",
    "y = np.array([3, 2, 1])\n",
    "np.concatenate([x, y])"
   ]
  },
  {
   "cell_type": "code",
   "execution_count": 23,
   "id": "e7ec715a-8d93-4ffc-810c-19ac12a25110",
   "metadata": {},
   "outputs": [
    {
     "name": "stdout",
     "output_type": "stream",
     "text": [
      "[ 1  2  3  3  2  1 99 99 99 99 99 99]\n"
     ]
    }
   ],
   "source": [
    "z = [99, 99, 99]\n",
    "print(np.concatenate([x, y, z, z]))"
   ]
  },
  {
   "cell_type": "code",
   "execution_count": 24,
   "id": "8c5515c0-89d9-4fad-8d64-fff9a5dad789",
   "metadata": {},
   "outputs": [
    {
     "data": {
      "text/plain": [
       "array([[1, 2, 3],\n",
       "       [4, 5, 6],\n",
       "       [1, 2, 3],\n",
       "       [4, 5, 6]])"
      ]
     },
     "execution_count": 24,
     "metadata": {},
     "output_type": "execute_result"
    }
   ],
   "source": [
    "grid = np.array([[1, 2, 3], [4, 5, 6]])\n",
    "np.concatenate([grid, grid])"
   ]
  },
  {
   "cell_type": "code",
   "execution_count": 25,
   "id": "b04a8008-d525-49a7-8f46-5d39709b945b",
   "metadata": {},
   "outputs": [
    {
     "data": {
      "text/plain": [
       "array([[1, 2, 3, 1, 2, 3],\n",
       "       [4, 5, 6, 4, 5, 6]])"
      ]
     },
     "execution_count": 25,
     "metadata": {},
     "output_type": "execute_result"
    }
   ],
   "source": [
    "np.concatenate([grid, grid], axis=1)"
   ]
  },
  {
   "cell_type": "code",
   "execution_count": 31,
   "id": "e70494cb-3deb-4747-9036-f7da1c90da7b",
   "metadata": {},
   "outputs": [
    {
     "data": {
      "text/plain": [
       "array([[1, 2, 3],\n",
       "       [1, 2, 3],\n",
       "       [4, 5, 6]])"
      ]
     },
     "execution_count": 31,
     "metadata": {},
     "output_type": "execute_result"
    }
   ],
   "source": [
    "np.vstack([x, grid])"
   ]
  },
  {
   "cell_type": "code",
   "execution_count": 33,
   "id": "8f2960e8-2e23-4a7b-a41a-c36e3211daa5",
   "metadata": {},
   "outputs": [
    {
     "name": "stdout",
     "output_type": "stream",
     "text": [
      "[1 2 3] [99 99] [3 2 1]\n"
     ]
    }
   ],
   "source": [
    "x = [1, 2, 3, 99, 99, 3, 2, 1]\n",
    "x1, x2, x3 = np.split(x, [3, 5])\n",
    "print(x1, x2, x3)"
   ]
  },
  {
   "cell_type": "code",
   "execution_count": 34,
   "id": "61c86dad-12e7-44f7-af5c-ce5b3ef4e87e",
   "metadata": {},
   "outputs": [
    {
     "data": {
      "text/plain": [
       "array([[ 0,  1,  2,  3],\n",
       "       [ 4,  5,  6,  7],\n",
       "       [ 8,  9, 10, 11],\n",
       "       [12, 13, 14, 15]])"
      ]
     },
     "execution_count": 34,
     "metadata": {},
     "output_type": "execute_result"
    }
   ],
   "source": [
    "grid = np.arange(16).reshape((4, 4))\n",
    "grid"
   ]
  },
  {
   "cell_type": "code",
   "execution_count": 38,
   "id": "e6828896-9239-4a4d-9c91-4b49fe58ad67",
   "metadata": {},
   "outputs": [
    {
     "name": "stdout",
     "output_type": "stream",
     "text": [
      "[[ 0  1]\n",
      " [ 4  5]\n",
      " [ 8  9]\n",
      " [12 13]]\n",
      "[[ 2  3]\n",
      " [ 6  7]\n",
      " [10 11]\n",
      " [14 15]]\n"
     ]
    }
   ],
   "source": [
    "upper, lower = np.hsplit(grid, 2)\n",
    "print(upper)\n",
    "print(lower)"
   ]
  },
  {
   "cell_type": "markdown",
   "id": "9fb6aa5f-eb1b-445d-9b37-166c7506ed45",
   "metadata": {},
   "source": [
    "# Universal Functions\n",
    "Universal functions are capable of fast computing vectorized values\n",
    "builtin ufunc include:\n",
    "\n",
    "Basic arithmetic\n",
    "* np.add(+)\n",
    "* np.subtract(-)\n",
    "* np.negative(-)\n",
    "* np.multiply(*)\n",
    "* np.divde(/)\n",
    "* np.floor_divide(//)\n",
    "* np.power(**)\n",
    "* np.mod(%)\n",
    "* absolute(abs)\n",
    "\n",
    "Comparison\n",
    "* np.equal(==)\n",
    "* np.not_equal(!=)\n",
    "* np.less(<)\n",
    "* np,greater(>)\n",
    "* np.less_equal(<=)\n",
    "* np.greater_equal(>=)\n",
    "\n",
    "bitwise operation\n",
    "* np.bitwise_and(&)\n",
    "* np.bitwise_or(|)\n",
    "* np.bitwise_xor(^)\n",
    "* np,bitwise_not(~)\n",
    "\n",
    "\n",
    "Trigonometric:\n",
    "* np.sin\n",
    "* np.cos\n",
    "* np.tan\n",
    "* np.arcsin\n",
    "* np.arccos\n",
    "* np.arctan\n",
    "\n",
    "Exponents and logarithms\n",
    "* np.exp\n",
    "* np.exp2\n",
    "* np.power\n",
    "* np.log\n",
    "* np.log2\n",
    "* np.log10\n",
    "\n",
    "Special ufuncs(from scipy import special)\n",
    "* gamma\n",
    "* gammaln\n",
    "* beta\n",
    "* erf\n",
    "* erfc\n",
    "* erfinv\n"
   ]
  },
  {
   "cell_type": "code",
   "execution_count": 39,
   "id": "1288108b-39a0-4473-af26-81a993f843fc",
   "metadata": {},
   "outputs": [],
   "source": [
    "def compute_reciprocals(values):\n",
    "    output = np.empty(len(values))\n",
    "    for i in range(len(values)):\n",
    "        output[i] = 1.0 / values[i]\n",
    "    return output"
   ]
  },
  {
   "cell_type": "code",
   "execution_count": 40,
   "id": "05644342-0457-4763-8cd2-5d6739487a2d",
   "metadata": {},
   "outputs": [
    {
     "name": "stdout",
     "output_type": "stream",
     "text": [
      "[5 4 5 5 9]\n"
     ]
    },
    {
     "data": {
      "text/plain": [
       "array([0.2       , 0.25      , 0.2       , 0.2       , 0.11111111])"
      ]
     },
     "execution_count": 40,
     "metadata": {},
     "output_type": "execute_result"
    }
   ],
   "source": [
    "values = np.random.randint(1, 10, size=5)\n",
    "print(values)\n",
    "compute_reciprocals(values)"
   ]
  },
  {
   "cell_type": "code",
   "execution_count": 43,
   "id": "47834504-ea82-4d8b-9927-76a2bc4ca569",
   "metadata": {},
   "outputs": [
    {
     "name": "stdout",
     "output_type": "stream",
     "text": [
      "1.33 s ± 3.77 ms per loop (mean ± std. dev. of 7 runs, 1 loop each)\n",
      "595 µs ± 3.95 µs per loop (mean ± std. dev. of 7 runs, 1000 loops each)\n"
     ]
    }
   ],
   "source": [
    "big_array = np.random.randint(1, 100, size=1000000)\n",
    "%timeit compute_reciprocals(big_array)\n",
    "%timeit 1.0 / big_array"
   ]
  },
  {
   "cell_type": "code",
   "execution_count": 49,
   "id": "df1a55b4-e7f9-4be6-92d1-064094e4d5db",
   "metadata": {},
   "outputs": [
    {
     "name": "stdout",
     "output_type": "stream",
     "text": [
      "[[ 0  1  4]\n",
      " [ 9 16 25]\n",
      " [36 49 64]]\n",
      "[[ 2  3  4]\n",
      " [ 5  6  7]\n",
      " [ 8  9 10]]\n",
      "[[-2 -1  0]\n",
      " [ 1  2  3]\n",
      " [ 4  5  6]]\n",
      "[[ 0  2  4]\n",
      " [ 6  8 10]\n",
      " [12 14 16]]\n",
      "[[0.  0.5 1. ]\n",
      " [1.5 2.  2.5]\n",
      " [3.  3.5 4. ]]\n",
      "[[0 0 1]\n",
      " [1 2 2]\n",
      " [3 3 4]]\n",
      "[[0 1 2]\n",
      " [3 4 5]\n",
      " [6 7 8]]\n"
     ]
    }
   ],
   "source": [
    "x = np.arange(9).reshape((3, 3))\n",
    "print(x ** 2)\n",
    "print(x + 2)\n",
    "print(x - 2)\n",
    "print(x * 2)\n",
    "print(x / 2)\n",
    "print(x // 2)\n",
    "print(x % 13)"
   ]
  },
  {
   "cell_type": "code",
   "execution_count": 57,
   "id": "c51d7027-1ff4-4a79-a542-284c6260443d",
   "metadata": {},
   "outputs": [
    {
     "name": "stdout",
     "output_type": "stream",
     "text": [
      "theta         =  [0.         1.57079633 3.14159265]\n",
      "sin(theta)    =  [0.0000000e+00 1.0000000e+00 1.2246468e-16]\n",
      "cos(theta)    =  [ 1.000000e+00  6.123234e-17 -1.000000e+00]\n",
      "tan(theta)    =  [ 0.00000000e+00  1.63312394e+16 -1.22464680e-16]\n",
      "arcsin(theta) =  [-1.57079633  0.          1.57079633]\n",
      "arccos(theta) =  [3.14159265 1.57079633 0.        ]\n",
      "arctan(theta) =  [-0.78539816  0.          0.78539816]\n"
     ]
    }
   ],
   "source": [
    "theta = np.linspace(0, np.pi, 3)\n",
    "print(\"theta         = \", theta)\n",
    "print(\"sin(theta)    = \", np.sin(theta))\n",
    "print(\"cos(theta)    = \", np.cos(theta))\n",
    "print(\"tan(theta)    = \", np.tan(theta))\n",
    "theta = [-1, 0, 1]\n",
    "print(\"arcsin(theta) = \", np.arcsin(theta))\n",
    "print(\"arccos(theta) = \", np.arccos(theta))\n",
    "print(\"arctan(theta) = \", np.arctan(theta))\n"
   ]
  },
  {
   "cell_type": "code",
   "execution_count": 59,
   "id": "8e930ae6-b664-4361-a64e-64e9d649165a",
   "metadata": {},
   "outputs": [
    {
     "name": "stdout",
     "output_type": "stream",
     "text": [
      "x   =  [1, 2, 3]\n",
      "e^x =  [ 2.71828183  7.3890561  20.08553692]\n",
      "2^x =  [2. 4. 8.]\n",
      "3^x =  [ 3  9 27]\n"
     ]
    }
   ],
   "source": [
    "# exponential\n",
    "x = [1, 2, 3]\n",
    "print(\"x   = \", x)\n",
    "print(\"e^x = \", np.exp(x))\n",
    "print(\"2^x = \", np.exp2(x))\n",
    "print(\"3^x = \", np.power(3, x))\n",
    "\n"
   ]
  },
  {
   "cell_type": "code",
   "execution_count": 60,
   "id": "e1f97516-5d36-4d91-bb40-fe1bb8d669bf",
   "metadata": {},
   "outputs": [
    {
     "name": "stdout",
     "output_type": "stream",
     "text": [
      "x        =  [1, 2, 3, 4]\n",
      "ln(x)    =  [0.         0.69314718 1.09861229 1.38629436]\n",
      "log2(x)  =  [0.        1.        1.5849625 2.       ]\n",
      "log10(x) =  [0.         0.30103    0.47712125 0.60205999]\n"
     ]
    }
   ],
   "source": [
    "# logarithms\n",
    "x = [1, 2, 3, 4]\n",
    "print(\"x        = \", x)\n",
    "print(\"ln(x)    = \", np.log(x))\n",
    "print(\"log2(x)  = \", np.log2(x))\n",
    "print(\"log10(x) = \", np.log10(x))\n"
   ]
  },
  {
   "cell_type": "code",
   "execution_count": 62,
   "id": "ee03a54c-afa5-4ab4-bd55-3fdf6b59931c",
   "metadata": {},
   "outputs": [
    {
     "name": "stdout",
     "output_type": "stream",
     "text": [
      "gamma(x)     =  [1.0000e+00 2.4000e+01 3.6288e+05]\n",
      "ln|gamma(x)| =  [ 0.          3.17805383 12.80182748]\n",
      "beta(x, 2)   =  [0.5        0.03333333 0.00909091]\n"
     ]
    }
   ],
   "source": [
    "# Gamma functions\n",
    "x = [1, 5, 10]\n",
    "print(\"gamma(x)     = \", special.gamma(x))\n",
    "print(\"ln|gamma(x)| = \", special.gammaln(x))\n",
    "print(\"beta(x, 2)   = \", special.beta(x, 2))\n",
    "\n"
   ]
  },
  {
   "cell_type": "code",
   "execution_count": 63,
   "id": "0f682120-9493-43d3-b0d8-ff25649c8de7",
   "metadata": {},
   "outputs": [
    {
     "name": "stdout",
     "output_type": "stream",
     "text": [
      "erf(x)    =  [0.         0.32862676 0.67780119 0.84270079]\n",
      "erfc(x)   =  [1.         0.67137324 0.32219881 0.15729921]\n",
      "erfinv(x) =  [0.         0.27246271 0.73286908        inf]\n"
     ]
    }
   ],
   "source": [
    "\n",
    "# Error function (integral of Gaussian)\n",
    "x = np.array([0, 0.3, 0.7, 1.0])\n",
    "print(\"erf(x)    = \", special.erf(x))\n",
    "print(\"erfc(x)   = \", special.erfc(x))\n",
    "print(\"erfinv(x) = \", special.erfinv(x))\n"
   ]
  },
  {
   "cell_type": "code",
   "execution_count": 66,
   "id": "08fd250b-f88c-4c6c-abd2-1bb4798b4350",
   "metadata": {},
   "outputs": [
    {
     "name": "stdout",
     "output_type": "stream",
     "text": [
      "[ 0. 10. 20. 30. 40.]\n",
      "[ 1.  0.  2.  0.  4.  0.  8.  0. 16.  0.]\n"
     ]
    }
   ],
   "source": [
    "# specify output\n",
    "x = np.arange(5)\n",
    "y = np.empty(5)\n",
    "np.multiply(x, 10, out=y)\n",
    "print(y)\n",
    "\n",
    "y = np.zeros(10)\n",
    "np.power(2, x, out=y[::2])\n",
    "print(y)"
   ]
  },
  {
   "cell_type": "code",
   "execution_count": 70,
   "id": "c177e7b9-4e59-4825-9424-98732f8b316b",
   "metadata": {},
   "outputs": [
    {
     "name": "stdout",
     "output_type": "stream",
     "text": [
      "np.add.reduce(x)          =  15\n",
      "np.multiply.reduce(x)     =  120\n",
      "np.add.accumulate(x)      =  [ 1  3  6 10 15]\n",
      "np.multiply.accumulate(x) =  [  1   2   6  24 120]\n"
     ]
    }
   ],
   "source": [
    "# aggregate\n",
    "\n",
    "x = np.arange(1, 6)\n",
    "print(\"np.add.reduce(x)          = \", np.add.reduce(x))\n",
    "print(\"np.multiply.reduce(x)     = \", np.multiply.reduce(x))\n",
    "print(\"np.add.accumulate(x)      = \", np.add.accumulate(x))\n",
    "print(\"np.multiply.accumulate(x) = \", np.multiply.accumulate(x))\n",
    "\n",
    "\n"
   ]
  },
  {
   "cell_type": "code",
   "execution_count": 71,
   "id": "71f70cc2-9a47-465f-bc7a-b3f011f6c068",
   "metadata": {},
   "outputs": [
    {
     "data": {
      "text/plain": [
       "array([[ 1,  2,  3,  4,  5],\n",
       "       [ 2,  4,  6,  8, 10],\n",
       "       [ 3,  6,  9, 12, 15],\n",
       "       [ 4,  8, 12, 16, 20],\n",
       "       [ 5, 10, 15, 20, 25]])"
      ]
     },
     "execution_count": 71,
     "metadata": {},
     "output_type": "execute_result"
    }
   ],
   "source": [
    "# outer\n",
    "\n",
    "x = np.arange(1, 6)\n",
    "np.multiply.outer(x, x)"
   ]
  },
  {
   "cell_type": "code",
   "execution_count": 74,
   "id": "8b49ef27-3547-4b40-bf6f-ea5251f8e729",
   "metadata": {},
   "outputs": [
    {
     "name": "stdout",
     "output_type": "stream",
     "text": [
      "73.5 ms ± 182 µs per loop (mean ± std. dev. of 7 runs, 10 loops each)\n",
      "187 µs ± 558 ns per loop (mean ± std. dev. of 7 runs, 10000 loops each)\n",
      "50 ms ± 362 µs per loop (mean ± std. dev. of 7 runs, 10 loops each)\n",
      "171 µs ± 685 ns per loop (mean ± std. dev. of 7 runs, 10000 loops each)\n",
      "49.9 ms ± 433 µs per loop (mean ± std. dev. of 7 runs, 10 loops each)\n",
      "171 µs ± 907 ns per loop (mean ± std. dev. of 7 runs, 10000 loops each)\n"
     ]
    }
   ],
   "source": [
    "# sum\n",
    "big_array = np.random.rand(1000000)\n",
    "%timeit sum(big_array)\n",
    "%timeit np.sum(big_array)\n",
    "\n",
    "# max, min\n",
    "%timeit min(big_array)\n",
    "%timeit np.min(big_array)\n",
    "%timeit max(big_array)\n",
    "%timeit np.max(big_array)\n"
   ]
  },
  {
   "cell_type": "markdown",
   "id": "84393352-214c-4953-8c4b-482d5d43eef3",
   "metadata": {},
   "source": [
    "# Broadcasting\n",
    "Rules:\n",
    "\n",
    "* Rule 1: If the two arrays differ in dimensions, the one w/ less dimension is left padded w/ ones\n",
    "* Rule 2: If the shape of the two arrays does not match in any dimension, the array w/ shape equal to 1 in that dimension is stretched to match the other shape\n",
    "* Rule 3: If in any dimension the sizes disagree and neither is equal to 1, an error is raised"
   ]
  },
  {
   "cell_type": "markdown",
   "id": "fe5a1efd-dd75-4909-b590-5116d1a08145",
   "metadata": {
    "tags": []
   },
   "source": [
    "## Broadcasting example 1"
   ]
  },
  {
   "cell_type": "code",
   "execution_count": 78,
   "id": "0c35d86c-50cb-4ec6-8bfe-effd2a5e7ac2",
   "metadata": {},
   "outputs": [
    {
     "data": {
      "text/plain": [
       "array([[1., 2., 3.],\n",
       "       [1., 2., 3.]])"
      ]
     },
     "execution_count": 78,
     "metadata": {},
     "output_type": "execute_result"
    }
   ],
   "source": [
    "M = np.ones((2, 3))\n",
    "a = np.arange(3)\n",
    "M + a"
   ]
  },
  {
   "cell_type": "markdown",
   "id": "96256c14-1e17-4b8c-8cfa-04e4d9ee28cd",
   "metadata": {},
   "source": [
    "## Broadcasting example 2"
   ]
  },
  {
   "cell_type": "code",
   "execution_count": 84,
   "id": "6f0952c7-5232-4d00-82d4-f163481bccad",
   "metadata": {},
   "outputs": [
    {
     "name": "stdout",
     "output_type": "stream",
     "text": [
      "a       =  [[0]\n",
      " [1]\n",
      " [2]]\n",
      "b       =  [0 1 2]\n",
      "a.shape =  (3, 1)\n",
      "b.shape =  (3,)\n"
     ]
    },
    {
     "data": {
      "text/plain": [
       "array([[0, 0, 0],\n",
       "       [0, 2, 4],\n",
       "       [0, 4, 8]])"
      ]
     },
     "execution_count": 84,
     "metadata": {},
     "output_type": "execute_result"
    }
   ],
   "source": [
    "\n",
    "a = np.arange(3).reshape((3, 1))\n",
    "b = np.arange(3)\n",
    "print(\"a       = \", a)\n",
    "print(\"b       = \", b)\n",
    "print(\"a.shape = \", a.shape)\n",
    "print(\"b.shape = \", b.shape)\n",
    "a * 2 * b"
   ]
  },
  {
   "cell_type": "markdown",
   "id": "746fafea-96b6-4783-8ad1-eb6495c7f4a2",
   "metadata": {},
   "source": [
    "## Broadcasting example 3"
   ]
  },
  {
   "cell_type": "code",
   "execution_count": 85,
   "id": "2ca3af5f-07a1-46c7-8e6f-fcbd8020724e",
   "metadata": {},
   "outputs": [
    {
     "name": "stdout",
     "output_type": "stream",
     "text": [
      "a       =  [[1. 1.]\n",
      " [1. 1.]\n",
      " [1. 1.]]\n",
      "b       =  [0 1 2]\n",
      "a.shape =  (3, 2)\n",
      "b.shape =  (3,)\n"
     ]
    },
    {
     "ename": "ValueError",
     "evalue": "operands could not be broadcast together with shapes (3,2) (3,) ",
     "output_type": "error",
     "traceback": [
      "\u001b[0;31m---------------------------------------------------------------------------\u001b[0m",
      "\u001b[0;31mValueError\u001b[0m                                Traceback (most recent call last)",
      "\u001b[0;32m/var/folders/ft/2kdzr6r94csfhrk2n90_622w0000gn/T/ipykernel_58257/724911033.py\u001b[0m in \u001b[0;36m<module>\u001b[0;34m\u001b[0m\n\u001b[1;32m      5\u001b[0m \u001b[0mprint\u001b[0m\u001b[0;34m(\u001b[0m\u001b[0;34m\"a.shape = \"\u001b[0m\u001b[0;34m,\u001b[0m \u001b[0ma\u001b[0m\u001b[0;34m.\u001b[0m\u001b[0mshape\u001b[0m\u001b[0;34m)\u001b[0m\u001b[0;34m\u001b[0m\u001b[0;34m\u001b[0m\u001b[0m\n\u001b[1;32m      6\u001b[0m \u001b[0mprint\u001b[0m\u001b[0;34m(\u001b[0m\u001b[0;34m\"b.shape = \"\u001b[0m\u001b[0;34m,\u001b[0m \u001b[0mb\u001b[0m\u001b[0;34m.\u001b[0m\u001b[0mshape\u001b[0m\u001b[0;34m)\u001b[0m\u001b[0;34m\u001b[0m\u001b[0;34m\u001b[0m\u001b[0m\n\u001b[0;32m----> 7\u001b[0;31m \u001b[0ma\u001b[0m \u001b[0;34m*\u001b[0m \u001b[0;36m2\u001b[0m \u001b[0;34m*\u001b[0m \u001b[0mb\u001b[0m\u001b[0;34m\u001b[0m\u001b[0;34m\u001b[0m\u001b[0m\n\u001b[0m",
      "\u001b[0;31mValueError\u001b[0m: operands could not be broadcast together with shapes (3,2) (3,) "
     ]
    }
   ],
   "source": [
    "a = np.ones((3, 2))\n",
    "b = np.arange(3)\n",
    "print(\"a       = \", a)\n",
    "print(\"b       = \", b)\n",
    "print(\"a.shape = \", a.shape)\n",
    "print(\"b.shape = \", b.shape)\n",
    "a * 2 * b"
   ]
  },
  {
   "cell_type": "code",
   "execution_count": 89,
   "id": "da1f7feb-870d-4ce5-97e3-802a13bcf875",
   "metadata": {},
   "outputs": [
    {
     "data": {
      "text/plain": [
       "array([-1.22124533e-16, -9.99200722e-17,  3.33066907e-17])"
      ]
     },
     "execution_count": 89,
     "metadata": {},
     "output_type": "execute_result"
    }
   ],
   "source": [
    "X = np.random.random((10, 3))\n",
    "Xmean = X.mean(0)\n",
    "X_centered = X - Xmean\n",
    "X_centered.mean(0)"
   ]
  },
  {
   "cell_type": "code",
   "execution_count": 90,
   "id": "2b5a83dc-b2bf-4a94-bca1-b7712325b9d6",
   "metadata": {},
   "outputs": [],
   "source": [
    "x = np.linspace(0, 5, 50)\n",
    "y = np.linspace(0, 5, 50)[:, np.newaxis]\n",
    "z = np.sin(x) ** 10 + np.cos(10 + y * x) * np.cos(x)"
   ]
  },
  {
   "cell_type": "code",
   "execution_count": 96,
   "id": "23e59823-9d6f-408c-8fe0-811de8ff7229",
   "metadata": {},
   "outputs": [
    {
     "data": {
      "text/plain": [
       "<matplotlib.colorbar.Colorbar at 0x7f9fd033e430>"
      ]
     },
     "execution_count": 96,
     "metadata": {},
     "output_type": "execute_result"
    },
    {
     "data": {
      "image/png": "[encoded data removed]",
      "text/plain": [
       "<Figure size 432x288 with 2 Axes>"
      ]
     },
     "metadata": {
      "needs_background": "light"
     },
     "output_type": "display_data"
    }
   ],
   "source": [
    "%matplotlib inline\n",
    "import matplotlib.pyplot as plt\n",
    "\n",
    "plt.imshow(z, origin='lower', extent=[0, 5, 0, 5], cmap='viridis')\n",
    "#plt.imshow(z,  extent=[0, 5, 0, 5], cmap='viridis')\n",
    "\n",
    "plt.colorbar()"
   ]
  },
  {
   "cell_type": "code",
   "execution_count": 15,
   "id": "a1a9dff7-b932-426a-8bf7-d7414101f1fe",
   "metadata": {},
   "outputs": [
    {
     "data": {
      "text/plain": [
       "(array([238.,   7.,   6.,   8.,   4.,   9.,   5.,  12.,   5.,   3.,   3.,\n",
       "          3.,   3.,   2.,   2.,   4.,   4.,   0.,   3.,   0.,   4.,   3.,\n",
       "          3.,   3.,   2.,   1.,   2.,   1.,   1.,   2.,   0.,   4.,   2.,\n",
       "          2.,   1.,   1.,   1.,   3.,   0.,   0.,   0.,   0.,   0.,   1.,\n",
       "          0.,   1.,   0.,   1.,   0.,   0.,   0.,   0.,   0.,   0.,   1.,\n",
       "          1.,   0.,   1.,   1.,   0.,   0.,   0.,   0.,   0.,   0.,   0.,\n",
       "          0.,   0.,   0.,   0.,   0.,   0.,   0.,   0.,   0.,   0.,   0.,\n",
       "          0.,   0.,   1.]),\n",
       " array([0.        , 0.02298228, 0.04596457, 0.06894685, 0.09192913,\n",
       "        0.11491142, 0.1378937 , 0.16087598, 0.18385827, 0.20684055,\n",
       "        0.22982283, 0.25280512, 0.2757874 , 0.29876969, 0.32175197,\n",
       "        0.34473425, 0.36771654, 0.39069882, 0.4136811 , 0.43666339,\n",
       "        0.45964567, 0.48262795, 0.50561024, 0.52859252, 0.5515748 ,\n",
       "        0.57455709, 0.59753937, 0.62052165, 0.64350394, 0.66648622,\n",
       "        0.6894685 , 0.71245079, 0.73543307, 0.75841535, 0.78139764,\n",
       "        0.80437992, 0.8273622 , 0.85034449, 0.87332677, 0.89630906,\n",
       "        0.91929134, 0.94227362, 0.96525591, 0.98823819, 1.01122047,\n",
       "        1.03420276, 1.05718504, 1.08016732, 1.10314961, 1.12613189,\n",
       "        1.14911417, 1.17209646, 1.19507874, 1.21806102, 1.24104331,\n",
       "        1.26402559, 1.28700787, 1.30999016, 1.33297244, 1.35595472,\n",
       "        1.37893701, 1.40191929, 1.42490157, 1.44788386, 1.47086614,\n",
       "        1.49384843, 1.51683071, 1.53981299, 1.56279528, 1.58577756,\n",
       "        1.60875984, 1.63174213, 1.65472441, 1.67770669, 1.70068898,\n",
       "        1.72367126, 1.74665354, 1.76963583, 1.79261811, 1.81560039,\n",
       "        1.83858268]),\n",
       " <BarContainer object of 80 artists>)"
      ]
     },
     "execution_count": 15,
     "metadata": {},
     "output_type": "execute_result"
    },
    {
     "data": {
      "image/png": "[encoded data removed]",
      "text/plain": [
       "<Figure size 432x288 with 1 Axes>"
      ]
     },
     "metadata": {},
     "output_type": "display_data"
    }
   ],
   "source": [
    "rainfall = pd.read_csv('Seattle2014.csv')['PRCP'].values\n",
    "inches = rainfall / 254\n",
    "\n",
    "%matplotlib inline\n",
    "import matplotlib.pyplot as plt\n",
    "import seaborn; seaborn.set()\n",
    "plt.hist(inches, 80)"
   ]
  },
  {
   "cell_type": "code",
   "execution_count": 17,
   "id": "c3ec95dc-9096-4d08-b25c-ca17167a35c4",
   "metadata": {},
   "outputs": [
    {
     "name": "stdout",
     "output_type": "stream",
     "text": [
      "Number days without rain:               215\n",
      "Number days with rain:                  150\n",
      "Days with more than 0.5 inches:         37\n",
      "Rainy days between 0.1 and 0.2 inches:  29\n",
      "Median precip on rainy days in 2014 (inches):             0.19488188976377951\n",
      "Median precip on summer days in 2014 (inches):            0.0\n",
      "Max precip on summer days in 2014 (inches):               0.8503937007874016\n",
      "Median precip on non-summer rainy days in 2014 (inches):  0.20078740157480315\n"
     ]
    }
   ],
   "source": [
    "\n",
    "print(\"Number days without rain:              \", np.sum(inches == 0)) \n",
    "print(\"Number days with rain:                 \", np.sum(inches > 0)) \n",
    "print(\"Days with more than 0.5 inches:        \", np.sum(inches > 0.5)) \n",
    "print(\"Rainy days between 0.1 and 0.2 inches: \", np.sum((inches >= 0.1) & (inches <= 0.2))) \n",
    "\n",
    "\n",
    "rainy = (inches > 0)\n",
    "summer = (np.arange(365) - 172 < 90) & (np.arange(365) - 172 > 0)\n",
    "print(\"Median precip on rainy days in 2014 (inches):            \", np.median(inches[rainy])) \n",
    "print(\"Median precip on summer days in 2014 (inches):           \", np.median(inches[summer])) \n",
    "print(\"Max precip on summer days in 2014 (inches):              \", np.max(inches[summer])) \n",
    "print(\"Median precip on non-summer rainy days in 2014 (inches): \", np.median(inches[rainy & ~summer])) \n"
   ]
  },
  {
   "cell_type": "code",
   "execution_count": 2,
   "id": "bc18ed10-8951-470b-9a06-619c179dd7f8",
   "metadata": {},
   "outputs": [
    {
     "data": {
      "text/plain": [
       "array([ True,  True,  True,  True, False, False, False, False, False,\n",
       "       False])"
      ]
     },
     "execution_count": 2,
     "metadata": {},
     "output_type": "execute_result"
    }
   ],
   "source": [
    "x = np.arange(10)\n",
    "x < 4"
   ]
  },
  {
   "cell_type": "code",
   "execution_count": 3,
   "id": "e2dd45b1-99a8-4a5f-a3d2-b0ff68ad159f",
   "metadata": {},
   "outputs": [
    {
     "data": {
      "text/plain": [
       "array([ True, False,  True, False, False, False, False, False, False,\n",
       "       False])"
      ]
     },
     "execution_count": 3,
     "metadata": {},
     "output_type": "execute_result"
    }
   ],
   "source": [
    "(2 * x) == (x ** 2)"
   ]
  },
  {
   "cell_type": "code",
   "execution_count": 6,
   "id": "73723dae-378b-4ef9-a55e-40fd8f17bb9d",
   "metadata": {},
   "outputs": [
    {
     "data": {
      "text/plain": [
       "array([[ True,  True,  True,  True],\n",
       "       [False, False,  True,  True],\n",
       "       [ True,  True, False, False]])"
      ]
     },
     "execution_count": 6,
     "metadata": {},
     "output_type": "execute_result"
    }
   ],
   "source": [
    "rng = np.random.RandomState(0)\n",
    "x = rng.randint(10, size=(3, 4))\n",
    "x < 6"
   ]
  },
  {
   "cell_type": "code",
   "execution_count": 10,
   "id": "b6185700-938d-4b96-98e7-fa0f8b7cb621",
   "metadata": {},
   "outputs": [
    {
     "name": "stdout",
     "output_type": "stream",
     "text": [
      "[[5 0 3 3]\n",
      " [7 9 3 5]\n",
      " [2 4 7 6]]\n"
     ]
    }
   ],
   "source": [
    "print(x)"
   ]
  },
  {
   "cell_type": "code",
   "execution_count": 7,
   "id": "6961d744-83a8-48b0-8a00-0d17852b0f21",
   "metadata": {},
   "outputs": [
    {
     "data": {
      "text/plain": [
       "8"
      ]
     },
     "execution_count": 7,
     "metadata": {},
     "output_type": "execute_result"
    }
   ],
   "source": [
    "np.count_nonzero(x < 6)"
   ]
  },
  {
   "cell_type": "code",
   "execution_count": 12,
   "id": "f8e9a928-2843-4355-833e-ce4fcba8d042",
   "metadata": {},
   "outputs": [
    {
     "data": {
      "text/plain": [
       "array([2, 2, 2, 2])"
      ]
     },
     "execution_count": 12,
     "metadata": {},
     "output_type": "execute_result"
    }
   ],
   "source": [
    "np.sum(x < 6, axis=0)"
   ]
  },
  {
   "cell_type": "code",
   "execution_count": 13,
   "id": "6058235f-414d-44a5-ae2d-0419f44af7b5",
   "metadata": {},
   "outputs": [
    {
     "name": "stdout",
     "output_type": "stream",
     "text": [
      "np.all(x > 1)         =>  False\n",
      "np.all(x > 1, axis=1) =>  [False  True  True]\n",
      "np.any(x > 1)         =>  True\n",
      "np.any(x > 1, axis=1) =>  [ True  True  True]\n"
     ]
    }
   ],
   "source": [
    "print(\"np.all(x > 1)         => \", np.all(x > 1)) \n",
    "print(\"np.all(x > 1, axis=1) => \", np.all(x > 1, axis=1)) \n",
    "print(\"np.any(x > 1)         => \", np.any(x > 1)) \n",
    "print(\"np.any(x > 1, axis=1) => \", np.any(x > 1, axis=1)) \n"
   ]
  }
 ],
 "metadata": {
  "kernelspec": {
   "display_name": "Python 3 (ipykernel)",
   "language": "python",
   "name": "python3"
  },
  "language_info": {
   "codemirror_mode": {
    "name": "ipython",
    "version": 3
   },
   "file_extension": ".py",
   "mimetype": "text/x-python",
   "name": "python",
   "nbconvert_exporter": "python",
   "pygments_lexer": "ipython3",
   "version": "3.10.10"
  }
 },
 "nbformat": 4,
 "nbformat_minor": 5
}
