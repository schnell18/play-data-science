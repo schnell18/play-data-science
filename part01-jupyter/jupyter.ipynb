{
 "cells": [
  {
   "cell_type": "markdown",
   "metadata": {
    "tags": []
   },
   "source": [
    "# 1 Jupyter notebook orientation"
   ]
  },
  {
   "cell_type": "markdown",
   "metadata": {},
   "source": [
    "## 1.1 What is jupyter notebook?\n",
    "\n",
    "An web-based interactive and exploratory programming environment for data science.\n",
    "It has been developed and maintained by the Project Jupyter under the liberal open source license BSD since 2014.\n",
    "It is based on ipython."
   ]
  },
  {
   "cell_type": "markdown",
   "metadata": {},
   "source": [
    "## 1.2 Concepts\n",
    "\n",
    "### 1.2.1 Variants:\n",
    "\n",
    "- Classic Jupyter Notebook\n",
    "- JupyterLab: IDE-like environment with file management, preview, debug etc\n",
    "\n",
    "### 1.2.2 Notebook\n",
    "\n",
    "Notebooks are documents that combine live runnable code with narrative text (Markdown),\n",
    "equations (LaTeX), images, interactive visualizations and other rich output.\n",
    "\n",
    "### 1.2.3 Cell \n",
    "\n",
    "Cell is a container to organize a small piece of code or document.\n",
    "\n",
    "- Code\n",
    "- Markdown\n",
    "- Raw\n",
    "\n",
    "### 1.2.4 Kernel\n",
    "\n",
    "Kernels are separate processes started by the server that run your code\n",
    "in different programming languages and environments"
   ]
  }
 ],
 "metadata": {
  "kernelspec": {
   "display_name": "Python 3 (ipykernel)",
   "language": "python",
   "name": "python3"
  },
  "language_info": {
   "codemirror_mode": {
    "name": "ipython",
    "version": 3
   },
   "file_extension": ".py",
   "mimetype": "text/x-python",
   "name": "python",
   "nbconvert_exporter": "python",
   "pygments_lexer": "ipython3",
   "version": "3.9.7"
  }
 },
 "nbformat": 4,
 "nbformat_minor": 4
}
