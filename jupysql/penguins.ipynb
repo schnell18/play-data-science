{
 "cells": [
  {
   "cell_type": "code",
   "execution_count": 4,
   "id": "5a3d09c1-1dd8-4831-8759-94ace1d02e41",
   "metadata": {
    "execution": {
     "iopub.execute_input": "2023-04-06T23:32:16.624078Z",
     "iopub.status.busy": "2023-04-06T23:32:16.623656Z",
     "iopub.status.idle": "2023-04-06T23:32:21.397830Z",
     "shell.execute_reply": "2023-04-06T23:32:21.396047Z",
     "shell.execute_reply.started": "2023-04-06T23:32:16.624043Z"
    },
    "tags": []
   },
   "outputs": [
    {
     "name": "stdout",
     "output_type": "stream",
     "text": [
      "Note: you may need to restart the kernel to use updated packages.\n"
     ]
    }
   ],
   "source": [
    "%pip install jupysql duckdb-engine --quiet"
   ]
  },
  {
   "cell_type": "code",
   "execution_count": 9,
   "id": "d31dc840-5675-4bc1-8b1f-91b1f63521f0",
   "metadata": {
    "execution": {
     "iopub.execute_input": "2023-04-06T23:40:13.651126Z",
     "iopub.status.busy": "2023-04-06T23:40:13.650800Z",
     "iopub.status.idle": "2023-04-06T23:40:49.205428Z",
     "shell.execute_reply": "2023-04-06T23:40:49.203779Z",
     "shell.execute_reply.started": "2023-04-06T23:40:13.651100Z"
    },
    "tags": []
   },
   "outputs": [
    {
     "name": "stdout",
     "output_type": "stream",
     "text": [
      "Note: you may need to restart the kernel to use updated packages.\n"
     ]
    }
   ],
   "source": [
    "%pip install matplotlib --quiet"
   ]
  },
  {
   "cell_type": "code",
   "execution_count": 1,
   "id": "1f36ca59-c765-4f53-942d-94176e88787c",
   "metadata": {
    "execution": {
     "iopub.execute_input": "2023-04-06T23:32:35.422313Z",
     "iopub.status.busy": "2023-04-06T23:32:35.422088Z",
     "iopub.status.idle": "2023-04-06T23:32:37.894755Z",
     "shell.execute_reply": "2023-04-06T23:32:37.893434Z",
     "shell.execute_reply.started": "2023-04-06T23:32:35.422292Z"
    },
    "tags": []
   },
   "outputs": [],
   "source": [
    "%load_ext sql"
   ]
  },
  {
   "cell_type": "code",
   "execution_count": 2,
   "id": "2e246a04-df26-400e-8751-7e988809eaf0",
   "metadata": {
    "execution": {
     "iopub.execute_input": "2023-04-12T01:42:13.825172Z",
     "iopub.status.busy": "2023-04-12T01:42:13.824866Z",
     "iopub.status.idle": "2023-04-12T01:42:14.067417Z",
     "shell.execute_reply": "2023-04-12T01:42:14.066769Z",
     "shell.execute_reply.started": "2023-04-12T01:42:13.825148Z"
    },
    "tags": []
   },
   "outputs": [],
   "source": [
    "import pandas as pd"
   ]
  },
  {
   "cell_type": "code",
   "execution_count": 3,
   "id": "0d7a66ae-c166-42d1-8fda-4e5b8b558570",
   "metadata": {
    "execution": {
     "iopub.execute_input": "2023-04-12T01:42:15.763370Z",
     "iopub.status.busy": "2023-04-12T01:42:15.763118Z",
     "iopub.status.idle": "2023-04-12T01:42:15.768199Z",
     "shell.execute_reply": "2023-04-12T01:42:15.766664Z",
     "shell.execute_reply.started": "2023-04-12T01:42:15.763356Z"
    },
    "tags": []
   },
   "outputs": [],
   "source": [
    "from pathlib import Path\n",
    "from urllib.request import urlretrieve\n",
    "\n"
   ]
  },
  {
   "cell_type": "code",
   "execution_count": 5,
   "id": "8ece3d95-955a-4f6c-93be-0d75a16b7fd4",
   "metadata": {
    "execution": {
     "iopub.execute_input": "2023-04-12T01:43:22.236439Z",
     "iopub.status.busy": "2023-04-12T01:43:22.236225Z",
     "iopub.status.idle": "2023-04-12T01:43:26.455084Z",
     "shell.execute_reply": "2023-04-12T01:43:26.453298Z",
     "shell.execute_reply.started": "2023-04-12T01:43:22.236422Z"
    },
    "tags": []
   },
   "outputs": [],
   "source": [
    "if not Path(\"state_population.csv\").is_file():\n",
    "    urlretrieve(\n",
    "        \"https://raw.githubusercontent.com/jakevdp/data-USstates/master/state-population.csv\",\n",
    "        \"state_population.csv\",\n",
    "    )\n",
    "if not Path(\"state_areas.csv\").is_file():\n",
    "    urlretrieve(\n",
    "        \"https://raw.githubusercontent.com/jakevdp/data-USstates/master/state-areas.csv\",\n",
    "        \"state_areas.csv\",\n",
    "    )\n",
    "if not Path(\"state_abbrevs.csv\").is_file():\n",
    "    urlretrieve(\n",
    "        \"https://raw.githubusercontent.com/jakevdp/data-USstates/master/state-abbrevs.csv\",\n",
    "        \"state_abbrevs.csv\",\n",
    "    )\n"
   ]
  },
  {
   "cell_type": "code",
   "execution_count": 4,
   "id": "613ccebe-42f2-4c7a-b0c4-872dacb0cc8a",
   "metadata": {
    "execution": {
     "iopub.execute_input": "2023-04-06T23:36:17.857290Z",
     "iopub.status.busy": "2023-04-06T23:36:17.857120Z",
     "iopub.status.idle": "2023-04-06T23:36:18.476817Z",
     "shell.execute_reply": "2023-04-06T23:36:18.475755Z",
     "shell.execute_reply.started": "2023-04-06T23:36:17.857277Z"
    },
    "tags": []
   },
   "outputs": [],
   "source": [
    "%sql duckdb://"
   ]
  },
  {
   "cell_type": "code",
   "execution_count": 5,
   "id": "8861e207-7dff-4761-9d0a-785e4e97bc1c",
   "metadata": {
    "execution": {
     "iopub.execute_input": "2023-04-06T23:36:43.428100Z",
     "iopub.status.busy": "2023-04-06T23:36:43.427919Z",
     "iopub.status.idle": "2023-04-06T23:36:44.039759Z",
     "shell.execute_reply": "2023-04-06T23:36:44.038564Z",
     "shell.execute_reply.started": "2023-04-06T23:36:43.428083Z"
    },
    "tags": []
   },
   "outputs": [
    {
     "name": "stdout",
     "output_type": "stream",
     "text": [
      "*  duckdb://\n",
      "Done.\n"
     ]
    },
    {
     "data": {
      "text/html": [
       "<table>\n",
       "    <thead>\n",
       "        <tr>\n",
       "            <th>species</th>\n",
       "            <th>island</th>\n",
       "            <th>bill_length_mm</th>\n",
       "            <th>bill_depth_mm</th>\n",
       "            <th>flipper_length_mm</th>\n",
       "            <th>body_mass_g</th>\n",
       "            <th>sex</th>\n",
       "        </tr>\n",
       "    </thead>\n",
       "    <tbody>\n",
       "        <tr>\n",
       "            <td>Adelie</td>\n",
       "            <td>Torgersen</td>\n",
       "            <td>39.1</td>\n",
       "            <td>18.7</td>\n",
       "            <td>181</td>\n",
       "            <td>3750</td>\n",
       "            <td>MALE</td>\n",
       "        </tr>\n",
       "        <tr>\n",
       "            <td>Adelie</td>\n",
       "            <td>Torgersen</td>\n",
       "            <td>39.5</td>\n",
       "            <td>17.4</td>\n",
       "            <td>186</td>\n",
       "            <td>3800</td>\n",
       "            <td>FEMALE</td>\n",
       "        </tr>\n",
       "        <tr>\n",
       "            <td>Adelie</td>\n",
       "            <td>Torgersen</td>\n",
       "            <td>40.3</td>\n",
       "            <td>18.0</td>\n",
       "            <td>195</td>\n",
       "            <td>3250</td>\n",
       "            <td>FEMALE</td>\n",
       "        </tr>\n",
       "    </tbody>\n",
       "</table>"
      ],
      "text/plain": [
       "[('Adelie', 'Torgersen', 39.1, 18.7, 181, 3750, 'MALE'),\n",
       " ('Adelie', 'Torgersen', 39.5, 17.4, 186, 3800, 'FEMALE'),\n",
       " ('Adelie', 'Torgersen', 40.3, 18.0, 195, 3250, 'FEMALE')]"
      ]
     },
     "execution_count": 5,
     "metadata": {},
     "output_type": "execute_result"
    }
   ],
   "source": [
    "%sql select * from penguins.csv limit 3"
   ]
  },
  {
   "cell_type": "code",
   "execution_count": null,
   "id": "bd83242f-2670-452c-b8b1-9023943a288d",
   "metadata": {
    "tags": []
   },
   "outputs": [],
   "source": [
    "%%sql\n",
    "select * \n",
    "  from penguins.csv\n",
    " where bill_length_mm > 40"
   ]
  },
  {
   "cell_type": "code",
   "execution_count": 7,
   "id": "b485fbeb-51e5-4a95-85cf-93232e703d6d",
   "metadata": {
    "execution": {
     "iopub.execute_input": "2023-04-06T23:38:54.868288Z",
     "iopub.status.busy": "2023-04-06T23:38:54.867954Z",
     "iopub.status.idle": "2023-04-06T23:38:55.469304Z",
     "shell.execute_reply": "2023-04-06T23:38:55.467659Z",
     "shell.execute_reply.started": "2023-04-06T23:38:54.868262Z"
    },
    "tags": []
   },
   "outputs": [
    {
     "name": "stdout",
     "output_type": "stream",
     "text": [
      "*  duckdb://\n",
      "Skipping execution...\n"
     ]
    }
   ],
   "source": [
    "%%sql --save not_nulls --no-execute\n",
    "SELECT *\n",
    "  FROM penguins.csv\n",
    " WHERE bill_length_mm IS NOT NULL\n",
    "   AND bill_depth_mm IS NOT NULL"
   ]
  },
  {
   "cell_type": "code",
   "execution_count": null,
   "id": "00275f38-3726-4ac9-b64d-9a6c26c14123",
   "metadata": {
    "tags": []
   },
   "outputs": [],
   "source": [
    "%sqlplot histogram --column bill_length_mm bill_depth_mm --table not_nulls --with not_nulls"
   ]
  },
  {
   "cell_type": "code",
   "execution_count": null,
   "id": "7c393158-f9c7-4b84-a721-def3e0ca74da",
   "metadata": {
    "tags": []
   },
   "outputs": [],
   "source": [
    "%sqlplot boxplot --column bill_length_mm bill_depth_mm --table not_nulls --with not_nulls"
   ]
  },
  {
   "cell_type": "code",
   "execution_count": 13,
   "id": "9c6ed38e-df68-43ab-a94a-f3b8fb0995bf",
   "metadata": {
    "execution": {
     "iopub.execute_input": "2023-04-06T23:42:30.709589Z",
     "iopub.status.busy": "2023-04-06T23:42:30.709172Z",
     "iopub.status.idle": "2023-04-06T23:42:31.343171Z",
     "shell.execute_reply": "2023-04-06T23:42:31.341940Z",
     "shell.execute_reply.started": "2023-04-06T23:42:30.709554Z"
    },
    "tags": []
   },
   "outputs": [
    {
     "name": "stdout",
     "output_type": "stream",
     "text": [
      "*  duckdb://\n",
      "Done.\n"
     ]
    }
   ],
   "source": [
    "result = %sql SELECT * FROM penguins.csv"
   ]
  },
  {
   "cell_type": "code",
   "execution_count": 15,
   "id": "693ff4e9-4c71-45df-a0df-7096a30c01fd",
   "metadata": {
    "execution": {
     "iopub.execute_input": "2023-04-06T23:42:59.401456Z",
     "iopub.status.busy": "2023-04-06T23:42:59.401235Z",
     "iopub.status.idle": "2023-04-06T23:43:00.028036Z",
     "shell.execute_reply": "2023-04-06T23:43:00.026758Z",
     "shell.execute_reply.started": "2023-04-06T23:42:59.401435Z"
    },
    "tags": []
   },
   "outputs": [],
   "source": [
    "df = result.DataFrame()"
   ]
  },
  {
   "cell_type": "code",
   "execution_count": 17,
   "id": "e133b5ed-e1f6-43d8-a8e0-a65520af67a1",
   "metadata": {
    "execution": {
     "iopub.execute_input": "2023-04-06T23:43:14.770135Z",
     "iopub.status.busy": "2023-04-06T23:43:14.769892Z",
     "iopub.status.idle": "2023-04-06T23:43:14.781333Z",
     "shell.execute_reply": "2023-04-06T23:43:14.780659Z",
     "shell.execute_reply.started": "2023-04-06T23:43:14.770118Z"
    },
    "tags": []
   },
   "outputs": [
    {
     "data": {
      "text/html": [
       "<div>\n",
       "<style scoped>\n",
       "    .dataframe tbody tr th:only-of-type {\n",
       "        vertical-align: middle;\n",
       "    }\n",
       "\n",
       "    .dataframe tbody tr th {\n",
       "        vertical-align: top;\n",
       "    }\n",
       "\n",
       "    .dataframe thead th {\n",
       "        text-align: right;\n",
       "    }\n",
       "</style>\n",
       "<table border=\"1\" class=\"dataframe\">\n",
       "  <thead>\n",
       "    <tr style=\"text-align: right;\">\n",
       "      <th></th>\n",
       "      <th>species</th>\n",
       "      <th>island</th>\n",
       "      <th>bill_length_mm</th>\n",
       "      <th>bill_depth_mm</th>\n",
       "      <th>flipper_length_mm</th>\n",
       "      <th>body_mass_g</th>\n",
       "      <th>sex</th>\n",
       "    </tr>\n",
       "  </thead>\n",
       "  <tbody>\n",
       "    <tr>\n",
       "      <th>0</th>\n",
       "      <td>Adelie</td>\n",
       "      <td>Torgersen</td>\n",
       "      <td>39.1</td>\n",
       "      <td>18.7</td>\n",
       "      <td>181.0</td>\n",
       "      <td>3750.0</td>\n",
       "      <td>MALE</td>\n",
       "    </tr>\n",
       "    <tr>\n",
       "      <th>1</th>\n",
       "      <td>Adelie</td>\n",
       "      <td>Torgersen</td>\n",
       "      <td>39.5</td>\n",
       "      <td>17.4</td>\n",
       "      <td>186.0</td>\n",
       "      <td>3800.0</td>\n",
       "      <td>FEMALE</td>\n",
       "    </tr>\n",
       "    <tr>\n",
       "      <th>2</th>\n",
       "      <td>Adelie</td>\n",
       "      <td>Torgersen</td>\n",
       "      <td>40.3</td>\n",
       "      <td>18.0</td>\n",
       "      <td>195.0</td>\n",
       "      <td>3250.0</td>\n",
       "      <td>FEMALE</td>\n",
       "    </tr>\n",
       "    <tr>\n",
       "      <th>3</th>\n",
       "      <td>Adelie</td>\n",
       "      <td>Torgersen</td>\n",
       "      <td>NaN</td>\n",
       "      <td>NaN</td>\n",
       "      <td>NaN</td>\n",
       "      <td>NaN</td>\n",
       "      <td>None</td>\n",
       "    </tr>\n",
       "    <tr>\n",
       "      <th>4</th>\n",
       "      <td>Adelie</td>\n",
       "      <td>Torgersen</td>\n",
       "      <td>36.7</td>\n",
       "      <td>19.3</td>\n",
       "      <td>193.0</td>\n",
       "      <td>3450.0</td>\n",
       "      <td>FEMALE</td>\n",
       "    </tr>\n",
       "  </tbody>\n",
       "</table>\n",
       "</div>"
      ],
      "text/plain": [
       "  species     island  bill_length_mm  bill_depth_mm  flipper_length_mm  \\\n",
       "0  Adelie  Torgersen            39.1           18.7              181.0   \n",
       "1  Adelie  Torgersen            39.5           17.4              186.0   \n",
       "2  Adelie  Torgersen            40.3           18.0              195.0   \n",
       "3  Adelie  Torgersen             NaN            NaN                NaN   \n",
       "4  Adelie  Torgersen            36.7           19.3              193.0   \n",
       "\n",
       "   body_mass_g     sex  \n",
       "0       3750.0    MALE  \n",
       "1       3800.0  FEMALE  \n",
       "2       3250.0  FEMALE  \n",
       "3          NaN    None  \n",
       "4       3450.0  FEMALE  "
      ]
     },
     "execution_count": 17,
     "metadata": {},
     "output_type": "execute_result"
    }
   ],
   "source": [
    "df.head()"
   ]
  },
  {
   "cell_type": "code",
   "execution_count": 18,
   "id": "37037eac-26de-4a5f-b876-3caf06f3cb46",
   "metadata": {
    "execution": {
     "iopub.execute_input": "2023-04-06T23:45:04.761197Z",
     "iopub.status.busy": "2023-04-06T23:45:04.760488Z",
     "iopub.status.idle": "2023-04-06T23:45:05.322061Z",
     "shell.execute_reply": "2023-04-06T23:45:05.320766Z",
     "shell.execute_reply.started": "2023-04-06T23:45:04.761144Z"
    },
    "tags": []
   },
   "outputs": [
    {
     "name": "stdout",
     "output_type": "stream",
     "text": [
      "*  duckdb://\n",
      "Done.\n"
     ]
    },
    {
     "data": {
      "text/html": [
       "<table>\n",
       "    <thead>\n",
       "        <tr>\n",
       "            <th>species</th>\n",
       "            <th>count</th>\n",
       "        </tr>\n",
       "    </thead>\n",
       "    <tbody>\n",
       "        <tr>\n",
       "            <td>Adelie</td>\n",
       "            <td>152</td>\n",
       "        </tr>\n",
       "        <tr>\n",
       "            <td>Gentoo</td>\n",
       "            <td>124</td>\n",
       "        </tr>\n",
       "        <tr>\n",
       "            <td>Chinstrap</td>\n",
       "            <td>68</td>\n",
       "        </tr>\n",
       "    </tbody>\n",
       "</table>"
      ],
      "text/plain": [
       "[('Adelie', 152), ('Gentoo', 124), ('Chinstrap', 68)]"
      ]
     },
     "execution_count": 18,
     "metadata": {},
     "output_type": "execute_result"
    }
   ],
   "source": [
    "%%sql\n",
    "SELECT species, COUNT(*) AS count\n",
    "  FROM penguins.csv\n",
    " GROUP BY species\n",
    " ORDER BY count DESC"
   ]
  },
  {
   "cell_type": "code",
   "execution_count": 20,
   "id": "d1736d0a-b378-45c4-92bb-018fa18d2f59",
   "metadata": {
    "execution": {
     "iopub.execute_input": "2023-04-06T23:53:05.932365Z",
     "iopub.status.busy": "2023-04-06T23:53:05.932043Z",
     "iopub.status.idle": "2023-04-06T23:53:06.535000Z",
     "shell.execute_reply": "2023-04-06T23:53:06.533805Z",
     "shell.execute_reply.started": "2023-04-06T23:53:05.932342Z"
    },
    "tags": []
   },
   "outputs": [
    {
     "name": "stdout",
     "output_type": "stream",
     "text": [
      "*  duckdb://\n",
      "Done.\n",
      "Done.\n",
      "Done.\n",
      "Done.\n"
     ]
    },
    {
     "data": {
      "text/html": [
       "<table>\n",
       "    <thead>\n",
       "        <tr>\n",
       "            <th>Count</th>\n",
       "        </tr>\n",
       "    </thead>\n",
       "    <tbody>\n",
       "        <tr>\n",
       "            <td>2</td>\n",
       "        </tr>\n",
       "    </tbody>\n",
       "</table>"
      ],
      "text/plain": [
       "[(2,)]"
      ]
     },
     "execution_count": 20,
     "metadata": {},
     "output_type": "execute_result"
    }
   ],
   "source": [
    "%%sql\n",
    "CREATE TABLE capitals(city VARCHAR, country VARCHAR);\n",
    "INSERT INTO capitals VALUES ('Amsterdam', 'NL'), ('Berlin', 'Germany');\n",
    "\n",
    "CREATE TABLE weather(city VARCHAR, degrees INTEGER, date DATE);\n",
    "INSERT INTO weather VALUES ('Amsterdam', 10, '2022-10-14'), ('Seattle', 8, '2022-10-12');"
   ]
  },
  {
   "cell_type": "code",
   "execution_count": 29,
   "id": "4574371e-4819-43db-a66a-58a7cb7ab4a7",
   "metadata": {
    "execution": {
     "iopub.execute_input": "2023-04-06T23:57:21.282144Z",
     "iopub.status.busy": "2023-04-06T23:57:21.281894Z",
     "iopub.status.idle": "2023-04-06T23:57:22.335040Z",
     "shell.execute_reply": "2023-04-06T23:57:22.333765Z",
     "shell.execute_reply.started": "2023-04-06T23:57:21.282126Z"
    },
    "tags": []
   },
   "outputs": [
    {
     "name": "stdout",
     "output_type": "stream",
     "text": [
      "*  duckdb://\n",
      "Done.\n"
     ]
    },
    {
     "data": {
      "text/html": [
       "<table>\n",
       "    <thead>\n",
       "        <tr>\n",
       "            <th>city</th>\n",
       "        </tr>\n",
       "    </thead>\n",
       "    <tbody>\n",
       "        <tr>\n",
       "            <td>Amsterdam</td>\n",
       "        </tr>\n",
       "        <tr>\n",
       "            <td>Seattle</td>\n",
       "        </tr>\n",
       "    </tbody>\n",
       "</table>"
      ],
      "text/plain": [
       "[('Amsterdam',), ('Seattle',)]"
      ]
     },
     "execution_count": 29,
     "metadata": {},
     "output_type": "execute_result"
    }
   ],
   "source": [
    "%%sql\n",
    "-- Amsterdam, Berlin, Seattle\n",
    "select * from (SELECT city FROM capitals limit 1)\n",
    "UNION\n",
    "select * from (SELECT city FROM weather limit 2)"
   ]
  },
  {
   "cell_type": "code",
   "execution_count": 24,
   "id": "458a7365-1bec-4eb5-9c64-400bef95139b",
   "metadata": {
    "execution": {
     "iopub.execute_input": "2023-04-06T23:54:29.217792Z",
     "iopub.status.busy": "2023-04-06T23:54:29.217617Z",
     "iopub.status.idle": "2023-04-06T23:54:29.790122Z",
     "shell.execute_reply": "2023-04-06T23:54:29.788494Z",
     "shell.execute_reply.started": "2023-04-06T23:54:29.217780Z"
    },
    "tags": []
   },
   "outputs": [
    {
     "name": "stdout",
     "output_type": "stream",
     "text": [
      "*  duckdb://\n",
      "Done.\n"
     ]
    },
    {
     "data": {
      "text/html": [
       "<table>\n",
       "    <thead>\n",
       "        <tr>\n",
       "            <th>city</th>\n",
       "        </tr>\n",
       "    </thead>\n",
       "    <tbody>\n",
       "        <tr>\n",
       "            <td>Amsterdam</td>\n",
       "        </tr>\n",
       "        <tr>\n",
       "            <td>Berlin</td>\n",
       "        </tr>\n",
       "        <tr>\n",
       "            <td>Amsterdam</td>\n",
       "        </tr>\n",
       "        <tr>\n",
       "            <td>Seattle</td>\n",
       "        </tr>\n",
       "    </tbody>\n",
       "</table>"
      ],
      "text/plain": [
       "[('Amsterdam',), ('Berlin',), ('Amsterdam',), ('Seattle',)]"
      ]
     },
     "execution_count": 24,
     "metadata": {},
     "output_type": "execute_result"
    }
   ],
   "source": [
    "%%sql\n",
    "-- Amsterdam, Amsterdam, Berlin, Seattle\n",
    "SELECT city FROM capitals UNION ALL SELECT city FROM weather;"
   ]
  },
  {
   "cell_type": "code",
   "execution_count": 21,
   "id": "9481ccc7-2a2f-41de-921f-75a1caf4427e",
   "metadata": {
    "execution": {
     "iopub.execute_input": "2023-04-06T23:53:10.382474Z",
     "iopub.status.busy": "2023-04-06T23:53:10.382159Z",
     "iopub.status.idle": "2023-04-06T23:53:10.991075Z",
     "shell.execute_reply": "2023-04-06T23:53:10.989909Z",
     "shell.execute_reply.started": "2023-04-06T23:53:10.382450Z"
    },
    "tags": []
   },
   "outputs": [
    {
     "name": "stdout",
     "output_type": "stream",
     "text": [
      "*  duckdb://\n",
      "Done.\n"
     ]
    },
    {
     "data": {
      "text/html": [
       "<table>\n",
       "    <thead>\n",
       "        <tr>\n",
       "            <th>name</th>\n",
       "        </tr>\n",
       "    </thead>\n",
       "    <tbody>\n",
       "        <tr>\n",
       "            <td>capitals</td>\n",
       "        </tr>\n",
       "        <tr>\n",
       "            <td>weather</td>\n",
       "        </tr>\n",
       "    </tbody>\n",
       "</table>"
      ],
      "text/plain": [
       "[('capitals',), ('weather',)]"
      ]
     },
     "execution_count": 21,
     "metadata": {},
     "output_type": "execute_result"
    }
   ],
   "source": [
    "%sql show tables"
   ]
  }
 ],
 "metadata": {
  "kernelspec": {
   "display_name": "Python 3 (ipykernel)",
   "language": "python",
   "name": "python3"
  },
  "language_info": {
   "codemirror_mode": {
    "name": "ipython",
    "version": 3
   },
   "file_extension": ".py",
   "mimetype": "text/x-python",
   "name": "python",
   "nbconvert_exporter": "python",
   "pygments_lexer": "ipython3",
   "version": "3.10.9"
  }
 },
 "nbformat": 4,
 "nbformat_minor": 5
}
