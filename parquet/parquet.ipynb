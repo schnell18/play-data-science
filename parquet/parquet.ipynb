{
 "cells": [
  {
   "cell_type": "code",
   "execution_count": null,
   "id": "8a4a6018-eee7-4e4b-b663-13c0bc54d7d0",
   "metadata": {
    "tags": []
   },
   "outputs": [],
   "source": [
    "!pip install pandas"
   ]
  },
  {
   "cell_type": "code",
   "execution_count": 3,
   "id": "0159a144-4494-4893-a246-267e92175fe2",
   "metadata": {
    "execution": {
     "iopub.execute_input": "2023-04-08T11:36:15.460182Z",
     "iopub.status.busy": "2023-04-08T11:36:15.459837Z",
     "iopub.status.idle": "2023-04-08T11:36:15.694265Z",
     "shell.execute_reply": "2023-04-08T11:36:15.693707Z",
     "shell.execute_reply.started": "2023-04-08T11:36:15.460155Z"
    },
    "tags": []
   },
   "outputs": [],
   "source": [
    "import pandas as pd\n",
    "import polars as pl\n",
    "from pyspark.sql import SparkSession"
   ]
  },
  {
   "cell_type": "code",
   "execution_count": null,
   "id": "ca042524-94c8-4f3c-a91d-05dfb68e5734",
   "metadata": {
    "tags": []
   },
   "outputs": [],
   "source": [
    "try:\n",
    "    %load_ext autotime\n",
    "except:\n",
    "    !pip install ipython-autotime\n",
    "    %load_ext autotime\n",
    "%unload_ext autotime"
   ]
  },
  {
   "cell_type": "code",
   "execution_count": 5,
   "id": "80d693a0-23ee-4140-bc7b-681c55f16b51",
   "metadata": {
    "execution": {
     "iopub.execute_input": "2023-04-08T11:36:23.863061Z",
     "iopub.status.busy": "2023-04-08T11:36:23.862883Z",
     "iopub.status.idle": "2023-04-08T11:36:23.866182Z",
     "shell.execute_reply": "2023-04-08T11:36:23.865387Z",
     "shell.execute_reply.started": "2023-04-08T11:36:23.863048Z"
    },
    "tags": []
   },
   "outputs": [],
   "source": [
    "flights_file = \"flights.parquet\"\n"
   ]
  },
  {
   "cell_type": "markdown",
   "id": "9d87ad0c-9b38-43d1-a696-d6afd562691f",
   "metadata": {},
   "source": [
    "## use pandas"
   ]
  },
  {
   "cell_type": "code",
   "execution_count": 7,
   "id": "11cf76ac-c6f5-42af-a3eb-95c25fe55b6f",
   "metadata": {
    "execution": {
     "iopub.execute_input": "2023-04-08T11:39:06.272779Z",
     "iopub.status.busy": "2023-04-08T11:39:06.272546Z",
     "iopub.status.idle": "2023-04-08T11:39:06.374397Z",
     "shell.execute_reply": "2023-04-08T11:39:06.373029Z",
     "shell.execute_reply.started": "2023-04-08T11:39:06.272765Z"
    },
    "tags": []
   },
   "outputs": [],
   "source": [
    "df = pd.read_parquet(flights_file)"
   ]
  },
  {
   "cell_type": "code",
   "execution_count": 8,
   "id": "06e09128-9100-4d52-906a-c29bd92e5413",
   "metadata": {
    "execution": {
     "iopub.execute_input": "2023-04-08T11:39:08.969472Z",
     "iopub.status.busy": "2023-04-08T11:39:08.969252Z",
     "iopub.status.idle": "2023-04-08T11:39:09.012414Z",
     "shell.execute_reply": "2023-04-08T11:39:09.012058Z",
     "shell.execute_reply.started": "2023-04-08T11:39:08.969459Z"
    },
    "tags": []
   },
   "outputs": [
    {
     "data": {
      "text/html": [
       "<div>\n",
       "<style scoped>\n",
       "    .dataframe tbody tr th:only-of-type {\n",
       "        vertical-align: middle;\n",
       "    }\n",
       "\n",
       "    .dataframe tbody tr th {\n",
       "        vertical-align: top;\n",
       "    }\n",
       "\n",
       "    .dataframe thead tr th {\n",
       "        text-align: left;\n",
       "    }\n",
       "\n",
       "    .dataframe thead tr:last-of-type th {\n",
       "        text-align: right;\n",
       "    }\n",
       "</style>\n",
       "<table border=\"1\" class=\"dataframe\">\n",
       "  <thead>\n",
       "    <tr>\n",
       "      <th></th>\n",
       "      <th></th>\n",
       "      <th colspan=\"3\" halign=\"left\">dep_delay</th>\n",
       "      <th colspan=\"3\" halign=\"left\">arr_delay</th>\n",
       "    </tr>\n",
       "    <tr>\n",
       "      <th></th>\n",
       "      <th></th>\n",
       "      <th>mean</th>\n",
       "      <th>sum</th>\n",
       "      <th>max</th>\n",
       "      <th>mean</th>\n",
       "      <th>sum</th>\n",
       "      <th>max</th>\n",
       "    </tr>\n",
       "    <tr>\n",
       "      <th>carrier</th>\n",
       "      <th>year</th>\n",
       "      <th></th>\n",
       "      <th></th>\n",
       "      <th></th>\n",
       "      <th></th>\n",
       "      <th></th>\n",
       "      <th></th>\n",
       "    </tr>\n",
       "  </thead>\n",
       "  <tbody>\n",
       "    <tr>\n",
       "      <th>9E</th>\n",
       "      <th>2013</th>\n",
       "      <td>16.725769</td>\n",
       "      <td>291296.0</td>\n",
       "      <td>747.0</td>\n",
       "      <td>7.379669</td>\n",
       "      <td>127624.0</td>\n",
       "      <td>744.0</td>\n",
       "    </tr>\n",
       "    <tr>\n",
       "      <th>AA</th>\n",
       "      <th>2013</th>\n",
       "      <td>8.586016</td>\n",
       "      <td>275551.0</td>\n",
       "      <td>1014.0</td>\n",
       "      <td>0.364291</td>\n",
       "      <td>11638.0</td>\n",
       "      <td>1007.0</td>\n",
       "    </tr>\n",
       "    <tr>\n",
       "      <th>AS</th>\n",
       "      <th>2013</th>\n",
       "      <td>5.804775</td>\n",
       "      <td>4133.0</td>\n",
       "      <td>225.0</td>\n",
       "      <td>-9.930889</td>\n",
       "      <td>-7041.0</td>\n",
       "      <td>198.0</td>\n",
       "    </tr>\n",
       "    <tr>\n",
       "      <th>B6</th>\n",
       "      <th>2013</th>\n",
       "      <td>13.022522</td>\n",
       "      <td>705417.0</td>\n",
       "      <td>502.0</td>\n",
       "      <td>9.457973</td>\n",
       "      <td>511194.0</td>\n",
       "      <td>497.0</td>\n",
       "    </tr>\n",
       "    <tr>\n",
       "      <th>DL</th>\n",
       "      <th>2013</th>\n",
       "      <td>9.264505</td>\n",
       "      <td>442482.0</td>\n",
       "      <td>960.0</td>\n",
       "      <td>1.644341</td>\n",
       "      <td>78366.0</td>\n",
       "      <td>931.0</td>\n",
       "    </tr>\n",
       "    <tr>\n",
       "      <th>EV</th>\n",
       "      <th>2013</th>\n",
       "      <td>19.955390</td>\n",
       "      <td>1024829.0</td>\n",
       "      <td>548.0</td>\n",
       "      <td>15.796431</td>\n",
       "      <td>807324.0</td>\n",
       "      <td>577.0</td>\n",
       "    </tr>\n",
       "    <tr>\n",
       "      <th>F9</th>\n",
       "      <th>2013</th>\n",
       "      <td>20.215543</td>\n",
       "      <td>13787.0</td>\n",
       "      <td>853.0</td>\n",
       "      <td>21.920705</td>\n",
       "      <td>14928.0</td>\n",
       "      <td>834.0</td>\n",
       "    </tr>\n",
       "    <tr>\n",
       "      <th>FL</th>\n",
       "      <th>2013</th>\n",
       "      <td>18.726075</td>\n",
       "      <td>59680.0</td>\n",
       "      <td>602.0</td>\n",
       "      <td>20.115906</td>\n",
       "      <td>63868.0</td>\n",
       "      <td>572.0</td>\n",
       "    </tr>\n",
       "    <tr>\n",
       "      <th>HA</th>\n",
       "      <th>2013</th>\n",
       "      <td>4.900585</td>\n",
       "      <td>1676.0</td>\n",
       "      <td>1301.0</td>\n",
       "      <td>-6.915205</td>\n",
       "      <td>-2365.0</td>\n",
       "      <td>1272.0</td>\n",
       "    </tr>\n",
       "    <tr>\n",
       "      <th>MQ</th>\n",
       "      <th>2013</th>\n",
       "      <td>10.552041</td>\n",
       "      <td>265521.0</td>\n",
       "      <td>1137.0</td>\n",
       "      <td>10.774733</td>\n",
       "      <td>269767.0</td>\n",
       "      <td>1127.0</td>\n",
       "    </tr>\n",
       "    <tr>\n",
       "      <th>OO</th>\n",
       "      <th>2013</th>\n",
       "      <td>12.586207</td>\n",
       "      <td>365.0</td>\n",
       "      <td>154.0</td>\n",
       "      <td>11.931034</td>\n",
       "      <td>346.0</td>\n",
       "      <td>157.0</td>\n",
       "    </tr>\n",
       "    <tr>\n",
       "      <th>UA</th>\n",
       "      <th>2013</th>\n",
       "      <td>12.106073</td>\n",
       "      <td>701898.0</td>\n",
       "      <td>483.0</td>\n",
       "      <td>3.558011</td>\n",
       "      <td>205589.0</td>\n",
       "      <td>455.0</td>\n",
       "    </tr>\n",
       "    <tr>\n",
       "      <th>US</th>\n",
       "      <th>2013</th>\n",
       "      <td>3.782418</td>\n",
       "      <td>75168.0</td>\n",
       "      <td>500.0</td>\n",
       "      <td>2.129595</td>\n",
       "      <td>42232.0</td>\n",
       "      <td>492.0</td>\n",
       "    </tr>\n",
       "    <tr>\n",
       "      <th>VX</th>\n",
       "      <th>2013</th>\n",
       "      <td>12.869421</td>\n",
       "      <td>66033.0</td>\n",
       "      <td>653.0</td>\n",
       "      <td>1.764464</td>\n",
       "      <td>9027.0</td>\n",
       "      <td>676.0</td>\n",
       "    </tr>\n",
       "    <tr>\n",
       "      <th>WN</th>\n",
       "      <th>2013</th>\n",
       "      <td>17.711744</td>\n",
       "      <td>214011.0</td>\n",
       "      <td>471.0</td>\n",
       "      <td>9.649120</td>\n",
       "      <td>116214.0</td>\n",
       "      <td>453.0</td>\n",
       "    </tr>\n",
       "    <tr>\n",
       "      <th>YV</th>\n",
       "      <th>2013</th>\n",
       "      <td>18.996330</td>\n",
       "      <td>10353.0</td>\n",
       "      <td>387.0</td>\n",
       "      <td>15.556985</td>\n",
       "      <td>8463.0</td>\n",
       "      <td>381.0</td>\n",
       "    </tr>\n",
       "  </tbody>\n",
       "</table>\n",
       "</div>"
      ],
      "text/plain": [
       "              dep_delay                     arr_delay                  \n",
       "                   mean        sum     max       mean       sum     max\n",
       "carrier year                                                           \n",
       "9E      2013  16.725769   291296.0   747.0   7.379669  127624.0   744.0\n",
       "AA      2013   8.586016   275551.0  1014.0   0.364291   11638.0  1007.0\n",
       "AS      2013   5.804775     4133.0   225.0  -9.930889   -7041.0   198.0\n",
       "B6      2013  13.022522   705417.0   502.0   9.457973  511194.0   497.0\n",
       "DL      2013   9.264505   442482.0   960.0   1.644341   78366.0   931.0\n",
       "EV      2013  19.955390  1024829.0   548.0  15.796431  807324.0   577.0\n",
       "F9      2013  20.215543    13787.0   853.0  21.920705   14928.0   834.0\n",
       "FL      2013  18.726075    59680.0   602.0  20.115906   63868.0   572.0\n",
       "HA      2013   4.900585     1676.0  1301.0  -6.915205   -2365.0  1272.0\n",
       "MQ      2013  10.552041   265521.0  1137.0  10.774733  269767.0  1127.0\n",
       "OO      2013  12.586207      365.0   154.0  11.931034     346.0   157.0\n",
       "UA      2013  12.106073   701898.0   483.0   3.558011  205589.0   455.0\n",
       "US      2013   3.782418    75168.0   500.0   2.129595   42232.0   492.0\n",
       "VX      2013  12.869421    66033.0   653.0   1.764464    9027.0   676.0\n",
       "WN      2013  17.711744   214011.0   471.0   9.649120  116214.0   453.0\n",
       "YV      2013  18.996330    10353.0   387.0  15.556985    8463.0   381.0"
      ]
     },
     "execution_count": 8,
     "metadata": {},
     "output_type": "execute_result"
    }
   ],
   "source": [
    "df_agg = df.groupby(['carrier', 'year'])[['dep_delay', 'arr_delay']].agg([\"mean\", \"sum\", \"max\"])\n",
    "df_agg"
   ]
  },
  {
   "cell_type": "markdown",
   "id": "abaa0512-9ba9-43b0-985c-75180a603269",
   "metadata": {},
   "source": [
    "## use polars"
   ]
  },
  {
   "cell_type": "code",
   "execution_count": 9,
   "id": "8404fcb6-4bf5-4be6-88cc-8e0f231dc35c",
   "metadata": {
    "execution": {
     "iopub.execute_input": "2023-04-08T11:39:12.557750Z",
     "iopub.status.busy": "2023-04-08T11:39:12.557435Z",
     "iopub.status.idle": "2023-04-08T11:39:12.589597Z",
     "shell.execute_reply": "2023-04-08T11:39:12.588878Z",
     "shell.execute_reply.started": "2023-04-08T11:39:12.557726Z"
    },
    "tags": []
   },
   "outputs": [],
   "source": [
    "dfl = (\n",
    "    pl.scan_parquet(flights_file)\n",
    "    .groupby(['carrier', 'year'])\n",
    "    .agg(\n",
    "        [\n",
    "            pl.col('dep_delay').mean().alias('avg_dep_delay'),\n",
    "            pl.col('dep_delay').sum().alias('sum_dep_delay'),\n",
    "            pl.col('dep_delay').max().alias('max_dep_delay'),\n",
    "            pl.col('arr_delay').mean().alias('avg_arr_delay'),\n",
    "            pl.col('arr_delay').sum().alias('sum_arr_delay'),\n",
    "            pl.col('arr_delay').max().alias('max_arr_delay'),\n",
    "       ]\n",
    "    )\n",
    ").collect()"
   ]
  },
  {
   "cell_type": "code",
   "execution_count": 10,
   "id": "0013dad5-9542-4fb1-8348-bf161d312d93",
   "metadata": {
    "execution": {
     "iopub.execute_input": "2023-04-08T11:39:14.935238Z",
     "iopub.status.busy": "2023-04-08T11:39:14.935025Z",
     "iopub.status.idle": "2023-04-08T11:39:14.940767Z",
     "shell.execute_reply": "2023-04-08T11:39:14.940254Z",
     "shell.execute_reply.started": "2023-04-08T11:39:14.935222Z"
    },
    "tags": []
   },
   "outputs": [
    {
     "data": {
      "text/html": [
       "<div><style>\n",
       ".dataframe > thead > tr > th,\n",
       ".dataframe > tbody > tr > td {\n",
       "  text-align: right;\n",
       "}\n",
       "</style>\n",
       "<small>shape: (16, 8)</small><table border=\"1\" class=\"dataframe\"><thead><tr><th>carrier</th><th>year</th><th>avg_dep_delay</th><th>sum_dep_delay</th><th>max_dep_delay</th><th>avg_arr_delay</th><th>sum_arr_delay</th><th>max_arr_delay</th></tr><tr><td>str</td><td>i16</td><td>f64</td><td>i64</td><td>i16</td><td>f64</td><td>i64</td><td>i16</td></tr></thead><tbody><tr><td>&quot;US&quot;</td><td>2013</td><td>3.782418</td><td>75168</td><td>500</td><td>2.129595</td><td>42232</td><td>492</td></tr><tr><td>&quot;VX&quot;</td><td>2013</td><td>12.869421</td><td>66033</td><td>653</td><td>1.764464</td><td>9027</td><td>676</td></tr><tr><td>&quot;YV&quot;</td><td>2013</td><td>18.99633</td><td>10353</td><td>387</td><td>15.556985</td><td>8463</td><td>381</td></tr><tr><td>&quot;DL&quot;</td><td>2013</td><td>9.264505</td><td>442482</td><td>960</td><td>1.644341</td><td>78366</td><td>931</td></tr><tr><td>&quot;FL&quot;</td><td>2013</td><td>18.726075</td><td>59680</td><td>602</td><td>20.115906</td><td>63868</td><td>572</td></tr><tr><td>&quot;MQ&quot;</td><td>2013</td><td>10.552041</td><td>265521</td><td>1137</td><td>10.774733</td><td>269767</td><td>1127</td></tr><tr><td>&quot;WN&quot;</td><td>2013</td><td>17.711744</td><td>214011</td><td>471</td><td>9.64912</td><td>116214</td><td>453</td></tr><tr><td>&quot;F9&quot;</td><td>2013</td><td>20.215543</td><td>13787</td><td>853</td><td>21.920705</td><td>14928</td><td>834</td></tr><tr><td>&quot;UA&quot;</td><td>2013</td><td>12.106073</td><td>701898</td><td>483</td><td>3.558011</td><td>205589</td><td>455</td></tr><tr><td>&quot;AA&quot;</td><td>2013</td><td>8.586016</td><td>275551</td><td>1014</td><td>0.364291</td><td>11638</td><td>1007</td></tr><tr><td>&quot;B6&quot;</td><td>2013</td><td>13.022522</td><td>705417</td><td>502</td><td>9.457973</td><td>511194</td><td>497</td></tr><tr><td>&quot;EV&quot;</td><td>2013</td><td>19.95539</td><td>1024829</td><td>548</td><td>15.796431</td><td>807324</td><td>577</td></tr><tr><td>&quot;OO&quot;</td><td>2013</td><td>12.586207</td><td>365</td><td>154</td><td>11.931034</td><td>346</td><td>157</td></tr><tr><td>&quot;AS&quot;</td><td>2013</td><td>5.804775</td><td>4133</td><td>225</td><td>-9.930889</td><td>-7041</td><td>198</td></tr><tr><td>&quot;9E&quot;</td><td>2013</td><td>16.725769</td><td>291296</td><td>747</td><td>7.379669</td><td>127624</td><td>744</td></tr><tr><td>&quot;HA&quot;</td><td>2013</td><td>4.900585</td><td>1676</td><td>1301</td><td>-6.915205</td><td>-2365</td><td>1272</td></tr></tbody></table></div>"
      ],
      "text/plain": [
       "shape: (16, 8)\n",
       "┌─────────┬──────┬────────────┬────────────┬────────────┬────────────┬──────────────┬──────────────┐\n",
       "│ carrier ┆ year ┆ avg_dep_de ┆ sum_dep_de ┆ max_dep_de ┆ avg_arr_de ┆ sum_arr_dela ┆ max_arr_dela │\n",
       "│ ---     ┆ ---  ┆ lay        ┆ lay        ┆ lay        ┆ lay        ┆ y            ┆ y            │\n",
       "│ str     ┆ i16  ┆ ---        ┆ ---        ┆ ---        ┆ ---        ┆ ---          ┆ ---          │\n",
       "│         ┆      ┆ f64        ┆ i64        ┆ i16        ┆ f64        ┆ i64          ┆ i16          │\n",
       "╞═════════╪══════╪════════════╪════════════╪════════════╪════════════╪══════════════╪══════════════╡\n",
       "│ US      ┆ 2013 ┆ 3.782418   ┆ 75168      ┆ 500        ┆ 2.129595   ┆ 42232        ┆ 492          │\n",
       "│ VX      ┆ 2013 ┆ 12.869421  ┆ 66033      ┆ 653        ┆ 1.764464   ┆ 9027         ┆ 676          │\n",
       "│ YV      ┆ 2013 ┆ 18.99633   ┆ 10353      ┆ 387        ┆ 15.556985  ┆ 8463         ┆ 381          │\n",
       "│ DL      ┆ 2013 ┆ 9.264505   ┆ 442482     ┆ 960        ┆ 1.644341   ┆ 78366        ┆ 931          │\n",
       "│ …       ┆ …    ┆ …          ┆ …          ┆ …          ┆ …          ┆ …            ┆ …            │\n",
       "│ OO      ┆ 2013 ┆ 12.586207  ┆ 365        ┆ 154        ┆ 11.931034  ┆ 346          ┆ 157          │\n",
       "│ AS      ┆ 2013 ┆ 5.804775   ┆ 4133       ┆ 225        ┆ -9.930889  ┆ -7041        ┆ 198          │\n",
       "│ 9E      ┆ 2013 ┆ 16.725769  ┆ 291296     ┆ 747        ┆ 7.379669   ┆ 127624       ┆ 744          │\n",
       "│ HA      ┆ 2013 ┆ 4.900585   ┆ 1676       ┆ 1301       ┆ -6.915205  ┆ -2365        ┆ 1272         │\n",
       "└─────────┴──────┴────────────┴────────────┴────────────┴────────────┴──────────────┴──────────────┘"
      ]
     },
     "execution_count": 10,
     "metadata": {},
     "output_type": "execute_result"
    }
   ],
   "source": [
    "dfl"
   ]
  },
  {
   "cell_type": "markdown",
   "id": "4cd66bbd-7429-448a-9928-04326cfc4546",
   "metadata": {},
   "source": [
    "## use PySpark"
   ]
  },
  {
   "cell_type": "code",
   "execution_count": 11,
   "id": "504af8d9-21ee-4eb2-8447-dde3d2f48eac",
   "metadata": {
    "execution": {
     "iopub.execute_input": "2023-04-08T11:39:19.362311Z",
     "iopub.status.busy": "2023-04-08T11:39:19.362140Z",
     "iopub.status.idle": "2023-04-08T11:39:21.143010Z",
     "shell.execute_reply": "2023-04-08T11:39:21.142375Z",
     "shell.execute_reply.started": "2023-04-08T11:39:19.362298Z"
    },
    "tags": []
   },
   "outputs": [
    {
     "name": "stdout",
     "output_type": "stream",
     "text": [
      "23/04/08 19:39:20 WARN Utils: Your hostname, gauss resolves to a loopback address: 127.0.0.1; using 192.168.31.190 instead (on interface wlp0s20f3)\n",
      "23/04/08 19:39:20 WARN Utils: Set SPARK_LOCAL_IP if you need to bind to another address\n"
     ]
    },
    {
     "name": "stderr",
     "output_type": "stream",
     "text": [
      "Setting default log level to \"WARN\".\n",
      "To adjust logging level use sc.setLogLevel(newLevel). For SparkR, use setLogLevel(newLevel).\n"
     ]
    },
    {
     "name": "stdout",
     "output_type": "stream",
     "text": [
      "23/04/08 19:39:20 WARN NativeCodeLoader: Unable to load native-hadoop library for your platform... using builtin-java classes where applicable\n"
     ]
    }
   ],
   "source": [
    "from pyspark.sql import SparkSession\n",
    "from pyspark.sql.functions import avg, max, sum\n",
    "\n",
    "spark = SparkSession.builder.master(\"local[1]\").appName(\"airline\").getOrCreate()\n"
   ]
  },
  {
   "cell_type": "code",
   "execution_count": 13,
   "id": "f838fe6b-96bd-411f-8919-40f0d48402a8",
   "metadata": {
    "execution": {
     "iopub.execute_input": "2023-04-08T11:39:33.276105Z",
     "iopub.status.busy": "2023-04-08T11:39:33.275931Z",
     "iopub.status.idle": "2023-04-08T11:39:33.578808Z",
     "shell.execute_reply": "2023-04-08T11:39:33.578019Z",
     "shell.execute_reply.started": "2023-04-08T11:39:33.276091Z"
    },
    "tags": []
   },
   "outputs": [],
   "source": [
    "%timeit\n",
    "df_spark = spark.read.parquet(flights_file)\n",
    "df_spark_agg = df_spark.groupby('carrier', 'year').agg(\n",
    "    avg('dep_delay').alias('avg_dep_delay'),\n",
    "    sum('dep_delay').alias('sum_dep_delay'),\n",
    "    max('dep_delay').alias('max_dep_delay'),\n",
    "    avg('arr_delay').alias('avg_arr_delay'),\n",
    "    sum('arr_delay').alias('sum_arr_delay'),\n",
    "    max('arr_delay').alias('max_arr_delay'),\n",
    ")\n",
    "df_spark_agg.write.mode('overwrite').parquet('temp.parquet')"
   ]
  },
  {
   "cell_type": "code",
   "execution_count": 14,
   "id": "c380cbba-b283-4ea6-8d04-5514ca785316",
   "metadata": {
    "execution": {
     "iopub.execute_input": "2023-03-19T15:03:39.715774Z",
     "iopub.status.busy": "2023-03-19T15:03:39.715597Z",
     "iopub.status.idle": "2023-03-19T15:03:39.812968Z",
     "shell.execute_reply": "2023-03-19T15:03:39.812447Z",
     "shell.execute_reply.started": "2023-03-19T15:03:39.715760Z"
    },
    "tags": []
   },
   "outputs": [
    {
     "data": {
      "text/plain": [
       "DataFrame[]"
      ]
     },
     "execution_count": 14,
     "metadata": {},
     "output_type": "execute_result"
    }
   ],
   "source": [
    "spark.sql(f\"CREATE TEMPORARY VIEW flights USING parquet OPTIONS (path \\\"{flights_file}\\\")\")"
   ]
  },
  {
   "cell_type": "code",
   "execution_count": 15,
   "id": "d4597b6b-efe0-4e50-b8d6-c098729005cd",
   "metadata": {
    "execution": {
     "iopub.execute_input": "2023-03-19T15:03:45.184073Z",
     "iopub.status.busy": "2023-03-19T15:03:45.183757Z",
     "iopub.status.idle": "2023-03-19T15:03:45.451975Z",
     "shell.execute_reply": "2023-03-19T15:03:45.451235Z",
     "shell.execute_reply.started": "2023-03-19T15:03:45.184050Z"
    },
    "tags": []
   },
   "outputs": [],
   "source": [
    "query = \"\"\"\n",
    "select carrier,\n",
    "       avg(dep_delay) as avg_dep_delay,\n",
    "       sum(dep_delay) as sum_dep_delay,\n",
    "       max(dep_delay) as max_dep_delay,\n",
    "       avg(arr_delay) as avg_arr_delay,\n",
    "       sum(arr_delay) as sum_arr_delay,\n",
    "       max(arr_delay) as max_arr_delay\n",
    "  from flights\n",
    " group by carrier\n",
    "\"\"\"\n",
    "\n",
    "spark.sql(query).write.mode('overwrite').parquet('temp_spark_sql.parquet')\n"
   ]
  }
 ],
 "metadata": {
  "kernelspec": {
   "display_name": "Python 3 (ipykernel)",
   "language": "python",
   "name": "python3"
  },
  "language_info": {
   "codemirror_mode": {
    "name": "ipython",
    "version": 3
   },
   "file_extension": ".py",
   "mimetype": "text/x-python",
   "name": "python",
   "nbconvert_exporter": "python",
   "pygments_lexer": "ipython3",
   "version": "3.10.9"
  }
 },
 "nbformat": 4,
 "nbformat_minor": 5
}
