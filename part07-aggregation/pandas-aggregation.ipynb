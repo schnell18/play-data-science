{
 "cells": [
  {
   "cell_type": "code",
   "execution_count": 21,
   "metadata": {},
   "outputs": [
    {
     "data": {
      "text/html": [
       "<style>table {align:left;display:block} </style>"
      ],
      "text/plain": [
       "<IPython.core.display.HTML object>"
      ]
     },
     "execution_count": 21,
     "metadata": {},
     "output_type": "execute_result"
    }
   ],
   "source": [
    "from IPython.core.display import HTML\n",
    "table_css = 'table {align:left;display:block} '\n",
    "HTML('<style>{}</style>'.format(table_css))"
   ]
  },
  {
   "cell_type": "code",
   "execution_count": null,
   "metadata": {},
   "outputs": [],
   "source": [
    "import pandas as pd"
   ]
  },
  {
   "cell_type": "markdown",
   "metadata": {},
   "source": [
    "# 7 Aggregation\n",
    "\n",
    "Aggregation is an imporant topic of data analysis. Pandas offers flexible aggregation functionalities.\n",
    "\n",
    "## 7.1 Simple aggregation using groupby\n",
    "\n",
    "Let's start by create a simple dataset."
   ]
  },
  {
   "cell_type": "code",
   "execution_count": null,
   "metadata": {},
   "outputs": [],
   "source": [
    "food_data = {\n",
    "\"Item\": [\"Banana\", \"Cucumber\", \"Orange\", \"Tomato\", \"Watermelon\"],\n",
    "\"Type\": [\"Fruit\", \"Vegetable\", \"Fruit\", \"Vegetable\", \"Fruit\"],\n",
    "\"Price\": [0.99, 1.25, 0.25, 0.33, 3.00]\n",
    "}\n",
    "supermarket = pd.DataFrame(data = food_data)\n",
    "supermarket"
   ]
  },
  {
   "cell_type": "markdown",
   "metadata": {},
   "source": [
    "In Pandas, before we can aggregate data, we need create a `DataFrameGroupBy` object using the `groupby` method of `DataFrame`."
   ]
  },
  {
   "cell_type": "code",
   "execution_count": null,
   "metadata": {},
   "outputs": [],
   "source": [
    "by_type = supermarket.groupby(\"Type\")\n",
    "by_type"
   ]
  },
  {
   "cell_type": "markdown",
   "metadata": {},
   "source": [
    "You can inspect total groups as follows:"
   ]
  },
  {
   "cell_type": "code",
   "execution_count": null,
   "metadata": {},
   "outputs": [],
   "source": [
    "by_type.groups()"
   ]
  },
  {
   "cell_type": "markdown",
   "metadata": {},
   "source": [
    "You can get a specific group as follows"
   ]
  },
  {
   "cell_type": "code",
   "execution_count": null,
   "metadata": {},
   "outputs": [],
   "source": [
    "by_type.get_group(\"Fruit\")"
   ]
  },
  {
   "cell_type": "markdown",
   "metadata": {},
   "source": [
    "You can calculate average price of each group as follows"
   ]
  },
  {
   "cell_type": "code",
   "execution_count": null,
   "metadata": {},
   "outputs": [],
   "source": [
    "by_type.mean()"
   ]
  },
  {
   "cell_type": "markdown",
   "metadata": {},
   "source": [
    "## 7.2 common attributes/metheds of DataFrameGroupBy\n",
    "\n",
    "| seq |     name     |                description                                        |\n",
    "| --- | ------------ | ----------------------------------------------------------------- |\n",
    "| 01  |  groups      | return  a dictionary with these group-to-row associations         |\n",
    "| 02  |  first()     | return the first row in each group                                |\n",
    "| 03  |  last()      | return the last row in each group                                 |\n",
    "| 04  |  nth()       | return the nth row in each group, first row starts from 0         |\n",
    "| 05  |  head()      | return first few rows in each group                               |\n",
    "| 06  |  tail()      | return last few rows in each group                                |\n",
    "| 07  |  get_group() | return a all row in the specified group                           |\n",
    "| 08  |  agg()       | apply aggregation functions to different coloumns using dict      |\n",
    "\n"
   ]
  },
  {
   "cell_type": "markdown",
   "metadata": {},
   "source": [
    "## 7.2 Analyze fortune 1000 companies financial data\n",
    "\n",
    "### 7.2.1 Load fortune 1000 company data"
   ]
  },
  {
   "cell_type": "code",
   "execution_count": 25,
   "metadata": {},
   "outputs": [
    {
     "data": {
      "text/html": [
       "<div>\n",
       "<style scoped>\n",
       "    .dataframe tbody tr th:only-of-type {\n",
       "        vertical-align: middle;\n",
       "    }\n",
       "\n",
       "    .dataframe tbody tr th {\n",
       "        vertical-align: top;\n",
       "    }\n",
       "\n",
       "    .dataframe thead th {\n",
       "        text-align: right;\n",
       "    }\n",
       "</style>\n",
       "<table border=\"1\" class=\"dataframe\">\n",
       "  <thead>\n",
       "    <tr style=\"text-align: right;\">\n",
       "      <th></th>\n",
       "      <th>Company</th>\n",
       "      <th>Revenues</th>\n",
       "      <th>Profits</th>\n",
       "      <th>Employees</th>\n",
       "      <th>Sector</th>\n",
       "      <th>Industry</th>\n",
       "    </tr>\n",
       "  </thead>\n",
       "  <tbody>\n",
       "    <tr>\n",
       "      <th>26</th>\n",
       "      <td>Boeing</td>\n",
       "      <td>93392.0</td>\n",
       "      <td>8197.0</td>\n",
       "      <td>140800</td>\n",
       "      <td>Aerospace &amp; Defense</td>\n",
       "      <td>Aerospace and Defense</td>\n",
       "    </tr>\n",
       "    <tr>\n",
       "      <th>50</th>\n",
       "      <td>United Technologies</td>\n",
       "      <td>59837.0</td>\n",
       "      <td>4552.0</td>\n",
       "      <td>204700</td>\n",
       "      <td>Aerospace &amp; Defense</td>\n",
       "      <td>Aerospace and Defense</td>\n",
       "    </tr>\n",
       "    <tr>\n",
       "      <th>58</th>\n",
       "      <td>Lockheed Martin</td>\n",
       "      <td>51048.0</td>\n",
       "      <td>2002.0</td>\n",
       "      <td>100000</td>\n",
       "      <td>Aerospace &amp; Defense</td>\n",
       "      <td>Aerospace and Defense</td>\n",
       "    </tr>\n",
       "    <tr>\n",
       "      <th>331</th>\n",
       "      <td>PVH</td>\n",
       "      <td>8915.0</td>\n",
       "      <td>537.8</td>\n",
       "      <td>28050</td>\n",
       "      <td>Apparel</td>\n",
       "      <td>Apparel</td>\n",
       "    </tr>\n",
       "    <tr>\n",
       "      <th>241</th>\n",
       "      <td>VF</td>\n",
       "      <td>12400.0</td>\n",
       "      <td>614.9</td>\n",
       "      <td>69000</td>\n",
       "      <td>Apparel</td>\n",
       "      <td>Apparel</td>\n",
       "    </tr>\n",
       "    <tr>\n",
       "      <th>...</th>\n",
       "      <td>...</td>\n",
       "      <td>...</td>\n",
       "      <td>...</td>\n",
       "      <td>...</td>\n",
       "      <td>...</td>\n",
       "      <td>...</td>\n",
       "    </tr>\n",
       "    <tr>\n",
       "      <th>49</th>\n",
       "      <td>FedEx</td>\n",
       "      <td>60319.0</td>\n",
       "      <td>2997.0</td>\n",
       "      <td>357000</td>\n",
       "      <td>Transportation</td>\n",
       "      <td>Mail, Package, and Freight Delivery</td>\n",
       "    </tr>\n",
       "    <tr>\n",
       "      <th>43</th>\n",
       "      <td>UPS</td>\n",
       "      <td>65872.0</td>\n",
       "      <td>4910.0</td>\n",
       "      <td>346415</td>\n",
       "      <td>Transportation</td>\n",
       "      <td>Mail, Package, and Freight Delivery</td>\n",
       "    </tr>\n",
       "    <tr>\n",
       "      <th>13</th>\n",
       "      <td>Cardinal Health</td>\n",
       "      <td>129976.0</td>\n",
       "      <td>1288.0</td>\n",
       "      <td>40400</td>\n",
       "      <td>Wholesalers</td>\n",
       "      <td>Wholesalers: Health Care</td>\n",
       "    </tr>\n",
       "    <tr>\n",
       "      <th>11</th>\n",
       "      <td>AmerisourceBergen</td>\n",
       "      <td>153144.0</td>\n",
       "      <td>364.5</td>\n",
       "      <td>19500</td>\n",
       "      <td>Wholesalers</td>\n",
       "      <td>Wholesalers: Health Care</td>\n",
       "    </tr>\n",
       "    <tr>\n",
       "      <th>5</th>\n",
       "      <td>McKesson</td>\n",
       "      <td>198533.0</td>\n",
       "      <td>5070.0</td>\n",
       "      <td>64500</td>\n",
       "      <td>Wholesalers</td>\n",
       "      <td>Wholesalers: Health Care</td>\n",
       "    </tr>\n",
       "  </tbody>\n",
       "</table>\n",
       "<p>63 rows × 6 columns</p>\n",
       "</div>"
      ],
      "text/plain": [
       "                 Company  Revenues  Profits  Employees               Sector  \\\n",
       "26                Boeing   93392.0   8197.0     140800  Aerospace & Defense   \n",
       "50   United Technologies   59837.0   4552.0     204700  Aerospace & Defense   \n",
       "58       Lockheed Martin   51048.0   2002.0     100000  Aerospace & Defense   \n",
       "331                  PVH    8915.0    537.8      28050              Apparel   \n",
       "241                   VF   12400.0    614.9      69000              Apparel   \n",
       "..                   ...       ...      ...        ...                  ...   \n",
       "49                 FedEx   60319.0   2997.0     357000       Transportation   \n",
       "43                   UPS   65872.0   4910.0     346415       Transportation   \n",
       "13       Cardinal Health  129976.0   1288.0      40400          Wholesalers   \n",
       "11     AmerisourceBergen  153144.0    364.5      19500          Wholesalers   \n",
       "5               McKesson  198533.0   5070.0      64500          Wholesalers   \n",
       "\n",
       "                                Industry  \n",
       "26                 Aerospace and Defense  \n",
       "50                 Aerospace and Defense  \n",
       "58                 Aerospace and Defense  \n",
       "331                              Apparel  \n",
       "241                              Apparel  \n",
       "..                                   ...  \n",
       "49   Mail, Package, and Freight Delivery  \n",
       "43   Mail, Package, and Freight Delivery  \n",
       "13              Wholesalers: Health Care  \n",
       "11              Wholesalers: Health Care  \n",
       "5               Wholesalers: Health Care  \n",
       "\n",
       "[63 rows x 6 columns]"
      ]
     },
     "execution_count": 25,
     "metadata": {},
     "output_type": "execute_result"
    }
   ],
   "source": [
    "fortune = pd.read_csv(\"fortune1000.csv\")\n",
    "by_sector = fortune.groupby(\"Sector\")\n",
    "by_sector.head(3).sort_values(\"Sector\")"
   ]
  },
  {
   "cell_type": "markdown",
   "metadata": {},
   "source": [
    "### 7.2.2 Check number of groups"
   ]
  },
  {
   "cell_type": "code",
   "execution_count": null,
   "metadata": {},
   "outputs": [],
   "source": [
    "len(by_sector)"
   ]
  },
  {
   "cell_type": "markdown",
   "metadata": {},
   "source": [
    "### 7.2.3 Check number of companies in each group"
   ]
  },
  {
   "cell_type": "code",
   "execution_count": null,
   "metadata": {},
   "outputs": [],
   "source": [
    "by_sector.size().sort_values(ascending=False)"
   ]
  },
  {
   "cell_type": "markdown",
   "metadata": {},
   "source": [
    "### 7.2.4 Apply different functions to columns\n",
    "\n",
    "You can pass a dictionary to specify different function to individual column.\n",
    "For instance, you may calculate min revenue, max profit and average employees for each sector by:"
   ]
  },
  {
   "cell_type": "code",
   "execution_count": 29,
   "metadata": {},
   "outputs": [
    {
     "data": {
      "text/html": [
       "<div>\n",
       "<style scoped>\n",
       "    .dataframe tbody tr th:only-of-type {\n",
       "        vertical-align: middle;\n",
       "    }\n",
       "\n",
       "    .dataframe tbody tr th {\n",
       "        vertical-align: top;\n",
       "    }\n",
       "\n",
       "    .dataframe thead th {\n",
       "        text-align: right;\n",
       "    }\n",
       "</style>\n",
       "<table border=\"1\" class=\"dataframe\">\n",
       "  <thead>\n",
       "    <tr style=\"text-align: right;\">\n",
       "      <th></th>\n",
       "      <th>Revenues</th>\n",
       "      <th>Profits</th>\n",
       "      <th>Employees</th>\n",
       "    </tr>\n",
       "    <tr>\n",
       "      <th>Sector</th>\n",
       "      <th></th>\n",
       "      <th></th>\n",
       "      <th></th>\n",
       "    </tr>\n",
       "  </thead>\n",
       "  <tbody>\n",
       "    <tr>\n",
       "      <th>Aerospace &amp; Defense</th>\n",
       "      <td>1877.0</td>\n",
       "      <td>8197.0</td>\n",
       "      <td>40404.960000</td>\n",
       "    </tr>\n",
       "    <tr>\n",
       "      <th>Apparel</th>\n",
       "      <td>2350.0</td>\n",
       "      <td>4240.0</td>\n",
       "      <td>25407.071429</td>\n",
       "    </tr>\n",
       "    <tr>\n",
       "      <th>Business Services</th>\n",
       "      <td>1851.0</td>\n",
       "      <td>6699.0</td>\n",
       "      <td>30075.452830</td>\n",
       "    </tr>\n",
       "    <tr>\n",
       "      <th>Chemicals</th>\n",
       "      <td>1925.0</td>\n",
       "      <td>3000.4</td>\n",
       "      <td>14364.242424</td>\n",
       "    </tr>\n",
       "    <tr>\n",
       "      <th>Energy</th>\n",
       "      <td>1874.0</td>\n",
       "      <td>19710.0</td>\n",
       "      <td>9170.158879</td>\n",
       "    </tr>\n",
       "    <tr>\n",
       "      <th>Engineering &amp; Construction</th>\n",
       "      <td>1906.0</td>\n",
       "      <td>1038.4</td>\n",
       "      <td>15583.148148</td>\n",
       "    </tr>\n",
       "    <tr>\n",
       "      <th>Financials</th>\n",
       "      <td>1848.0</td>\n",
       "      <td>44940.0</td>\n",
       "      <td>22581.412903</td>\n",
       "    </tr>\n",
       "    <tr>\n",
       "      <th>Food &amp;  Drug Stores</th>\n",
       "      <td>2064.0</td>\n",
       "      <td>4078.0</td>\n",
       "      <td>116506.166667</td>\n",
       "    </tr>\n",
       "    <tr>\n",
       "      <th>Food, Beverages &amp; Tobacco</th>\n",
       "      <td>2071.0</td>\n",
       "      <td>10999.0</td>\n",
       "      <td>29170.702703</td>\n",
       "    </tr>\n",
       "    <tr>\n",
       "      <th>Health Care</th>\n",
       "      <td>1849.0</td>\n",
       "      <td>21308.0</td>\n",
       "      <td>41847.732394</td>\n",
       "    </tr>\n",
       "    <tr>\n",
       "      <th>Hotels, Restaurants &amp; Leisure</th>\n",
       "      <td>1907.0</td>\n",
       "      <td>5192.3</td>\n",
       "      <td>88628.346154</td>\n",
       "    </tr>\n",
       "    <tr>\n",
       "      <th>Household Products</th>\n",
       "      <td>1949.0</td>\n",
       "      <td>15326.0</td>\n",
       "      <td>24103.428571</td>\n",
       "    </tr>\n",
       "    <tr>\n",
       "      <th>Industrials</th>\n",
       "      <td>1918.0</td>\n",
       "      <td>4858.0</td>\n",
       "      <td>31961.428571</td>\n",
       "    </tr>\n",
       "    <tr>\n",
       "      <th>Materials</th>\n",
       "      <td>1933.0</td>\n",
       "      <td>2144.0</td>\n",
       "      <td>14527.800000</td>\n",
       "    </tr>\n",
       "    <tr>\n",
       "      <th>Media</th>\n",
       "      <td>1867.0</td>\n",
       "      <td>8980.0</td>\n",
       "      <td>21839.400000</td>\n",
       "    </tr>\n",
       "    <tr>\n",
       "      <th>Motor Vehicles &amp; Parts</th>\n",
       "      <td>2066.0</td>\n",
       "      <td>7602.0</td>\n",
       "      <td>49662.210526</td>\n",
       "    </tr>\n",
       "    <tr>\n",
       "      <th>Retailing</th>\n",
       "      <td>1870.0</td>\n",
       "      <td>9862.0</td>\n",
       "      <td>88320.233766</td>\n",
       "    </tr>\n",
       "    <tr>\n",
       "      <th>Technology</th>\n",
       "      <td>1871.0</td>\n",
       "      <td>48351.0</td>\n",
       "      <td>31036.961165</td>\n",
       "    </tr>\n",
       "    <tr>\n",
       "      <th>Telecommunications</th>\n",
       "      <td>2200.0</td>\n",
       "      <td>30101.0</td>\n",
       "      <td>78560.900000</td>\n",
       "    </tr>\n",
       "    <tr>\n",
       "      <th>Transportation</th>\n",
       "      <td>1943.0</td>\n",
       "      <td>10712.0</td>\n",
       "      <td>41302.825000</td>\n",
       "    </tr>\n",
       "    <tr>\n",
       "      <th>Wholesalers</th>\n",
       "      <td>1862.0</td>\n",
       "      <td>5070.0</td>\n",
       "      <td>16913.068182</td>\n",
       "    </tr>\n",
       "  </tbody>\n",
       "</table>\n",
       "</div>"
      ],
      "text/plain": [
       "                               Revenues  Profits      Employees\n",
       "Sector                                                         \n",
       "Aerospace & Defense              1877.0   8197.0   40404.960000\n",
       "Apparel                          2350.0   4240.0   25407.071429\n",
       "Business Services                1851.0   6699.0   30075.452830\n",
       "Chemicals                        1925.0   3000.4   14364.242424\n",
       "Energy                           1874.0  19710.0    9170.158879\n",
       "Engineering & Construction       1906.0   1038.4   15583.148148\n",
       "Financials                       1848.0  44940.0   22581.412903\n",
       "Food &  Drug Stores              2064.0   4078.0  116506.166667\n",
       "Food, Beverages & Tobacco        2071.0  10999.0   29170.702703\n",
       "Health Care                      1849.0  21308.0   41847.732394\n",
       "Hotels, Restaurants & Leisure    1907.0   5192.3   88628.346154\n",
       "Household Products               1949.0  15326.0   24103.428571\n",
       "Industrials                      1918.0   4858.0   31961.428571\n",
       "Materials                        1933.0   2144.0   14527.800000\n",
       "Media                            1867.0   8980.0   21839.400000\n",
       "Motor Vehicles & Parts           2066.0   7602.0   49662.210526\n",
       "Retailing                        1870.0   9862.0   88320.233766\n",
       "Technology                       1871.0  48351.0   31036.961165\n",
       "Telecommunications               2200.0  30101.0   78560.900000\n",
       "Transportation                   1943.0  10712.0   41302.825000\n",
       "Wholesalers                      1862.0   5070.0   16913.068182"
      ]
     },
     "execution_count": 29,
     "metadata": {},
     "output_type": "execute_result"
    }
   ],
   "source": [
    "by_sector.agg({\"Revenues\": \"min\", \"Profits\": \"max\", \"Employees\": \"mean\"})"
   ]
  }
 ],
 "metadata": {
  "kernelspec": {
   "display_name": "Python 3 (ipykernel)",
   "language": "python",
   "name": "python3"
  },
  "language_info": {
   "codemirror_mode": {
    "name": "ipython",
    "version": 3
   },
   "file_extension": ".py",
   "mimetype": "text/x-python",
   "name": "python",
   "nbconvert_exporter": "python",
   "pygments_lexer": "ipython3",
   "version": "3.9.7"
  }
 },
 "nbformat": 4,
 "nbformat_minor": 4
}
