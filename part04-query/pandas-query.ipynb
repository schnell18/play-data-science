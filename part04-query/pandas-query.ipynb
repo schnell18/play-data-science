{
 "cells": [
  {
   "cell_type": "markdown",
   "metadata": {},
   "source": [
    "# 4 Query\n",
    "\n",
    "Selecting and projecting data are essential functions of pandas."
   ]
  },
  {
   "cell_type": "markdown",
   "metadata": {
    "tags": []
   },
   "source": [
    "## 4.1 Optimize memory usage\n",
    "\n",
    "By choosing appropriate data types for coloum. You can save memory and make query run fast.\n",
    "General rules are:\n",
    "\n",
    "- use `datetime` instead of `object` for date columns\n",
    "- use `int` instead of `float` if possible\n",
    "- use `bool` instead of `object` for boolean columns\n",
    "- use `category` to replace data type of column which has limited distinct values"
   ]
  },
  {
   "cell_type": "code",
   "execution_count": null,
   "metadata": {},
   "outputs": [],
   "source": [
    "import pandas as pd"
   ]
  },
  {
   "cell_type": "code",
   "execution_count": null,
   "metadata": {},
   "outputs": [],
   "source": [
    "employees = pd.read_csv(\"employees.csv\", parse_dates=[\"Start Date\"])\n",
    "employees[\"Mgmt\"] = employees[\"Mgmt\"].astype(bool)\n",
    "employees.info()"
   ]
  },
  {
   "cell_type": "code",
   "execution_count": null,
   "metadata": {},
   "outputs": [],
   "source": [
    "employees[\"Salary\"] = employees[\"Salary\"].fillna(0).astype(int)\n",
    "employees.info()"
   ]
  },
  {
   "cell_type": "code",
   "execution_count": null,
   "metadata": {},
   "outputs": [],
   "source": [
    "employees.nunique()"
   ]
  },
  {
   "cell_type": "code",
   "execution_count": null,
   "metadata": {},
   "outputs": [],
   "source": [
    "employees[\"Team\"] = employees[\"Team\"].astype(\"category\")\n",
    "employees[\"Gender\"] = employees[\"Gender\"].astype(\"category\")"
   ]
  },
  {
   "cell_type": "code",
   "execution_count": null,
   "metadata": {},
   "outputs": [],
   "source": [
    "employees.info()"
   ]
  },
  {
   "cell_type": "markdown",
   "metadata": {},
   "source": [
    "## 4.2 Select rows by a single condition\n",
    "\n",
    "### 4.2.1 Find employee named `Maria`"
   ]
  },
  {
   "cell_type": "code",
   "execution_count": null,
   "metadata": {},
   "outputs": [],
   "source": [
    "employees[employees[\"First Name\"] == 'Maria']"
   ]
  },
  {
   "cell_type": "markdown",
   "metadata": {},
   "source": [
    "To ease the reuse of query criteria, you may assign the criteria to a descriptive variable, then use the variable in square bracket:"
   ]
  },
  {
   "cell_type": "code",
   "execution_count": null,
   "metadata": {},
   "outputs": [],
   "source": [
    "first_is_maria = employees[\"First Name\"] == 'Maria'\n",
    "employees[first_is_maria]"
   ]
  },
  {
   "cell_type": "markdown",
   "metadata": {},
   "source": [
    "### 4.2.2 Find employee not in `Finance` department"
   ]
  },
  {
   "cell_type": "code",
   "execution_count": null,
   "metadata": {},
   "outputs": [],
   "source": [
    "not_in_finance = employees[\"Team\"] != \"Finance\"\n",
    "employees[not_in_finance]"
   ]
  },
  {
   "cell_type": "markdown",
   "metadata": {},
   "source": [
    "### 4.2.3 Find managers"
   ]
  },
  {
   "cell_type": "code",
   "execution_count": null,
   "metadata": {},
   "outputs": [],
   "source": [
    "is_managers = employees[\"Mgmt\"]\n",
    "employees[is_managers]"
   ]
  },
  {
   "cell_type": "markdown",
   "metadata": {},
   "source": [
    "### 4.2.4 Find high-paid employees"
   ]
  },
  {
   "cell_type": "code",
   "execution_count": null,
   "metadata": {},
   "outputs": [],
   "source": [
    "is_high_owner = employees[\"Salary\"] > 100000\n",
    "employees[is_high_owner]"
   ]
  },
  {
   "cell_type": "markdown",
   "metadata": {},
   "source": [
    "## 4.3 Select rows by multiple conditions\n",
    "\n",
    "We can use logic operators:\n",
    "\n",
    "- AND `&`\n",
    "- OR `|`\n",
    "- INVERSION `~`\n",
    "\n",
    "to combine multiple conditions.\n",
    "\n",
    "### 4.3.1 Find female employees in `Business Dev` department"
   ]
  },
  {
   "cell_type": "code",
   "execution_count": null,
   "metadata": {},
   "outputs": [],
   "source": [
    "is_female = employees[\"Gender\"] == \"Female\"\n",
    "in_biz_dev = employees[\"Team\"] == \"Business Dev\"\n",
    "employees[is_female & in_biz_dev]"
   ]
  },
  {
   "cell_type": "markdown",
   "metadata": {},
   "source": [
    "### 4.3.2 Find employees own less than 40K or employed after 2015"
   ]
  },
  {
   "cell_type": "code",
   "execution_count": null,
   "metadata": {},
   "outputs": [],
   "source": [
    "earning_below_40k = employees[\"Salary\"] < 4000\n",
    "started_after_2015 = employees[\"Start Date\"] > \"2015-01-01\"\n",
    "employees[earning_below_40k | started_after_2015]"
   ]
  },
  {
   "cell_type": "markdown",
   "metadata": {},
   "source": [
    "### 4.3.3 Find employees own more than 40K and employed before 2015"
   ]
  },
  {
   "cell_type": "code",
   "execution_count": null,
   "metadata": {},
   "outputs": [],
   "source": [
    "employees[~(earning_below_40k | started_after_2015)]"
   ]
  },
  {
   "cell_type": "markdown",
   "metadata": {},
   "source": [
    "### 4.3.4 Find employees of team \"Product\", \"IT\" and \"HR\""
   ]
  },
  {
   "cell_type": "code",
   "execution_count": null,
   "metadata": {},
   "outputs": [],
   "source": [
    "in_specified_teams = employees[\"Team\"].isin([\"Product\", \"IT\", \"HR\"])\n",
    "employees[in_specified_teams]"
   ]
  },
  {
   "cell_type": "markdown",
   "metadata": {},
   "source": [
    "### 4.3.4 Find employees own 70K to 80K"
   ]
  },
  {
   "cell_type": "code",
   "execution_count": null,
   "metadata": {},
   "outputs": [],
   "source": [
    "owns_70k_to_80k = employees[\"Salary\"].between(70000, 80000)\n",
    "employees[owns_70k_to_80k]\n",
    "employees[employees[\"Start Date\"].isnull()]"
   ]
  },
  {
   "cell_type": "markdown",
   "metadata": {},
   "source": [
    "## 4.4 Deal with missing and duplicate data\n",
    "\n",
    "Pandas represents missing data as `NaN` for number and string, `NaT` for datetime.\n",
    "To cleanse missing data, we can either drop them using `dropna()` or replace them with constant value with `fillna()`.\n",
    "\n",
    "You can drop rows with missing data in specific columns by setting the `subset` parameter of `dropna()` method.\n",
    "You can drop duplicated rows by specifying a combination of columns by setting the `subset` parameter of `drop_duplicates()` method.\n",
    "\n",
    "### 4.4.1 Find first people in each team"
   ]
  },
  {
   "cell_type": "code",
   "execution_count": null,
   "metadata": {},
   "outputs": [],
   "source": [
    "first_people_in_team = ~employees[\"Team\"].duplicated()\n",
    "employees[first_people_in_team]"
   ]
  },
  {
   "cell_type": "markdown",
   "metadata": {},
   "source": [
    "### 4.4.2 Remove duplicated male employees named `Douglas`"
   ]
  },
  {
   "cell_type": "code",
   "execution_count": null,
   "metadata": {},
   "outputs": [],
   "source": [
    "employees.dropna(subset=[\"First Name\"])"
   ]
  }
 ],
 "metadata": {
  "kernelspec": {
   "display_name": "Python 3 (ipykernel)",
   "language": "python",
   "name": "python3"
  },
  "language_info": {
   "codemirror_mode": {
    "name": "ipython",
    "version": 3
   },
   "file_extension": ".py",
   "mimetype": "text/x-python",
   "name": "python",
   "nbconvert_exporter": "python",
   "pygments_lexer": "ipython3",
   "version": "3.9.7"
  }
 },
 "nbformat": 4,
 "nbformat_minor": 4
}
