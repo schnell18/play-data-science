{
 "cells": [
  {
   "cell_type": "code",
   "execution_count": 10,
   "id": "96bf246f-86b7-4eb6-b978-69ffe6308023",
   "metadata": {},
   "outputs": [],
   "source": [
    "import pandas as pd"
   ]
  },
  {
   "cell_type": "code",
   "execution_count": 36,
   "id": "69119220-cedb-4451-b36d-57568953c0e5",
   "metadata": {},
   "outputs": [],
   "source": [
    "import time\n",
    "import requests\n",
    "from bs4 import BeautifulSoup\n",
    "\n",
    "def _get_deps(row):\n",
    "    result = get_dependents(row[\"full_name\"], 10, 10)\n",
    "    row['dependents'] =  [t[0] for t in result]\n",
    "    row['dependent_stars'] =  [t[1] for t in result]\n",
    "    return row\n",
    "\n",
    "    \n",
    "def get_dependents(repo, min_stars_cnt, result_cnt):\n",
    "    url = 'https://github.com/{}/network/dependents'.format(repo)\n",
    "    nextExists = True\n",
    "\n",
    "    result = []\n",
    "    while nextExists and len(result) < result_cnt:\n",
    "        # uncomment the line below to see progress.\n",
    "        print(\"url: \" + url + \"  \" + \"cnt: \" + str(len(result)))\n",
    "        r = requests.get(url)\n",
    "        soup = BeautifulSoup(r.content, \"html.parser\")\n",
    "    \n",
    "        tmp = [\n",
    "            (\n",
    "                 \"{}/{}\".format(\n",
    "                    t.find('a', {\"data-repository-hovercards-enabled\":\"\"}).text,\n",
    "                    t.find('a', {\"data-hovercard-type\":\"repository\"}).text\n",
    "                 ),\n",
    "                 int(t.find(\"svg\", {\"class\": \"octicon-star\"}).parent.text.strip().replace(',', ''))\n",
    "            )\n",
    "            for t in soup.findAll(\"div\", {\"class\": \"Box-row\"})\n",
    "        ]\n",
    "        tmp = list(filter(lambda repo: repo[1] > min_stars_cnt, tmp))\n",
    "        result = result + tmp\n",
    "        nextExists = False\n",
    "        try:\n",
    "            container = soup.find(\"div\", {\"class\":\"paginate-container\"})\n",
    "            if container is not None:\n",
    "                for u in container.findAll('a'):\n",
    "                    if u.text == \"Next\":\n",
    "                        nextExists = True\n",
    "                        url = u[\"href\"]\n",
    "        except Exception as e:\n",
    "            print(e)\n",
    "            print(\"waiting for 10 seconds...\")\n",
    "            time.sleep(10)\n",
    "            nextExists = True\n",
    "    return result "
   ]
  },
  {
   "cell_type": "code",
   "execution_count": null,
   "id": "77824751-7223-4057-a445-a0c3ab1d9c6a",
   "metadata": {},
   "outputs": [],
   "source": [
    "repo = \"huggingface/transformers\"\n",
    "\n",
    "for r in get_dependents(repo, 10, 10):\n",
    "  print(r[\"name\"] + \", \" + str(r[\"stars\"]))"
   ]
  },
  {
   "cell_type": "code",
   "execution_count": 29,
   "id": "2a691702-4146-4c8a-aaac-f41712afd192",
   "metadata": {},
   "outputs": [],
   "source": [
    "df_impt = pd.read_csv(\"important-ai-projects.csv\").sort_values(\"contributors\", ascending=False).head(500)"
   ]
  },
  {
   "cell_type": "code",
   "execution_count": null,
   "id": "6554c7c5-29af-471a-b70a-2e9bcdfc394d",
   "metadata": {},
   "outputs": [],
   "source": [
    "df_dep = df_impt.apply(lambda r: _get_deps(r) , axis=1)\n",
    "\n",
    "df_out = df_dep.explode(column=[\"dependents\", \"dependent_stars\"], ignore_index=True)\n",
    "df_out.to_csv(\"top500-deps.csv\", index=False)\n",
    "df_out"
   ]
  },
  {
   "cell_type": "code",
   "execution_count": 48,
   "id": "e116ac12-14b4-4131-b29e-7efd29a88243",
   "metadata": {},
   "outputs": [],
   "source": [
    "df_out = pd.read_csv(\"top500-deps.csv\")\n",
    "df_out = df_out.query(\"dependents == dependents\").rename(columns={\"full_name\": \"dest_repo\", \"dependents\": \"src_repo\", \"dependent_stars\": \"weight\"})\n",
    "df_out = df_out.astype({\"weight\": \"int32\"})\n",
    "df_out.to_csv(\"togephi.csv\", columns=[\"src_repo\", \"dest_repo\", \"weight\"], index=False)"
   ]
  },
  {
   "cell_type": "code",
   "execution_count": null,
   "id": "358b4205-515c-4cf7-911b-fc8ea15f7757",
   "metadata": {},
   "outputs": [],
   "source": [
    "url = 'https://github.com/avelino/awesome-go/tree/main'\n",
    "response = requests.get(url)\n",
    "tree = html.fromstring(response.content)\"\n",
    "\n",
    "cats = tree.xpath('//p[@dir=\"auto\"]/preceding-sibling::h2')\n",
    "dikts = []\n",
    "for cat in cats:\n",
    "    cat_name = cat.xpath('./text()')[0]\n",
    "    lis = cat.xpath('./following-sibling::ul[1]/li')\n",
    "    for li in lis:\n",
    "        desc = li.xpath('./text()')\n",
    "        if type(desc) != 'list' and len(desc) != 1: continue\n",
    "        link = li.xpath('./a/@href')\n",
    "        if type(link) != 'list' and len(link) != 1: continue\n",
    "        dikts.append({\n",
    "            \"category\": cat_name,\n",
    "            \"full_name\": \"/\".join(link[0].rsplit('/', 2)[1:]),\n",
    "            \"link\": link[0],\n",
    "            \"description\": desc[0][3:],\n",
    "        })\n",
    "df = pd.DataFrame(dikts)\n"
   ]
  }
 ],
 "metadata": {
  "kernelspec": {
   "display_name": "Python 3 (ipykernel)",
   "language": "python",
   "name": "python3"
  },
  "language_info": {
   "codemirror_mode": {
    "name": "ipython",
    "version": 3
   },
   "file_extension": ".py",
   "mimetype": "text/x-python",
   "name": "python",
   "nbconvert_exporter": "python",
   "pygments_lexer": "ipython3",
   "version": "3.12.1"
  }
 },
 "nbformat": 4,
 "nbformat_minor": 5
}
