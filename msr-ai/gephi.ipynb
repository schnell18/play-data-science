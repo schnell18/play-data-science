{
 "cells": [
  {
   "cell_type": "code",
   "execution_count": 63,
   "id": "d23aac4f-3678-4b49-ac3a-9c2971079a5a",
   "metadata": {},
   "outputs": [],
   "source": [
    "import pandas as pd\n",
    "from hashlib import md5"
   ]
  },
  {
   "cell_type": "code",
   "execution_count": 64,
   "id": "aa79355c-d550-4401-a4b4-f9b7ab7544db",
   "metadata": {},
   "outputs": [],
   "source": [
    "df = pd.read_csv('xrefs.csv').drop_duplicates().groupby([\"src_repo\", \"dest_repo\"]).agg(refs=pd.NamedAgg(column=\"issue_no\", aggfunc=\"count\")).sort_values(\"refs\", ascending=False)\n",
    "\n",
    "def to_gexf(df, file_name):\n",
    "    header=\"\"\"<?xml version=\"1.0\" encoding=\"UTF-8\"?>\n",
    "<gexf xmlns=\"http://gexf.net/1.2\" version=\"1.2\">\n",
    "  <meta lastmodifieddate=\"2009-03-20\">\n",
    "    <creator>Gexf.net</creator>\n",
    "    <description>xref data</description>\n",
    "  </meta>\n",
    "  <graph mode=\"static\" defaultedgetype=\"directed\">\n",
    "\"\"\"\n",
    "    \n",
    "    footer =\"\"\"        \n",
    "  </graph>\n",
    "</gexf>\n",
    "\"\"\"\n",
    "\n",
    "    with open(file_name, \"w\") as f:\n",
    "        f.write(header)\n",
    "        f.write(\"    <nodes>\\n\")\n",
    "        for ind in df.index:\n",
    "            src, dest = ind\n",
    "            f.write(f'      <node id=\"{src}\" label=\"{src}\" />\\n')\n",
    "            f.write(f'      <node id=\"{dest}\" label=\"{dest}\" />\\n')\n",
    "        f.write(\"    </nodes>\\n\")\n",
    "        f.write(\"    <edges>\\n\")\n",
    "        for ind in df.index:\n",
    "            src, dest = ind\n",
    "            edge_id = md5(bytes(f\"{src}-{dest}\", \"utf-8\")).hexdigest()\n",
    "            weight = df['refs'][ind]\n",
    "            f.write(f'      <edge id=\"{edge_id}\" source=\"{src}\" target=\"{dest}\" weight=\"{weight}\" />\\n')\n",
    "        f.write(\"    </edges>\\n\")\n",
    "        f.write(footer)\n",
    "    \n",
    "    \n",
    "def to_gml(df, file_name):\n",
    "    with open(file_name, \"w\") as f:\n",
    "        f.write(\"graph\\n[\\n\")\n",
    "        f.write(\"  directed 1\\n\")\n",
    "        f.write(\"  weighted 1\\n\")\n",
    "        for ind in df.index:\n",
    "            src, dest = ind\n",
    "            f.write(f'  node\\n  [\\n    id {src}\\n    label \"{src}\"\\n  ]\\n')\n",
    "            f.write(f'  node\\n  [\\n    id {dest}\\n    label \"{dest}\"\\n  ]\\n')\n",
    "        for ind in df.index:\n",
    "            src, dest = ind\n",
    "            weight = df['refs'][ind]\n",
    "            f.write(f\"  edge\\n  [\\n    source {src}\\n    target {dest}\\n    value={weight}\\n  ]\\n\")\n",
    "        f.write(\"]\")\n",
    "\n",
    "    "
   ]
  },
  {
   "cell_type": "code",
   "execution_count": 65,
   "id": "abbdfddc-27fa-4641-8b1b-ed9a7a2ac0e4",
   "metadata": {},
   "outputs": [],
   "source": [
    "to_gexf(df, \"xrefs.gexf\")"
   ]
  }
 ],
 "metadata": {
  "kernelspec": {
   "display_name": "Python 3 (ipykernel)",
   "language": "python",
   "name": "python3"
  },
  "language_info": {
   "codemirror_mode": {
    "name": "ipython",
    "version": 3
   },
   "file_extension": ".py",
   "mimetype": "text/x-python",
   "name": "python",
   "nbconvert_exporter": "python",
   "pygments_lexer": "ipython3",
   "version": "3.11.4"
  }
 },
 "nbformat": 4,
 "nbformat_minor": 5
}
