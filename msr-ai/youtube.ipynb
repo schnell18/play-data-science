{
 "cells": [
  {
   "cell_type": "code",
   "execution_count": 6,
   "id": "1e418a4e-aafd-4366-8eb8-cf48d3499204",
   "metadata": {},
   "outputs": [],
   "source": [
    "import pandas as pd\n",
    "from pytube import Search"
   ]
  },
  {
   "cell_type": "code",
   "execution_count": 42,
   "id": "733b44d2-c5f8-4b30-b11f-56a8593fd8b5",
   "metadata": {},
   "outputs": [],
   "source": [
    "def load_youtube_video_list(title, limit):\n",
    "    search = Search(title)\n",
    "    dikts = []\n",
    "    while(True):\n",
    "        try:\n",
    "            _load_bacth(search.results, limit, dikts)\n",
    "            if len(dikts) >= limit:\n",
    "                break\n",
    "            search.get_next_results()\n",
    "        except IndexError as ie:\n",
    "            break\n",
    "    df = pd.DataFrame(dikts)\n",
    "    df.drop_duplicates(subset=[\"video_id\"], inplace=True)\n",
    "    df.sort_values(\"views\", ascending=False, inplace=True)\n",
    "    return df\n",
    "\n",
    "\n",
    "def _load_bacth(results, limit, dikts):\n",
    "    for result in results:\n",
    "        if len(dikts) >= limit:\n",
    "            return\n",
    "        dikts.append({\n",
    "            'author': result.author,\n",
    "            'captions': result.captions,\n",
    "            'description': result.description,\n",
    "            'keywords': result.keywords,\n",
    "            'length': result.length,\n",
    "            'publish_date': result.publish_date,\n",
    "            'title': result.title,\n",
    "            'video_id': result.video_id,\n",
    "            'views': result.views,\n",
    "            'watch_url': result.watch_url,\n",
    "        })"
   ]
  },
  {
   "cell_type": "code",
   "execution_count": null,
   "id": "a5b61340-d12f-4b8b-a289-13b0eafbb061",
   "metadata": {},
   "outputs": [],
   "source": [
    "df_llama2 = load_youtube_video_list(\"llama-2\", 100)\n",
    "df_llama2"
   ]
  },
  {
   "cell_type": "code",
   "execution_count": null,
   "id": "6c019ea1-3c9a-45b0-8808-daa1d0067c3c",
   "metadata": {},
   "outputs": [],
   "source": [
    "df_gpt = load_youtube_video_list(\"gpt\", 100)\n",
    "df_gpt"
   ]
  },
  {
   "cell_type": "code",
   "execution_count": 45,
   "id": "cd83402c-7ac6-4cca-bd7a-49688a49c19a",
   "metadata": {},
   "outputs": [],
   "source": [
    "df_llama2.to_csv(\"youtube-llama-2.csv\", index=False)\n",
    "df_gpt.to_csv(\"youtube-gpt.csv\", index=False)"
   ]
  }
 ],
 "metadata": {
  "kernelspec": {
   "display_name": "Python 3 (ipykernel)",
   "language": "python",
   "name": "python3"
  },
  "language_info": {
   "codemirror_mode": {
    "name": "ipython",
    "version": 3
   },
   "file_extension": ".py",
   "mimetype": "text/x-python",
   "name": "python",
   "nbconvert_exporter": "python",
   "pygments_lexer": "ipython3",
   "version": "3.11.4"
  }
 },
 "nbformat": 4,
 "nbformat_minor": 5
}
